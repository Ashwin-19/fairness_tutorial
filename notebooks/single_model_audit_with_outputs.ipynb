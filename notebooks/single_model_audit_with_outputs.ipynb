{
  "nbformat": 4,
  "nbformat_minor": 0,
  "metadata": {
    "kernelspec": {
      "display_name": "Python 3",
      "language": "python",
      "name": "python3"
    },
    "language_info": {
      "codemirror_mode": {
        "name": "ipython",
        "version": 3
      },
      "file_extension": ".py",
      "mimetype": "text/x-python",
      "name": "python",
      "nbconvert_exporter": "python",
      "pygments_lexer": "ipython3",
      "version": "3.7.3"
    },
    "colab": {
      "name": "single_model_audit.ipynb",
      "provenance": []
    }
  },
  "cells": [
    {
      "cell_type": "markdown",
      "metadata": {
        "id": "Wap5AIc7JE5u",
        "colab_type": "text"
      },
      "source": [
        "# Dealing with Bias and Fairness in Data Science Systems\n",
        "## KDD 2020 Hands-on Tutorial\n",
        "### Pedro Saleiro, Kit Rodolfa, Rayid Ghani"
      ]
    },
    {
      "cell_type": "markdown",
      "metadata": {
        "id": "pY5bwyJHJE5x",
        "colab_type": "text"
      },
      "source": [
        "# <font color=red>Auditing a Single Model using [Aequitas](http://www.datasciencepublicpolicy.org/projects/aequitas/)</font>\n",
        "A more in-depth demo notebook is at https://github.com/dssg/aequitas/blob/master/docs/source/examples/compas_demo.ipynb"
      ]
    },
    {
      "cell_type": "markdown",
      "metadata": {
        "id": "023Km6waJE5z",
        "colab_type": "text"
      },
      "source": [
        "### 1. Install dependencies, import packages and data\n",
        "This is needed every time you open this notebook in colab to install dependencies"
      ]
    },
    {
      "cell_type": "code",
      "metadata": {
        "id": "0v5OGuo-JE50",
        "colab_type": "code",
        "colab": {
          "base_uri": "https://localhost:8080/",
          "height": 1000
        },
        "outputId": "6fd6da7b-7657-4fe1-b0ca-1b964b8a4531"
      },
      "source": [
        "!pip install aequitas\n",
        "from IPython.core.display import display, HTML\n",
        "display(HTML(\"<style>.container { width:75% !important; }</style>\"))\n",
        "import yaml\n",
        "import os\n",
        "import pandas as pd\n",
        "import numpy as np\n",
        "import seaborn as sns\n",
        "import matplotlib.pyplot as plt\n",
        "from aequitas.group import Group\n",
        "from aequitas.bias import Bias\n",
        "from aequitas.fairness import Fairness\n",
        "import aequitas.plot as ap\n",
        "DATAPATH = 'https://github.com/dssg/fairness_tutorial/raw/master/data/'\n",
        "DPI = 200\n"
      ],
      "execution_count": 1,
      "outputs": [
        {
          "output_type": "stream",
          "text": [
            "Collecting aequitas\n",
            "\u001b[?25l  Downloading https://files.pythonhosted.org/packages/c2/de/d981229902f51eb52e22e9144a0ab92eabf53a17a96568d858d1bfb479d4/aequitas-0.41.0-py3-none-any.whl (2.2MB)\n",
            "\u001b[K     |████████████████████████████████| 2.2MB 4.5MB/s \n",
            "\u001b[?25hCollecting markdown2==2.3.5\n",
            "\u001b[?25l  Downloading https://files.pythonhosted.org/packages/64/75/03ad43fdc360438357ecc0c8e98b739ec204276fe4c64a684df6883dffeb/markdown2-2.3.5.zip (161kB)\n",
            "\u001b[K     |████████████████████████████████| 163kB 33.5MB/s \n",
            "\u001b[?25hCollecting pyyaml>=5.1\n",
            "\u001b[?25l  Downloading https://files.pythonhosted.org/packages/64/c2/b80047c7ac2478f9501676c988a5411ed5572f35d1beff9cae07d321512c/PyYAML-5.3.1.tar.gz (269kB)\n",
            "\u001b[K     |████████████████████████████████| 276kB 32.4MB/s \n",
            "\u001b[?25hRequirement already satisfied: SQLAlchemy>=1.1.1 in /usr/local/lib/python3.6/dist-packages (from aequitas) (1.3.18)\n",
            "Requirement already satisfied: pandas>=0.24.1 in /usr/local/lib/python3.6/dist-packages (from aequitas) (1.0.5)\n",
            "Collecting millify==0.1.1\n",
            "  Downloading https://files.pythonhosted.org/packages/c9/60/f81b9440107ac22cd8fa36924e194bb258b01aaa5484b8693eba2b542300/millify-0.1.1.tar.gz\n",
            "Collecting xhtml2pdf==0.2.2\n",
            "\u001b[?25l  Downloading https://files.pythonhosted.org/packages/a8/08/d005dc84006cb0a2fb39841f63f1df1f651321c600b9733e2ee095f0966e/xhtml2pdf-0.2.2.tar.gz (97kB)\n",
            "\u001b[K     |████████████████████████████████| 102kB 7.6MB/s \n",
            "\u001b[?25hRequirement already satisfied: seaborn>=0.9.0 in /usr/local/lib/python3.6/dist-packages (from aequitas) (0.10.1)\n",
            "Requirement already satisfied: matplotlib>=3.0.3 in /usr/local/lib/python3.6/dist-packages (from aequitas) (3.2.2)\n",
            "Collecting Flask-Bootstrap==3.3.7.1\n",
            "\u001b[?25l  Downloading https://files.pythonhosted.org/packages/88/53/958ce7c2aa26280b7fd7f3eecbf13053f1302ee2acb1db58ef32e1c23c2a/Flask-Bootstrap-3.3.7.1.tar.gz (456kB)\n",
            "\u001b[K     |████████████████████████████████| 460kB 34.6MB/s \n",
            "\u001b[?25hRequirement already satisfied: altair==4.1.0 in /usr/local/lib/python3.6/dist-packages (from aequitas) (4.1.0)\n",
            "Collecting Flask==0.12.2\n",
            "\u001b[?25l  Downloading https://files.pythonhosted.org/packages/77/32/e3597cb19ffffe724ad4bf0beca4153419918e7fa4ba6a34b04ee4da3371/Flask-0.12.2-py2.py3-none-any.whl (83kB)\n",
            "\u001b[K     |████████████████████████████████| 92kB 8.8MB/s \n",
            "\u001b[?25hCollecting tabulate==0.8.2\n",
            "\u001b[?25l  Downloading https://files.pythonhosted.org/packages/12/c2/11d6845db5edf1295bc08b2f488cf5937806586afe42936c3f34c097ebdc/tabulate-0.8.2.tar.gz (45kB)\n",
            "\u001b[K     |████████████████████████████████| 51kB 6.2MB/s \n",
            "\u001b[?25hCollecting ohio>=0.2.0\n",
            "  Downloading https://files.pythonhosted.org/packages/76/fb/40cec4ddf99a15fc587925ee84a768e7416729f4c410e4bdf40c3b91843d/ohio-0.5.0-py3-none-any.whl\n",
            "Requirement already satisfied: pytz>=2017.2 in /usr/local/lib/python3.6/dist-packages (from pandas>=0.24.1->aequitas) (2018.9)\n",
            "Requirement already satisfied: numpy>=1.13.3 in /usr/local/lib/python3.6/dist-packages (from pandas>=0.24.1->aequitas) (1.18.5)\n",
            "Requirement already satisfied: python-dateutil>=2.6.1 in /usr/local/lib/python3.6/dist-packages (from pandas>=0.24.1->aequitas) (2.8.1)\n",
            "Requirement already satisfied: html5lib>=1.0 in /usr/local/lib/python3.6/dist-packages (from xhtml2pdf==0.2.2->aequitas) (1.0.1)\n",
            "Requirement already satisfied: httplib2 in /usr/local/lib/python3.6/dist-packages (from xhtml2pdf==0.2.2->aequitas) (0.17.4)\n",
            "Collecting pyPdf2\n",
            "\u001b[?25l  Downloading https://files.pythonhosted.org/packages/b4/01/68fcc0d43daf4c6bdbc6b33cc3f77bda531c86b174cac56ef0ffdb96faab/PyPDF2-1.26.0.tar.gz (77kB)\n",
            "\u001b[K     |████████████████████████████████| 81kB 8.5MB/s \n",
            "\u001b[?25hRequirement already satisfied: Pillow in /usr/local/lib/python3.6/dist-packages (from xhtml2pdf==0.2.2->aequitas) (7.0.0)\n",
            "Collecting reportlab>=3.0\n",
            "\u001b[?25l  Downloading https://files.pythonhosted.org/packages/43/b6/8daaeda389b216e1751741beec900c6245ec66aa0fe97f0754b2ac13f3e8/reportlab-3.5.48-cp36-cp36m-manylinux2010_x86_64.whl (2.6MB)\n",
            "\u001b[K     |████████████████████████████████| 2.6MB 34.2MB/s \n",
            "\u001b[?25hRequirement already satisfied: six in /usr/local/lib/python3.6/dist-packages (from xhtml2pdf==0.2.2->aequitas) (1.15.0)\n",
            "Requirement already satisfied: scipy>=1.0.1 in /usr/local/lib/python3.6/dist-packages (from seaborn>=0.9.0->aequitas) (1.4.1)\n",
            "Requirement already satisfied: kiwisolver>=1.0.1 in /usr/local/lib/python3.6/dist-packages (from matplotlib>=3.0.3->aequitas) (1.2.0)\n",
            "Requirement already satisfied: cycler>=0.10 in /usr/local/lib/python3.6/dist-packages (from matplotlib>=3.0.3->aequitas) (0.10.0)\n",
            "Requirement already satisfied: pyparsing!=2.0.4,!=2.1.2,!=2.1.6,>=2.0.1 in /usr/local/lib/python3.6/dist-packages (from matplotlib>=3.0.3->aequitas) (2.4.7)\n",
            "Collecting dominate\n",
            "  Downloading https://files.pythonhosted.org/packages/c0/03/1ba70425be63f2aab42fbc98894fe5d90cdadd41f79bdc778b3e404cfd8f/dominate-2.5.2-py2.py3-none-any.whl\n",
            "Collecting visitor\n",
            "  Downloading https://files.pythonhosted.org/packages/d7/58/785fcd6de4210049da5fafe62301b197f044f3835393594be368547142b0/visitor-0.1.3.tar.gz\n",
            "Requirement already satisfied: toolz in /usr/local/lib/python3.6/dist-packages (from altair==4.1.0->aequitas) (0.10.0)\n",
            "Requirement already satisfied: jsonschema in /usr/local/lib/python3.6/dist-packages (from altair==4.1.0->aequitas) (2.6.0)\n",
            "Requirement already satisfied: entrypoints in /usr/local/lib/python3.6/dist-packages (from altair==4.1.0->aequitas) (0.3)\n",
            "Requirement already satisfied: jinja2 in /usr/local/lib/python3.6/dist-packages (from altair==4.1.0->aequitas) (2.11.2)\n",
            "Requirement already satisfied: click>=2.0 in /usr/local/lib/python3.6/dist-packages (from Flask==0.12.2->aequitas) (7.1.2)\n",
            "Requirement already satisfied: Werkzeug>=0.7 in /usr/local/lib/python3.6/dist-packages (from Flask==0.12.2->aequitas) (1.0.1)\n",
            "Requirement already satisfied: itsdangerous>=0.21 in /usr/local/lib/python3.6/dist-packages (from Flask==0.12.2->aequitas) (1.1.0)\n",
            "Requirement already satisfied: webencodings in /usr/local/lib/python3.6/dist-packages (from html5lib>=1.0->xhtml2pdf==0.2.2->aequitas) (0.5.1)\n",
            "Requirement already satisfied: MarkupSafe>=0.23 in /usr/local/lib/python3.6/dist-packages (from jinja2->altair==4.1.0->aequitas) (1.1.1)\n",
            "Building wheels for collected packages: markdown2, pyyaml, millify, xhtml2pdf, Flask-Bootstrap, tabulate, pyPdf2, visitor\n",
            "  Building wheel for markdown2 (setup.py) ... \u001b[?25l\u001b[?25hdone\n",
            "  Created wheel for markdown2: filename=markdown2-2.3.5-cp36-none-any.whl size=33312 sha256=b0705441cfe0b178016e2628e45b5c7b7da2fd22f6afca60b0e982b57d428f39\n",
            "  Stored in directory: /root/.cache/pip/wheels/07/99/0b/89995aca5b1253b89caa7de4041fabea6fba469f42da697664\n",
            "  Building wheel for pyyaml (setup.py) ... \u001b[?25l\u001b[?25hdone\n",
            "  Created wheel for pyyaml: filename=PyYAML-5.3.1-cp36-cp36m-linux_x86_64.whl size=44621 sha256=6e88095c00c5d7d8d127482400deff7ffb050824597a92f489e8e9f7ceb27d32\n",
            "  Stored in directory: /root/.cache/pip/wheels/a7/c1/ea/cf5bd31012e735dc1dfea3131a2d5eae7978b251083d6247bd\n",
            "  Building wheel for millify (setup.py) ... \u001b[?25l\u001b[?25hdone\n",
            "  Created wheel for millify: filename=millify-0.1.1-cp36-none-any.whl size=1867 sha256=c61ecbf7e4f9d0dba9bbeebb3acb2417c62bf3410985f4c50ebed03b0093f158\n",
            "  Stored in directory: /root/.cache/pip/wheels/19/7d/d9/3f1ca52c5b6c4f05b11f1ab5a088fc1cf6174965e81308faeb\n",
            "  Building wheel for xhtml2pdf (setup.py) ... \u001b[?25l\u001b[?25hdone\n",
            "  Created wheel for xhtml2pdf: filename=xhtml2pdf-0.2.2-cp36-none-any.whl size=231059 sha256=3225557918f5c52b6f904b212dff352895c0058aa044abe45bed77744688919a\n",
            "  Stored in directory: /root/.cache/pip/wheels/37/e9/d9/8ef244092a2b3b004ab197f5c707973c8ce2082fa75fb6ce6a\n",
            "  Building wheel for Flask-Bootstrap (setup.py) ... \u001b[?25l\u001b[?25hdone\n",
            "  Created wheel for Flask-Bootstrap: filename=Flask_Bootstrap-3.3.7.1-cp36-none-any.whl size=460124 sha256=de34bacfd9fde19f607a548184f681a01168379e01bd27442ccea4df1a68fe26\n",
            "  Stored in directory: /root/.cache/pip/wheels/e8/b9/93/ef6ac3b8ead2d72cbcc042b9d58b613aaf47e533b9dc5b5999\n",
            "  Building wheel for tabulate (setup.py) ... \u001b[?25l\u001b[?25hdone\n",
            "  Created wheel for tabulate: filename=tabulate-0.8.2-cp36-none-any.whl size=23533 sha256=560583431e42dbc7b3ba49d10cbe728c6284890c61fa7f6bf225ea41ae08dc73\n",
            "  Stored in directory: /root/.cache/pip/wheels/2a/85/33/2f6da85d5f10614cbe5a625eab3b3aebfdf43e7b857f25f829\n",
            "  Building wheel for pyPdf2 (setup.py) ... \u001b[?25l\u001b[?25hdone\n",
            "  Created wheel for pyPdf2: filename=PyPDF2-1.26.0-cp36-none-any.whl size=61086 sha256=8f15a9982e5c457c08397e74d54e1d01de114f177ca4ace8df7ee7325a46abbc\n",
            "  Stored in directory: /root/.cache/pip/wheels/53/84/19/35bc977c8bf5f0c23a8a011aa958acd4da4bbd7a229315c1b7\n",
            "  Building wheel for visitor (setup.py) ... \u001b[?25l\u001b[?25hdone\n",
            "  Created wheel for visitor: filename=visitor-0.1.3-cp36-none-any.whl size=3932 sha256=2dccb50af2ea962d723e71a5a6c8ef0e882714cc364b65984d9bdc70e945c232\n",
            "  Stored in directory: /root/.cache/pip/wheels/68/b0/a2/cc8c7cf94ca3d1088a7d2e27936c1e0da170e05f560973e8dd\n",
            "Successfully built markdown2 pyyaml millify xhtml2pdf Flask-Bootstrap tabulate pyPdf2 visitor\n",
            "Installing collected packages: markdown2, pyyaml, millify, pyPdf2, reportlab, xhtml2pdf, Flask, dominate, visitor, Flask-Bootstrap, tabulate, ohio, aequitas\n",
            "  Found existing installation: PyYAML 3.13\n",
            "    Uninstalling PyYAML-3.13:\n",
            "      Successfully uninstalled PyYAML-3.13\n",
            "  Found existing installation: Flask 1.1.2\n",
            "    Uninstalling Flask-1.1.2:\n",
            "      Successfully uninstalled Flask-1.1.2\n",
            "  Found existing installation: tabulate 0.8.7\n",
            "    Uninstalling tabulate-0.8.7:\n",
            "      Successfully uninstalled tabulate-0.8.7\n",
            "Successfully installed Flask-0.12.2 Flask-Bootstrap-3.3.7.1 aequitas-0.41.0 dominate-2.5.2 markdown2-2.3.5 millify-0.1.1 ohio-0.5.0 pyPdf2-1.26.0 pyyaml-5.3.1 reportlab-3.5.48 tabulate-0.8.2 visitor-0.1.3 xhtml2pdf-0.2.2\n"
          ],
          "name": "stdout"
        },
        {
          "output_type": "display_data",
          "data": {
            "text/html": [
              "<style>.container { width:75% !important; }</style>"
            ],
            "text/plain": [
              "<IPython.core.display.HTML object>"
            ]
          },
          "metadata": {
            "tags": []
          }
        },
        {
          "output_type": "stream",
          "text": [
            "/usr/local/lib/python3.6/dist-packages/statsmodels/tools/_testing.py:19: FutureWarning: pandas.util.testing is deprecated. Use the functions in the public API at pandas.testing instead.\n",
            "  import pandas.util.testing as tm\n"
          ],
          "name": "stderr"
        }
      ]
    },
    {
      "cell_type": "markdown",
      "metadata": {
        "id": "aESKYQeSJE57",
        "colab_type": "text"
      },
      "source": [
        "## What has already happened?\n",
        "\n",
        "We've already cleaned data, generated features, created train-test sets, built 1000s of models on each training set and scored each test set with them, and calculated various evaluation metrics. \n",
        "\n",
        "As described earlier, the goal here is to select top 1000 project submissions that are likely to not get funded in order to prioritize resource allocation. That corresponds to the metric **Preicision at top 1000**.\n"
      ]
    },
    {
      "cell_type": "markdown",
      "metadata": {
        "id": "8QsRRfteJE58",
        "colab_type": "text"
      },
      "source": [
        "## Let's take a look at the performance of the models on one test set based on  **Preicision at top 1000**"
      ]
    },
    {
      "cell_type": "code",
      "metadata": {
        "id": "nN9iQgjBJE58",
        "colab_type": "code",
        "colab": {
          "base_uri": "https://localhost:8080/",
          "height": 640
        },
        "outputId": "b3c2d137-2906-4738-e524-cf751e14a464"
      },
      "source": [
        "# code to load results and plot histogram with p@1000 for all models\n",
        "evals_df = pd.read_csv(DATAPATH +'split2_evals.csv.gz', compression='gzip')\n",
        "\n",
        "ax = sns.distplot(evals_df['model_precision'])\n",
        "ax.set_title('Precision at 1000 across all the models')\n",
        "plt.gcf().set_size_inches((5, 3))\n",
        "plt.gcf().set_dpi(DPI)\n",
        "plt.show()"
      ],
      "execution_count": 2,
      "outputs": [
        {
          "output_type": "display_data",
          "data": {
            "image/png": "[encoded data removed]",
            "text/plain": [
              "<Figure size 1000x600 with 1 Axes>"
            ]
          },
          "metadata": {
            "tags": [],
            "needs_background": "light"
          }
        }
      ]
    },
    {
      "cell_type": "markdown",
      "metadata": {
        "id": "IgRgZkOtJE5_",
        "colab_type": "text"
      },
      "source": [
        "## We're now going to take the \"best\" model based on precision at top 1000 and audit its predicitons"
      ]
    },
    {
      "cell_type": "markdown",
      "metadata": {
        "id": "ifiuinqpJE5_",
        "colab_type": "text"
      },
      "source": [
        "# <font color=green>Auditing the Model with Highest Precision at top 1000</font>\n",
        "\n",
        "### What do we need to audit the predictions?\n",
        "1. predictions (scores or thresholded based on top 1000)\n",
        "2. labels\n",
        "3. attributes to audit (and a reference group within each attribute)\n",
        "4. fairness metric(s)\n",
        "5. disparity tolerance"
      ]
    },
    {
      "cell_type": "markdown",
      "metadata": {
        "id": "ObmvZZZ4JE6A",
        "colab_type": "text"
      },
      "source": [
        "## Load predictions, labels, and attributes to audit"
      ]
    },
    {
      "cell_type": "code",
      "metadata": {
        "id": "GiwqHnrOJE6A",
        "colab_type": "code",
        "colab": {}
      },
      "source": [
        "# load pre-computed predictions, labels, attributes dataframe\n",
        "df = pd.read_csv(DATAPATH + 'single_audit_df.csv.gz', compression='gzip')"
      ],
      "execution_count": 3,
      "outputs": []
    },
    {
      "cell_type": "markdown",
      "metadata": {
        "pycharm": {
          "name": "#%% md\n"
        },
        "id": "Ewm7sN6xJE6E",
        "colab_type": "text"
      },
      "source": [
        "Aequitas needs predictions (binary score), the label value, and the attributes to audit"
      ]
    },
    {
      "cell_type": "code",
      "metadata": {
        "pycharm": {
          "name": "#%%\n"
        },
        "id": "Pk2rUAlzJE6F",
        "colab_type": "code",
        "colab": {
          "base_uri": "https://localhost:8080/",
          "height": 359
        },
        "outputId": "c91ec941-648b-438a-e94c-a5c62e41848a"
      },
      "source": [
        "# take a look at the dataframe we just loaded\n",
        "df.head(10)"
      ],
      "execution_count": 4,
      "outputs": [
        {
          "output_type": "execute_result",
          "data": {
            "text/html": [
              "<div>\n",
              "<style scoped>\n",
              "    .dataframe tbody tr th:only-of-type {\n",
              "        vertical-align: middle;\n",
              "    }\n",
              "\n",
              "    .dataframe tbody tr th {\n",
              "        vertical-align: top;\n",
              "    }\n",
              "\n",
              "    .dataframe thead th {\n",
              "        text-align: right;\n",
              "    }\n",
              "</style>\n",
              "<table border=\"1\" class=\"dataframe\">\n",
              "  <thead>\n",
              "    <tr style=\"text-align: right;\">\n",
              "      <th></th>\n",
              "      <th>score</th>\n",
              "      <th>label_value</th>\n",
              "      <th>poverty_level</th>\n",
              "      <th>metro_type</th>\n",
              "      <th>teacher_sex</th>\n",
              "    </tr>\n",
              "  </thead>\n",
              "  <tbody>\n",
              "    <tr>\n",
              "      <th>0</th>\n",
              "      <td>0.0</td>\n",
              "      <td>0.0</td>\n",
              "      <td>lower</td>\n",
              "      <td>suburban_rural</td>\n",
              "      <td>female</td>\n",
              "    </tr>\n",
              "    <tr>\n",
              "      <th>1</th>\n",
              "      <td>0.0</td>\n",
              "      <td>0.0</td>\n",
              "      <td>highest</td>\n",
              "      <td>unknown</td>\n",
              "      <td>female</td>\n",
              "    </tr>\n",
              "    <tr>\n",
              "      <th>2</th>\n",
              "      <td>0.0</td>\n",
              "      <td>1.0</td>\n",
              "      <td>lower</td>\n",
              "      <td>suburban_rural</td>\n",
              "      <td>female</td>\n",
              "    </tr>\n",
              "    <tr>\n",
              "      <th>3</th>\n",
              "      <td>0.0</td>\n",
              "      <td>0.0</td>\n",
              "      <td>lower</td>\n",
              "      <td>unknown</td>\n",
              "      <td>female</td>\n",
              "    </tr>\n",
              "    <tr>\n",
              "      <th>4</th>\n",
              "      <td>0.0</td>\n",
              "      <td>0.0</td>\n",
              "      <td>lower</td>\n",
              "      <td>urban</td>\n",
              "      <td>female</td>\n",
              "    </tr>\n",
              "    <tr>\n",
              "      <th>5</th>\n",
              "      <td>0.0</td>\n",
              "      <td>1.0</td>\n",
              "      <td>lower</td>\n",
              "      <td>unknown</td>\n",
              "      <td>female</td>\n",
              "    </tr>\n",
              "    <tr>\n",
              "      <th>6</th>\n",
              "      <td>0.0</td>\n",
              "      <td>0.0</td>\n",
              "      <td>highest</td>\n",
              "      <td>urban</td>\n",
              "      <td>female</td>\n",
              "    </tr>\n",
              "    <tr>\n",
              "      <th>7</th>\n",
              "      <td>0.0</td>\n",
              "      <td>0.0</td>\n",
              "      <td>highest</td>\n",
              "      <td>unknown</td>\n",
              "      <td>female</td>\n",
              "    </tr>\n",
              "    <tr>\n",
              "      <th>8</th>\n",
              "      <td>0.0</td>\n",
              "      <td>1.0</td>\n",
              "      <td>lower</td>\n",
              "      <td>unknown</td>\n",
              "      <td>female</td>\n",
              "    </tr>\n",
              "    <tr>\n",
              "      <th>9</th>\n",
              "      <td>0.0</td>\n",
              "      <td>0.0</td>\n",
              "      <td>highest</td>\n",
              "      <td>unknown</td>\n",
              "      <td>female</td>\n",
              "    </tr>\n",
              "  </tbody>\n",
              "</table>\n",
              "</div>"
            ],
            "text/plain": [
              "   score  label_value poverty_level      metro_type teacher_sex\n",
              "0    0.0          0.0         lower  suburban_rural      female\n",
              "1    0.0          0.0       highest         unknown      female\n",
              "2    0.0          1.0         lower  suburban_rural      female\n",
              "3    0.0          0.0         lower         unknown      female\n",
              "4    0.0          0.0         lower           urban      female\n",
              "5    0.0          1.0         lower         unknown      female\n",
              "6    0.0          0.0       highest           urban      female\n",
              "7    0.0          0.0       highest         unknown      female\n",
              "8    0.0          1.0         lower         unknown      female\n",
              "9    0.0          0.0       highest         unknown      female"
            ]
          },
          "metadata": {
            "tags": []
          },
          "execution_count": 4
        }
      ]
    },
    {
      "cell_type": "code",
      "metadata": {
        "id": "eKVpBqOyJE6H",
        "colab_type": "code",
        "colab": {
          "base_uri": "https://localhost:8080/",
          "height": 68
        },
        "outputId": "ae1490e9-ccda-488f-c37d-2dd4294a5b55"
      },
      "source": [
        "# The score has been binarized (0/1) by taking the top 1000 highest scored predictions and calling them 1 \n",
        "# because we care about selecting the top 1000 projects)\n",
        "df['score'].value_counts()"
      ],
      "execution_count": 5,
      "outputs": [
        {
          "output_type": "execute_result",
          "data": {
            "text/plain": [
              "0.0    16677\n",
              "1.0     1000\n",
              "Name: score, dtype: int64"
            ]
          },
          "metadata": {
            "tags": []
          },
          "execution_count": 5
        }
      ]
    },
    {
      "cell_type": "markdown",
      "metadata": {
        "id": "FUEiPp58JE6J",
        "colab_type": "text"
      },
      "source": [
        "## Define Attributes to Audit and Reference Group for each Attribute"
      ]
    },
    {
      "cell_type": "code",
      "metadata": {
        "id": "Af3KtkhmJE6J",
        "colab_type": "code",
        "colab": {}
      },
      "source": [
        "attributes_and_reference_groups={'poverty_level':'lower', 'metro_type':'suburban_rural', 'teacher_sex':'male'}\n",
        "attributes_to_audit = list(attributes_and_reference_groups.keys())"
      ],
      "execution_count": 6,
      "outputs": []
    },
    {
      "cell_type": "markdown",
      "metadata": {
        "id": "3gr2MJf6JE6M",
        "colab_type": "text"
      },
      "source": [
        "## Select fairness metric(s) that we care about"
      ]
    },
    {
      "cell_type": "code",
      "metadata": {
        "id": "5bp-feqvJE6M",
        "colab_type": "code",
        "colab": {}
      },
      "source": [
        "metrics = ['tpr']"
      ],
      "execution_count": 7,
      "outputs": []
    },
    {
      "cell_type": "markdown",
      "metadata": {
        "id": "iyeHlO9XJE6P",
        "colab_type": "text"
      },
      "source": [
        "## Define  Disparity Tolerance "
      ]
    },
    {
      "cell_type": "code",
      "metadata": {
        "id": "8jC4IrFJJE6P",
        "colab_type": "code",
        "colab": {}
      },
      "source": [
        "disparity_tolerance = 1.30"
      ],
      "execution_count": 8,
      "outputs": []
    },
    {
      "cell_type": "markdown",
      "metadata": {
        "pycharm": {
          "name": "#%% md\n"
        },
        "id": "c74GWRGWJE6S",
        "colab_type": "text"
      },
      "source": [
        "## Run Aequitas (based on the settings above)"
      ]
    },
    {
      "cell_type": "code",
      "metadata": {
        "id": "Cqk6IG_nJE6S",
        "colab_type": "code",
        "colab": {
          "base_uri": "https://localhost:8080/",
          "height": 51
        },
        "outputId": "d003dc93-ed6f-412a-c426-9351675f02f0"
      },
      "source": [
        "# Initialize Aequitas\n",
        "g = Group()\n",
        "b = Bias()\n",
        "\n",
        "# get_crosstabs returns a dataframe of the group counts and group value bias metrics.\n",
        "xtab, _ = g.get_crosstabs(df, attr_cols=attributes_to_audit)\n",
        "bdf = b.get_disparity_predefined_groups(xtab, original_df=df, ref_groups_dict=attributes_and_reference_groups)"
      ],
      "execution_count": 9,
      "outputs": [
        {
          "output_type": "stream",
          "text": [
            "model_id, score_thresholds 0 {'rank_abs': [1000]}\n",
            "get_disparity_predefined_group()\n"
          ],
          "name": "stdout"
        }
      ]
    },
    {
      "cell_type": "markdown",
      "metadata": {
        "id": "Sy81HICMJE6a",
        "colab_type": "text"
      },
      "source": [
        "## Look at Audit Results"
      ]
    },
    {
      "cell_type": "markdown",
      "metadata": {
        "pycharm": {
          "name": "#%% md\n"
        },
        "id": "g3mBgL-FJE6c",
        "colab_type": "text"
      },
      "source": [
        "Now we are going to focus our analysis on the fairness metric(s) of interest in this case study: TPR across different groups. The aequitas plot module exposes the disparities_metrics() plot, which displays both the disparities and the group-wise metric results side by side."
      ]
    },
    {
      "cell_type": "markdown",
      "metadata": {
        "id": "uhmwzcU-JE6c",
        "colab_type": "text"
      },
      "source": [
        "### Check for Fairness in Poverty Level "
      ]
    },
    {
      "cell_type": "code",
      "metadata": {
        "id": "-txQPugpJE6d",
        "colab_type": "code",
        "colab": {
          "base_uri": "https://localhost:8080/",
          "height": 306
        },
        "outputId": "c04d2f77-b399-46d9-8386-24faf01fe6ce"
      },
      "source": [
        "ap.disparities_metrics(bdf, metrics, 'poverty_level', fairness_threshold = disparity_tolerance)"
      ],
      "execution_count": 10,
      "outputs": [
        {
          "output_type": "execute_result",
          "data": {
            "text/plain": [
              "alt.HConcatChart(...)"
            ],
            "text/html": [
              "\n",
              "<div id=\"altair-viz-d3272e8e57a34d6b891bd793aff1f3bf\"></div>\n",
              "<script type=\"text/javascript\">\n",
              "  (function(spec, embedOpt){\n",
              "    let outputDiv = document.currentScript.previousElementSibling;\n",
              "    if (outputDiv.id !== \"altair-viz-d3272e8e57a34d6b891bd793aff1f3bf\") {\n",
              "      outputDiv = document.getElementById(\"altair-viz-d3272e8e57a34d6b891bd793aff1f3bf\");\n",
              "    }\n",
              "    const paths = {\n",
              "      \"vega\": \"https://cdn.jsdelivr.net/npm//vega@5?noext\",\n",
              "      \"vega-lib\": \"https://cdn.jsdelivr.net/npm//vega-lib?noext\",\n",
              "      \"vega-lite\": \"https://cdn.jsdelivr.net/npm//vega-lite@4.8.1?noext\",\n",
              "      \"vega-embed\": \"https://cdn.jsdelivr.net/npm//vega-embed@6?noext\",\n",
              "    };\n",
              "\n",
              "    function loadScript(lib) {\n",
              "      return new Promise(function(resolve, reject) {\n",
              "        var s = document.createElement('script');\n",
              "        s.src = paths[lib];\n",
              "        s.async = true;\n",
              "        s.onload = () => resolve(paths[lib]);\n",
              "        s.onerror = () => reject(`Error loading script: ${paths[lib]}`);\n",
              "        document.getElementsByTagName(\"head\")[0].appendChild(s);\n",
              "      });\n",
              "    }\n",
              "\n",
              "    function showError(err) {\n",
              "      outputDiv.innerHTML = `<div class=\"error\" style=\"color:red;\">${err}</div>`;\n",
              "      throw err;\n",
              "    }\n",
              "\n",
              "    function displayChart(vegaEmbed) {\n",
              "      vegaEmbed(outputDiv, spec, embedOpt)\n",
              "        .catch(err => showError(`Javascript Error: ${err.message}<br>This usually means there's a typo in your chart specification. See the javascript console for the full traceback.`));\n",
              "    }\n",
              "\n",
              "    if(typeof define === \"function\" && define.amd) {\n",
              "      requirejs.config({paths});\n",
              "      require([\"vega-embed\"], displayChart, err => showError(`Error loading script: ${err.message}`));\n",
              "    } else if (typeof vegaEmbed === \"function\") {\n",
              "      displayChart(vegaEmbed);\n",
              "    } else {\n",
              "      loadScript(\"vega\")\n",
              "        .then(() => loadScript(\"vega-lite\"))\n",
              "        .then(() => loadScript(\"vega-embed\"))\n",
              "        .catch(showError)\n",
              "        .then(() => displayChart(vegaEmbed));\n",
              "    }\n",
              "  })({\"config\": {\"view\": {\"continuousWidth\": 400, \"continuousHeight\": 300, \"strokeWidth\": 0}, \"axisLeft\": {\"labelColor\": \"rgb(117,117,117)\", \"labelFont\": \"Arial\", \"labelFontSize\": 16}}, \"hconcat\": [{\"layer\": [{\"data\": {\"name\": \"data-b3bcfd1decd67fb31f95ea5e1bcd9e64\"}, \"mark\": {\"type\": \"rule\", \"stroke\": \"rgb(117,117,117)\", \"strokeWidth\": 1.25, \"tooltip\": \"\"}, \"encoding\": {\"x\": {\"type\": \"quantitative\", \"field\": \"x\", \"scale\": {\"domain\": [-2, 2], \"range\": [57.0, 513.0]}}, \"x2\": {\"field\": \"x2\"}, \"y\": {\"type\": \"nominal\", \"axis\": {\"domain\": false, \"labelAngle\": 0, \"labelPadding\": -10, \"orient\": \"left\", \"ticks\": false, \"title\": \"\"}, \"field\": \"metric\", \"scale\": {\"domain\": [\"TPR\"], \"range\": [30, 225.0]}}}}, {\"data\": {\"name\": \"data-79dd248bdaa0ea02c535240e8ad022c8\"}, \"mark\": {\"type\": \"rule\", \"stroke\": \"rgb(117,117,117)\", \"strokeDash\": [5, 5], \"strokeWidth\": 1}, \"encoding\": {\"tooltip\": {\"value\": \"lower [REF]\"}, \"x\": {\"value\": 285.0}, \"y\": {\"value\": 20.833333333333336}, \"y2\": {\"value\": 229.16666666666666}}}, {\"data\": {\"name\": \"data-bf3bbf11504879c3d6556966f4853596\"}, \"mark\": {\"type\": \"text\", \"align\": \"center\", \"color\": \"rgb(117,117,117)\", \"font\": \"Arial\", \"fontSize\": 11, \"fontWeight\": 100, \"tooltip\": \"\"}, \"encoding\": {\"text\": {\"type\": \"nominal\", \"field\": \"label\"}, \"x\": {\"type\": \"quantitative\", \"field\": \"value\", \"scale\": {\"domain\": [-2, 2], \"range\": [57.0, 513.0]}}, \"y\": {\"value\": 17.5}}}, {\"layer\": [{\"mark\": {\"type\": \"text\", \"align\": \"right\", \"fill\": \"rgb(117,117,117)\", \"font\": \"Arial\", \"fontSize\": 11, \"fontWeight\": 100, \"tooltip\": \"\"}, \"encoding\": {\"text\": {\"value\": \"TIMES SMALLER\"}, \"x\": {\"value\": 85.5}, \"y\": {\"value\": 7.5}}}, {\"mark\": {\"type\": \"text\", \"align\": \"left\", \"fill\": \"rgb(117,117,117)\", \"font\": \"Arial\", \"fontSize\": 11, \"fontWeight\": 100, \"tooltip\": \"\"}, \"encoding\": {\"text\": {\"value\": \"TIMES LARGER\"}, \"x\": {\"value\": 484.5}, \"y\": {\"value\": 7.5}}}, {\"mark\": {\"type\": \"text\", \"align\": \"center\", \"fill\": \"rgb(117,117,117)\", \"font\": \"Arial\", \"fontSize\": 11, \"fontWeight\": 100, \"tooltip\": \"\"}, \"encoding\": {\"text\": {\"value\": \"EQUAL\"}, \"x\": {\"value\": 285.0}, \"y\": {\"value\": 7.5}}}], \"data\": {\"name\": \"data-79dd248bdaa0ea02c535240e8ad022c8\"}}, {\"layer\": [{\"mark\": {\"type\": \"rule\", \"opacity\": 0.8, \"stroke\": \"rgb(217, 46, 28)\", \"strokeWidth\": 1.25, \"tooltip\": \"\"}, \"encoding\": {\"x\": {\"type\": \"quantitative\", \"field\": \"min\", \"scale\": {\"domain\": [-2, 2], \"range\": [57.0, 513.0]}}, \"y\": {\"value\": 25.0}, \"y2\": {\"value\": 225.0}}}, {\"mark\": {\"type\": \"rule\", \"opacity\": 0.8, \"stroke\": \"rgb(217, 46, 28)\", \"strokeWidth\": 1.25, \"tooltip\": \"\"}, \"encoding\": {\"x\": {\"type\": \"quantitative\", \"field\": \"max\", \"scale\": {\"domain\": [-2, 2], \"range\": [57.0, 513.0]}}, \"y\": {\"value\": 25.0}, \"y2\": {\"value\": 225.0}}}, {\"layer\": [{\"mark\": {\"type\": \"rect\", \"fill\": \"rgb(217, 46, 28)\", \"opacity\": 0.1, \"tooltip\": \"\"}, \"encoding\": {\"x\": {\"type\": \"quantitative\", \"field\": \"min\", \"scale\": {\"domain\": [-2, 2], \"range\": [57.0, 513.0]}}, \"x2\": {\"field\": \"lower_end\"}, \"y\": {\"value\": 25.0}, \"y2\": {\"value\": 225.0}}}, {\"mark\": {\"type\": \"rect\", \"fill\": \"rgb(217, 46, 28)\", \"opacity\": 0.1, \"tooltip\": \"\"}, \"encoding\": {\"x\": {\"type\": \"quantitative\", \"field\": \"max\", \"scale\": {\"domain\": [-2, 2], \"range\": [57.0, 513.0]}}, \"x2\": {\"field\": \"upper_end\"}, \"y\": {\"value\": 25.0}, \"y2\": {\"value\": 225.0}}}]}, {\"data\": {\"name\": \"data-79dd248bdaa0ea02c535240e8ad022c8\"}, \"mark\": {\"type\": \"text\", \"align\": \"left\", \"baseline\": \"top\", \"fill\": \"rgb(217, 46, 28)\", \"font\": \"Arial\", \"fontSize\": 11, \"fontWeight\": 100, \"tooltip\": \"\"}, \"encoding\": {\"text\": {\"value\": \"The metric value for any group should not be 1.3 (or more) times smaller or larger than that of the reference group lower.\"}, \"x\": {\"value\": 0}, \"y\": {\"value\": 233.33333333333334}}}], \"data\": {\"name\": \"data-b643063563633c31a45d634da5f365b2\"}}, {\"layer\": [{\"mark\": \"circle\"}, {\"data\": {\"name\": \"data-51b8003dc85d49711ca36fabda1ba077\"}, \"mark\": {\"type\": \"circle\", \"opacity\": 0.2}, \"encoding\": {\"color\": {\"condition\": {\"type\": \"nominal\", \"field\": \"attribute_value\", \"legend\": null, \"scale\": {\"domain\": [\"lower\", \"highest\"], \"range\": [\"rgb(117,117,117)\", \"rgb(100, 143, 255)\", \"rgb(254, 97, 0)\", \"rgb(220, 38, 127)\", \"rgb(255, 176, 0)\", \"rgb(120, 94, 240)\"]}, \"selection\": \"selector001\"}, \"value\": \"rgb(224,224,224)\"}, \"size\": {\"type\": \"quantitative\", \"field\": \"group_size\", \"legend\": null, \"scale\": {\"domain\": [0, 11967.6], \"range\": [0, 7853.981633974483]}}, \"tooltip\": [{\"type\": \"nominal\", \"field\": \"attribute_value\", \"title\": \"Group\"}, {\"type\": \"nominal\", \"field\": \"tooltip_group_size\", \"title\": \"Group Size\"}, {\"type\": \"nominal\", \"field\": \"tooltip_disparity_explanation_tpr\", \"title\": \"Disparity\"}, {\"type\": \"quantitative\", \"field\": \"tpr\", \"format\": \".2f\", \"title\": \"TPR\"}], \"x\": {\"type\": \"quantitative\", \"axis\": {\"domain\": false, \"labels\": false, \"ticks\": false, \"title\": null, \"values\": [-2, -1, 1, 2]}, \"field\": \"tpr_disparity_scaled\", \"scale\": {\"domain\": [-2, 2], \"range\": [57.0, 513.0]}}, \"y\": {\"type\": \"nominal\", \"axis\": {\"domain\": false, \"grid\": false, \"labels\": false, \"ticks\": false, \"title\": \" \"}, \"field\": \"metric_variable\", \"scale\": {\"domain\": [\"TPR\"], \"range\": [30, 225.0]}}}, \"selection\": {\"selector003\": {\"type\": \"multi\", \"empty\": \"all\", \"fields\": [\"attribute_value\"]}}, \"transform\": [{\"calculate\": \"'TPR'\", \"as\": \"metric_variable\"}]}, {\"layer\": [{\"mark\": \"point\"}, {\"data\": {\"name\": \"data-51b8003dc85d49711ca36fabda1ba077\"}, \"mark\": {\"type\": \"point\", \"filled\": true, \"size\": 60}, \"encoding\": {\"color\": {\"condition\": {\"type\": \"nominal\", \"field\": \"attribute_value\", \"legend\": null, \"scale\": {\"domain\": [\"lower\", \"highest\"], \"range\": [\"rgb(117,117,117)\", \"rgb(100, 143, 255)\", \"rgb(254, 97, 0)\", \"rgb(220, 38, 127)\", \"rgb(255, 176, 0)\", \"rgb(120, 94, 240)\"]}, \"selection\": \"selector001\"}, \"value\": \"rgb(224,224,224)\"}, \"shape\": {\"type\": \"nominal\", \"field\": \"attribute_value\", \"legend\": null, \"scale\": {\"domain\": [\"lower\", \"highest\"], \"range\": [\"cross\", \"circle\"]}}, \"tooltip\": [{\"type\": \"nominal\", \"field\": \"attribute_value\", \"title\": \"Group\"}, {\"type\": \"nominal\", \"field\": \"tooltip_group_size\", \"title\": \"Group Size\"}, {\"type\": \"nominal\", \"field\": \"tooltip_disparity_explanation_tpr\", \"title\": \"Disparity\"}, {\"type\": \"quantitative\", \"field\": \"tpr\", \"format\": \".2f\", \"title\": \"TPR\"}], \"x\": {\"type\": \"quantitative\", \"axis\": {\"domain\": false, \"labels\": false, \"ticks\": false, \"title\": null, \"values\": [-2, -1, 1, 2]}, \"field\": \"tpr_disparity_scaled\", \"scale\": {\"domain\": [-2, 2], \"range\": [57.0, 513.0]}}, \"y\": {\"type\": \"nominal\", \"axis\": {\"domain\": false, \"grid\": false, \"labels\": false, \"ticks\": false, \"title\": \" \"}, \"field\": \"metric_variable\", \"scale\": {\"domain\": [\"TPR\"], \"range\": [30, 225.0]}}}, \"selection\": {\"selector002\": {\"type\": \"multi\", \"empty\": \"all\", \"fields\": [\"attribute_value\"]}}, \"transform\": [{\"calculate\": \"'TPR'\", \"as\": \"metric_variable\"}]}]}]}, {\"data\": {\"name\": \"data-79dd248bdaa0ea02c535240e8ad022c8\"}, \"mark\": {\"type\": \"text\", \"align\": \"center\", \"fill\": \"rgb(117,117,117)\", \"font\": \"Arial\", \"fontSize\": 20, \"fontWeight\": 900, \"tooltip\": \"\"}, \"encoding\": {\"text\": {\"value\": \"DISPARITIES\"}, \"x\": {\"value\": 285.0}, \"y\": {\"value\": -15}}}], \"height\": 250, \"resolve\": {\"scale\": {\"size\": \"independent\", \"y\": \"independent\"}}, \"width\": 570.0}, {\"layer\": [{\"data\": {\"name\": \"data-2877b248c93196b56da8c0b23bb53c1d\"}, \"mark\": {\"type\": \"rule\", \"stroke\": \"rgb(117,117,117)\", \"strokeWidth\": 1.25, \"tooltip\": \"\"}, \"encoding\": {\"x\": {\"type\": \"quantitative\", \"field\": \"start\", \"scale\": {\"domain\": [0, 1], \"range\": [38.0, 342.0]}}, \"x2\": {\"field\": \"end\"}, \"y\": {\"type\": \"nominal\", \"axis\": {\"domain\": false, \"grid\": false, \"labels\": false, \"ticks\": false, \"title\": \" \"}, \"field\": \"y_position\", \"scale\": {\"domain\": [\"TPR\"], \"range\": [25.0, 225.0]}}}}, {\"data\": {\"name\": \"data-6cfe259518f6c7b358d8f836a73e6b7f\"}, \"mark\": {\"type\": \"rule\", \"stroke\": \"rgb(117,117,117)\", \"strokeWidth\": 1.25, \"tooltip\": \"\"}, \"encoding\": {\"x\": {\"type\": \"quantitative\", \"field\": \"x_position\", \"scale\": {\"domain\": [0, 1], \"range\": [38.0, 342.0]}}, \"y\": {\"value\": 25.0}, \"y2\": {\"value\": 225.0}}}, {\"data\": {\"name\": \"data-60ed1133fa688d151d36705a369482e0\"}, \"mark\": {\"type\": \"text\", \"align\": \"center\", \"color\": \"rgb(117,117,117)\", \"font\": \"Arial\", \"fontSize\": 11, \"fontWeight\": 100, \"tooltip\": \"\"}, \"encoding\": {\"text\": {\"type\": \"nominal\", \"field\": \"value\"}, \"x\": {\"type\": \"quantitative\", \"field\": \"value\", \"scale\": {\"domain\": [0, 1], \"range\": [38.0, 342.0]}}, \"y\": {\"value\": 17.5}}}, {\"layer\": [{\"mark\": {\"type\": \"rect\", \"opacity\": 0.8, \"stroke\": \"rgb(217, 46, 28)\", \"strokeWidth\": 1.25, \"tooltip\": \"\"}, \"encoding\": {\"x\": {\"type\": \"quantitative\", \"field\": \"lower_threshold_value\", \"scale\": {\"domain\": [0, 1], \"range\": [38.0, 342.0]}}, \"x2\": {\"field\": \"lower_threshold_value\"}, \"y\": {\"type\": \"nominal\", \"axis\": {\"domain\": false, \"grid\": false, \"labels\": false, \"ticks\": false, \"title\": \" \"}, \"field\": \"metric\", \"scale\": {\"domain\": [\"TPR\"], \"range\": [25.0, 225.0]}}}}, {\"mark\": {\"type\": \"rect\", \"opacity\": 0.8, \"stroke\": \"rgb(217, 46, 28)\", \"strokeWidth\": 1.25, \"tooltip\": \"\"}, \"encoding\": {\"x\": {\"type\": \"quantitative\", \"field\": \"upper_threshold_value\", \"scale\": {\"domain\": [0, 1], \"range\": [38.0, 342.0]}}, \"x2\": {\"field\": \"upper_threshold_value\"}, \"y\": {\"type\": \"nominal\", \"axis\": {\"domain\": false, \"grid\": false, \"labels\": false, \"ticks\": false, \"title\": \" \"}, \"field\": \"metric\", \"scale\": {\"domain\": [\"TPR\"], \"range\": [25.0, 225.0]}}}}, {\"layer\": [{\"mark\": {\"type\": \"rect\", \"fill\": \"rgb(217, 46, 28)\", \"opacity\": 0.1, \"tooltip\": \"\"}, \"encoding\": {\"x\": {\"type\": \"quantitative\", \"field\": \"lower_threshold_value\", \"scale\": {\"domain\": [0, 1], \"range\": [38.0, 342.0]}}, \"x2\": {\"field\": \"lower_end\"}, \"y\": {\"type\": \"nominal\", \"axis\": {\"domain\": false, \"grid\": false, \"labels\": false, \"ticks\": false, \"title\": \" \"}, \"field\": \"metric\", \"scale\": {\"domain\": [\"TPR\"], \"range\": [25.0, 225.0]}}}}, {\"mark\": {\"type\": \"rect\", \"fill\": \"rgb(217, 46, 28)\", \"opacity\": 0.1, \"tooltip\": \"\"}, \"encoding\": {\"x\": {\"type\": \"quantitative\", \"field\": \"upper_threshold_value\", \"scale\": {\"domain\": [0, 1], \"range\": [38.0, 342.0]}}, \"x2\": {\"field\": \"upper_end\"}, \"y\": {\"type\": \"nominal\", \"axis\": {\"domain\": false, \"grid\": false, \"labels\": false, \"ticks\": false, \"title\": \" \"}, \"field\": \"metric\", \"scale\": {\"domain\": [\"TPR\"], \"range\": [25.0, 225.0]}}}}]}], \"data\": {\"name\": \"data-8772ff26277eae00f90df06e87019975\"}}, {\"layer\": [{\"mark\": \"circle\"}, {\"data\": {\"name\": \"data-51b8003dc85d49711ca36fabda1ba077\"}, \"mark\": {\"type\": \"circle\", \"opacity\": 0.2}, \"encoding\": {\"color\": {\"condition\": {\"type\": \"nominal\", \"field\": \"attribute_value\", \"legend\": null, \"scale\": {\"domain\": [\"lower\", \"highest\"], \"range\": [\"rgb(117,117,117)\", \"rgb(100, 143, 255)\", \"rgb(254, 97, 0)\", \"rgb(220, 38, 127)\", \"rgb(255, 176, 0)\", \"rgb(120, 94, 240)\"]}, \"selection\": \"selector001\"}, \"value\": \"rgb(224,224,224)\"}, \"size\": {\"type\": \"quantitative\", \"field\": \"group_size\", \"legend\": null, \"scale\": {\"domain\": [0, 11967.6], \"range\": [0, 7853.981633974483]}}, \"tooltip\": [{\"type\": \"nominal\", \"field\": \"attribute_value\", \"title\": \"Group\"}, {\"type\": \"nominal\", \"field\": \"tooltip_group_size\", \"title\": \"Group Size\"}, {\"type\": \"nominal\", \"field\": \"tooltip_disparity_explanation_tpr\", \"title\": \"Disparity\"}, {\"type\": \"quantitative\", \"field\": \"tpr\", \"format\": \".2f\", \"title\": \"TPR\"}], \"x\": {\"type\": \"quantitative\", \"axis\": {\"domain\": false, \"labels\": false, \"ticks\": false, \"title\": null, \"values\": [0.25, 0.5, 0.75]}, \"field\": \"tpr\", \"scale\": {\"domain\": [0, 1], \"range\": [38.0, 342.0]}}, \"y\": {\"type\": \"nominal\", \"axis\": {\"domain\": false, \"grid\": false, \"labels\": false, \"ticks\": false, \"title\": \" \"}, \"field\": \"metric_variable\", \"scale\": {\"domain\": [\"TPR\"], \"range\": [25.0, 225.0]}}}, \"selection\": {\"selector005\": {\"type\": \"multi\", \"empty\": \"all\", \"fields\": [\"attribute_value\"]}}, \"transform\": [{\"calculate\": \"'TPR'\", \"as\": \"metric_variable\"}]}, {\"layer\": [{\"mark\": \"point\"}, {\"data\": {\"name\": \"data-51b8003dc85d49711ca36fabda1ba077\"}, \"mark\": {\"type\": \"point\", \"filled\": true, \"size\": 60}, \"encoding\": {\"color\": {\"condition\": {\"type\": \"nominal\", \"field\": \"attribute_value\", \"legend\": null, \"scale\": {\"domain\": [\"lower\", \"highest\"], \"range\": [\"rgb(117,117,117)\", \"rgb(100, 143, 255)\", \"rgb(254, 97, 0)\", \"rgb(220, 38, 127)\", \"rgb(255, 176, 0)\", \"rgb(120, 94, 240)\"]}, \"selection\": \"selector001\"}, \"value\": \"rgb(224,224,224)\"}, \"shape\": {\"type\": \"nominal\", \"field\": \"attribute_value\", \"legend\": null, \"scale\": {\"domain\": [\"lower\", \"highest\"], \"range\": [\"cross\", \"circle\"]}}, \"tooltip\": [{\"type\": \"nominal\", \"field\": \"attribute_value\", \"title\": \"Group\"}, {\"type\": \"nominal\", \"field\": \"tooltip_group_size\", \"title\": \"Group Size\"}, {\"type\": \"nominal\", \"field\": \"tooltip_disparity_explanation_tpr\", \"title\": \"Disparity\"}, {\"type\": \"quantitative\", \"field\": \"tpr\", \"format\": \".2f\", \"title\": \"TPR\"}], \"x\": {\"type\": \"quantitative\", \"axis\": {\"domain\": false, \"labels\": false, \"ticks\": false, \"title\": null, \"values\": [0.25, 0.5, 0.75]}, \"field\": \"tpr\", \"scale\": {\"domain\": [0, 1], \"range\": [38.0, 342.0]}}, \"y\": {\"type\": \"nominal\", \"axis\": {\"domain\": false, \"grid\": false, \"labels\": false, \"ticks\": false, \"title\": \" \"}, \"field\": \"metric_variable\", \"scale\": {\"domain\": [\"TPR\"], \"range\": [25.0, 225.0]}}}, \"selection\": {\"selector004\": {\"type\": \"multi\", \"empty\": \"all\", \"fields\": [\"attribute_value\"]}}, \"transform\": [{\"calculate\": \"'TPR'\", \"as\": \"metric_variable\"}]}]}]}, {\"data\": {\"name\": \"data-79dd248bdaa0ea02c535240e8ad022c8\"}, \"mark\": {\"type\": \"text\", \"align\": \"center\", \"fill\": \"rgb(117,117,117)\", \"font\": \"Arial\", \"fontSize\": 20, \"fontWeight\": 900, \"tooltip\": \"\"}, \"encoding\": {\"text\": {\"value\": \"METRICS\"}, \"x\": {\"value\": 190.0}, \"y\": {\"value\": -15}}}, {\"layer\": [{\"mark\": {\"type\": \"point\", \"filled\": true, \"opacity\": 1, \"size\": 39.47841760435743}, \"encoding\": {\"color\": {\"condition\": {\"type\": \"nominal\", \"field\": \"attribute_value\", \"legend\": null, \"scale\": {\"domain\": [\"lower\", \"highest\"], \"range\": [\"rgb(117,117,117)\", \"rgb(100, 143, 255)\", \"rgb(254, 97, 0)\", \"rgb(220, 38, 127)\", \"rgb(255, 176, 0)\", \"rgb(120, 94, 240)\"]}, \"selection\": \"selector001\"}, \"value\": \"rgb(224,224,224)\"}, \"shape\": {\"type\": \"nominal\", \"field\": \"attribute_value\", \"legend\": null, \"scale\": {\"domain\": [\"lower\", \"highest\"], \"range\": [\"cross\", \"circle\"]}}, \"x\": {\"value\": 422.00000000000006}, \"y\": {\"type\": \"nominal\", \"axis\": {\"domain\": false, \"grid\": false, \"labels\": false, \"ticks\": false, \"title\": \" \"}, \"field\": \"attribute_value\", \"scale\": {\"domain\": [\"lower\", \"highest\"], \"range\": [70, 122]}}}, \"selection\": {\"selector001\": {\"type\": \"multi\", \"empty\": \"all\", \"fields\": [\"attribute_value\"]}}}, {\"mark\": {\"type\": \"text\", \"align\": \"left\", \"baseline\": \"middle\", \"font\": \"Arial\", \"fontSize\": 11, \"fontWeight\": 100}, \"encoding\": {\"color\": {\"condition\": {\"type\": \"nominal\", \"field\": \"attribute_value\", \"legend\": null, \"scale\": {\"domain\": [\"lower\", \"highest\"], \"range\": [\"rgb(117,117,117)\", \"rgb(100, 143, 255)\", \"rgb(254, 97, 0)\", \"rgb(220, 38, 127)\", \"rgb(255, 176, 0)\", \"rgb(120, 94, 240)\"]}, \"selection\": \"selector001\"}, \"value\": \"rgb(224,224,224)\"}, \"text\": {\"type\": \"nominal\", \"field\": \"label\"}, \"x\": {\"value\": 430.00000000000006}, \"y\": {\"type\": \"nominal\", \"axis\": {\"domain\": false, \"grid\": false, \"labels\": false, \"ticks\": false, \"title\": \" \"}, \"field\": \"attribute_value\", \"scale\": {\"domain\": [\"lower\", \"highest\"], \"range\": [70, 122]}}}, \"selection\": {\"selector006\": {\"type\": \"multi\", \"empty\": \"all\", \"fields\": [\"attribute_value\"]}}}, {\"data\": {\"name\": \"data-79dd248bdaa0ea02c535240e8ad022c8\"}, \"mark\": {\"type\": \"text\", \"align\": \"left\", \"baseline\": \"middle\", \"color\": \"rgb(117,117,117)\", \"font\": \"Arial\", \"fontSize\": 11, \"fontWeight\": 100}, \"encoding\": {\"text\": {\"value\": \"Click to highlight a group.\"}, \"x\": {\"value\": 418.00000000000006}, \"y\": {\"value\": 49}}}, {\"data\": {\"name\": \"data-79dd248bdaa0ea02c535240e8ad022c8\"}, \"mark\": {\"type\": \"text\", \"align\": \"left\", \"baseline\": \"middle\", \"color\": \"rgb(117,117,117)\", \"font\": \"Arial\", \"fontSize\": 14, \"fontWeight\": 100}, \"encoding\": {\"text\": {\"value\": \"Groups\"}, \"x\": {\"value\": 418.00000000000006}, \"y\": {\"value\": 30}}}], \"data\": {\"name\": \"data-a5ebce136adcce28635ff1807ca7d132\"}}], \"height\": 250, \"resolve\": {\"scale\": {\"y\": \"independent\"}}, \"width\": 380.0}], \"bounds\": \"flush\", \"spacing\": 20, \"$schema\": \"https://vega.github.io/schema/vega-lite/v4.8.1.json\", \"datasets\": {\"data-b3bcfd1decd67fb31f95ea5e1bcd9e64\": [{\"metric\": \"TPR\", \"x\": -2.2, \"x2\": 2.2}], \"data-79dd248bdaa0ea02c535240e8ad022c8\": [{\"a\": 1, \"b\": 0}, {\"a\": 1, \"b\": 0}], \"data-bf3bbf11504879c3d6556966f4853596\": [{\"value\": -2, \"label\": 3}, {\"value\": -1, \"label\": 2}, {\"value\": 0, \"label\": \"=\"}, {\"value\": 1, \"label\": 2}, {\"value\": 2, \"label\": 3}], \"data-b643063563633c31a45d634da5f365b2\": [{\"min\": -0.30000000000000004, \"max\": 0.30000000000000004, \"lower_end\": -2.2, \"upper_end\": 2.2}], \"data-51b8003dc85d49711ca36fabda1ba077\": [{\"attribute_name\": \"poverty_level\", \"attribute_value\": \"highest\", \"group_size\": 9973, \"total_entities\": 17677, \"tpr\": 0.05077120822622108, \"tpr_disparity\": 0.36828455104197927, \"tpr_disparity_scaled\": -1.715291741591447, \"tooltip_group_size\": \"9,973 (56.42%)\", \"tooltip_disparity_explanation_tpr\": \"2.72 times smaller TPR than the reference group\"}, {\"attribute_name\": \"poverty_level\", \"attribute_value\": \"lower\", \"group_size\": 7704, \"total_entities\": 17677, \"tpr\": 0.13785864240727783, \"tpr_disparity\": 1.0, \"tpr_disparity_scaled\": 0.0, \"tooltip_group_size\": \"7,704 (43.58%)\", \"tooltip_disparity_explanation_tpr\": \"Reference group\"}], \"data-2877b248c93196b56da8c0b23bb53c1d\": [{\"y_position\": \"TPR\", \"start\": 0, \"end\": 1}], \"data-6cfe259518f6c7b358d8f836a73e6b7f\": [{\"x_position\": 0}, {\"x_position\": 1}], \"data-60ed1133fa688d151d36705a369482e0\": [{\"value\": 0.0}, {\"value\": 0.25}, {\"value\": 0.5}, {\"value\": 0.75}, {\"value\": 1.0}], \"data-8772ff26277eae00f90df06e87019975\": [{\"lower_end\": 0, \"upper_end\": 1, \"lower_threshold_value\": 0.10604510954405987, \"upper_threshold_value\": 0.1792162351294612, \"metric\": \"TPR\"}], \"data-a5ebce136adcce28635ff1807ca7d132\": [{\"attribute_value\": \"lower\", \"label\": \"lower [REF]\"}, {\"attribute_value\": \"highest\", \"label\": \"highest\"}]}}, {\"mode\": \"vega-lite\"});\n",
              "</script>"
            ]
          },
          "metadata": {
            "tags": []
          },
          "execution_count": 10
        }
      ]
    },
    {
      "cell_type": "markdown",
      "metadata": {
        "id": "bo-dNbg5JE6f",
        "colab_type": "text"
      },
      "source": [
        "### Check for Fairness in Metro_Type (where the school is based)"
      ]
    },
    {
      "cell_type": "code",
      "metadata": {
        "id": "FZPisbbcJE6f",
        "colab_type": "code",
        "colab": {
          "base_uri": "https://localhost:8080/",
          "height": 306
        },
        "outputId": "da3f52dc-36e5-4fbb-ba46-67e55b452d33"
      },
      "source": [
        "ap.disparities_metrics(bdf, metrics, 'metro_type', fairness_threshold = disparity_tolerance)"
      ],
      "execution_count": 11,
      "outputs": [
        {
          "output_type": "execute_result",
          "data": {
            "text/plain": [
              "alt.HConcatChart(...)"
            ],
            "text/html": [
              "\n",
              "<div id=\"altair-viz-c437e45261c4496bb6adeebaf11e3b57\"></div>\n",
              "<script type=\"text/javascript\">\n",
              "  (function(spec, embedOpt){\n",
              "    let outputDiv = document.currentScript.previousElementSibling;\n",
              "    if (outputDiv.id !== \"altair-viz-c437e45261c4496bb6adeebaf11e3b57\") {\n",
              "      outputDiv = document.getElementById(\"altair-viz-c437e45261c4496bb6adeebaf11e3b57\");\n",
              "    }\n",
              "    const paths = {\n",
              "      \"vega\": \"https://cdn.jsdelivr.net/npm//vega@5?noext\",\n",
              "      \"vega-lib\": \"https://cdn.jsdelivr.net/npm//vega-lib?noext\",\n",
              "      \"vega-lite\": \"https://cdn.jsdelivr.net/npm//vega-lite@4.8.1?noext\",\n",
              "      \"vega-embed\": \"https://cdn.jsdelivr.net/npm//vega-embed@6?noext\",\n",
              "    };\n",
              "\n",
              "    function loadScript(lib) {\n",
              "      return new Promise(function(resolve, reject) {\n",
              "        var s = document.createElement('script');\n",
              "        s.src = paths[lib];\n",
              "        s.async = true;\n",
              "        s.onload = () => resolve(paths[lib]);\n",
              "        s.onerror = () => reject(`Error loading script: ${paths[lib]}`);\n",
              "        document.getElementsByTagName(\"head\")[0].appendChild(s);\n",
              "      });\n",
              "    }\n",
              "\n",
              "    function showError(err) {\n",
              "      outputDiv.innerHTML = `<div class=\"error\" style=\"color:red;\">${err}</div>`;\n",
              "      throw err;\n",
              "    }\n",
              "\n",
              "    function displayChart(vegaEmbed) {\n",
              "      vegaEmbed(outputDiv, spec, embedOpt)\n",
              "        .catch(err => showError(`Javascript Error: ${err.message}<br>This usually means there's a typo in your chart specification. See the javascript console for the full traceback.`));\n",
              "    }\n",
              "\n",
              "    if(typeof define === \"function\" && define.amd) {\n",
              "      requirejs.config({paths});\n",
              "      require([\"vega-embed\"], displayChart, err => showError(`Error loading script: ${err.message}`));\n",
              "    } else if (typeof vegaEmbed === \"function\") {\n",
              "      displayChart(vegaEmbed);\n",
              "    } else {\n",
              "      loadScript(\"vega\")\n",
              "        .then(() => loadScript(\"vega-lite\"))\n",
              "        .then(() => loadScript(\"vega-embed\"))\n",
              "        .catch(showError)\n",
              "        .then(() => displayChart(vegaEmbed));\n",
              "    }\n",
              "  })({\"config\": {\"view\": {\"continuousWidth\": 400, \"continuousHeight\": 300, \"strokeWidth\": 0}, \"axisLeft\": {\"labelColor\": \"rgb(117,117,117)\", \"labelFont\": \"Arial\", \"labelFontSize\": 16}}, \"hconcat\": [{\"layer\": [{\"data\": {\"name\": \"data-a80bbe78875d74850191493116348974\"}, \"mark\": {\"type\": \"rule\", \"stroke\": \"rgb(117,117,117)\", \"strokeWidth\": 1.25, \"tooltip\": \"\"}, \"encoding\": {\"x\": {\"type\": \"quantitative\", \"field\": \"x\", \"scale\": {\"domain\": [-3, 3], \"range\": [57.0, 513.0]}}, \"x2\": {\"field\": \"x2\"}, \"y\": {\"type\": \"nominal\", \"axis\": {\"domain\": false, \"labelAngle\": 0, \"labelPadding\": -10, \"orient\": \"left\", \"ticks\": false, \"title\": \"\"}, \"field\": \"metric\", \"scale\": {\"domain\": [\"TPR\"], \"range\": [30, 225.0]}}}}, {\"data\": {\"name\": \"data-79dd248bdaa0ea02c535240e8ad022c8\"}, \"mark\": {\"type\": \"rule\", \"stroke\": \"rgb(117,117,117)\", \"strokeDash\": [5, 5], \"strokeWidth\": 1}, \"encoding\": {\"tooltip\": {\"value\": \"suburban_rural [REF]\"}, \"x\": {\"value\": 285.0}, \"y\": {\"value\": 20.833333333333336}, \"y2\": {\"value\": 229.16666666666666}}}, {\"data\": {\"name\": \"data-f70f876ef858e7578abafe4eee75fee4\"}, \"mark\": {\"type\": \"text\", \"align\": \"center\", \"color\": \"rgb(117,117,117)\", \"font\": \"Arial\", \"fontSize\": 11, \"fontWeight\": 100, \"tooltip\": \"\"}, \"encoding\": {\"text\": {\"type\": \"nominal\", \"field\": \"label\"}, \"x\": {\"type\": \"quantitative\", \"field\": \"value\", \"scale\": {\"domain\": [-3, 3], \"range\": [57.0, 513.0]}}, \"y\": {\"value\": 17.5}}}, {\"layer\": [{\"mark\": {\"type\": \"text\", \"align\": \"right\", \"fill\": \"rgb(117,117,117)\", \"font\": \"Arial\", \"fontSize\": 11, \"fontWeight\": 100, \"tooltip\": \"\"}, \"encoding\": {\"text\": {\"value\": \"TIMES SMALLER\"}, \"x\": {\"value\": 85.5}, \"y\": {\"value\": 7.5}}}, {\"mark\": {\"type\": \"text\", \"align\": \"left\", \"fill\": \"rgb(117,117,117)\", \"font\": \"Arial\", \"fontSize\": 11, \"fontWeight\": 100, \"tooltip\": \"\"}, \"encoding\": {\"text\": {\"value\": \"TIMES LARGER\"}, \"x\": {\"value\": 484.5}, \"y\": {\"value\": 7.5}}}, {\"mark\": {\"type\": \"text\", \"align\": \"center\", \"fill\": \"rgb(117,117,117)\", \"font\": \"Arial\", \"fontSize\": 11, \"fontWeight\": 100, \"tooltip\": \"\"}, \"encoding\": {\"text\": {\"value\": \"EQUAL\"}, \"x\": {\"value\": 285.0}, \"y\": {\"value\": 7.5}}}], \"data\": {\"name\": \"data-79dd248bdaa0ea02c535240e8ad022c8\"}}, {\"layer\": [{\"mark\": {\"type\": \"rule\", \"opacity\": 0.8, \"stroke\": \"rgb(217, 46, 28)\", \"strokeWidth\": 1.25, \"tooltip\": \"\"}, \"encoding\": {\"x\": {\"type\": \"quantitative\", \"field\": \"min\", \"scale\": {\"domain\": [-3, 3], \"range\": [57.0, 513.0]}}, \"y\": {\"value\": 25.0}, \"y2\": {\"value\": 225.0}}}, {\"mark\": {\"type\": \"rule\", \"opacity\": 0.8, \"stroke\": \"rgb(217, 46, 28)\", \"strokeWidth\": 1.25, \"tooltip\": \"\"}, \"encoding\": {\"x\": {\"type\": \"quantitative\", \"field\": \"max\", \"scale\": {\"domain\": [-3, 3], \"range\": [57.0, 513.0]}}, \"y\": {\"value\": 25.0}, \"y2\": {\"value\": 225.0}}}, {\"layer\": [{\"mark\": {\"type\": \"rect\", \"fill\": \"rgb(217, 46, 28)\", \"opacity\": 0.1, \"tooltip\": \"\"}, \"encoding\": {\"x\": {\"type\": \"quantitative\", \"field\": \"min\", \"scale\": {\"domain\": [-3, 3], \"range\": [57.0, 513.0]}}, \"x2\": {\"field\": \"lower_end\"}, \"y\": {\"value\": 25.0}, \"y2\": {\"value\": 225.0}}}, {\"mark\": {\"type\": \"rect\", \"fill\": \"rgb(217, 46, 28)\", \"opacity\": 0.1, \"tooltip\": \"\"}, \"encoding\": {\"x\": {\"type\": \"quantitative\", \"field\": \"max\", \"scale\": {\"domain\": [-3, 3], \"range\": [57.0, 513.0]}}, \"x2\": {\"field\": \"upper_end\"}, \"y\": {\"value\": 25.0}, \"y2\": {\"value\": 225.0}}}]}, {\"data\": {\"name\": \"data-79dd248bdaa0ea02c535240e8ad022c8\"}, \"mark\": {\"type\": \"text\", \"align\": \"left\", \"baseline\": \"top\", \"fill\": \"rgb(217, 46, 28)\", \"font\": \"Arial\", \"fontSize\": 11, \"fontWeight\": 100, \"tooltip\": \"\"}, \"encoding\": {\"text\": {\"value\": \"The metric value for any group should not be 1.3 (or more) times smaller or larger than that of the reference group suburban_rural.\"}, \"x\": {\"value\": 0}, \"y\": {\"value\": 233.33333333333334}}}], \"data\": {\"name\": \"data-3dee117d57e1ece1df7853af976ed45d\"}}, {\"layer\": [{\"mark\": \"circle\"}, {\"data\": {\"name\": \"data-c9b567e44bc738f5e40a399c47e7d27e\"}, \"mark\": {\"type\": \"circle\", \"opacity\": 0.2}, \"encoding\": {\"color\": {\"condition\": {\"type\": \"nominal\", \"field\": \"attribute_value\", \"legend\": null, \"scale\": {\"domain\": [\"suburban_rural\", \"unknown\", \"urban\"], \"range\": [\"rgb(117,117,117)\", \"rgb(100, 143, 255)\", \"rgb(254, 97, 0)\", \"rgb(220, 38, 127)\", \"rgb(255, 176, 0)\", \"rgb(120, 94, 240)\"]}, \"selection\": \"selector007\"}, \"value\": \"rgb(224,224,224)\"}, \"size\": {\"type\": \"quantitative\", \"field\": \"group_size\", \"legend\": null, \"scale\": {\"domain\": [0, 10938.0], \"range\": [0, 7853.981633974483]}}, \"tooltip\": [{\"type\": \"nominal\", \"field\": \"attribute_value\", \"title\": \"Group\"}, {\"type\": \"nominal\", \"field\": \"tooltip_group_size\", \"title\": \"Group Size\"}, {\"type\": \"nominal\", \"field\": \"tooltip_disparity_explanation_tpr\", \"title\": \"Disparity\"}, {\"type\": \"quantitative\", \"field\": \"tpr\", \"format\": \".2f\", \"title\": \"TPR\"}], \"x\": {\"type\": \"quantitative\", \"axis\": {\"domain\": false, \"labels\": false, \"ticks\": false, \"title\": null, \"values\": [-3, -2, -1, 1, 2, 3]}, \"field\": \"tpr_disparity_scaled\", \"scale\": {\"domain\": [-3, 3], \"range\": [57.0, 513.0]}}, \"y\": {\"type\": \"nominal\", \"axis\": {\"domain\": false, \"grid\": false, \"labels\": false, \"ticks\": false, \"title\": \" \"}, \"field\": \"metric_variable\", \"scale\": {\"domain\": [\"TPR\"], \"range\": [30, 225.0]}}}, \"selection\": {\"selector009\": {\"type\": \"multi\", \"empty\": \"all\", \"fields\": [\"attribute_value\"]}}, \"transform\": [{\"calculate\": \"'TPR'\", \"as\": \"metric_variable\"}]}, {\"layer\": [{\"mark\": \"point\"}, {\"data\": {\"name\": \"data-c9b567e44bc738f5e40a399c47e7d27e\"}, \"mark\": {\"type\": \"point\", \"filled\": true, \"size\": 60}, \"encoding\": {\"color\": {\"condition\": {\"type\": \"nominal\", \"field\": \"attribute_value\", \"legend\": null, \"scale\": {\"domain\": [\"suburban_rural\", \"unknown\", \"urban\"], \"range\": [\"rgb(117,117,117)\", \"rgb(100, 143, 255)\", \"rgb(254, 97, 0)\", \"rgb(220, 38, 127)\", \"rgb(255, 176, 0)\", \"rgb(120, 94, 240)\"]}, \"selection\": \"selector007\"}, \"value\": \"rgb(224,224,224)\"}, \"shape\": {\"type\": \"nominal\", \"field\": \"attribute_value\", \"legend\": null, \"scale\": {\"domain\": [\"suburban_rural\", \"unknown\", \"urban\"], \"range\": [\"cross\", \"circle\", \"circle\"]}}, \"tooltip\": [{\"type\": \"nominal\", \"field\": \"attribute_value\", \"title\": \"Group\"}, {\"type\": \"nominal\", \"field\": \"tooltip_group_size\", \"title\": \"Group Size\"}, {\"type\": \"nominal\", \"field\": \"tooltip_disparity_explanation_tpr\", \"title\": \"Disparity\"}, {\"type\": \"quantitative\", \"field\": \"tpr\", \"format\": \".2f\", \"title\": \"TPR\"}], \"x\": {\"type\": \"quantitative\", \"axis\": {\"domain\": false, \"labels\": false, \"ticks\": false, \"title\": null, \"values\": [-3, -2, -1, 1, 2, 3]}, \"field\": \"tpr_disparity_scaled\", \"scale\": {\"domain\": [-3, 3], \"range\": [57.0, 513.0]}}, \"y\": {\"type\": \"nominal\", \"axis\": {\"domain\": false, \"grid\": false, \"labels\": false, \"ticks\": false, \"title\": \" \"}, \"field\": \"metric_variable\", \"scale\": {\"domain\": [\"TPR\"], \"range\": [30, 225.0]}}}, \"selection\": {\"selector008\": {\"type\": \"multi\", \"empty\": \"all\", \"fields\": [\"attribute_value\"]}}, \"transform\": [{\"calculate\": \"'TPR'\", \"as\": \"metric_variable\"}]}]}]}, {\"data\": {\"name\": \"data-79dd248bdaa0ea02c535240e8ad022c8\"}, \"mark\": {\"type\": \"text\", \"align\": \"center\", \"fill\": \"rgb(117,117,117)\", \"font\": \"Arial\", \"fontSize\": 20, \"fontWeight\": 900, \"tooltip\": \"\"}, \"encoding\": {\"text\": {\"value\": \"DISPARITIES\"}, \"x\": {\"value\": 285.0}, \"y\": {\"value\": -15}}}], \"height\": 250, \"resolve\": {\"scale\": {\"size\": \"independent\", \"y\": \"independent\"}}, \"width\": 570.0}, {\"layer\": [{\"data\": {\"name\": \"data-2877b248c93196b56da8c0b23bb53c1d\"}, \"mark\": {\"type\": \"rule\", \"stroke\": \"rgb(117,117,117)\", \"strokeWidth\": 1.25, \"tooltip\": \"\"}, \"encoding\": {\"x\": {\"type\": \"quantitative\", \"field\": \"start\", \"scale\": {\"domain\": [0, 1], \"range\": [38.0, 342.0]}}, \"x2\": {\"field\": \"end\"}, \"y\": {\"type\": \"nominal\", \"axis\": {\"domain\": false, \"grid\": false, \"labels\": false, \"ticks\": false, \"title\": \" \"}, \"field\": \"y_position\", \"scale\": {\"domain\": [\"TPR\"], \"range\": [25.0, 225.0]}}}}, {\"data\": {\"name\": \"data-6cfe259518f6c7b358d8f836a73e6b7f\"}, \"mark\": {\"type\": \"rule\", \"stroke\": \"rgb(117,117,117)\", \"strokeWidth\": 1.25, \"tooltip\": \"\"}, \"encoding\": {\"x\": {\"type\": \"quantitative\", \"field\": \"x_position\", \"scale\": {\"domain\": [0, 1], \"range\": [38.0, 342.0]}}, \"y\": {\"value\": 25.0}, \"y2\": {\"value\": 225.0}}}, {\"data\": {\"name\": \"data-60ed1133fa688d151d36705a369482e0\"}, \"mark\": {\"type\": \"text\", \"align\": \"center\", \"color\": \"rgb(117,117,117)\", \"font\": \"Arial\", \"fontSize\": 11, \"fontWeight\": 100, \"tooltip\": \"\"}, \"encoding\": {\"text\": {\"type\": \"nominal\", \"field\": \"value\"}, \"x\": {\"type\": \"quantitative\", \"field\": \"value\", \"scale\": {\"domain\": [0, 1], \"range\": [38.0, 342.0]}}, \"y\": {\"value\": 17.5}}}, {\"layer\": [{\"mark\": {\"type\": \"rect\", \"opacity\": 0.8, \"stroke\": \"rgb(217, 46, 28)\", \"strokeWidth\": 1.25, \"tooltip\": \"\"}, \"encoding\": {\"x\": {\"type\": \"quantitative\", \"field\": \"lower_threshold_value\", \"scale\": {\"domain\": [0, 1], \"range\": [38.0, 342.0]}}, \"x2\": {\"field\": \"lower_threshold_value\"}, \"y\": {\"type\": \"nominal\", \"axis\": {\"domain\": false, \"grid\": false, \"labels\": false, \"ticks\": false, \"title\": \" \"}, \"field\": \"metric\", \"scale\": {\"domain\": [\"TPR\"], \"range\": [25.0, 225.0]}}}}, {\"mark\": {\"type\": \"rect\", \"opacity\": 0.8, \"stroke\": \"rgb(217, 46, 28)\", \"strokeWidth\": 1.25, \"tooltip\": \"\"}, \"encoding\": {\"x\": {\"type\": \"quantitative\", \"field\": \"upper_threshold_value\", \"scale\": {\"domain\": [0, 1], \"range\": [38.0, 342.0]}}, \"x2\": {\"field\": \"upper_threshold_value\"}, \"y\": {\"type\": \"nominal\", \"axis\": {\"domain\": false, \"grid\": false, \"labels\": false, \"ticks\": false, \"title\": \" \"}, \"field\": \"metric\", \"scale\": {\"domain\": [\"TPR\"], \"range\": [25.0, 225.0]}}}}, {\"layer\": [{\"mark\": {\"type\": \"rect\", \"fill\": \"rgb(217, 46, 28)\", \"opacity\": 0.1, \"tooltip\": \"\"}, \"encoding\": {\"x\": {\"type\": \"quantitative\", \"field\": \"lower_threshold_value\", \"scale\": {\"domain\": [0, 1], \"range\": [38.0, 342.0]}}, \"x2\": {\"field\": \"lower_end\"}, \"y\": {\"type\": \"nominal\", \"axis\": {\"domain\": false, \"grid\": false, \"labels\": false, \"ticks\": false, \"title\": \" \"}, \"field\": \"metric\", \"scale\": {\"domain\": [\"TPR\"], \"range\": [25.0, 225.0]}}}}, {\"mark\": {\"type\": \"rect\", \"fill\": \"rgb(217, 46, 28)\", \"opacity\": 0.1, \"tooltip\": \"\"}, \"encoding\": {\"x\": {\"type\": \"quantitative\", \"field\": \"upper_threshold_value\", \"scale\": {\"domain\": [0, 1], \"range\": [38.0, 342.0]}}, \"x2\": {\"field\": \"upper_end\"}, \"y\": {\"type\": \"nominal\", \"axis\": {\"domain\": false, \"grid\": false, \"labels\": false, \"ticks\": false, \"title\": \" \"}, \"field\": \"metric\", \"scale\": {\"domain\": [\"TPR\"], \"range\": [25.0, 225.0]}}}}]}], \"data\": {\"name\": \"data-74b0917fc9b76bd87c3f32f9ae9e31bd\"}}, {\"layer\": [{\"mark\": \"circle\"}, {\"data\": {\"name\": \"data-c9b567e44bc738f5e40a399c47e7d27e\"}, \"mark\": {\"type\": \"circle\", \"opacity\": 0.2}, \"encoding\": {\"color\": {\"condition\": {\"type\": \"nominal\", \"field\": \"attribute_value\", \"legend\": null, \"scale\": {\"domain\": [\"suburban_rural\", \"unknown\", \"urban\"], \"range\": [\"rgb(117,117,117)\", \"rgb(100, 143, 255)\", \"rgb(254, 97, 0)\", \"rgb(220, 38, 127)\", \"rgb(255, 176, 0)\", \"rgb(120, 94, 240)\"]}, \"selection\": \"selector007\"}, \"value\": \"rgb(224,224,224)\"}, \"size\": {\"type\": \"quantitative\", \"field\": \"group_size\", \"legend\": null, \"scale\": {\"domain\": [0, 10938.0], \"range\": [0, 7853.981633974483]}}, \"tooltip\": [{\"type\": \"nominal\", \"field\": \"attribute_value\", \"title\": \"Group\"}, {\"type\": \"nominal\", \"field\": \"tooltip_group_size\", \"title\": \"Group Size\"}, {\"type\": \"nominal\", \"field\": \"tooltip_disparity_explanation_tpr\", \"title\": \"Disparity\"}, {\"type\": \"quantitative\", \"field\": \"tpr\", \"format\": \".2f\", \"title\": \"TPR\"}], \"x\": {\"type\": \"quantitative\", \"axis\": {\"domain\": false, \"labels\": false, \"ticks\": false, \"title\": null, \"values\": [0.25, 0.5, 0.75]}, \"field\": \"tpr\", \"scale\": {\"domain\": [0, 1], \"range\": [38.0, 342.0]}}, \"y\": {\"type\": \"nominal\", \"axis\": {\"domain\": false, \"grid\": false, \"labels\": false, \"ticks\": false, \"title\": \" \"}, \"field\": \"metric_variable\", \"scale\": {\"domain\": [\"TPR\"], \"range\": [25.0, 225.0]}}}, \"selection\": {\"selector011\": {\"type\": \"multi\", \"empty\": \"all\", \"fields\": [\"attribute_value\"]}}, \"transform\": [{\"calculate\": \"'TPR'\", \"as\": \"metric_variable\"}]}, {\"layer\": [{\"mark\": \"point\"}, {\"data\": {\"name\": \"data-c9b567e44bc738f5e40a399c47e7d27e\"}, \"mark\": {\"type\": \"point\", \"filled\": true, \"size\": 60}, \"encoding\": {\"color\": {\"condition\": {\"type\": \"nominal\", \"field\": \"attribute_value\", \"legend\": null, \"scale\": {\"domain\": [\"suburban_rural\", \"unknown\", \"urban\"], \"range\": [\"rgb(117,117,117)\", \"rgb(100, 143, 255)\", \"rgb(254, 97, 0)\", \"rgb(220, 38, 127)\", \"rgb(255, 176, 0)\", \"rgb(120, 94, 240)\"]}, \"selection\": \"selector007\"}, \"value\": \"rgb(224,224,224)\"}, \"shape\": {\"type\": \"nominal\", \"field\": \"attribute_value\", \"legend\": null, \"scale\": {\"domain\": [\"suburban_rural\", \"unknown\", \"urban\"], \"range\": [\"cross\", \"circle\", \"circle\"]}}, \"tooltip\": [{\"type\": \"nominal\", \"field\": \"attribute_value\", \"title\": \"Group\"}, {\"type\": \"nominal\", \"field\": \"tooltip_group_size\", \"title\": \"Group Size\"}, {\"type\": \"nominal\", \"field\": \"tooltip_disparity_explanation_tpr\", \"title\": \"Disparity\"}, {\"type\": \"quantitative\", \"field\": \"tpr\", \"format\": \".2f\", \"title\": \"TPR\"}], \"x\": {\"type\": \"quantitative\", \"axis\": {\"domain\": false, \"labels\": false, \"ticks\": false, \"title\": null, \"values\": [0.25, 0.5, 0.75]}, \"field\": \"tpr\", \"scale\": {\"domain\": [0, 1], \"range\": [38.0, 342.0]}}, \"y\": {\"type\": \"nominal\", \"axis\": {\"domain\": false, \"grid\": false, \"labels\": false, \"ticks\": false, \"title\": \" \"}, \"field\": \"metric_variable\", \"scale\": {\"domain\": [\"TPR\"], \"range\": [25.0, 225.0]}}}, \"selection\": {\"selector010\": {\"type\": \"multi\", \"empty\": \"all\", \"fields\": [\"attribute_value\"]}}, \"transform\": [{\"calculate\": \"'TPR'\", \"as\": \"metric_variable\"}]}]}]}, {\"data\": {\"name\": \"data-79dd248bdaa0ea02c535240e8ad022c8\"}, \"mark\": {\"type\": \"text\", \"align\": \"center\", \"fill\": \"rgb(117,117,117)\", \"font\": \"Arial\", \"fontSize\": 20, \"fontWeight\": 900, \"tooltip\": \"\"}, \"encoding\": {\"text\": {\"value\": \"METRICS\"}, \"x\": {\"value\": 190.0}, \"y\": {\"value\": -15}}}, {\"layer\": [{\"mark\": {\"type\": \"point\", \"filled\": true, \"opacity\": 1, \"size\": 39.47841760435743}, \"encoding\": {\"color\": {\"condition\": {\"type\": \"nominal\", \"field\": \"attribute_value\", \"legend\": null, \"scale\": {\"domain\": [\"suburban_rural\", \"unknown\", \"urban\"], \"range\": [\"rgb(117,117,117)\", \"rgb(100, 143, 255)\", \"rgb(254, 97, 0)\", \"rgb(220, 38, 127)\", \"rgb(255, 176, 0)\", \"rgb(120, 94, 240)\"]}, \"selection\": \"selector007\"}, \"value\": \"rgb(224,224,224)\"}, \"shape\": {\"type\": \"nominal\", \"field\": \"attribute_value\", \"legend\": null, \"scale\": {\"domain\": [\"suburban_rural\", \"unknown\", \"urban\"], \"range\": [\"cross\", \"circle\", \"circle\"]}}, \"x\": {\"value\": 422.00000000000006}, \"y\": {\"type\": \"nominal\", \"axis\": {\"domain\": false, \"grid\": false, \"labels\": false, \"ticks\": false, \"title\": \" \"}, \"field\": \"attribute_value\", \"scale\": {\"domain\": [\"suburban_rural\", \"unknown\", \"urban\"], \"range\": [70, 143]}}}, \"selection\": {\"selector007\": {\"type\": \"multi\", \"empty\": \"all\", \"fields\": [\"attribute_value\"]}}}, {\"mark\": {\"type\": \"text\", \"align\": \"left\", \"baseline\": \"middle\", \"font\": \"Arial\", \"fontSize\": 11, \"fontWeight\": 100}, \"encoding\": {\"color\": {\"condition\": {\"type\": \"nominal\", \"field\": \"attribute_value\", \"legend\": null, \"scale\": {\"domain\": [\"suburban_rural\", \"unknown\", \"urban\"], \"range\": [\"rgb(117,117,117)\", \"rgb(100, 143, 255)\", \"rgb(254, 97, 0)\", \"rgb(220, 38, 127)\", \"rgb(255, 176, 0)\", \"rgb(120, 94, 240)\"]}, \"selection\": \"selector007\"}, \"value\": \"rgb(224,224,224)\"}, \"text\": {\"type\": \"nominal\", \"field\": \"label\"}, \"x\": {\"value\": 430.00000000000006}, \"y\": {\"type\": \"nominal\", \"axis\": {\"domain\": false, \"grid\": false, \"labels\": false, \"ticks\": false, \"title\": \" \"}, \"field\": \"attribute_value\", \"scale\": {\"domain\": [\"suburban_rural\", \"unknown\", \"urban\"], \"range\": [70, 143]}}}, \"selection\": {\"selector012\": {\"type\": \"multi\", \"empty\": \"all\", \"fields\": [\"attribute_value\"]}}}, {\"data\": {\"name\": \"data-79dd248bdaa0ea02c535240e8ad022c8\"}, \"mark\": {\"type\": \"text\", \"align\": \"left\", \"baseline\": \"middle\", \"color\": \"rgb(117,117,117)\", \"font\": \"Arial\", \"fontSize\": 11, \"fontWeight\": 100}, \"encoding\": {\"text\": {\"value\": \"Click to highlight a group.\"}, \"x\": {\"value\": 418.00000000000006}, \"y\": {\"value\": 49}}}, {\"data\": {\"name\": \"data-79dd248bdaa0ea02c535240e8ad022c8\"}, \"mark\": {\"type\": \"text\", \"align\": \"left\", \"baseline\": \"middle\", \"color\": \"rgb(117,117,117)\", \"font\": \"Arial\", \"fontSize\": 14, \"fontWeight\": 100}, \"encoding\": {\"text\": {\"value\": \"Groups\"}, \"x\": {\"value\": 418.00000000000006}, \"y\": {\"value\": 30}}}], \"data\": {\"name\": \"data-e1f9423a4bded23d71327d85bde107c5\"}}], \"height\": 250, \"resolve\": {\"scale\": {\"y\": \"independent\"}}, \"width\": 380.0}], \"bounds\": \"flush\", \"spacing\": 20, \"$schema\": \"https://vega.github.io/schema/vega-lite/v4.8.1.json\", \"datasets\": {\"data-a80bbe78875d74850191493116348974\": [{\"metric\": \"TPR\", \"x\": -3.2, \"x2\": 3.2}], \"data-79dd248bdaa0ea02c535240e8ad022c8\": [{\"a\": 1, \"b\": 0}, {\"a\": 1, \"b\": 0}], \"data-f70f876ef858e7578abafe4eee75fee4\": [{\"value\": -3, \"label\": 4}, {\"value\": -2, \"label\": 3}, {\"value\": -1, \"label\": 2}, {\"value\": 0, \"label\": \"=\"}, {\"value\": 1, \"label\": 2}, {\"value\": 2, \"label\": 3}, {\"value\": 3, \"label\": 4}], \"data-3dee117d57e1ece1df7853af976ed45d\": [{\"min\": -0.30000000000000004, \"max\": 0.30000000000000004, \"lower_end\": -3.2, \"upper_end\": 3.2}], \"data-c9b567e44bc738f5e40a399c47e7d27e\": [{\"attribute_name\": \"metro_type\", \"attribute_value\": \"suburban_rural\", \"group_size\": 6506, \"total_entities\": 17677, \"tpr\": 0.1391558712912662, \"tpr_disparity\": 1.0, \"tpr_disparity_scaled\": 0.0, \"tooltip_group_size\": \"6,506 (36.80%)\", \"tooltip_disparity_explanation_tpr\": \"Reference group\"}, {\"attribute_name\": \"metro_type\", \"attribute_value\": \"unknown\", \"group_size\": 2056, \"total_entities\": 17677, \"tpr\": 0.12941176470588237, \"tpr_disparity\": 0.9299770358593888, \"tpr_disparity_scaled\": -0.07529536906887513, \"tooltip_group_size\": \"2,056 (11.63%)\", \"tooltip_disparity_explanation_tpr\": \"1.08 times smaller TPR than the reference group\"}, {\"attribute_name\": \"metro_type\", \"attribute_value\": \"urban\", \"group_size\": 9115, \"total_entities\": 17677, \"tpr\": 0.04267425320056899, \"tpr_disparity\": 0.3066651288557405, \"tpr_disparity_scaled\": -2.2608859172586713, \"tooltip_group_size\": \"9,115 (51.56%)\", \"tooltip_disparity_explanation_tpr\": \"3.26 times smaller TPR than the reference group\"}], \"data-2877b248c93196b56da8c0b23bb53c1d\": [{\"y_position\": \"TPR\", \"start\": 0, \"end\": 1}], \"data-6cfe259518f6c7b358d8f836a73e6b7f\": [{\"x_position\": 0}, {\"x_position\": 1}], \"data-60ed1133fa688d151d36705a369482e0\": [{\"value\": 0.0}, {\"value\": 0.25}, {\"value\": 0.5}, {\"value\": 0.75}, {\"value\": 1.0}], \"data-74b0917fc9b76bd87c3f32f9ae9e31bd\": [{\"lower_end\": 0, \"upper_end\": 1, \"lower_threshold_value\": 0.10704297791635861, \"upper_threshold_value\": 0.18090263267864606, \"metric\": \"TPR\"}], \"data-e1f9423a4bded23d71327d85bde107c5\": [{\"attribute_value\": \"suburban_rural\", \"label\": \"suburban_rural [REF]\"}, {\"attribute_value\": \"unknown\", \"label\": \"unknown\"}, {\"attribute_value\": \"urban\", \"label\": \"urban\"}]}}, {\"mode\": \"vega-lite\"});\n",
              "</script>"
            ]
          },
          "metadata": {
            "tags": []
          },
          "execution_count": 11
        }
      ]
    },
    {
      "cell_type": "markdown",
      "metadata": {
        "id": "Kbs8JzhUJE6h",
        "colab_type": "text"
      },
      "source": [
        "### Check for Fairness in the Sex of the Teacher submitting the project "
      ]
    },
    {
      "cell_type": "code",
      "metadata": {
        "pycharm": {
          "name": "#%%\n"
        },
        "id": "Kgym2-vyJE6i",
        "colab_type": "code",
        "colab": {
          "base_uri": "https://localhost:8080/",
          "height": 306
        },
        "outputId": "3ad8fccd-0300-4809-9ba3-b1bf57dd679b"
      },
      "source": [
        "ap.disparities_metrics(bdf, metrics, 'teacher_sex', fairness_threshold = disparity_tolerance)"
      ],
      "execution_count": 12,
      "outputs": [
        {
          "output_type": "execute_result",
          "data": {
            "text/plain": [
              "alt.HConcatChart(...)"
            ],
            "text/html": [
              "\n",
              "<div id=\"altair-viz-17b827d90386454b95e719f17b28b670\"></div>\n",
              "<script type=\"text/javascript\">\n",
              "  (function(spec, embedOpt){\n",
              "    let outputDiv = document.currentScript.previousElementSibling;\n",
              "    if (outputDiv.id !== \"altair-viz-17b827d90386454b95e719f17b28b670\") {\n",
              "      outputDiv = document.getElementById(\"altair-viz-17b827d90386454b95e719f17b28b670\");\n",
              "    }\n",
              "    const paths = {\n",
              "      \"vega\": \"https://cdn.jsdelivr.net/npm//vega@5?noext\",\n",
              "      \"vega-lib\": \"https://cdn.jsdelivr.net/npm//vega-lib?noext\",\n",
              "      \"vega-lite\": \"https://cdn.jsdelivr.net/npm//vega-lite@4.8.1?noext\",\n",
              "      \"vega-embed\": \"https://cdn.jsdelivr.net/npm//vega-embed@6?noext\",\n",
              "    };\n",
              "\n",
              "    function loadScript(lib) {\n",
              "      return new Promise(function(resolve, reject) {\n",
              "        var s = document.createElement('script');\n",
              "        s.src = paths[lib];\n",
              "        s.async = true;\n",
              "        s.onload = () => resolve(paths[lib]);\n",
              "        s.onerror = () => reject(`Error loading script: ${paths[lib]}`);\n",
              "        document.getElementsByTagName(\"head\")[0].appendChild(s);\n",
              "      });\n",
              "    }\n",
              "\n",
              "    function showError(err) {\n",
              "      outputDiv.innerHTML = `<div class=\"error\" style=\"color:red;\">${err}</div>`;\n",
              "      throw err;\n",
              "    }\n",
              "\n",
              "    function displayChart(vegaEmbed) {\n",
              "      vegaEmbed(outputDiv, spec, embedOpt)\n",
              "        .catch(err => showError(`Javascript Error: ${err.message}<br>This usually means there's a typo in your chart specification. See the javascript console for the full traceback.`));\n",
              "    }\n",
              "\n",
              "    if(typeof define === \"function\" && define.amd) {\n",
              "      requirejs.config({paths});\n",
              "      require([\"vega-embed\"], displayChart, err => showError(`Error loading script: ${err.message}`));\n",
              "    } else if (typeof vegaEmbed === \"function\") {\n",
              "      displayChart(vegaEmbed);\n",
              "    } else {\n",
              "      loadScript(\"vega\")\n",
              "        .then(() => loadScript(\"vega-lite\"))\n",
              "        .then(() => loadScript(\"vega-embed\"))\n",
              "        .catch(showError)\n",
              "        .then(() => displayChart(vegaEmbed));\n",
              "    }\n",
              "  })({\"config\": {\"view\": {\"continuousWidth\": 400, \"continuousHeight\": 300, \"strokeWidth\": 0}, \"axisLeft\": {\"labelColor\": \"rgb(117,117,117)\", \"labelFont\": \"Arial\", \"labelFontSize\": 16}}, \"hconcat\": [{\"layer\": [{\"data\": {\"name\": \"data-a80bbe78875d74850191493116348974\"}, \"mark\": {\"type\": \"rule\", \"stroke\": \"rgb(117,117,117)\", \"strokeWidth\": 1.25, \"tooltip\": \"\"}, \"encoding\": {\"x\": {\"type\": \"quantitative\", \"field\": \"x\", \"scale\": {\"domain\": [-3, 3], \"range\": [57.0, 513.0]}}, \"x2\": {\"field\": \"x2\"}, \"y\": {\"type\": \"nominal\", \"axis\": {\"domain\": false, \"labelAngle\": 0, \"labelPadding\": -10, \"orient\": \"left\", \"ticks\": false, \"title\": \"\"}, \"field\": \"metric\", \"scale\": {\"domain\": [\"TPR\"], \"range\": [30, 225.0]}}}}, {\"data\": {\"name\": \"data-79dd248bdaa0ea02c535240e8ad022c8\"}, \"mark\": {\"type\": \"rule\", \"stroke\": \"rgb(117,117,117)\", \"strokeDash\": [5, 5], \"strokeWidth\": 1}, \"encoding\": {\"tooltip\": {\"value\": \"male [REF]\"}, \"x\": {\"value\": 285.0}, \"y\": {\"value\": 20.833333333333336}, \"y2\": {\"value\": 229.16666666666666}}}, {\"data\": {\"name\": \"data-f70f876ef858e7578abafe4eee75fee4\"}, \"mark\": {\"type\": \"text\", \"align\": \"center\", \"color\": \"rgb(117,117,117)\", \"font\": \"Arial\", \"fontSize\": 11, \"fontWeight\": 100, \"tooltip\": \"\"}, \"encoding\": {\"text\": {\"type\": \"nominal\", \"field\": \"label\"}, \"x\": {\"type\": \"quantitative\", \"field\": \"value\", \"scale\": {\"domain\": [-3, 3], \"range\": [57.0, 513.0]}}, \"y\": {\"value\": 17.5}}}, {\"layer\": [{\"mark\": {\"type\": \"text\", \"align\": \"right\", \"fill\": \"rgb(117,117,117)\", \"font\": \"Arial\", \"fontSize\": 11, \"fontWeight\": 100, \"tooltip\": \"\"}, \"encoding\": {\"text\": {\"value\": \"TIMES SMALLER\"}, \"x\": {\"value\": 85.5}, \"y\": {\"value\": 7.5}}}, {\"mark\": {\"type\": \"text\", \"align\": \"left\", \"fill\": \"rgb(117,117,117)\", \"font\": \"Arial\", \"fontSize\": 11, \"fontWeight\": 100, \"tooltip\": \"\"}, \"encoding\": {\"text\": {\"value\": \"TIMES LARGER\"}, \"x\": {\"value\": 484.5}, \"y\": {\"value\": 7.5}}}, {\"mark\": {\"type\": \"text\", \"align\": \"center\", \"fill\": \"rgb(117,117,117)\", \"font\": \"Arial\", \"fontSize\": 11, \"fontWeight\": 100, \"tooltip\": \"\"}, \"encoding\": {\"text\": {\"value\": \"EQUAL\"}, \"x\": {\"value\": 285.0}, \"y\": {\"value\": 7.5}}}], \"data\": {\"name\": \"data-79dd248bdaa0ea02c535240e8ad022c8\"}}, {\"layer\": [{\"mark\": {\"type\": \"rule\", \"opacity\": 0.8, \"stroke\": \"rgb(217, 46, 28)\", \"strokeWidth\": 1.25, \"tooltip\": \"\"}, \"encoding\": {\"x\": {\"type\": \"quantitative\", \"field\": \"min\", \"scale\": {\"domain\": [-3, 3], \"range\": [57.0, 513.0]}}, \"y\": {\"value\": 25.0}, \"y2\": {\"value\": 225.0}}}, {\"mark\": {\"type\": \"rule\", \"opacity\": 0.8, \"stroke\": \"rgb(217, 46, 28)\", \"strokeWidth\": 1.25, \"tooltip\": \"\"}, \"encoding\": {\"x\": {\"type\": \"quantitative\", \"field\": \"max\", \"scale\": {\"domain\": [-3, 3], \"range\": [57.0, 513.0]}}, \"y\": {\"value\": 25.0}, \"y2\": {\"value\": 225.0}}}, {\"layer\": [{\"mark\": {\"type\": \"rect\", \"fill\": \"rgb(217, 46, 28)\", \"opacity\": 0.1, \"tooltip\": \"\"}, \"encoding\": {\"x\": {\"type\": \"quantitative\", \"field\": \"min\", \"scale\": {\"domain\": [-3, 3], \"range\": [57.0, 513.0]}}, \"x2\": {\"field\": \"lower_end\"}, \"y\": {\"value\": 25.0}, \"y2\": {\"value\": 225.0}}}, {\"mark\": {\"type\": \"rect\", \"fill\": \"rgb(217, 46, 28)\", \"opacity\": 0.1, \"tooltip\": \"\"}, \"encoding\": {\"x\": {\"type\": \"quantitative\", \"field\": \"max\", \"scale\": {\"domain\": [-3, 3], \"range\": [57.0, 513.0]}}, \"x2\": {\"field\": \"upper_end\"}, \"y\": {\"value\": 25.0}, \"y2\": {\"value\": 225.0}}}]}, {\"data\": {\"name\": \"data-79dd248bdaa0ea02c535240e8ad022c8\"}, \"mark\": {\"type\": \"text\", \"align\": \"left\", \"baseline\": \"top\", \"fill\": \"rgb(217, 46, 28)\", \"font\": \"Arial\", \"fontSize\": 11, \"fontWeight\": 100, \"tooltip\": \"\"}, \"encoding\": {\"text\": {\"value\": \"The metric value for any group should not be 1.3 (or more) times smaller or larger than that of the reference group male.\"}, \"x\": {\"value\": 0}, \"y\": {\"value\": 233.33333333333334}}}], \"data\": {\"name\": \"data-3dee117d57e1ece1df7853af976ed45d\"}}, {\"layer\": [{\"mark\": \"circle\"}, {\"data\": {\"name\": \"data-7aada5f1c963228e80b8d6567e8e6890\"}, \"mark\": {\"type\": \"circle\", \"opacity\": 0.2}, \"encoding\": {\"color\": {\"condition\": {\"type\": \"nominal\", \"field\": \"attribute_value\", \"legend\": null, \"scale\": {\"domain\": [\"male\", \"female\"], \"range\": [\"rgb(117,117,117)\", \"rgb(100, 143, 255)\", \"rgb(254, 97, 0)\", \"rgb(220, 38, 127)\", \"rgb(255, 176, 0)\", \"rgb(120, 94, 240)\"]}, \"selection\": \"selector013\"}, \"value\": \"rgb(224,224,224)\"}, \"size\": {\"type\": \"quantitative\", \"field\": \"group_size\", \"legend\": null, \"scale\": {\"domain\": [0, 18111.6], \"range\": [0, 7853.981633974483]}}, \"tooltip\": [{\"type\": \"nominal\", \"field\": \"attribute_value\", \"title\": \"Group\"}, {\"type\": \"nominal\", \"field\": \"tooltip_group_size\", \"title\": \"Group Size\"}, {\"type\": \"nominal\", \"field\": \"tooltip_disparity_explanation_tpr\", \"title\": \"Disparity\"}, {\"type\": \"quantitative\", \"field\": \"tpr\", \"format\": \".2f\", \"title\": \"TPR\"}], \"x\": {\"type\": \"quantitative\", \"axis\": {\"domain\": false, \"labels\": false, \"ticks\": false, \"title\": null, \"values\": [-3, -2, -1, 1, 2, 3]}, \"field\": \"tpr_disparity_scaled\", \"scale\": {\"domain\": [-3, 3], \"range\": [57.0, 513.0]}}, \"y\": {\"type\": \"nominal\", \"axis\": {\"domain\": false, \"grid\": false, \"labels\": false, \"ticks\": false, \"title\": \" \"}, \"field\": \"metric_variable\", \"scale\": {\"domain\": [\"TPR\"], \"range\": [30, 225.0]}}}, \"selection\": {\"selector015\": {\"type\": \"multi\", \"empty\": \"all\", \"fields\": [\"attribute_value\"]}}, \"transform\": [{\"calculate\": \"'TPR'\", \"as\": \"metric_variable\"}]}, {\"layer\": [{\"mark\": \"point\"}, {\"data\": {\"name\": \"data-7aada5f1c963228e80b8d6567e8e6890\"}, \"mark\": {\"type\": \"point\", \"filled\": true, \"size\": 60}, \"encoding\": {\"color\": {\"condition\": {\"type\": \"nominal\", \"field\": \"attribute_value\", \"legend\": null, \"scale\": {\"domain\": [\"male\", \"female\"], \"range\": [\"rgb(117,117,117)\", \"rgb(100, 143, 255)\", \"rgb(254, 97, 0)\", \"rgb(220, 38, 127)\", \"rgb(255, 176, 0)\", \"rgb(120, 94, 240)\"]}, \"selection\": \"selector013\"}, \"value\": \"rgb(224,224,224)\"}, \"shape\": {\"type\": \"nominal\", \"field\": \"attribute_value\", \"legend\": null, \"scale\": {\"domain\": [\"male\", \"female\"], \"range\": [\"cross\", \"circle\"]}}, \"tooltip\": [{\"type\": \"nominal\", \"field\": \"attribute_value\", \"title\": \"Group\"}, {\"type\": \"nominal\", \"field\": \"tooltip_group_size\", \"title\": \"Group Size\"}, {\"type\": \"nominal\", \"field\": \"tooltip_disparity_explanation_tpr\", \"title\": \"Disparity\"}, {\"type\": \"quantitative\", \"field\": \"tpr\", \"format\": \".2f\", \"title\": \"TPR\"}], \"x\": {\"type\": \"quantitative\", \"axis\": {\"domain\": false, \"labels\": false, \"ticks\": false, \"title\": null, \"values\": [-3, -2, -1, 1, 2, 3]}, \"field\": \"tpr_disparity_scaled\", \"scale\": {\"domain\": [-3, 3], \"range\": [57.0, 513.0]}}, \"y\": {\"type\": \"nominal\", \"axis\": {\"domain\": false, \"grid\": false, \"labels\": false, \"ticks\": false, \"title\": \" \"}, \"field\": \"metric_variable\", \"scale\": {\"domain\": [\"TPR\"], \"range\": [30, 225.0]}}}, \"selection\": {\"selector014\": {\"type\": \"multi\", \"empty\": \"all\", \"fields\": [\"attribute_value\"]}}, \"transform\": [{\"calculate\": \"'TPR'\", \"as\": \"metric_variable\"}]}]}]}, {\"data\": {\"name\": \"data-79dd248bdaa0ea02c535240e8ad022c8\"}, \"mark\": {\"type\": \"text\", \"align\": \"center\", \"fill\": \"rgb(117,117,117)\", \"font\": \"Arial\", \"fontSize\": 20, \"fontWeight\": 900, \"tooltip\": \"\"}, \"encoding\": {\"text\": {\"value\": \"DISPARITIES\"}, \"x\": {\"value\": 285.0}, \"y\": {\"value\": -15}}}], \"height\": 250, \"resolve\": {\"scale\": {\"size\": \"independent\", \"y\": \"independent\"}}, \"width\": 570.0}, {\"layer\": [{\"data\": {\"name\": \"data-2877b248c93196b56da8c0b23bb53c1d\"}, \"mark\": {\"type\": \"rule\", \"stroke\": \"rgb(117,117,117)\", \"strokeWidth\": 1.25, \"tooltip\": \"\"}, \"encoding\": {\"x\": {\"type\": \"quantitative\", \"field\": \"start\", \"scale\": {\"domain\": [0, 1], \"range\": [38.0, 342.0]}}, \"x2\": {\"field\": \"end\"}, \"y\": {\"type\": \"nominal\", \"axis\": {\"domain\": false, \"grid\": false, \"labels\": false, \"ticks\": false, \"title\": \" \"}, \"field\": \"y_position\", \"scale\": {\"domain\": [\"TPR\"], \"range\": [25.0, 225.0]}}}}, {\"data\": {\"name\": \"data-6cfe259518f6c7b358d8f836a73e6b7f\"}, \"mark\": {\"type\": \"rule\", \"stroke\": \"rgb(117,117,117)\", \"strokeWidth\": 1.25, \"tooltip\": \"\"}, \"encoding\": {\"x\": {\"type\": \"quantitative\", \"field\": \"x_position\", \"scale\": {\"domain\": [0, 1], \"range\": [38.0, 342.0]}}, \"y\": {\"value\": 25.0}, \"y2\": {\"value\": 225.0}}}, {\"data\": {\"name\": \"data-60ed1133fa688d151d36705a369482e0\"}, \"mark\": {\"type\": \"text\", \"align\": \"center\", \"color\": \"rgb(117,117,117)\", \"font\": \"Arial\", \"fontSize\": 11, \"fontWeight\": 100, \"tooltip\": \"\"}, \"encoding\": {\"text\": {\"type\": \"nominal\", \"field\": \"value\"}, \"x\": {\"type\": \"quantitative\", \"field\": \"value\", \"scale\": {\"domain\": [0, 1], \"range\": [38.0, 342.0]}}, \"y\": {\"value\": 17.5}}}, {\"layer\": [{\"mark\": {\"type\": \"rect\", \"opacity\": 0.8, \"stroke\": \"rgb(217, 46, 28)\", \"strokeWidth\": 1.25, \"tooltip\": \"\"}, \"encoding\": {\"x\": {\"type\": \"quantitative\", \"field\": \"lower_threshold_value\", \"scale\": {\"domain\": [0, 1], \"range\": [38.0, 342.0]}}, \"x2\": {\"field\": \"lower_threshold_value\"}, \"y\": {\"type\": \"nominal\", \"axis\": {\"domain\": false, \"grid\": false, \"labels\": false, \"ticks\": false, \"title\": \" \"}, \"field\": \"metric\", \"scale\": {\"domain\": [\"TPR\"], \"range\": [25.0, 225.0]}}}}, {\"mark\": {\"type\": \"rect\", \"opacity\": 0.8, \"stroke\": \"rgb(217, 46, 28)\", \"strokeWidth\": 1.25, \"tooltip\": \"\"}, \"encoding\": {\"x\": {\"type\": \"quantitative\", \"field\": \"upper_threshold_value\", \"scale\": {\"domain\": [0, 1], \"range\": [38.0, 342.0]}}, \"x2\": {\"field\": \"upper_threshold_value\"}, \"y\": {\"type\": \"nominal\", \"axis\": {\"domain\": false, \"grid\": false, \"labels\": false, \"ticks\": false, \"title\": \" \"}, \"field\": \"metric\", \"scale\": {\"domain\": [\"TPR\"], \"range\": [25.0, 225.0]}}}}, {\"layer\": [{\"mark\": {\"type\": \"rect\", \"fill\": \"rgb(217, 46, 28)\", \"opacity\": 0.1, \"tooltip\": \"\"}, \"encoding\": {\"x\": {\"type\": \"quantitative\", \"field\": \"lower_threshold_value\", \"scale\": {\"domain\": [0, 1], \"range\": [38.0, 342.0]}}, \"x2\": {\"field\": \"lower_end\"}, \"y\": {\"type\": \"nominal\", \"axis\": {\"domain\": false, \"grid\": false, \"labels\": false, \"ticks\": false, \"title\": \" \"}, \"field\": \"metric\", \"scale\": {\"domain\": [\"TPR\"], \"range\": [25.0, 225.0]}}}}, {\"mark\": {\"type\": \"rect\", \"fill\": \"rgb(217, 46, 28)\", \"opacity\": 0.1, \"tooltip\": \"\"}, \"encoding\": {\"x\": {\"type\": \"quantitative\", \"field\": \"upper_threshold_value\", \"scale\": {\"domain\": [0, 1], \"range\": [38.0, 342.0]}}, \"x2\": {\"field\": \"upper_end\"}, \"y\": {\"type\": \"nominal\", \"axis\": {\"domain\": false, \"grid\": false, \"labels\": false, \"ticks\": false, \"title\": \" \"}, \"field\": \"metric\", \"scale\": {\"domain\": [\"TPR\"], \"range\": [25.0, 225.0]}}}}]}], \"data\": {\"name\": \"data-bde113a9093594c38666806d9ec52be7\"}}, {\"layer\": [{\"mark\": \"circle\"}, {\"data\": {\"name\": \"data-7aada5f1c963228e80b8d6567e8e6890\"}, \"mark\": {\"type\": \"circle\", \"opacity\": 0.2}, \"encoding\": {\"color\": {\"condition\": {\"type\": \"nominal\", \"field\": \"attribute_value\", \"legend\": null, \"scale\": {\"domain\": [\"male\", \"female\"], \"range\": [\"rgb(117,117,117)\", \"rgb(100, 143, 255)\", \"rgb(254, 97, 0)\", \"rgb(220, 38, 127)\", \"rgb(255, 176, 0)\", \"rgb(120, 94, 240)\"]}, \"selection\": \"selector013\"}, \"value\": \"rgb(224,224,224)\"}, \"size\": {\"type\": \"quantitative\", \"field\": \"group_size\", \"legend\": null, \"scale\": {\"domain\": [0, 18111.6], \"range\": [0, 7853.981633974483]}}, \"tooltip\": [{\"type\": \"nominal\", \"field\": \"attribute_value\", \"title\": \"Group\"}, {\"type\": \"nominal\", \"field\": \"tooltip_group_size\", \"title\": \"Group Size\"}, {\"type\": \"nominal\", \"field\": \"tooltip_disparity_explanation_tpr\", \"title\": \"Disparity\"}, {\"type\": \"quantitative\", \"field\": \"tpr\", \"format\": \".2f\", \"title\": \"TPR\"}], \"x\": {\"type\": \"quantitative\", \"axis\": {\"domain\": false, \"labels\": false, \"ticks\": false, \"title\": null, \"values\": [0.25, 0.5, 0.75]}, \"field\": \"tpr\", \"scale\": {\"domain\": [0, 1], \"range\": [38.0, 342.0]}}, \"y\": {\"type\": \"nominal\", \"axis\": {\"domain\": false, \"grid\": false, \"labels\": false, \"ticks\": false, \"title\": \" \"}, \"field\": \"metric_variable\", \"scale\": {\"domain\": [\"TPR\"], \"range\": [25.0, 225.0]}}}, \"selection\": {\"selector017\": {\"type\": \"multi\", \"empty\": \"all\", \"fields\": [\"attribute_value\"]}}, \"transform\": [{\"calculate\": \"'TPR'\", \"as\": \"metric_variable\"}]}, {\"layer\": [{\"mark\": \"point\"}, {\"data\": {\"name\": \"data-7aada5f1c963228e80b8d6567e8e6890\"}, \"mark\": {\"type\": \"point\", \"filled\": true, \"size\": 60}, \"encoding\": {\"color\": {\"condition\": {\"type\": \"nominal\", \"field\": \"attribute_value\", \"legend\": null, \"scale\": {\"domain\": [\"male\", \"female\"], \"range\": [\"rgb(117,117,117)\", \"rgb(100, 143, 255)\", \"rgb(254, 97, 0)\", \"rgb(220, 38, 127)\", \"rgb(255, 176, 0)\", \"rgb(120, 94, 240)\"]}, \"selection\": \"selector013\"}, \"value\": \"rgb(224,224,224)\"}, \"shape\": {\"type\": \"nominal\", \"field\": \"attribute_value\", \"legend\": null, \"scale\": {\"domain\": [\"male\", \"female\"], \"range\": [\"cross\", \"circle\"]}}, \"tooltip\": [{\"type\": \"nominal\", \"field\": \"attribute_value\", \"title\": \"Group\"}, {\"type\": \"nominal\", \"field\": \"tooltip_group_size\", \"title\": \"Group Size\"}, {\"type\": \"nominal\", \"field\": \"tooltip_disparity_explanation_tpr\", \"title\": \"Disparity\"}, {\"type\": \"quantitative\", \"field\": \"tpr\", \"format\": \".2f\", \"title\": \"TPR\"}], \"x\": {\"type\": \"quantitative\", \"axis\": {\"domain\": false, \"labels\": false, \"ticks\": false, \"title\": null, \"values\": [0.25, 0.5, 0.75]}, \"field\": \"tpr\", \"scale\": {\"domain\": [0, 1], \"range\": [38.0, 342.0]}}, \"y\": {\"type\": \"nominal\", \"axis\": {\"domain\": false, \"grid\": false, \"labels\": false, \"ticks\": false, \"title\": \" \"}, \"field\": \"metric_variable\", \"scale\": {\"domain\": [\"TPR\"], \"range\": [25.0, 225.0]}}}, \"selection\": {\"selector016\": {\"type\": \"multi\", \"empty\": \"all\", \"fields\": [\"attribute_value\"]}}, \"transform\": [{\"calculate\": \"'TPR'\", \"as\": \"metric_variable\"}]}]}]}, {\"data\": {\"name\": \"data-79dd248bdaa0ea02c535240e8ad022c8\"}, \"mark\": {\"type\": \"text\", \"align\": \"center\", \"fill\": \"rgb(117,117,117)\", \"font\": \"Arial\", \"fontSize\": 20, \"fontWeight\": 900, \"tooltip\": \"\"}, \"encoding\": {\"text\": {\"value\": \"METRICS\"}, \"x\": {\"value\": 190.0}, \"y\": {\"value\": -15}}}, {\"layer\": [{\"mark\": {\"type\": \"point\", \"filled\": true, \"opacity\": 1, \"size\": 39.47841760435743}, \"encoding\": {\"color\": {\"condition\": {\"type\": \"nominal\", \"field\": \"attribute_value\", \"legend\": null, \"scale\": {\"domain\": [\"male\", \"female\"], \"range\": [\"rgb(117,117,117)\", \"rgb(100, 143, 255)\", \"rgb(254, 97, 0)\", \"rgb(220, 38, 127)\", \"rgb(255, 176, 0)\", \"rgb(120, 94, 240)\"]}, \"selection\": \"selector013\"}, \"value\": \"rgb(224,224,224)\"}, \"shape\": {\"type\": \"nominal\", \"field\": \"attribute_value\", \"legend\": null, \"scale\": {\"domain\": [\"male\", \"female\"], \"range\": [\"cross\", \"circle\"]}}, \"x\": {\"value\": 422.00000000000006}, \"y\": {\"type\": \"nominal\", \"axis\": {\"domain\": false, \"grid\": false, \"labels\": false, \"ticks\": false, \"title\": \" \"}, \"field\": \"attribute_value\", \"scale\": {\"domain\": [\"male\", \"female\"], \"range\": [70, 122]}}}, \"selection\": {\"selector013\": {\"type\": \"multi\", \"empty\": \"all\", \"fields\": [\"attribute_value\"]}}}, {\"mark\": {\"type\": \"text\", \"align\": \"left\", \"baseline\": \"middle\", \"font\": \"Arial\", \"fontSize\": 11, \"fontWeight\": 100}, \"encoding\": {\"color\": {\"condition\": {\"type\": \"nominal\", \"field\": \"attribute_value\", \"legend\": null, \"scale\": {\"domain\": [\"male\", \"female\"], \"range\": [\"rgb(117,117,117)\", \"rgb(100, 143, 255)\", \"rgb(254, 97, 0)\", \"rgb(220, 38, 127)\", \"rgb(255, 176, 0)\", \"rgb(120, 94, 240)\"]}, \"selection\": \"selector013\"}, \"value\": \"rgb(224,224,224)\"}, \"text\": {\"type\": \"nominal\", \"field\": \"label\"}, \"x\": {\"value\": 430.00000000000006}, \"y\": {\"type\": \"nominal\", \"axis\": {\"domain\": false, \"grid\": false, \"labels\": false, \"ticks\": false, \"title\": \" \"}, \"field\": \"attribute_value\", \"scale\": {\"domain\": [\"male\", \"female\"], \"range\": [70, 122]}}}, \"selection\": {\"selector018\": {\"type\": \"multi\", \"empty\": \"all\", \"fields\": [\"attribute_value\"]}}}, {\"data\": {\"name\": \"data-79dd248bdaa0ea02c535240e8ad022c8\"}, \"mark\": {\"type\": \"text\", \"align\": \"left\", \"baseline\": \"middle\", \"color\": \"rgb(117,117,117)\", \"font\": \"Arial\", \"fontSize\": 11, \"fontWeight\": 100}, \"encoding\": {\"text\": {\"value\": \"Click to highlight a group.\"}, \"x\": {\"value\": 418.00000000000006}, \"y\": {\"value\": 49}}}, {\"data\": {\"name\": \"data-79dd248bdaa0ea02c535240e8ad022c8\"}, \"mark\": {\"type\": \"text\", \"align\": \"left\", \"baseline\": \"middle\", \"color\": \"rgb(117,117,117)\", \"font\": \"Arial\", \"fontSize\": 14, \"fontWeight\": 100}, \"encoding\": {\"text\": {\"value\": \"Groups\"}, \"x\": {\"value\": 418.00000000000006}, \"y\": {\"value\": 30}}}], \"data\": {\"name\": \"data-b9f75b5c0827c85fba1c9c9d5d5ac8e6\"}}], \"height\": 250, \"resolve\": {\"scale\": {\"y\": \"independent\"}}, \"width\": 380.0}], \"bounds\": \"flush\", \"spacing\": 20, \"$schema\": \"https://vega.github.io/schema/vega-lite/v4.8.1.json\", \"datasets\": {\"data-a80bbe78875d74850191493116348974\": [{\"metric\": \"TPR\", \"x\": -3.2, \"x2\": 3.2}], \"data-79dd248bdaa0ea02c535240e8ad022c8\": [{\"a\": 1, \"b\": 0}, {\"a\": 1, \"b\": 0}], \"data-f70f876ef858e7578abafe4eee75fee4\": [{\"value\": -3, \"label\": 4}, {\"value\": -2, \"label\": 3}, {\"value\": -1, \"label\": 2}, {\"value\": 0, \"label\": \"=\"}, {\"value\": 1, \"label\": 2}, {\"value\": 2, \"label\": 3}, {\"value\": 3, \"label\": 4}], \"data-3dee117d57e1ece1df7853af976ed45d\": [{\"min\": -0.30000000000000004, \"max\": 0.30000000000000004, \"lower_end\": -3.2, \"upper_end\": 3.2}], \"data-7aada5f1c963228e80b8d6567e8e6890\": [{\"attribute_name\": \"teacher_sex\", \"attribute_value\": \"female\", \"group_size\": 15093, \"total_entities\": 17677, \"tpr\": 0.10238974159704682, \"tpr_disparity\": 3.3706702933747814, \"tpr_disparity_scaled\": 2.3706702933747814, \"tooltip_group_size\": \"15,093 (85.38%)\", \"tooltip_disparity_explanation_tpr\": \"3.37 times larger TPR than the reference group\"}, {\"attribute_name\": \"teacher_sex\", \"attribute_value\": \"male\", \"group_size\": 2584, \"total_entities\": 17677, \"tpr\": 0.030376670716889428, \"tpr_disparity\": 1.0, \"tpr_disparity_scaled\": 0.0, \"tooltip_group_size\": \"2,584 (14.62%)\", \"tooltip_disparity_explanation_tpr\": \"Reference group\"}], \"data-2877b248c93196b56da8c0b23bb53c1d\": [{\"y_position\": \"TPR\", \"start\": 0, \"end\": 1}], \"data-6cfe259518f6c7b358d8f836a73e6b7f\": [{\"x_position\": 0}, {\"x_position\": 1}], \"data-60ed1133fa688d151d36705a369482e0\": [{\"value\": 0.0}, {\"value\": 0.25}, {\"value\": 0.5}, {\"value\": 0.75}, {\"value\": 1.0}], \"data-bde113a9093594c38666806d9ec52be7\": [{\"lower_end\": 0, \"upper_end\": 1, \"lower_threshold_value\": 0.023366669782222637, \"upper_threshold_value\": 0.03948967193195626, \"metric\": \"TPR\"}], \"data-b9f75b5c0827c85fba1c9c9d5d5ac8e6\": [{\"attribute_value\": \"male\", \"label\": \"male [REF]\"}, {\"attribute_value\": \"female\", \"label\": \"female\"}]}}, {\"mode\": \"vega-lite\"});\n",
              "</script>"
            ]
          },
          "metadata": {
            "tags": []
          },
          "execution_count": 12
        }
      ]
    },
    {
      "cell_type": "markdown",
      "metadata": {
        "id": "zYsSZJN-JE6l",
        "colab_type": "text"
      },
      "source": [
        "### Deeper Dive into the audit results"
      ]
    },
    {
      "cell_type": "markdown",
      "metadata": {
        "id": "thlpza5XJE6l",
        "colab_type": "text"
      },
      "source": [
        "#### Look at the underlying data: Disparities for all metrics "
      ]
    },
    {
      "cell_type": "code",
      "metadata": {
        "id": "D_DgOCXKJE6l",
        "colab_type": "code",
        "colab": {
          "base_uri": "https://localhost:8080/",
          "height": 286
        },
        "outputId": "0a471a80-4dc0-4b24-ce02-14841c1e48cc"
      },
      "source": [
        "bdf[['attribute_name', 'attribute_value'] + b.list_disparities(bdf)]"
      ],
      "execution_count": 13,
      "outputs": [
        {
          "output_type": "execute_result",
          "data": {
            "text/html": [
              "<div>\n",
              "<style scoped>\n",
              "    .dataframe tbody tr th:only-of-type {\n",
              "        vertical-align: middle;\n",
              "    }\n",
              "\n",
              "    .dataframe tbody tr th {\n",
              "        vertical-align: top;\n",
              "    }\n",
              "\n",
              "    .dataframe thead th {\n",
              "        text-align: right;\n",
              "    }\n",
              "</style>\n",
              "<table border=\"1\" class=\"dataframe\">\n",
              "  <thead>\n",
              "    <tr style=\"text-align: right;\">\n",
              "      <th></th>\n",
              "      <th>attribute_name</th>\n",
              "      <th>attribute_value</th>\n",
              "      <th>ppr_disparity</th>\n",
              "      <th>pprev_disparity</th>\n",
              "      <th>precision_disparity</th>\n",
              "      <th>fdr_disparity</th>\n",
              "      <th>for_disparity</th>\n",
              "      <th>fpr_disparity</th>\n",
              "      <th>fnr_disparity</th>\n",
              "      <th>tpr_disparity</th>\n",
              "      <th>tnr_disparity</th>\n",
              "      <th>npv_disparity</th>\n",
              "    </tr>\n",
              "  </thead>\n",
              "  <tbody>\n",
              "    <tr>\n",
              "      <th>0</th>\n",
              "      <td>poverty_level</td>\n",
              "      <td>highest</td>\n",
              "      <td>0.328021</td>\n",
              "      <td>0.253392</td>\n",
              "      <td>1.222528</td>\n",
              "      <td>0.755777</td>\n",
              "      <td>0.856807</td>\n",
              "      <td>0.175102</td>\n",
              "      <td>1.101013</td>\n",
              "      <td>0.368285</td>\n",
              "      <td>1.065999</td>\n",
              "      <td>1.078633</td>\n",
              "    </tr>\n",
              "    <tr>\n",
              "      <th>1</th>\n",
              "      <td>poverty_level</td>\n",
              "      <td>lower</td>\n",
              "      <td>1.000000</td>\n",
              "      <td>1.000000</td>\n",
              "      <td>1.000000</td>\n",
              "      <td>1.000000</td>\n",
              "      <td>1.000000</td>\n",
              "      <td>1.000000</td>\n",
              "      <td>1.000000</td>\n",
              "      <td>1.000000</td>\n",
              "      <td>1.000000</td>\n",
              "      <td>1.000000</td>\n",
              "    </tr>\n",
              "    <tr>\n",
              "      <th>2</th>\n",
              "      <td>metro_type</td>\n",
              "      <td>suburban_rural</td>\n",
              "      <td>1.000000</td>\n",
              "      <td>1.000000</td>\n",
              "      <td>1.000000</td>\n",
              "      <td>1.000000</td>\n",
              "      <td>1.000000</td>\n",
              "      <td>1.000000</td>\n",
              "      <td>1.000000</td>\n",
              "      <td>1.000000</td>\n",
              "      <td>1.000000</td>\n",
              "      <td>1.000000</td>\n",
              "    </tr>\n",
              "    <tr>\n",
              "      <th>3</th>\n",
              "      <td>metro_type</td>\n",
              "      <td>unknown</td>\n",
              "      <td>0.290735</td>\n",
              "      <td>0.920000</td>\n",
              "      <td>1.022572</td>\n",
              "      <td>0.974346</td>\n",
              "      <td>1.014413</td>\n",
              "      <td>0.902491</td>\n",
              "      <td>1.011319</td>\n",
              "      <td>0.929977</td>\n",
              "      <td>1.007479</td>\n",
              "      <td>0.992228</td>\n",
              "    </tr>\n",
              "    <tr>\n",
              "      <th>4</th>\n",
              "      <td>metro_type</td>\n",
              "      <td>urban</td>\n",
              "      <td>0.306709</td>\n",
              "      <td>0.218919</td>\n",
              "      <td>1.174925</td>\n",
              "      <td>0.801195</td>\n",
              "      <td>0.861141</td>\n",
              "      <td>0.160353</td>\n",
              "      <td>1.112078</td>\n",
              "      <td>0.306665</td>\n",
              "      <td>1.064402</td>\n",
              "      <td>1.074882</td>\n",
              "    </tr>\n",
              "    <tr>\n",
              "      <th>5</th>\n",
              "      <td>teacher_sex</td>\n",
              "      <td>female</td>\n",
              "      <td>19.408163</td>\n",
              "      <td>3.322778</td>\n",
              "      <td>1.086141</td>\n",
              "      <td>0.910270</td>\n",
              "      <td>1.037782</td>\n",
              "      <td>3.127991</td>\n",
              "      <td>0.925731</td>\n",
              "      <td>3.370670</td>\n",
              "      <td>0.970598</td>\n",
              "      <td>0.982642</td>\n",
              "    </tr>\n",
              "    <tr>\n",
              "      <th>6</th>\n",
              "      <td>teacher_sex</td>\n",
              "      <td>male</td>\n",
              "      <td>1.000000</td>\n",
              "      <td>1.000000</td>\n",
              "      <td>1.000000</td>\n",
              "      <td>1.000000</td>\n",
              "      <td>1.000000</td>\n",
              "      <td>1.000000</td>\n",
              "      <td>1.000000</td>\n",
              "      <td>1.000000</td>\n",
              "      <td>1.000000</td>\n",
              "      <td>1.000000</td>\n",
              "    </tr>\n",
              "  </tbody>\n",
              "</table>\n",
              "</div>"
            ],
            "text/plain": [
              "  attribute_name attribute_value  ...  tnr_disparity  npv_disparity\n",
              "0  poverty_level         highest  ...       1.065999       1.078633\n",
              "1  poverty_level           lower  ...       1.000000       1.000000\n",
              "2     metro_type  suburban_rural  ...       1.000000       1.000000\n",
              "3     metro_type         unknown  ...       1.007479       0.992228\n",
              "4     metro_type           urban  ...       1.064402       1.074882\n",
              "5    teacher_sex          female  ...       0.970598       0.982642\n",
              "6    teacher_sex            male  ...       1.000000       1.000000\n",
              "\n",
              "[7 rows x 12 columns]"
            ]
          },
          "metadata": {
            "tags": []
          },
          "execution_count": 13
        }
      ]
    },
    {
      "cell_type": "markdown",
      "metadata": {
        "id": "LzNi5bmiJE6n",
        "colab_type": "text"
      },
      "source": [
        "#### Look at the underlying data: All Metrics"
      ]
    },
    {
      "cell_type": "code",
      "metadata": {
        "id": "dMlkWUACJE6o",
        "colab_type": "code",
        "colab": {
          "base_uri": "https://localhost:8080/",
          "height": 266
        },
        "outputId": "30bec135-569b-47a1-f939-f0ee2664a4d2"
      },
      "source": [
        "absolute_metrics = g.list_absolute_metrics(xtab)\n",
        "xtab[['attribute_name', 'attribute_value'] + absolute_metrics]"
      ],
      "execution_count": 14,
      "outputs": [
        {
          "output_type": "execute_result",
          "data": {
            "text/html": [
              "<div>\n",
              "<style scoped>\n",
              "    .dataframe tbody tr th:only-of-type {\n",
              "        vertical-align: middle;\n",
              "    }\n",
              "\n",
              "    .dataframe tbody tr th {\n",
              "        vertical-align: top;\n",
              "    }\n",
              "\n",
              "    .dataframe thead th {\n",
              "        text-align: right;\n",
              "    }\n",
              "</style>\n",
              "<table border=\"1\" class=\"dataframe\">\n",
              "  <thead>\n",
              "    <tr style=\"text-align: right;\">\n",
              "      <th></th>\n",
              "      <th>attribute_name</th>\n",
              "      <th>attribute_value</th>\n",
              "      <th>tpr</th>\n",
              "      <th>tnr</th>\n",
              "      <th>for</th>\n",
              "      <th>fdr</th>\n",
              "      <th>fpr</th>\n",
              "      <th>fnr</th>\n",
              "      <th>npv</th>\n",
              "      <th>precision</th>\n",
              "      <th>ppr</th>\n",
              "      <th>pprev</th>\n",
              "      <th>prev</th>\n",
              "    </tr>\n",
              "  </thead>\n",
              "  <tbody>\n",
              "    <tr>\n",
              "      <th>0</th>\n",
              "      <td>poverty_level</td>\n",
              "      <td>highest</td>\n",
              "      <td>0.050771</td>\n",
              "      <td>0.987028</td>\n",
              "      <td>0.303722</td>\n",
              "      <td>0.360324</td>\n",
              "      <td>0.012972</td>\n",
              "      <td>0.949229</td>\n",
              "      <td>0.696278</td>\n",
              "      <td>0.639676</td>\n",
              "      <td>0.247</td>\n",
              "      <td>0.024767</td>\n",
              "      <td>0.312043</td>\n",
              "    </tr>\n",
              "    <tr>\n",
              "      <th>1</th>\n",
              "      <td>poverty_level</td>\n",
              "      <td>lower</td>\n",
              "      <td>0.137859</td>\n",
              "      <td>0.925918</td>\n",
              "      <td>0.354481</td>\n",
              "      <td>0.476760</td>\n",
              "      <td>0.074082</td>\n",
              "      <td>0.862141</td>\n",
              "      <td>0.645519</td>\n",
              "      <td>0.523240</td>\n",
              "      <td>0.753</td>\n",
              "      <td>0.097741</td>\n",
              "      <td>0.370976</td>\n",
              "    </tr>\n",
              "    <tr>\n",
              "      <th>2</th>\n",
              "      <td>metro_type</td>\n",
              "      <td>suburban_rural</td>\n",
              "      <td>0.139156</td>\n",
              "      <td>0.928762</td>\n",
              "      <td>0.350340</td>\n",
              "      <td>0.468051</td>\n",
              "      <td>0.071238</td>\n",
              "      <td>0.860844</td>\n",
              "      <td>0.649660</td>\n",
              "      <td>0.531949</td>\n",
              "      <td>0.626</td>\n",
              "      <td>0.096219</td>\n",
              "      <td>0.367814</td>\n",
              "    </tr>\n",
              "    <tr>\n",
              "      <th>3</th>\n",
              "      <td>metro_type</td>\n",
              "      <td>unknown</td>\n",
              "      <td>0.129412</td>\n",
              "      <td>0.935709</td>\n",
              "      <td>0.355390</td>\n",
              "      <td>0.456044</td>\n",
              "      <td>0.064291</td>\n",
              "      <td>0.870588</td>\n",
              "      <td>0.644610</td>\n",
              "      <td>0.543956</td>\n",
              "      <td>0.182</td>\n",
              "      <td>0.088521</td>\n",
              "      <td>0.372082</td>\n",
              "    </tr>\n",
              "    <tr>\n",
              "      <th>4</th>\n",
              "      <td>metro_type</td>\n",
              "      <td>urban</td>\n",
              "      <td>0.042674</td>\n",
              "      <td>0.988577</td>\n",
              "      <td>0.301692</td>\n",
              "      <td>0.375000</td>\n",
              "      <td>0.011423</td>\n",
              "      <td>0.957326</td>\n",
              "      <td>0.698308</td>\n",
              "      <td>0.625000</td>\n",
              "      <td>0.192</td>\n",
              "      <td>0.021064</td>\n",
              "      <td>0.308502</td>\n",
              "    </tr>\n",
              "    <tr>\n",
              "      <th>5</th>\n",
              "      <td>teacher_sex</td>\n",
              "      <td>female</td>\n",
              "      <td>0.102390</td>\n",
              "      <td>0.957370</td>\n",
              "      <td>0.326686</td>\n",
              "      <td>0.445846</td>\n",
              "      <td>0.042630</td>\n",
              "      <td>0.897610</td>\n",
              "      <td>0.673314</td>\n",
              "      <td>0.554154</td>\n",
              "      <td>0.951</td>\n",
              "      <td>0.063009</td>\n",
              "      <td>0.341019</td>\n",
              "    </tr>\n",
              "    <tr>\n",
              "      <th>6</th>\n",
              "      <td>teacher_sex</td>\n",
              "      <td>male</td>\n",
              "      <td>0.030377</td>\n",
              "      <td>0.986371</td>\n",
              "      <td>0.314793</td>\n",
              "      <td>0.489796</td>\n",
              "      <td>0.013629</td>\n",
              "      <td>0.969623</td>\n",
              "      <td>0.685207</td>\n",
              "      <td>0.510204</td>\n",
              "      <td>0.049</td>\n",
              "      <td>0.018963</td>\n",
              "      <td>0.318498</td>\n",
              "    </tr>\n",
              "  </tbody>\n",
              "</table>\n",
              "</div>"
            ],
            "text/plain": [
              "  attribute_name attribute_value       tpr  ...    ppr     pprev      prev\n",
              "0  poverty_level         highest  0.050771  ...  0.247  0.024767  0.312043\n",
              "1  poverty_level           lower  0.137859  ...  0.753  0.097741  0.370976\n",
              "2     metro_type  suburban_rural  0.139156  ...  0.626  0.096219  0.367814\n",
              "3     metro_type         unknown  0.129412  ...  0.182  0.088521  0.372082\n",
              "4     metro_type           urban  0.042674  ...  0.192  0.021064  0.308502\n",
              "5    teacher_sex          female  0.102390  ...  0.951  0.063009  0.341019\n",
              "6    teacher_sex            male  0.030377  ...  0.049  0.018963  0.318498\n",
              "\n",
              "[7 rows x 13 columns]"
            ]
          },
          "metadata": {
            "tags": []
          },
          "execution_count": 14
        }
      ]
    },
    {
      "cell_type": "markdown",
      "metadata": {
        "id": "8OwqDwWWJE6q",
        "colab_type": "text"
      },
      "source": [
        "#### Look at the underlying data: All raw counts"
      ]
    },
    {
      "cell_type": "code",
      "metadata": {
        "id": "WSHOAgMPJE6q",
        "colab_type": "code",
        "colab": {
          "base_uri": "https://localhost:8080/",
          "height": 286
        },
        "outputId": "a2ce7dfb-0fa7-46fc-970d-079f8bccff49"
      },
      "source": [
        "xtab[[col for col in xtab.columns if col not in absolute_metrics]]"
      ],
      "execution_count": 15,
      "outputs": [
        {
          "output_type": "execute_result",
          "data": {
            "text/html": [
              "<div>\n",
              "<style scoped>\n",
              "    .dataframe tbody tr th:only-of-type {\n",
              "        vertical-align: middle;\n",
              "    }\n",
              "\n",
              "    .dataframe tbody tr th {\n",
              "        vertical-align: top;\n",
              "    }\n",
              "\n",
              "    .dataframe thead th {\n",
              "        text-align: right;\n",
              "    }\n",
              "</style>\n",
              "<table border=\"1\" class=\"dataframe\">\n",
              "  <thead>\n",
              "    <tr style=\"text-align: right;\">\n",
              "      <th></th>\n",
              "      <th>model_id</th>\n",
              "      <th>score_threshold</th>\n",
              "      <th>k</th>\n",
              "      <th>attribute_name</th>\n",
              "      <th>attribute_value</th>\n",
              "      <th>pp</th>\n",
              "      <th>pn</th>\n",
              "      <th>fp</th>\n",
              "      <th>fn</th>\n",
              "      <th>tn</th>\n",
              "      <th>tp</th>\n",
              "      <th>group_label_pos</th>\n",
              "      <th>group_label_neg</th>\n",
              "      <th>group_size</th>\n",
              "      <th>total_entities</th>\n",
              "    </tr>\n",
              "  </thead>\n",
              "  <tbody>\n",
              "    <tr>\n",
              "      <th>0</th>\n",
              "      <td>0</td>\n",
              "      <td>binary 0/1</td>\n",
              "      <td>1000</td>\n",
              "      <td>poverty_level</td>\n",
              "      <td>highest</td>\n",
              "      <td>247</td>\n",
              "      <td>9726</td>\n",
              "      <td>89</td>\n",
              "      <td>2954</td>\n",
              "      <td>6772</td>\n",
              "      <td>158</td>\n",
              "      <td>3112</td>\n",
              "      <td>6861</td>\n",
              "      <td>9973</td>\n",
              "      <td>17677</td>\n",
              "    </tr>\n",
              "    <tr>\n",
              "      <th>1</th>\n",
              "      <td>0</td>\n",
              "      <td>binary 0/1</td>\n",
              "      <td>1000</td>\n",
              "      <td>poverty_level</td>\n",
              "      <td>lower</td>\n",
              "      <td>753</td>\n",
              "      <td>6951</td>\n",
              "      <td>359</td>\n",
              "      <td>2464</td>\n",
              "      <td>4487</td>\n",
              "      <td>394</td>\n",
              "      <td>2858</td>\n",
              "      <td>4846</td>\n",
              "      <td>7704</td>\n",
              "      <td>17677</td>\n",
              "    </tr>\n",
              "    <tr>\n",
              "      <th>2</th>\n",
              "      <td>0</td>\n",
              "      <td>binary 0/1</td>\n",
              "      <td>1000</td>\n",
              "      <td>metro_type</td>\n",
              "      <td>suburban_rural</td>\n",
              "      <td>626</td>\n",
              "      <td>5880</td>\n",
              "      <td>293</td>\n",
              "      <td>2060</td>\n",
              "      <td>3820</td>\n",
              "      <td>333</td>\n",
              "      <td>2393</td>\n",
              "      <td>4113</td>\n",
              "      <td>6506</td>\n",
              "      <td>17677</td>\n",
              "    </tr>\n",
              "    <tr>\n",
              "      <th>3</th>\n",
              "      <td>0</td>\n",
              "      <td>binary 0/1</td>\n",
              "      <td>1000</td>\n",
              "      <td>metro_type</td>\n",
              "      <td>unknown</td>\n",
              "      <td>182</td>\n",
              "      <td>1874</td>\n",
              "      <td>83</td>\n",
              "      <td>666</td>\n",
              "      <td>1208</td>\n",
              "      <td>99</td>\n",
              "      <td>765</td>\n",
              "      <td>1291</td>\n",
              "      <td>2056</td>\n",
              "      <td>17677</td>\n",
              "    </tr>\n",
              "    <tr>\n",
              "      <th>4</th>\n",
              "      <td>0</td>\n",
              "      <td>binary 0/1</td>\n",
              "      <td>1000</td>\n",
              "      <td>metro_type</td>\n",
              "      <td>urban</td>\n",
              "      <td>192</td>\n",
              "      <td>8923</td>\n",
              "      <td>72</td>\n",
              "      <td>2692</td>\n",
              "      <td>6231</td>\n",
              "      <td>120</td>\n",
              "      <td>2812</td>\n",
              "      <td>6303</td>\n",
              "      <td>9115</td>\n",
              "      <td>17677</td>\n",
              "    </tr>\n",
              "    <tr>\n",
              "      <th>5</th>\n",
              "      <td>0</td>\n",
              "      <td>binary 0/1</td>\n",
              "      <td>1000</td>\n",
              "      <td>teacher_sex</td>\n",
              "      <td>female</td>\n",
              "      <td>951</td>\n",
              "      <td>14142</td>\n",
              "      <td>424</td>\n",
              "      <td>4620</td>\n",
              "      <td>9522</td>\n",
              "      <td>527</td>\n",
              "      <td>5147</td>\n",
              "      <td>9946</td>\n",
              "      <td>15093</td>\n",
              "      <td>17677</td>\n",
              "    </tr>\n",
              "    <tr>\n",
              "      <th>6</th>\n",
              "      <td>0</td>\n",
              "      <td>binary 0/1</td>\n",
              "      <td>1000</td>\n",
              "      <td>teacher_sex</td>\n",
              "      <td>male</td>\n",
              "      <td>49</td>\n",
              "      <td>2535</td>\n",
              "      <td>24</td>\n",
              "      <td>798</td>\n",
              "      <td>1737</td>\n",
              "      <td>25</td>\n",
              "      <td>823</td>\n",
              "      <td>1761</td>\n",
              "      <td>2584</td>\n",
              "      <td>17677</td>\n",
              "    </tr>\n",
              "  </tbody>\n",
              "</table>\n",
              "</div>"
            ],
            "text/plain": [
              "   model_id score_threshold     k  ... group_label_neg group_size  total_entities\n",
              "0         0      binary 0/1  1000  ...            6861       9973           17677\n",
              "1         0      binary 0/1  1000  ...            4846       7704           17677\n",
              "2         0      binary 0/1  1000  ...            4113       6506           17677\n",
              "3         0      binary 0/1  1000  ...            1291       2056           17677\n",
              "4         0      binary 0/1  1000  ...            6303       9115           17677\n",
              "5         0      binary 0/1  1000  ...            9946      15093           17677\n",
              "6         0      binary 0/1  1000  ...            1761       2584           17677\n",
              "\n",
              "[7 rows x 15 columns]"
            ]
          },
          "metadata": {
            "tags": []
          },
          "execution_count": 15
        }
      ]
    }
  ]
}