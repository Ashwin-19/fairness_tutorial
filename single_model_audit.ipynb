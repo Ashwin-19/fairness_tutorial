{
 "cells": [
  {
   "cell_type": "code",
   "execution_count": 50,
   "metadata": {},
   "outputs": [
    {
     "data": {
      "text/html": [
       "<style>.container { width:75% !important; }</style>"
      ],
      "text/plain": [
       "<IPython.core.display.HTML object>"
      ]
     },
     "metadata": {},
     "output_type": "display_data"
    }
   ],
   "source": [
    "from IPython.core.display import display, HTML\n",
    "display(HTML(\"<style>.container { width:75% !important; }</style>\"))\n",
    "import yaml\n",
    "import os\n",
    "import pandas as pd\n",
    "import numpy as np\n",
    "import seaborn as sns\n",
    "from aequitas.group import Group\n",
    "from aequitas.bias import Bias\n",
    "from aequitas.fairness import Fairness\n",
    "import aequitas.plot as ap"
   ]
  },
  {
   "cell_type": "code",
   "execution_count": 22,
   "metadata": {},
   "outputs": [],
   "source": [
    "datadir = os.path.join(os.getcwd(),'data/donors-choose/single-model-audit')"
   ]
  },
  {
   "cell_type": "code",
   "execution_count": 5,
   "metadata": {},
   "outputs": [],
   "source": [
    "with open(os.path.join(datadir,'best_precision.yaml')) as file:\n",
    "    metadata = yaml.load(file, Loader=yaml.FullLoader)"
   ]
  },
  {
   "cell_type": "markdown",
   "metadata": {},
   "source": [
    "# Model with Highest Precision at top 50"
   ]
  },
  {
   "cell_type": "code",
   "execution_count": 6,
   "metadata": {},
   "outputs": [
    {
     "data": {
      "text/plain": [
       "{'val_predictions': '',\n",
       " 'test_predictions': 'predictions_c598fbe93f4c218ac7d325fb478598f1.csv.gz',\n",
       " 'model_uuid': 'a04e2eedd9c5ff18bcf77e84ae9db561',\n",
       " 'model_classpath': 'sklearn.ensemble.RandomForestClassifier',\n",
       " 'model_hyperparameters': None,\n",
       " 'training_set': {'matrix_uuid': '',\n",
       "  'num_rows': 0,\n",
       "  'num_cols': 114,\n",
       "  'label_col': 'quickstart_label'},\n",
       " 'eval_params': {'target_pp': {1000: {'global_threshold': 0.527624878013593}}}}"
      ]
     },
     "execution_count": 6,
     "metadata": {},
     "output_type": "execute_result"
    }
   ],
   "source": [
    "metadata"
   ]
  },
  {
   "cell_type": "code",
   "execution_count": 7,
   "metadata": {},
   "outputs": [],
   "source": [
    "testdf = pd.read_csv(os.path.join(datadir,metadata['test_predictions']), compression='gzip')"
   ]
  },
  {
   "cell_type": "code",
   "execution_count": 8,
   "metadata": {},
   "outputs": [
    {
     "data": {
      "text/plain": [
       "(17677, 4)"
      ]
     },
     "execution_count": 8,
     "metadata": {},
     "output_type": "execute_result"
    }
   ],
   "source": [
    "testdf.shape"
   ]
  },
  {
   "cell_type": "markdown",
   "metadata": {},
   "source": [
    "# Thresholding\n"
   ]
  },
  {
   "cell_type": "code",
   "execution_count": 9,
   "metadata": {},
   "outputs": [
    {
     "data": {
      "text/html": [
       "<div>\n",
       "<style scoped>\n",
       "    .dataframe tbody tr th:only-of-type {\n",
       "        vertical-align: middle;\n",
       "    }\n",
       "\n",
       "    .dataframe tbody tr th {\n",
       "        vertical-align: top;\n",
       "    }\n",
       "\n",
       "    .dataframe thead th {\n",
       "        text-align: right;\n",
       "    }\n",
       "</style>\n",
       "<table border=\"1\" class=\"dataframe\">\n",
       "  <thead>\n",
       "    <tr style=\"text-align: right;\">\n",
       "      <th></th>\n",
       "      <th>entity_id</th>\n",
       "      <th>as_of_date</th>\n",
       "      <th>quickstart_label</th>\n",
       "      <th>predict_proba</th>\n",
       "    </tr>\n",
       "  </thead>\n",
       "  <tbody>\n",
       "    <tr>\n",
       "      <th>0</th>\n",
       "      <td>185730</td>\n",
       "      <td>1354320000000</td>\n",
       "      <td>0.0</td>\n",
       "      <td>0.308565</td>\n",
       "    </tr>\n",
       "    <tr>\n",
       "      <th>1</th>\n",
       "      <td>185729</td>\n",
       "      <td>1354320000000</td>\n",
       "      <td>0.0</td>\n",
       "      <td>0.371010</td>\n",
       "    </tr>\n",
       "    <tr>\n",
       "      <th>2</th>\n",
       "      <td>185738</td>\n",
       "      <td>1354320000000</td>\n",
       "      <td>0.0</td>\n",
       "      <td>0.438470</td>\n",
       "    </tr>\n",
       "    <tr>\n",
       "      <th>3</th>\n",
       "      <td>185737</td>\n",
       "      <td>1354320000000</td>\n",
       "      <td>0.0</td>\n",
       "      <td>0.470824</td>\n",
       "    </tr>\n",
       "    <tr>\n",
       "      <th>4</th>\n",
       "      <td>185736</td>\n",
       "      <td>1354320000000</td>\n",
       "      <td>0.0</td>\n",
       "      <td>0.248637</td>\n",
       "    </tr>\n",
       "  </tbody>\n",
       "</table>\n",
       "</div>"
      ],
      "text/plain": [
       "   entity_id     as_of_date  quickstart_label  predict_proba\n",
       "0     185730  1354320000000               0.0       0.308565\n",
       "1     185729  1354320000000               0.0       0.371010\n",
       "2     185738  1354320000000               0.0       0.438470\n",
       "3     185737  1354320000000               0.0       0.470824\n",
       "4     185736  1354320000000               0.0       0.248637"
      ]
     },
     "execution_count": 9,
     "metadata": {},
     "output_type": "execute_result"
    }
   ],
   "source": [
    "testdf.head()"
   ]
  },
  {
   "cell_type": "code",
   "execution_count": 11,
   "metadata": {},
   "outputs": [
    {
     "data": {
      "text/plain": [
       "0.527524878013593"
      ]
     },
     "execution_count": 11,
     "metadata": {},
     "output_type": "execute_result"
    }
   ],
   "source": [
    "global_threshold = metadata['eval_params']['target_pp'][1000]['global_threshold'] - 0.0001\n",
    "global_threshold"
   ]
  },
  {
   "cell_type": "code",
   "execution_count": 12,
   "metadata": {},
   "outputs": [],
   "source": [
    "testdf['score'] = testdf['predict_proba'].apply(lambda x: 1 if x >= global_threshold else 0 )"
   ]
  },
  {
   "cell_type": "code",
   "execution_count": 13,
   "metadata": {},
   "outputs": [
    {
     "data": {
      "text/plain": [
       "0    16675\n",
       "1     1002\n",
       "Name: score, dtype: int64"
      ]
     },
     "execution_count": 13,
     "metadata": {},
     "output_type": "execute_result"
    }
   ],
   "source": [
    "testdf.score.value_counts()"
   ]
  },
  {
   "cell_type": "code",
   "execution_count": 17,
   "metadata": {},
   "outputs": [],
   "source": [
    "indices = np.argsort(testdf['score'])[::-1]\n",
    "threshold = testdf['score'][indices][1000 - 1]"
   ]
  },
  {
   "cell_type": "code",
   "execution_count": 18,
   "metadata": {},
   "outputs": [
    {
     "data": {
      "text/plain": [
       "17676     6356\n",
       "17675      720\n",
       "17674     5449\n",
       "17673    16915\n",
       "17672    11925\n",
       "         ...  \n",
       "4        11626\n",
       "3        11625\n",
       "2        11624\n",
       "1        11623\n",
       "0            0\n",
       "Name: score, Length: 17677, dtype: int64"
      ]
     },
     "execution_count": 18,
     "metadata": {},
     "output_type": "execute_result"
    }
   ],
   "source": [
    "indices"
   ]
  },
  {
   "cell_type": "code",
   "execution_count": 19,
   "metadata": {},
   "outputs": [],
   "source": [
    "testdf['label_value'] = testdf['quickstart_label']\n"
   ]
  },
  {
   "cell_type": "code",
   "execution_count": 51,
   "metadata": {},
   "outputs": [
    {
     "data": {
      "text/html": [
       "<div>\n",
       "<style scoped>\n",
       "    .dataframe tbody tr th:only-of-type {\n",
       "        vertical-align: middle;\n",
       "    }\n",
       "\n",
       "    .dataframe tbody tr th {\n",
       "        vertical-align: top;\n",
       "    }\n",
       "\n",
       "    .dataframe thead th {\n",
       "        text-align: right;\n",
       "    }\n",
       "</style>\n",
       "<table border=\"1\" class=\"dataframe\">\n",
       "  <thead>\n",
       "    <tr style=\"text-align: right;\">\n",
       "      <th></th>\n",
       "      <th>entity_id</th>\n",
       "      <th>as_of_date</th>\n",
       "      <th>metro_type</th>\n",
       "      <th>grade_level</th>\n",
       "      <th>poverty_level</th>\n",
       "      <th>teacher_sex</th>\n",
       "    </tr>\n",
       "  </thead>\n",
       "  <tbody>\n",
       "    <tr>\n",
       "      <th>165608</th>\n",
       "      <td>168445</td>\n",
       "      <td>1359590400000</td>\n",
       "      <td>urban</td>\n",
       "      <td>9-12</td>\n",
       "      <td>high</td>\n",
       "      <td>female</td>\n",
       "    </tr>\n",
       "    <tr>\n",
       "      <th>165609</th>\n",
       "      <td>168446</td>\n",
       "      <td>1359590400000</td>\n",
       "      <td>suburban</td>\n",
       "      <td>PreK-2</td>\n",
       "      <td>high</td>\n",
       "      <td>female</td>\n",
       "    </tr>\n",
       "    <tr>\n",
       "      <th>165610</th>\n",
       "      <td>168447</td>\n",
       "      <td>1359590400000</td>\n",
       "      <td>rural</td>\n",
       "      <td>PreK-2</td>\n",
       "      <td>high</td>\n",
       "      <td>female</td>\n",
       "    </tr>\n",
       "    <tr>\n",
       "      <th>165611</th>\n",
       "      <td>168448</td>\n",
       "      <td>1359590400000</td>\n",
       "      <td>urban</td>\n",
       "      <td>PreK-2</td>\n",
       "      <td>high</td>\n",
       "      <td>female</td>\n",
       "    </tr>\n",
       "    <tr>\n",
       "      <th>165612</th>\n",
       "      <td>168449</td>\n",
       "      <td>1359590400000</td>\n",
       "      <td>urban</td>\n",
       "      <td>6-8</td>\n",
       "      <td>high</td>\n",
       "      <td>female</td>\n",
       "    </tr>\n",
       "    <tr>\n",
       "      <th>165613</th>\n",
       "      <td>168451</td>\n",
       "      <td>1359590400000</td>\n",
       "      <td>urban</td>\n",
       "      <td>PreK-2</td>\n",
       "      <td>high</td>\n",
       "      <td>female</td>\n",
       "    </tr>\n",
       "    <tr>\n",
       "      <th>165614</th>\n",
       "      <td>168452</td>\n",
       "      <td>1359590400000</td>\n",
       "      <td>suburban</td>\n",
       "      <td>3-5</td>\n",
       "      <td>high</td>\n",
       "      <td>female</td>\n",
       "    </tr>\n",
       "    <tr>\n",
       "      <th>165615</th>\n",
       "      <td>168453</td>\n",
       "      <td>1359590400000</td>\n",
       "      <td>unknown</td>\n",
       "      <td>PreK-2</td>\n",
       "      <td>high</td>\n",
       "      <td>female</td>\n",
       "    </tr>\n",
       "    <tr>\n",
       "      <th>165616</th>\n",
       "      <td>168430</td>\n",
       "      <td>1359590400000</td>\n",
       "      <td>rural</td>\n",
       "      <td>PreK-2</td>\n",
       "      <td>high</td>\n",
       "      <td>female</td>\n",
       "    </tr>\n",
       "    <tr>\n",
       "      <th>165617</th>\n",
       "      <td>168476</td>\n",
       "      <td>1359590400000</td>\n",
       "      <td>urban</td>\n",
       "      <td>9-12</td>\n",
       "      <td>high</td>\n",
       "      <td>female</td>\n",
       "    </tr>\n",
       "  </tbody>\n",
       "</table>\n",
       "</div>"
      ],
      "text/plain": [
       "        entity_id     as_of_date metro_type grade_level poverty_level  \\\n",
       "165608     168445  1359590400000      urban        9-12          high   \n",
       "165609     168446  1359590400000   suburban      PreK-2          high   \n",
       "165610     168447  1359590400000      rural      PreK-2          high   \n",
       "165611     168448  1359590400000      urban      PreK-2          high   \n",
       "165612     168449  1359590400000      urban         6-8          high   \n",
       "165613     168451  1359590400000      urban      PreK-2          high   \n",
       "165614     168452  1359590400000   suburban         3-5          high   \n",
       "165615     168453  1359590400000    unknown      PreK-2          high   \n",
       "165616     168430  1359590400000      rural      PreK-2          high   \n",
       "165617     168476  1359590400000      urban        9-12          high   \n",
       "\n",
       "       teacher_sex  \n",
       "165608      female  \n",
       "165609      female  \n",
       "165610      female  \n",
       "165611      female  \n",
       "165612      female  \n",
       "165613      female  \n",
       "165614      female  \n",
       "165615      female  \n",
       "165616      female  \n",
       "165617      female  "
      ]
     },
     "execution_count": 51,
     "metadata": {},
     "output_type": "execute_result"
    }
   ],
   "source": [
    "attr_df = pd.read_csv(os.path.join(datadir,'donors_choose_protected.csv.gz'), compression='gzip')\n",
    "attr_df.tail(10)"
   ]
  },
  {
   "cell_type": "code",
   "execution_count": 52,
   "metadata": {},
   "outputs": [
    {
     "data": {
      "text/plain": [
       "(165618, 6)"
      ]
     },
     "execution_count": 52,
     "metadata": {},
     "output_type": "execute_result"
    }
   ],
   "source": [
    "attr_df['poverty_']"
   ]
  },
  {
   "cell_type": "code",
   "execution_count": 53,
   "metadata": {},
   "outputs": [],
   "source": [
    "df = pd.merge(testdf[['entity_id','as_of_date','score','label_value']], attr_df, how='left', on=['entity_id','as_of_date'], left_index=True, right_index=False, sort=True, copy=True)"
   ]
  },
  {
   "cell_type": "code",
   "execution_count": 27,
   "metadata": {},
   "outputs": [
    {
     "data": {
      "text/html": [
       "<div>\n",
       "<style scoped>\n",
       "    .dataframe tbody tr th:only-of-type {\n",
       "        vertical-align: middle;\n",
       "    }\n",
       "\n",
       "    .dataframe tbody tr th {\n",
       "        vertical-align: top;\n",
       "    }\n",
       "\n",
       "    .dataframe thead th {\n",
       "        text-align: right;\n",
       "    }\n",
       "</style>\n",
       "<table border=\"1\" class=\"dataframe\">\n",
       "  <thead>\n",
       "    <tr style=\"text-align: right;\">\n",
       "      <th></th>\n",
       "      <th>entity_id</th>\n",
       "      <th>as_of_date</th>\n",
       "      <th>score</th>\n",
       "      <th>label_value</th>\n",
       "      <th>metro_type</th>\n",
       "      <th>grade_level</th>\n",
       "      <th>poverty_level</th>\n",
       "      <th>teacher_sex</th>\n",
       "    </tr>\n",
       "  </thead>\n",
       "  <tbody>\n",
       "    <tr>\n",
       "      <th>148273</th>\n",
       "      <td>186059</td>\n",
       "      <td>1354320000000</td>\n",
       "      <td>0</td>\n",
       "      <td>0.0</td>\n",
       "      <td>rural</td>\n",
       "      <td>PreK-2</td>\n",
       "      <td>high</td>\n",
       "      <td>female</td>\n",
       "    </tr>\n",
       "    <tr>\n",
       "      <th>148274</th>\n",
       "      <td>186060</td>\n",
       "      <td>1354320000000</td>\n",
       "      <td>0</td>\n",
       "      <td>0.0</td>\n",
       "      <td>suburban</td>\n",
       "      <td>3-5</td>\n",
       "      <td>high</td>\n",
       "      <td>female</td>\n",
       "    </tr>\n",
       "    <tr>\n",
       "      <th>148275</th>\n",
       "      <td>186061</td>\n",
       "      <td>1354320000000</td>\n",
       "      <td>0</td>\n",
       "      <td>0.0</td>\n",
       "      <td>unknown</td>\n",
       "      <td>PreK-2</td>\n",
       "      <td>low_moderate</td>\n",
       "      <td>female</td>\n",
       "    </tr>\n",
       "    <tr>\n",
       "      <th>148276</th>\n",
       "      <td>186062</td>\n",
       "      <td>1354320000000</td>\n",
       "      <td>0</td>\n",
       "      <td>0.0</td>\n",
       "      <td>urban</td>\n",
       "      <td>9-12</td>\n",
       "      <td>high</td>\n",
       "      <td>female</td>\n",
       "    </tr>\n",
       "    <tr>\n",
       "      <th>148278</th>\n",
       "      <td>186063</td>\n",
       "      <td>1354320000000</td>\n",
       "      <td>0</td>\n",
       "      <td>0.0</td>\n",
       "      <td>urban</td>\n",
       "      <td>PreK-2</td>\n",
       "      <td>high</td>\n",
       "      <td>female</td>\n",
       "    </tr>\n",
       "  </tbody>\n",
       "</table>\n",
       "</div>"
      ],
      "text/plain": [
       "        entity_id     as_of_date  score  label_value metro_type grade_level  \\\n",
       "148273     186059  1354320000000      0          0.0      rural      PreK-2   \n",
       "148274     186060  1354320000000      0          0.0   suburban         3-5   \n",
       "148275     186061  1354320000000      0          0.0    unknown      PreK-2   \n",
       "148276     186062  1354320000000      0          0.0      urban        9-12   \n",
       "148278     186063  1354320000000      0          0.0      urban      PreK-2   \n",
       "\n",
       "       poverty_level teacher_sex  \n",
       "148273          high      female  \n",
       "148274          high      female  \n",
       "148275  low_moderate      female  \n",
       "148276          high      female  \n",
       "148278          high      female  "
      ]
     },
     "execution_count": 27,
     "metadata": {},
     "output_type": "execute_result"
    }
   ],
   "source": [
    "df.tail()"
   ]
  },
  {
   "cell_type": "markdown",
   "metadata": {},
   "source": [
    "## Aequitas"
   ]
  },
  {
   "cell_type": "code",
   "execution_count": 29,
   "metadata": {},
   "outputs": [
    {
     "name": "stdout",
     "output_type": "stream",
     "text": [
      "model_id, score_thresholds 0 {'rank_abs': [1002]}\n"
     ]
    }
   ],
   "source": [
    "g = Group()\n",
    "xtab, _ = g.get_crosstabs(df[['score','label_value','poverty_level','metro_type', 'teacher_sex']].copy())"
   ]
  },
  {
   "cell_type": "code",
   "execution_count": 30,
   "metadata": {},
   "outputs": [],
   "source": [
    "absolute_metrics = g.list_absolute_metrics(xtab)"
   ]
  },
  {
   "cell_type": "code",
   "execution_count": 31,
   "metadata": {},
   "outputs": [
    {
     "data": {
      "text/html": [
       "<div>\n",
       "<style scoped>\n",
       "    .dataframe tbody tr th:only-of-type {\n",
       "        vertical-align: middle;\n",
       "    }\n",
       "\n",
       "    .dataframe tbody tr th {\n",
       "        vertical-align: top;\n",
       "    }\n",
       "\n",
       "    .dataframe thead th {\n",
       "        text-align: right;\n",
       "    }\n",
       "</style>\n",
       "<table border=\"1\" class=\"dataframe\">\n",
       "  <thead>\n",
       "    <tr style=\"text-align: right;\">\n",
       "      <th></th>\n",
       "      <th>model_id</th>\n",
       "      <th>score_threshold</th>\n",
       "      <th>k</th>\n",
       "      <th>attribute_name</th>\n",
       "      <th>attribute_value</th>\n",
       "      <th>pp</th>\n",
       "      <th>pn</th>\n",
       "      <th>fp</th>\n",
       "      <th>fn</th>\n",
       "      <th>tn</th>\n",
       "      <th>tp</th>\n",
       "      <th>group_label_pos</th>\n",
       "      <th>group_label_neg</th>\n",
       "      <th>group_size</th>\n",
       "      <th>total_entities</th>\n",
       "    </tr>\n",
       "  </thead>\n",
       "  <tbody>\n",
       "    <tr>\n",
       "      <th>0</th>\n",
       "      <td>0</td>\n",
       "      <td>binary 0/1</td>\n",
       "      <td>1002</td>\n",
       "      <td>poverty_level</td>\n",
       "      <td>high</td>\n",
       "      <td>562</td>\n",
       "      <td>13866</td>\n",
       "      <td>200</td>\n",
       "      <td>4473</td>\n",
       "      <td>9393</td>\n",
       "      <td>362</td>\n",
       "      <td>4835</td>\n",
       "      <td>9593</td>\n",
       "      <td>14428</td>\n",
       "      <td>17677</td>\n",
       "    </tr>\n",
       "    <tr>\n",
       "      <th>1</th>\n",
       "      <td>0</td>\n",
       "      <td>binary 0/1</td>\n",
       "      <td>1002</td>\n",
       "      <td>poverty_level</td>\n",
       "      <td>low_moderate</td>\n",
       "      <td>440</td>\n",
       "      <td>2809</td>\n",
       "      <td>249</td>\n",
       "      <td>944</td>\n",
       "      <td>1865</td>\n",
       "      <td>191</td>\n",
       "      <td>1135</td>\n",
       "      <td>2114</td>\n",
       "      <td>3249</td>\n",
       "      <td>17677</td>\n",
       "    </tr>\n",
       "    <tr>\n",
       "      <th>2</th>\n",
       "      <td>0</td>\n",
       "      <td>binary 0/1</td>\n",
       "      <td>1002</td>\n",
       "      <td>metro_type</td>\n",
       "      <td>rural</td>\n",
       "      <td>368</td>\n",
       "      <td>1610</td>\n",
       "      <td>173</td>\n",
       "      <td>630</td>\n",
       "      <td>980</td>\n",
       "      <td>195</td>\n",
       "      <td>825</td>\n",
       "      <td>1153</td>\n",
       "      <td>1978</td>\n",
       "      <td>17677</td>\n",
       "    </tr>\n",
       "    <tr>\n",
       "      <th>3</th>\n",
       "      <td>0</td>\n",
       "      <td>binary 0/1</td>\n",
       "      <td>1002</td>\n",
       "      <td>metro_type</td>\n",
       "      <td>suburban</td>\n",
       "      <td>259</td>\n",
       "      <td>4269</td>\n",
       "      <td>120</td>\n",
       "      <td>1429</td>\n",
       "      <td>2840</td>\n",
       "      <td>139</td>\n",
       "      <td>1568</td>\n",
       "      <td>2960</td>\n",
       "      <td>4528</td>\n",
       "      <td>17677</td>\n",
       "    </tr>\n",
       "    <tr>\n",
       "      <th>4</th>\n",
       "      <td>0</td>\n",
       "      <td>binary 0/1</td>\n",
       "      <td>1002</td>\n",
       "      <td>metro_type</td>\n",
       "      <td>unknown</td>\n",
       "      <td>183</td>\n",
       "      <td>1873</td>\n",
       "      <td>84</td>\n",
       "      <td>666</td>\n",
       "      <td>1207</td>\n",
       "      <td>99</td>\n",
       "      <td>765</td>\n",
       "      <td>1291</td>\n",
       "      <td>2056</td>\n",
       "      <td>17677</td>\n",
       "    </tr>\n",
       "    <tr>\n",
       "      <th>5</th>\n",
       "      <td>0</td>\n",
       "      <td>binary 0/1</td>\n",
       "      <td>1002</td>\n",
       "      <td>metro_type</td>\n",
       "      <td>urban</td>\n",
       "      <td>192</td>\n",
       "      <td>8923</td>\n",
       "      <td>72</td>\n",
       "      <td>2692</td>\n",
       "      <td>6231</td>\n",
       "      <td>120</td>\n",
       "      <td>2812</td>\n",
       "      <td>6303</td>\n",
       "      <td>9115</td>\n",
       "      <td>17677</td>\n",
       "    </tr>\n",
       "    <tr>\n",
       "      <th>6</th>\n",
       "      <td>0</td>\n",
       "      <td>binary 0/1</td>\n",
       "      <td>1002</td>\n",
       "      <td>teacher_sex</td>\n",
       "      <td>female</td>\n",
       "      <td>953</td>\n",
       "      <td>14139</td>\n",
       "      <td>425</td>\n",
       "      <td>4619</td>\n",
       "      <td>9520</td>\n",
       "      <td>528</td>\n",
       "      <td>5147</td>\n",
       "      <td>9945</td>\n",
       "      <td>15092</td>\n",
       "      <td>17677</td>\n",
       "    </tr>\n",
       "    <tr>\n",
       "      <th>7</th>\n",
       "      <td>0</td>\n",
       "      <td>binary 0/1</td>\n",
       "      <td>1002</td>\n",
       "      <td>teacher_sex</td>\n",
       "      <td>male</td>\n",
       "      <td>49</td>\n",
       "      <td>2535</td>\n",
       "      <td>24</td>\n",
       "      <td>798</td>\n",
       "      <td>1737</td>\n",
       "      <td>25</td>\n",
       "      <td>823</td>\n",
       "      <td>1761</td>\n",
       "      <td>2584</td>\n",
       "      <td>17677</td>\n",
       "    </tr>\n",
       "    <tr>\n",
       "      <th>8</th>\n",
       "      <td>0</td>\n",
       "      <td>binary 0/1</td>\n",
       "      <td>1002</td>\n",
       "      <td>teacher_sex</td>\n",
       "      <td>unknown</td>\n",
       "      <td>0</td>\n",
       "      <td>1</td>\n",
       "      <td>0</td>\n",
       "      <td>0</td>\n",
       "      <td>1</td>\n",
       "      <td>0</td>\n",
       "      <td>0</td>\n",
       "      <td>1</td>\n",
       "      <td>1</td>\n",
       "      <td>17677</td>\n",
       "    </tr>\n",
       "  </tbody>\n",
       "</table>\n",
       "</div>"
      ],
      "text/plain": [
       "   model_id score_threshold     k attribute_name attribute_value   pp     pn  \\\n",
       "0         0      binary 0/1  1002  poverty_level            high  562  13866   \n",
       "1         0      binary 0/1  1002  poverty_level    low_moderate  440   2809   \n",
       "2         0      binary 0/1  1002     metro_type           rural  368   1610   \n",
       "3         0      binary 0/1  1002     metro_type        suburban  259   4269   \n",
       "4         0      binary 0/1  1002     metro_type         unknown  183   1873   \n",
       "5         0      binary 0/1  1002     metro_type           urban  192   8923   \n",
       "6         0      binary 0/1  1002    teacher_sex          female  953  14139   \n",
       "7         0      binary 0/1  1002    teacher_sex            male   49   2535   \n",
       "8         0      binary 0/1  1002    teacher_sex         unknown    0      1   \n",
       "\n",
       "    fp    fn    tn   tp  group_label_pos  group_label_neg  group_size  \\\n",
       "0  200  4473  9393  362             4835             9593       14428   \n",
       "1  249   944  1865  191             1135             2114        3249   \n",
       "2  173   630   980  195              825             1153        1978   \n",
       "3  120  1429  2840  139             1568             2960        4528   \n",
       "4   84   666  1207   99              765             1291        2056   \n",
       "5   72  2692  6231  120             2812             6303        9115   \n",
       "6  425  4619  9520  528             5147             9945       15092   \n",
       "7   24   798  1737   25              823             1761        2584   \n",
       "8    0     0     1    0                0                1           1   \n",
       "\n",
       "   total_entities  \n",
       "0           17677  \n",
       "1           17677  \n",
       "2           17677  \n",
       "3           17677  \n",
       "4           17677  \n",
       "5           17677  \n",
       "6           17677  \n",
       "7           17677  \n",
       "8           17677  "
      ]
     },
     "execution_count": 31,
     "metadata": {},
     "output_type": "execute_result"
    }
   ],
   "source": [
    "xtab[[col for col in xtab.columns if col not in absolute_metrics]]"
   ]
  },
  {
   "cell_type": "code",
   "execution_count": 32,
   "metadata": {},
   "outputs": [
    {
     "data": {
      "text/html": [
       "<div>\n",
       "<style scoped>\n",
       "    .dataframe tbody tr th:only-of-type {\n",
       "        vertical-align: middle;\n",
       "    }\n",
       "\n",
       "    .dataframe tbody tr th {\n",
       "        vertical-align: top;\n",
       "    }\n",
       "\n",
       "    .dataframe thead th {\n",
       "        text-align: right;\n",
       "    }\n",
       "</style>\n",
       "<table border=\"1\" class=\"dataframe\">\n",
       "  <thead>\n",
       "    <tr style=\"text-align: right;\">\n",
       "      <th></th>\n",
       "      <th>attribute_name</th>\n",
       "      <th>attribute_value</th>\n",
       "      <th>tpr</th>\n",
       "      <th>tnr</th>\n",
       "      <th>for</th>\n",
       "      <th>fdr</th>\n",
       "      <th>fpr</th>\n",
       "      <th>fnr</th>\n",
       "      <th>npv</th>\n",
       "      <th>precision</th>\n",
       "      <th>ppr</th>\n",
       "      <th>pprev</th>\n",
       "      <th>prev</th>\n",
       "    </tr>\n",
       "  </thead>\n",
       "  <tbody>\n",
       "    <tr>\n",
       "      <th>0</th>\n",
       "      <td>poverty_level</td>\n",
       "      <td>high</td>\n",
       "      <td>0.074871</td>\n",
       "      <td>0.979151</td>\n",
       "      <td>0.322588</td>\n",
       "      <td>0.355872</td>\n",
       "      <td>0.020849</td>\n",
       "      <td>0.925129</td>\n",
       "      <td>0.677412</td>\n",
       "      <td>0.644128</td>\n",
       "      <td>0.560878</td>\n",
       "      <td>0.038952</td>\n",
       "      <td>0.335112</td>\n",
       "    </tr>\n",
       "    <tr>\n",
       "      <th>1</th>\n",
       "      <td>poverty_level</td>\n",
       "      <td>low_moderate</td>\n",
       "      <td>0.168282</td>\n",
       "      <td>0.882214</td>\n",
       "      <td>0.336063</td>\n",
       "      <td>0.565909</td>\n",
       "      <td>0.117786</td>\n",
       "      <td>0.831718</td>\n",
       "      <td>0.663937</td>\n",
       "      <td>0.434091</td>\n",
       "      <td>0.439122</td>\n",
       "      <td>0.135426</td>\n",
       "      <td>0.349338</td>\n",
       "    </tr>\n",
       "    <tr>\n",
       "      <th>2</th>\n",
       "      <td>metro_type</td>\n",
       "      <td>rural</td>\n",
       "      <td>0.236364</td>\n",
       "      <td>0.849957</td>\n",
       "      <td>0.391304</td>\n",
       "      <td>0.470109</td>\n",
       "      <td>0.150043</td>\n",
       "      <td>0.763636</td>\n",
       "      <td>0.608696</td>\n",
       "      <td>0.529891</td>\n",
       "      <td>0.367265</td>\n",
       "      <td>0.186047</td>\n",
       "      <td>0.417088</td>\n",
       "    </tr>\n",
       "    <tr>\n",
       "      <th>3</th>\n",
       "      <td>metro_type</td>\n",
       "      <td>suburban</td>\n",
       "      <td>0.088648</td>\n",
       "      <td>0.959459</td>\n",
       "      <td>0.334739</td>\n",
       "      <td>0.463320</td>\n",
       "      <td>0.040541</td>\n",
       "      <td>0.911352</td>\n",
       "      <td>0.665261</td>\n",
       "      <td>0.536680</td>\n",
       "      <td>0.258483</td>\n",
       "      <td>0.057200</td>\n",
       "      <td>0.346290</td>\n",
       "    </tr>\n",
       "    <tr>\n",
       "      <th>4</th>\n",
       "      <td>metro_type</td>\n",
       "      <td>unknown</td>\n",
       "      <td>0.129412</td>\n",
       "      <td>0.934934</td>\n",
       "      <td>0.355579</td>\n",
       "      <td>0.459016</td>\n",
       "      <td>0.065066</td>\n",
       "      <td>0.870588</td>\n",
       "      <td>0.644421</td>\n",
       "      <td>0.540984</td>\n",
       "      <td>0.182635</td>\n",
       "      <td>0.089008</td>\n",
       "      <td>0.372082</td>\n",
       "    </tr>\n",
       "    <tr>\n",
       "      <th>5</th>\n",
       "      <td>metro_type</td>\n",
       "      <td>urban</td>\n",
       "      <td>0.042674</td>\n",
       "      <td>0.988577</td>\n",
       "      <td>0.301692</td>\n",
       "      <td>0.375000</td>\n",
       "      <td>0.011423</td>\n",
       "      <td>0.957326</td>\n",
       "      <td>0.698308</td>\n",
       "      <td>0.625000</td>\n",
       "      <td>0.191617</td>\n",
       "      <td>0.021064</td>\n",
       "      <td>0.308502</td>\n",
       "    </tr>\n",
       "    <tr>\n",
       "      <th>6</th>\n",
       "      <td>teacher_sex</td>\n",
       "      <td>female</td>\n",
       "      <td>0.102584</td>\n",
       "      <td>0.957265</td>\n",
       "      <td>0.326685</td>\n",
       "      <td>0.445960</td>\n",
       "      <td>0.042735</td>\n",
       "      <td>0.897416</td>\n",
       "      <td>0.673315</td>\n",
       "      <td>0.554040</td>\n",
       "      <td>0.951098</td>\n",
       "      <td>0.063146</td>\n",
       "      <td>0.341042</td>\n",
       "    </tr>\n",
       "    <tr>\n",
       "      <th>7</th>\n",
       "      <td>teacher_sex</td>\n",
       "      <td>male</td>\n",
       "      <td>0.030377</td>\n",
       "      <td>0.986371</td>\n",
       "      <td>0.314793</td>\n",
       "      <td>0.489796</td>\n",
       "      <td>0.013629</td>\n",
       "      <td>0.969623</td>\n",
       "      <td>0.685207</td>\n",
       "      <td>0.510204</td>\n",
       "      <td>0.048902</td>\n",
       "      <td>0.018963</td>\n",
       "      <td>0.318498</td>\n",
       "    </tr>\n",
       "    <tr>\n",
       "      <th>8</th>\n",
       "      <td>teacher_sex</td>\n",
       "      <td>unknown</td>\n",
       "      <td>NaN</td>\n",
       "      <td>1.000000</td>\n",
       "      <td>0.000000</td>\n",
       "      <td>NaN</td>\n",
       "      <td>0.000000</td>\n",
       "      <td>NaN</td>\n",
       "      <td>1.000000</td>\n",
       "      <td>NaN</td>\n",
       "      <td>0.000000</td>\n",
       "      <td>0.000000</td>\n",
       "      <td>0.000000</td>\n",
       "    </tr>\n",
       "  </tbody>\n",
       "</table>\n",
       "</div>"
      ],
      "text/plain": [
       "  attribute_name attribute_value       tpr       tnr       for       fdr  \\\n",
       "0  poverty_level            high  0.074871  0.979151  0.322588  0.355872   \n",
       "1  poverty_level    low_moderate  0.168282  0.882214  0.336063  0.565909   \n",
       "2     metro_type           rural  0.236364  0.849957  0.391304  0.470109   \n",
       "3     metro_type        suburban  0.088648  0.959459  0.334739  0.463320   \n",
       "4     metro_type         unknown  0.129412  0.934934  0.355579  0.459016   \n",
       "5     metro_type           urban  0.042674  0.988577  0.301692  0.375000   \n",
       "6    teacher_sex          female  0.102584  0.957265  0.326685  0.445960   \n",
       "7    teacher_sex            male  0.030377  0.986371  0.314793  0.489796   \n",
       "8    teacher_sex         unknown       NaN  1.000000  0.000000       NaN   \n",
       "\n",
       "        fpr       fnr       npv  precision       ppr     pprev      prev  \n",
       "0  0.020849  0.925129  0.677412   0.644128  0.560878  0.038952  0.335112  \n",
       "1  0.117786  0.831718  0.663937   0.434091  0.439122  0.135426  0.349338  \n",
       "2  0.150043  0.763636  0.608696   0.529891  0.367265  0.186047  0.417088  \n",
       "3  0.040541  0.911352  0.665261   0.536680  0.258483  0.057200  0.346290  \n",
       "4  0.065066  0.870588  0.644421   0.540984  0.182635  0.089008  0.372082  \n",
       "5  0.011423  0.957326  0.698308   0.625000  0.191617  0.021064  0.308502  \n",
       "6  0.042735  0.897416  0.673315   0.554040  0.951098  0.063146  0.341042  \n",
       "7  0.013629  0.969623  0.685207   0.510204  0.048902  0.018963  0.318498  \n",
       "8  0.000000       NaN  1.000000        NaN  0.000000  0.000000  0.000000  "
      ]
     },
     "execution_count": 32,
     "metadata": {},
     "output_type": "execute_result"
    }
   ],
   "source": [
    "xtab[['attribute_name', 'attribute_value'] + absolute_metrics]"
   ]
  },
  {
   "cell_type": "code",
   "execution_count": 45,
   "metadata": {},
   "outputs": [
    {
     "name": "stdout",
     "output_type": "stream",
     "text": [
      "get_disparity_predefined_group()\n"
     ]
    }
   ],
   "source": [
    "b = Bias()\n",
    "bdf = b.get_disparity_predefined_groups(xtab, original_df=df, ref_groups_dict={'poverty_level':'high', 'metro_type':'urban', 'teacher_sex':'male'})"
   ]
  },
  {
   "cell_type": "code",
   "execution_count": 40,
   "metadata": {},
   "outputs": [
    {
     "name": "stdout",
     "output_type": "stream",
     "text": [
      "get_disparity_min_metric()\n"
     ]
    }
   ],
   "source": [
    "bdf = b.get_disparity_min_metric(xtab, original_df=df)"
   ]
  },
  {
   "cell_type": "code",
   "execution_count": 46,
   "metadata": {},
   "outputs": [],
   "source": [
    "metrics = ['tpr']"
   ]
  },
  {
   "cell_type": "code",
   "execution_count": 47,
   "metadata": {},
   "outputs": [
    {
     "data": {
      "text/html": [
       "\n",
       "<div id=\"altair-viz-eedab1539e294ccfb340a2fb8c771b5b\"></div>\n",
       "<script type=\"text/javascript\">\n",
       "  (function(spec, embedOpt){\n",
       "    let outputDiv = document.currentScript.previousElementSibling;\n",
       "    if (outputDiv.id !== \"altair-viz-eedab1539e294ccfb340a2fb8c771b5b\") {\n",
       "      outputDiv = document.getElementById(\"altair-viz-eedab1539e294ccfb340a2fb8c771b5b\");\n",
       "    }\n",
       "    const paths = {\n",
       "      \"vega\": \"https://cdn.jsdelivr.net/npm//vega@5?noext\",\n",
       "      \"vega-lib\": \"https://cdn.jsdelivr.net/npm//vega-lib?noext\",\n",
       "      \"vega-lite\": \"https://cdn.jsdelivr.net/npm//vega-lite@4.8.1?noext\",\n",
       "      \"vega-embed\": \"https://cdn.jsdelivr.net/npm//vega-embed@6?noext\",\n",
       "    };\n",
       "\n",
       "    function loadScript(lib) {\n",
       "      return new Promise(function(resolve, reject) {\n",
       "        var s = document.createElement('script');\n",
       "        s.src = paths[lib];\n",
       "        s.async = true;\n",
       "        s.onload = () => resolve(paths[lib]);\n",
       "        s.onerror = () => reject(`Error loading script: ${paths[lib]}`);\n",
       "        document.getElementsByTagName(\"head\")[0].appendChild(s);\n",
       "      });\n",
       "    }\n",
       "\n",
       "    function showError(err) {\n",
       "      outputDiv.innerHTML = `<div class=\"error\" style=\"color:red;\">${err}</div>`;\n",
       "      throw err;\n",
       "    }\n",
       "\n",
       "    function displayChart(vegaEmbed) {\n",
       "      vegaEmbed(outputDiv, spec, embedOpt)\n",
       "        .catch(err => showError(`Javascript Error: ${err.message}<br>This usually means there's a typo in your chart specification. See the javascript console for the full traceback.`));\n",
       "    }\n",
       "\n",
       "    if(typeof define === \"function\" && define.amd) {\n",
       "      requirejs.config({paths});\n",
       "      require([\"vega-embed\"], displayChart, err => showError(`Error loading script: ${err.message}`));\n",
       "    } else if (typeof vegaEmbed === \"function\") {\n",
       "      displayChart(vegaEmbed);\n",
       "    } else {\n",
       "      loadScript(\"vega\")\n",
       "        .then(() => loadScript(\"vega-lite\"))\n",
       "        .then(() => loadScript(\"vega-embed\"))\n",
       "        .catch(showError)\n",
       "        .then(() => displayChart(vegaEmbed));\n",
       "    }\n",
       "  })({\"config\": {\"view\": {\"continuousWidth\": 400, \"continuousHeight\": 300, \"strokeWidth\": 0}, \"axisLeft\": {\"labelColor\": \"rgb(117,117,117)\", \"labelFont\": \"Helvetica\", \"labelFontSize\": 16}}, \"layer\": [{\"data\": {\"name\": \"data-b3bcfd1decd67fb31f95ea5e1bcd9e64\"}, \"mark\": {\"type\": \"rule\", \"stroke\": \"rgb(117,117,117)\", \"strokeWidth\": 1.25, \"tooltip\": \"\"}, \"encoding\": {\"x\": {\"type\": \"quantitative\", \"field\": \"x\", \"scale\": {\"domain\": [-2, 2], \"range\": [80.0, 720.0]}}, \"x2\": {\"field\": \"x2\"}, \"y\": {\"type\": \"nominal\", \"axis\": {\"domain\": false, \"labelAngle\": 0, \"labelPadding\": -30, \"orient\": \"left\", \"ticks\": false, \"title\": \"\"}, \"field\": \"metric\", \"scale\": {\"domain\": [\"TPR\"], \"range\": [30, 225.0]}}}}, {\"data\": {\"name\": \"data-79dd248bdaa0ea02c535240e8ad022c8\"}, \"mark\": {\"type\": \"rule\", \"stroke\": \"rgb(117,117,117)\", \"strokeDash\": [5, 5], \"strokeWidth\": 1}, \"encoding\": {\"tooltip\": {\"value\": \"high [REF]\"}, \"x\": {\"value\": 400.0}, \"y\": {\"value\": 20.833333333333336}, \"y2\": {\"value\": 229.16666666666666}}}, {\"data\": {\"name\": \"data-bf3bbf11504879c3d6556966f4853596\"}, \"mark\": {\"type\": \"text\", \"align\": \"center\", \"color\": \"rgb(117,117,117)\", \"font\": \"Helvetica\", \"fontSize\": 11, \"fontWeight\": 300, \"tooltip\": \"\"}, \"encoding\": {\"text\": {\"type\": \"nominal\", \"field\": \"label\"}, \"x\": {\"type\": \"quantitative\", \"field\": \"value\", \"scale\": {\"domain\": [-2, 2], \"range\": [80.0, 720.0]}}, \"y\": {\"value\": 17.5}}}, {\"layer\": [{\"mark\": {\"type\": \"text\", \"align\": \"right\", \"fill\": \"rgb(117,117,117)\", \"font\": \"Helvetica\", \"fontSize\": 11, \"fontWeight\": 300, \"tooltip\": \"\"}, \"encoding\": {\"text\": {\"value\": \"TIMES SMALLER\"}, \"x\": {\"value\": 120.0}, \"y\": {\"value\": 7.5}}}, {\"mark\": {\"type\": \"text\", \"align\": \"left\", \"fill\": \"rgb(117,117,117)\", \"font\": \"Helvetica\", \"fontSize\": 11, \"fontWeight\": 300, \"tooltip\": \"\"}, \"encoding\": {\"text\": {\"value\": \"TIMES LARGER\"}, \"x\": {\"value\": 680.0}, \"y\": {\"value\": 7.5}}}, {\"mark\": {\"type\": \"text\", \"align\": \"center\", \"fill\": \"rgb(117,117,117)\", \"font\": \"Helvetica\", \"fontSize\": 11, \"fontWeight\": 300, \"tooltip\": \"\"}, \"encoding\": {\"text\": {\"value\": \"EQUAL\"}, \"x\": {\"value\": 400.0}, \"y\": {\"value\": 7.5}}}], \"data\": {\"name\": \"data-79dd248bdaa0ea02c535240e8ad022c8\"}}, {\"layer\": [{\"mark\": {\"type\": \"rule\", \"opacity\": 0.8, \"stroke\": \"rgb(217, 46, 28)\", \"strokeWidth\": 1.25, \"tooltip\": \"\"}, \"encoding\": {\"x\": {\"type\": \"quantitative\", \"field\": \"min\", \"scale\": {\"domain\": [-2, 2], \"range\": [80.0, 720.0]}}, \"y\": {\"value\": 25.0}, \"y2\": {\"value\": 225.0}}}, {\"mark\": {\"type\": \"rule\", \"opacity\": 0.8, \"stroke\": \"rgb(217, 46, 28)\", \"strokeWidth\": 1.25, \"tooltip\": \"\"}, \"encoding\": {\"x\": {\"type\": \"quantitative\", \"field\": \"max\", \"scale\": {\"domain\": [-2, 2], \"range\": [80.0, 720.0]}}, \"y\": {\"value\": 25.0}, \"y2\": {\"value\": 225.0}}}, {\"layer\": [{\"mark\": {\"type\": \"rect\", \"fill\": \"rgb(217, 46, 28)\", \"opacity\": 0.1, \"tooltip\": \"\"}, \"encoding\": {\"x\": {\"type\": \"quantitative\", \"field\": \"min\", \"scale\": {\"domain\": [-2, 2], \"range\": [80.0, 720.0]}}, \"x2\": {\"field\": \"lower_end\"}, \"y\": {\"value\": 25.0}, \"y2\": {\"value\": 225.0}}}, {\"mark\": {\"type\": \"rect\", \"fill\": \"rgb(217, 46, 28)\", \"opacity\": 0.1, \"tooltip\": \"\"}, \"encoding\": {\"x\": {\"type\": \"quantitative\", \"field\": \"max\", \"scale\": {\"domain\": [-2, 2], \"range\": [80.0, 720.0]}}, \"x2\": {\"field\": \"upper_end\"}, \"y\": {\"value\": 25.0}, \"y2\": {\"value\": 225.0}}}]}, {\"data\": {\"name\": \"data-79dd248bdaa0ea02c535240e8ad022c8\"}, \"mark\": {\"type\": \"text\", \"align\": \"left\", \"baseline\": \"top\", \"fill\": \"rgb(217, 46, 28)\", \"font\": \"Helvetica\", \"fontSize\": 11, \"fontWeight\": 300, \"tooltip\": \"\"}, \"encoding\": {\"text\": {\"value\": \"The metric value for any group should not be 1.1 (or more) times smaller or larger than that of the reference group high.\"}, \"x\": {\"value\": 0}, \"y\": {\"value\": 233.33333333333334}}}], \"data\": {\"name\": \"data-5be866832e665840fe1b54f380439222\"}}, {\"layer\": [{\"mark\": \"circle\"}, {\"data\": {\"name\": \"data-51eb48ef3e3e51dabbcf5e0fc4e1b4b6\"}, \"mark\": {\"type\": \"circle\", \"opacity\": 0.2}, \"encoding\": {\"color\": {\"condition\": {\"type\": \"nominal\", \"field\": \"attribute_value\", \"legend\": null, \"scale\": {\"domain\": [\"high\", \"low_moderate\"], \"range\": [\"rgb(117,117,117)\", \"rgb(100, 143, 255)\", \"rgb(254, 97, 0)\", \"rgb(220, 38, 127)\", \"rgb(255, 176, 0)\", \"rgb(120, 94, 240)\"]}, \"selection\": \"selector025\"}, \"value\": \"rgb(224,224,224)\"}, \"size\": {\"type\": \"quantitative\", \"field\": \"group_size\", \"legend\": null, \"scale\": {\"domain\": [0, 17313.6], \"range\": [0, 7853.981633974483]}}, \"tooltip\": [{\"type\": \"nominal\", \"field\": \"attribute_value\", \"title\": \"Group\"}, {\"type\": \"nominal\", \"field\": \"tooltip_group_size\", \"title\": \"Group Size\"}, {\"type\": \"nominal\", \"field\": \"tooltip_disparity_explanation_tpr\", \"title\": \"Disparity\"}, {\"type\": \"quantitative\", \"field\": \"tpr\", \"format\": \".2f\", \"title\": \"TPR\"}], \"x\": {\"type\": \"quantitative\", \"axis\": {\"domain\": false, \"labels\": false, \"ticks\": false, \"title\": null, \"values\": [-2, -1, 1, 2]}, \"field\": \"tpr_disparity_scaled\", \"scale\": {\"domain\": [-2, 2], \"range\": [80.0, 720.0]}}, \"y\": {\"type\": \"nominal\", \"axis\": {\"domain\": false, \"grid\": false, \"labels\": false, \"ticks\": false, \"title\": \" \"}, \"field\": \"metric_variable\", \"scale\": {\"domain\": [\"TPR\"], \"range\": [30, 225.0]}}}, \"selection\": {\"selector027\": {\"type\": \"multi\", \"empty\": \"all\", \"fields\": [\"attribute_value\"]}}, \"transform\": [{\"calculate\": \"'TPR'\", \"as\": \"metric_variable\"}]}, {\"layer\": [{\"mark\": \"point\"}, {\"data\": {\"name\": \"data-51eb48ef3e3e51dabbcf5e0fc4e1b4b6\"}, \"mark\": {\"type\": \"point\", \"filled\": true, \"size\": 60}, \"encoding\": {\"color\": {\"condition\": {\"type\": \"nominal\", \"field\": \"attribute_value\", \"legend\": null, \"scale\": {\"domain\": [\"high\", \"low_moderate\"], \"range\": [\"rgb(117,117,117)\", \"rgb(100, 143, 255)\", \"rgb(254, 97, 0)\", \"rgb(220, 38, 127)\", \"rgb(255, 176, 0)\", \"rgb(120, 94, 240)\"]}, \"selection\": \"selector025\"}, \"value\": \"rgb(224,224,224)\"}, \"shape\": {\"type\": \"nominal\", \"field\": \"attribute_value\", \"legend\": null, \"scale\": {\"domain\": [\"high\", \"low_moderate\"], \"range\": [\"cross\", \"circle\"]}}, \"tooltip\": [{\"type\": \"nominal\", \"field\": \"attribute_value\", \"title\": \"Group\"}, {\"type\": \"nominal\", \"field\": \"tooltip_group_size\", \"title\": \"Group Size\"}, {\"type\": \"nominal\", \"field\": \"tooltip_disparity_explanation_tpr\", \"title\": \"Disparity\"}, {\"type\": \"quantitative\", \"field\": \"tpr\", \"format\": \".2f\", \"title\": \"TPR\"}], \"x\": {\"type\": \"quantitative\", \"axis\": {\"domain\": false, \"labels\": false, \"ticks\": false, \"title\": null, \"values\": [-2, -1, 1, 2]}, \"field\": \"tpr_disparity_scaled\", \"scale\": {\"domain\": [-2, 2], \"range\": [80.0, 720.0]}}, \"y\": {\"type\": \"nominal\", \"axis\": {\"domain\": false, \"grid\": false, \"labels\": false, \"ticks\": false, \"title\": \" \"}, \"field\": \"metric_variable\", \"scale\": {\"domain\": [\"TPR\"], \"range\": [30, 225.0]}}}, \"selection\": {\"selector026\": {\"type\": \"multi\", \"empty\": \"all\", \"fields\": [\"attribute_value\"]}}, \"transform\": [{\"calculate\": \"'TPR'\", \"as\": \"metric_variable\"}]}]}]}, {\"layer\": [{\"mark\": {\"type\": \"point\", \"filled\": true, \"tooltip\": \"\"}, \"encoding\": {\"color\": {\"condition\": {\"type\": \"nominal\", \"field\": \"attribute_value\", \"legend\": null, \"scale\": {\"domain\": [\"high\", \"low_moderate\"], \"range\": [\"rgb(117,117,117)\", \"rgb(100, 143, 255)\", \"rgb(254, 97, 0)\", \"rgb(220, 38, 127)\", \"rgb(255, 176, 0)\", \"rgb(120, 94, 240)\"]}, \"selection\": \"selector025\"}, \"value\": \"rgb(224,224,224)\"}, \"shape\": {\"type\": \"nominal\", \"field\": \"attribute_value\", \"legend\": null, \"scale\": {\"domain\": [\"high\", \"low_moderate\"], \"range\": [\"cross\", \"circle\"]}}, \"x\": {\"value\": 880.0000000000001}, \"y\": {\"type\": \"nominal\", \"axis\": {\"domain\": false, \"grid\": false, \"labels\": false, \"ticks\": false, \"title\": \" \"}, \"field\": \"attribute_value\", \"scale\": {\"domain\": [\"high\", \"low_moderate\"], \"range\": [21, 73]}}}, \"selection\": {\"selector025\": {\"type\": \"multi\", \"empty\": \"all\", \"fields\": [\"attribute_value\"]}}}, {\"mark\": {\"type\": \"text\", \"align\": \"left\", \"baseline\": \"middle\", \"font\": \"Helvetica\", \"fontSize\": 11, \"fontWeight\": 300, \"tooltip\": \"\"}, \"encoding\": {\"color\": {\"condition\": {\"type\": \"nominal\", \"field\": \"attribute_value\", \"legend\": null, \"scale\": {\"domain\": [\"high\", \"low_moderate\"], \"range\": [\"rgb(117,117,117)\", \"rgb(100, 143, 255)\", \"rgb(254, 97, 0)\", \"rgb(220, 38, 127)\", \"rgb(255, 176, 0)\", \"rgb(120, 94, 240)\"]}, \"selection\": \"selector025\"}, \"value\": \"rgb(224,224,224)\"}, \"text\": {\"type\": \"nominal\", \"field\": \"label\"}, \"x\": {\"value\": 890.0000000000001}, \"y\": {\"type\": \"nominal\", \"axis\": {\"domain\": false, \"grid\": false, \"labels\": false, \"ticks\": false, \"title\": \" \"}, \"field\": \"attribute_value\", \"scale\": {\"domain\": [\"high\", \"low_moderate\"], \"range\": [21, 73]}}}, \"selection\": {\"selector028\": {\"type\": \"multi\", \"empty\": \"all\", \"fields\": [\"attribute_value\"]}}}, {\"data\": {\"name\": \"data-79dd248bdaa0ea02c535240e8ad022c8\"}, \"mark\": {\"type\": \"text\", \"align\": \"left\", \"baseline\": \"middle\", \"color\": \"rgb(117,117,117)\", \"font\": \"Helvetica\", \"fontSize\": 11, \"fontWeight\": 300, \"tooltip\": \"\"}, \"encoding\": {\"text\": {\"value\": \"Click to highlight a group.\"}, \"x\": {\"value\": 880.0000000000001}, \"y\": {\"value\": 0}}}], \"data\": {\"name\": \"data-d87c852a1efae10890d6aaed8901939a\"}}], \"height\": 250, \"resolve\": {\"scale\": {\"size\": \"independent\", \"y\": \"independent\"}}, \"width\": 800, \"$schema\": \"https://vega.github.io/schema/vega-lite/v4.8.1.json\", \"datasets\": {\"data-b3bcfd1decd67fb31f95ea5e1bcd9e64\": [{\"metric\": \"TPR\", \"x\": -2.2, \"x2\": 2.2}], \"data-79dd248bdaa0ea02c535240e8ad022c8\": [{\"a\": 1, \"b\": 0}, {\"a\": 1, \"b\": 0}], \"data-bf3bbf11504879c3d6556966f4853596\": [{\"value\": -2, \"label\": 3}, {\"value\": -1, \"label\": 2}, {\"value\": 0, \"label\": \"=\"}, {\"value\": 1, \"label\": 2}, {\"value\": 2, \"label\": 3}], \"data-5be866832e665840fe1b54f380439222\": [{\"min\": -0.10000000000000009, \"max\": 0.10000000000000009, \"lower_end\": -2.2, \"upper_end\": 2.2}], \"data-51eb48ef3e3e51dabbcf5e0fc4e1b4b6\": [{\"attribute_name\": \"poverty_level\", \"attribute_value\": \"high\", \"group_size\": 14428, \"total_entities\": 17677, \"tpr\": 0.074870734229576, \"tpr_disparity\": 1.0, \"tpr_disparity_scaled\": 0.0, \"tooltip_group_size\": \"14,428 (81.62%)\", \"tooltip_disparity_explanation_tpr\": \"Reference group\"}, {\"attribute_name\": \"poverty_level\", \"attribute_value\": \"low_moderate\", \"group_size\": 3249, \"total_entities\": 17677, \"tpr\": 0.1682819383259912, \"tpr_disparity\": 2.2476330712877552, \"tpr_disparity_scaled\": 1.2476330712877552, \"tooltip_group_size\": \"3,249 (18.38%)\", \"tooltip_disparity_explanation_tpr\": \"2.25 times larger TPR than the reference group\"}], \"data-d87c852a1efae10890d6aaed8901939a\": [{\"attribute_value\": \"high\", \"label\": \"high [REF]\"}, {\"attribute_value\": \"low_moderate\", \"label\": \"low_moderate\"}]}}, {\"mode\": \"vega-lite\"});\n",
       "</script>"
      ],
      "text/plain": [
       "alt.LayerChart(...)"
      ]
     },
     "execution_count": 47,
     "metadata": {},
     "output_type": "execute_result"
    }
   ],
   "source": [
    "ap.disparities(bdf, metrics, 'poverty_level', fairness_threshold = 1.10)"
   ]
  },
  {
   "cell_type": "code",
   "execution_count": 48,
   "metadata": {},
   "outputs": [
    {
     "data": {
      "text/html": [
       "\n",
       "<div id=\"altair-viz-d9511d3bd4df4e36850064457827b7d4\"></div>\n",
       "<script type=\"text/javascript\">\n",
       "  (function(spec, embedOpt){\n",
       "    let outputDiv = document.currentScript.previousElementSibling;\n",
       "    if (outputDiv.id !== \"altair-viz-d9511d3bd4df4e36850064457827b7d4\") {\n",
       "      outputDiv = document.getElementById(\"altair-viz-d9511d3bd4df4e36850064457827b7d4\");\n",
       "    }\n",
       "    const paths = {\n",
       "      \"vega\": \"https://cdn.jsdelivr.net/npm//vega@5?noext\",\n",
       "      \"vega-lib\": \"https://cdn.jsdelivr.net/npm//vega-lib?noext\",\n",
       "      \"vega-lite\": \"https://cdn.jsdelivr.net/npm//vega-lite@4.8.1?noext\",\n",
       "      \"vega-embed\": \"https://cdn.jsdelivr.net/npm//vega-embed@6?noext\",\n",
       "    };\n",
       "\n",
       "    function loadScript(lib) {\n",
       "      return new Promise(function(resolve, reject) {\n",
       "        var s = document.createElement('script');\n",
       "        s.src = paths[lib];\n",
       "        s.async = true;\n",
       "        s.onload = () => resolve(paths[lib]);\n",
       "        s.onerror = () => reject(`Error loading script: ${paths[lib]}`);\n",
       "        document.getElementsByTagName(\"head\")[0].appendChild(s);\n",
       "      });\n",
       "    }\n",
       "\n",
       "    function showError(err) {\n",
       "      outputDiv.innerHTML = `<div class=\"error\" style=\"color:red;\">${err}</div>`;\n",
       "      throw err;\n",
       "    }\n",
       "\n",
       "    function displayChart(vegaEmbed) {\n",
       "      vegaEmbed(outputDiv, spec, embedOpt)\n",
       "        .catch(err => showError(`Javascript Error: ${err.message}<br>This usually means there's a typo in your chart specification. See the javascript console for the full traceback.`));\n",
       "    }\n",
       "\n",
       "    if(typeof define === \"function\" && define.amd) {\n",
       "      requirejs.config({paths});\n",
       "      require([\"vega-embed\"], displayChart, err => showError(`Error loading script: ${err.message}`));\n",
       "    } else if (typeof vegaEmbed === \"function\") {\n",
       "      displayChart(vegaEmbed);\n",
       "    } else {\n",
       "      loadScript(\"vega\")\n",
       "        .then(() => loadScript(\"vega-lite\"))\n",
       "        .then(() => loadScript(\"vega-embed\"))\n",
       "        .catch(showError)\n",
       "        .then(() => displayChart(vegaEmbed));\n",
       "    }\n",
       "  })({\"config\": {\"view\": {\"continuousWidth\": 400, \"continuousHeight\": 300, \"strokeWidth\": 0}, \"axisLeft\": {\"labelColor\": \"rgb(117,117,117)\", \"labelFont\": \"Helvetica\", \"labelFontSize\": 16}}, \"layer\": [{\"data\": {\"name\": \"data-05eca065bb3819a9730ad11cd9fb0dc5\"}, \"mark\": {\"type\": \"rule\", \"stroke\": \"rgb(117,117,117)\", \"strokeWidth\": 1.25, \"tooltip\": \"\"}, \"encoding\": {\"x\": {\"type\": \"quantitative\", \"field\": \"x\", \"scale\": {\"domain\": [-5, 5], \"range\": [80.0, 720.0]}}, \"x2\": {\"field\": \"x2\"}, \"y\": {\"type\": \"nominal\", \"axis\": {\"domain\": false, \"labelAngle\": 0, \"labelPadding\": -30, \"orient\": \"left\", \"ticks\": false, \"title\": \"\"}, \"field\": \"metric\", \"scale\": {\"domain\": [\"TPR\"], \"range\": [30, 225.0]}}}}, {\"data\": {\"name\": \"data-79dd248bdaa0ea02c535240e8ad022c8\"}, \"mark\": {\"type\": \"rule\", \"stroke\": \"rgb(117,117,117)\", \"strokeDash\": [5, 5], \"strokeWidth\": 1}, \"encoding\": {\"tooltip\": {\"value\": \"urban [REF]\"}, \"x\": {\"value\": 400.0}, \"y\": {\"value\": 20.833333333333336}, \"y2\": {\"value\": 229.16666666666666}}}, {\"data\": {\"name\": \"data-480d08adbcf1a8788c7976ef0d60b38c\"}, \"mark\": {\"type\": \"text\", \"align\": \"center\", \"color\": \"rgb(117,117,117)\", \"font\": \"Helvetica\", \"fontSize\": 11, \"fontWeight\": 300, \"tooltip\": \"\"}, \"encoding\": {\"text\": {\"type\": \"nominal\", \"field\": \"label\"}, \"x\": {\"type\": \"quantitative\", \"field\": \"value\", \"scale\": {\"domain\": [-5, 5], \"range\": [80.0, 720.0]}}, \"y\": {\"value\": 17.5}}}, {\"layer\": [{\"mark\": {\"type\": \"text\", \"align\": \"right\", \"fill\": \"rgb(117,117,117)\", \"font\": \"Helvetica\", \"fontSize\": 11, \"fontWeight\": 300, \"tooltip\": \"\"}, \"encoding\": {\"text\": {\"value\": \"TIMES SMALLER\"}, \"x\": {\"value\": 120.0}, \"y\": {\"value\": 7.5}}}, {\"mark\": {\"type\": \"text\", \"align\": \"left\", \"fill\": \"rgb(117,117,117)\", \"font\": \"Helvetica\", \"fontSize\": 11, \"fontWeight\": 300, \"tooltip\": \"\"}, \"encoding\": {\"text\": {\"value\": \"TIMES LARGER\"}, \"x\": {\"value\": 680.0}, \"y\": {\"value\": 7.5}}}, {\"mark\": {\"type\": \"text\", \"align\": \"center\", \"fill\": \"rgb(117,117,117)\", \"font\": \"Helvetica\", \"fontSize\": 11, \"fontWeight\": 300, \"tooltip\": \"\"}, \"encoding\": {\"text\": {\"value\": \"EQUAL\"}, \"x\": {\"value\": 400.0}, \"y\": {\"value\": 7.5}}}], \"data\": {\"name\": \"data-79dd248bdaa0ea02c535240e8ad022c8\"}}, {\"layer\": [{\"mark\": {\"type\": \"rule\", \"opacity\": 0.8, \"stroke\": \"rgb(217, 46, 28)\", \"strokeWidth\": 1.25, \"tooltip\": \"\"}, \"encoding\": {\"x\": {\"type\": \"quantitative\", \"field\": \"min\", \"scale\": {\"domain\": [-5, 5], \"range\": [80.0, 720.0]}}, \"y\": {\"value\": 25.0}, \"y2\": {\"value\": 225.0}}}, {\"mark\": {\"type\": \"rule\", \"opacity\": 0.8, \"stroke\": \"rgb(217, 46, 28)\", \"strokeWidth\": 1.25, \"tooltip\": \"\"}, \"encoding\": {\"x\": {\"type\": \"quantitative\", \"field\": \"max\", \"scale\": {\"domain\": [-5, 5], \"range\": [80.0, 720.0]}}, \"y\": {\"value\": 25.0}, \"y2\": {\"value\": 225.0}}}, {\"layer\": [{\"mark\": {\"type\": \"rect\", \"fill\": \"rgb(217, 46, 28)\", \"opacity\": 0.1, \"tooltip\": \"\"}, \"encoding\": {\"x\": {\"type\": \"quantitative\", \"field\": \"min\", \"scale\": {\"domain\": [-5, 5], \"range\": [80.0, 720.0]}}, \"x2\": {\"field\": \"lower_end\"}, \"y\": {\"value\": 25.0}, \"y2\": {\"value\": 225.0}}}, {\"mark\": {\"type\": \"rect\", \"fill\": \"rgb(217, 46, 28)\", \"opacity\": 0.1, \"tooltip\": \"\"}, \"encoding\": {\"x\": {\"type\": \"quantitative\", \"field\": \"max\", \"scale\": {\"domain\": [-5, 5], \"range\": [80.0, 720.0]}}, \"x2\": {\"field\": \"upper_end\"}, \"y\": {\"value\": 25.0}, \"y2\": {\"value\": 225.0}}}]}, {\"data\": {\"name\": \"data-79dd248bdaa0ea02c535240e8ad022c8\"}, \"mark\": {\"type\": \"text\", \"align\": \"left\", \"baseline\": \"top\", \"fill\": \"rgb(217, 46, 28)\", \"font\": \"Helvetica\", \"fontSize\": 11, \"fontWeight\": 300, \"tooltip\": \"\"}, \"encoding\": {\"text\": {\"value\": \"The metric value for any group should not be 1.1 (or more) times smaller or larger than that of the reference group urban.\"}, \"x\": {\"value\": 0}, \"y\": {\"value\": 233.33333333333334}}}], \"data\": {\"name\": \"data-7e3fe3a96ecf21c44a755317cc421f06\"}}, {\"layer\": [{\"mark\": \"circle\"}, {\"data\": {\"name\": \"data-b906db7dcf92809d3924bddc7723e6bc\"}, \"mark\": {\"type\": \"circle\", \"opacity\": 0.2}, \"encoding\": {\"color\": {\"condition\": {\"type\": \"nominal\", \"field\": \"attribute_value\", \"legend\": null, \"scale\": {\"domain\": [\"urban\", \"rural\", \"suburban\", \"unknown\"], \"range\": [\"rgb(117,117,117)\", \"rgb(100, 143, 255)\", \"rgb(254, 97, 0)\", \"rgb(220, 38, 127)\", \"rgb(255, 176, 0)\", \"rgb(120, 94, 240)\"]}, \"selection\": \"selector029\"}, \"value\": \"rgb(224,224,224)\"}, \"size\": {\"type\": \"quantitative\", \"field\": \"group_size\", \"legend\": null, \"scale\": {\"domain\": [0, 10938.0], \"range\": [0, 7853.981633974483]}}, \"tooltip\": [{\"type\": \"nominal\", \"field\": \"attribute_value\", \"title\": \"Group\"}, {\"type\": \"nominal\", \"field\": \"tooltip_group_size\", \"title\": \"Group Size\"}, {\"type\": \"nominal\", \"field\": \"tooltip_disparity_explanation_tpr\", \"title\": \"Disparity\"}, {\"type\": \"quantitative\", \"field\": \"tpr\", \"format\": \".2f\", \"title\": \"TPR\"}], \"x\": {\"type\": \"quantitative\", \"axis\": {\"domain\": false, \"labels\": false, \"ticks\": false, \"title\": null, \"values\": [-5, -4, -3, -2, -1, 1, 2, 3, 4, 5]}, \"field\": \"tpr_disparity_scaled\", \"scale\": {\"domain\": [-5, 5], \"range\": [80.0, 720.0]}}, \"y\": {\"type\": \"nominal\", \"axis\": {\"domain\": false, \"grid\": false, \"labels\": false, \"ticks\": false, \"title\": \" \"}, \"field\": \"metric_variable\", \"scale\": {\"domain\": [\"TPR\"], \"range\": [30, 225.0]}}}, \"selection\": {\"selector031\": {\"type\": \"multi\", \"empty\": \"all\", \"fields\": [\"attribute_value\"]}}, \"transform\": [{\"calculate\": \"'TPR'\", \"as\": \"metric_variable\"}]}, {\"layer\": [{\"mark\": \"point\"}, {\"data\": {\"name\": \"data-b906db7dcf92809d3924bddc7723e6bc\"}, \"mark\": {\"type\": \"point\", \"filled\": true, \"size\": 60}, \"encoding\": {\"color\": {\"condition\": {\"type\": \"nominal\", \"field\": \"attribute_value\", \"legend\": null, \"scale\": {\"domain\": [\"urban\", \"rural\", \"suburban\", \"unknown\"], \"range\": [\"rgb(117,117,117)\", \"rgb(100, 143, 255)\", \"rgb(254, 97, 0)\", \"rgb(220, 38, 127)\", \"rgb(255, 176, 0)\", \"rgb(120, 94, 240)\"]}, \"selection\": \"selector029\"}, \"value\": \"rgb(224,224,224)\"}, \"shape\": {\"type\": \"nominal\", \"field\": \"attribute_value\", \"legend\": null, \"scale\": {\"domain\": [\"urban\", \"rural\", \"suburban\", \"unknown\"], \"range\": [\"cross\", \"circle\", \"circle\", \"circle\"]}}, \"tooltip\": [{\"type\": \"nominal\", \"field\": \"attribute_value\", \"title\": \"Group\"}, {\"type\": \"nominal\", \"field\": \"tooltip_group_size\", \"title\": \"Group Size\"}, {\"type\": \"nominal\", \"field\": \"tooltip_disparity_explanation_tpr\", \"title\": \"Disparity\"}, {\"type\": \"quantitative\", \"field\": \"tpr\", \"format\": \".2f\", \"title\": \"TPR\"}], \"x\": {\"type\": \"quantitative\", \"axis\": {\"domain\": false, \"labels\": false, \"ticks\": false, \"title\": null, \"values\": [-5, -4, -3, -2, -1, 1, 2, 3, 4, 5]}, \"field\": \"tpr_disparity_scaled\", \"scale\": {\"domain\": [-5, 5], \"range\": [80.0, 720.0]}}, \"y\": {\"type\": \"nominal\", \"axis\": {\"domain\": false, \"grid\": false, \"labels\": false, \"ticks\": false, \"title\": \" \"}, \"field\": \"metric_variable\", \"scale\": {\"domain\": [\"TPR\"], \"range\": [30, 225.0]}}}, \"selection\": {\"selector030\": {\"type\": \"multi\", \"empty\": \"all\", \"fields\": [\"attribute_value\"]}}, \"transform\": [{\"calculate\": \"'TPR'\", \"as\": \"metric_variable\"}]}]}]}, {\"layer\": [{\"mark\": {\"type\": \"point\", \"filled\": true, \"tooltip\": \"\"}, \"encoding\": {\"color\": {\"condition\": {\"type\": \"nominal\", \"field\": \"attribute_value\", \"legend\": null, \"scale\": {\"domain\": [\"urban\", \"rural\", \"suburban\", \"unknown\"], \"range\": [\"rgb(117,117,117)\", \"rgb(100, 143, 255)\", \"rgb(254, 97, 0)\", \"rgb(220, 38, 127)\", \"rgb(255, 176, 0)\", \"rgb(120, 94, 240)\"]}, \"selection\": \"selector029\"}, \"value\": \"rgb(224,224,224)\"}, \"shape\": {\"type\": \"nominal\", \"field\": \"attribute_value\", \"legend\": null, \"scale\": {\"domain\": [\"urban\", \"rural\", \"suburban\", \"unknown\"], \"range\": [\"cross\", \"circle\", \"circle\", \"circle\"]}}, \"x\": {\"value\": 880.0000000000001}, \"y\": {\"type\": \"nominal\", \"axis\": {\"domain\": false, \"grid\": false, \"labels\": false, \"ticks\": false, \"title\": \" \"}, \"field\": \"attribute_value\", \"scale\": {\"domain\": [\"urban\", \"rural\", \"suburban\", \"unknown\"], \"range\": [21, 115]}}}, \"selection\": {\"selector029\": {\"type\": \"multi\", \"empty\": \"all\", \"fields\": [\"attribute_value\"]}}}, {\"mark\": {\"type\": \"text\", \"align\": \"left\", \"baseline\": \"middle\", \"font\": \"Helvetica\", \"fontSize\": 11, \"fontWeight\": 300, \"tooltip\": \"\"}, \"encoding\": {\"color\": {\"condition\": {\"type\": \"nominal\", \"field\": \"attribute_value\", \"legend\": null, \"scale\": {\"domain\": [\"urban\", \"rural\", \"suburban\", \"unknown\"], \"range\": [\"rgb(117,117,117)\", \"rgb(100, 143, 255)\", \"rgb(254, 97, 0)\", \"rgb(220, 38, 127)\", \"rgb(255, 176, 0)\", \"rgb(120, 94, 240)\"]}, \"selection\": \"selector029\"}, \"value\": \"rgb(224,224,224)\"}, \"text\": {\"type\": \"nominal\", \"field\": \"label\"}, \"x\": {\"value\": 890.0000000000001}, \"y\": {\"type\": \"nominal\", \"axis\": {\"domain\": false, \"grid\": false, \"labels\": false, \"ticks\": false, \"title\": \" \"}, \"field\": \"attribute_value\", \"scale\": {\"domain\": [\"urban\", \"rural\", \"suburban\", \"unknown\"], \"range\": [21, 115]}}}, \"selection\": {\"selector032\": {\"type\": \"multi\", \"empty\": \"all\", \"fields\": [\"attribute_value\"]}}}, {\"data\": {\"name\": \"data-79dd248bdaa0ea02c535240e8ad022c8\"}, \"mark\": {\"type\": \"text\", \"align\": \"left\", \"baseline\": \"middle\", \"color\": \"rgb(117,117,117)\", \"font\": \"Helvetica\", \"fontSize\": 11, \"fontWeight\": 300, \"tooltip\": \"\"}, \"encoding\": {\"text\": {\"value\": \"Click to highlight a group.\"}, \"x\": {\"value\": 880.0000000000001}, \"y\": {\"value\": 0}}}], \"data\": {\"name\": \"data-18fb7170dc3c2a6162046aceca8147c7\"}}], \"height\": 250, \"resolve\": {\"scale\": {\"size\": \"independent\", \"y\": \"independent\"}}, \"width\": 800, \"$schema\": \"https://vega.github.io/schema/vega-lite/v4.8.1.json\", \"datasets\": {\"data-05eca065bb3819a9730ad11cd9fb0dc5\": [{\"metric\": \"TPR\", \"x\": -5.2, \"x2\": 5.2}], \"data-79dd248bdaa0ea02c535240e8ad022c8\": [{\"a\": 1, \"b\": 0}, {\"a\": 1, \"b\": 0}], \"data-480d08adbcf1a8788c7976ef0d60b38c\": [{\"value\": -5, \"label\": 6}, {\"value\": -4, \"label\": 5}, {\"value\": -3, \"label\": 4}, {\"value\": -2, \"label\": 3}, {\"value\": -1, \"label\": 2}, {\"value\": 0, \"label\": \"=\"}, {\"value\": 1, \"label\": 2}, {\"value\": 2, \"label\": 3}, {\"value\": 3, \"label\": 4}, {\"value\": 4, \"label\": 5}, {\"value\": 5, \"label\": 6}], \"data-7e3fe3a96ecf21c44a755317cc421f06\": [{\"min\": -0.10000000000000009, \"max\": 0.10000000000000009, \"lower_end\": -5.2, \"upper_end\": 5.2}], \"data-b906db7dcf92809d3924bddc7723e6bc\": [{\"attribute_name\": \"metro_type\", \"attribute_value\": \"rural\", \"group_size\": 1978, \"total_entities\": 17677, \"tpr\": 0.23636363636363636, \"tpr_disparity\": 5.538787878787879, \"tpr_disparity_scaled\": 4.538787878787879, \"tooltip_group_size\": \"1,978 (11.19%)\", \"tooltip_disparity_explanation_tpr\": \"5.54 times larger TPR than the reference group\"}, {\"attribute_name\": \"metro_type\", \"attribute_value\": \"suburban\", \"group_size\": 4528, \"total_entities\": 17677, \"tpr\": 0.08864795918367346, \"tpr_disparity\": 2.077317176870748, \"tpr_disparity_scaled\": 1.0773171768707481, \"tooltip_group_size\": \"4,528 (25.62%)\", \"tooltip_disparity_explanation_tpr\": \"2.08 times larger TPR than the reference group\"}, {\"attribute_name\": \"metro_type\", \"attribute_value\": \"unknown\", \"group_size\": 2056, \"total_entities\": 17677, \"tpr\": 0.12941176470588237, \"tpr_disparity\": 3.0325490196078437, \"tpr_disparity_scaled\": 2.0325490196078437, \"tooltip_group_size\": \"2,056 (11.63%)\", \"tooltip_disparity_explanation_tpr\": \"3.03 times larger TPR than the reference group\"}, {\"attribute_name\": \"metro_type\", \"attribute_value\": \"urban\", \"group_size\": 9115, \"total_entities\": 17677, \"tpr\": 0.04267425320056899, \"tpr_disparity\": 1.0, \"tpr_disparity_scaled\": 0.0, \"tooltip_group_size\": \"9,115 (51.56%)\", \"tooltip_disparity_explanation_tpr\": \"Reference group\"}], \"data-18fb7170dc3c2a6162046aceca8147c7\": [{\"attribute_value\": \"urban\", \"label\": \"urban [REF]\"}, {\"attribute_value\": \"rural\", \"label\": \"rural\"}, {\"attribute_value\": \"suburban\", \"label\": \"suburban\"}, {\"attribute_value\": \"unknown\", \"label\": \"unknown\"}]}}, {\"mode\": \"vega-lite\"});\n",
       "</script>"
      ],
      "text/plain": [
       "alt.LayerChart(...)"
      ]
     },
     "execution_count": 48,
     "metadata": {},
     "output_type": "execute_result"
    }
   ],
   "source": [
    "ap.disparities(bdf, metrics, 'metro_type', fairness_threshold = 1.10)"
   ]
  },
  {
   "cell_type": "code",
   "execution_count": 49,
   "metadata": {},
   "outputs": [
    {
     "data": {
      "text/html": [
       "\n",
       "<div id=\"altair-viz-e9d5b6fb95db4906a63911bdb780194b\"></div>\n",
       "<script type=\"text/javascript\">\n",
       "  (function(spec, embedOpt){\n",
       "    let outputDiv = document.currentScript.previousElementSibling;\n",
       "    if (outputDiv.id !== \"altair-viz-e9d5b6fb95db4906a63911bdb780194b\") {\n",
       "      outputDiv = document.getElementById(\"altair-viz-e9d5b6fb95db4906a63911bdb780194b\");\n",
       "    }\n",
       "    const paths = {\n",
       "      \"vega\": \"https://cdn.jsdelivr.net/npm//vega@5?noext\",\n",
       "      \"vega-lib\": \"https://cdn.jsdelivr.net/npm//vega-lib?noext\",\n",
       "      \"vega-lite\": \"https://cdn.jsdelivr.net/npm//vega-lite@4.8.1?noext\",\n",
       "      \"vega-embed\": \"https://cdn.jsdelivr.net/npm//vega-embed@6?noext\",\n",
       "    };\n",
       "\n",
       "    function loadScript(lib) {\n",
       "      return new Promise(function(resolve, reject) {\n",
       "        var s = document.createElement('script');\n",
       "        s.src = paths[lib];\n",
       "        s.async = true;\n",
       "        s.onload = () => resolve(paths[lib]);\n",
       "        s.onerror = () => reject(`Error loading script: ${paths[lib]}`);\n",
       "        document.getElementsByTagName(\"head\")[0].appendChild(s);\n",
       "      });\n",
       "    }\n",
       "\n",
       "    function showError(err) {\n",
       "      outputDiv.innerHTML = `<div class=\"error\" style=\"color:red;\">${err}</div>`;\n",
       "      throw err;\n",
       "    }\n",
       "\n",
       "    function displayChart(vegaEmbed) {\n",
       "      vegaEmbed(outputDiv, spec, embedOpt)\n",
       "        .catch(err => showError(`Javascript Error: ${err.message}<br>This usually means there's a typo in your chart specification. See the javascript console for the full traceback.`));\n",
       "    }\n",
       "\n",
       "    if(typeof define === \"function\" && define.amd) {\n",
       "      requirejs.config({paths});\n",
       "      require([\"vega-embed\"], displayChart, err => showError(`Error loading script: ${err.message}`));\n",
       "    } else if (typeof vegaEmbed === \"function\") {\n",
       "      displayChart(vegaEmbed);\n",
       "    } else {\n",
       "      loadScript(\"vega\")\n",
       "        .then(() => loadScript(\"vega-lite\"))\n",
       "        .then(() => loadScript(\"vega-embed\"))\n",
       "        .catch(showError)\n",
       "        .then(() => displayChart(vegaEmbed));\n",
       "    }\n",
       "  })({\"config\": {\"view\": {\"continuousWidth\": 400, \"continuousHeight\": 300, \"strokeWidth\": 0}, \"axisLeft\": {\"labelColor\": \"rgb(117,117,117)\", \"labelFont\": \"Helvetica\", \"labelFontSize\": 16}}, \"layer\": [{\"data\": {\"name\": \"data-a80bbe78875d74850191493116348974\"}, \"mark\": {\"type\": \"rule\", \"stroke\": \"rgb(117,117,117)\", \"strokeWidth\": 1.25, \"tooltip\": \"\"}, \"encoding\": {\"x\": {\"type\": \"quantitative\", \"field\": \"x\", \"scale\": {\"domain\": [-3, 3], \"range\": [80.0, 720.0]}}, \"x2\": {\"field\": \"x2\"}, \"y\": {\"type\": \"nominal\", \"axis\": {\"domain\": false, \"labelAngle\": 0, \"labelPadding\": -30, \"orient\": \"left\", \"ticks\": false, \"title\": \"\"}, \"field\": \"metric\", \"scale\": {\"domain\": [\"TPR\"], \"range\": [30, 225.0]}}}}, {\"data\": {\"name\": \"data-79dd248bdaa0ea02c535240e8ad022c8\"}, \"mark\": {\"type\": \"rule\", \"stroke\": \"rgb(117,117,117)\", \"strokeDash\": [5, 5], \"strokeWidth\": 1}, \"encoding\": {\"tooltip\": {\"value\": \"male [REF]\"}, \"x\": {\"value\": 400.0}, \"y\": {\"value\": 20.833333333333336}, \"y2\": {\"value\": 229.16666666666666}}}, {\"data\": {\"name\": \"data-f70f876ef858e7578abafe4eee75fee4\"}, \"mark\": {\"type\": \"text\", \"align\": \"center\", \"color\": \"rgb(117,117,117)\", \"font\": \"Helvetica\", \"fontSize\": 11, \"fontWeight\": 300, \"tooltip\": \"\"}, \"encoding\": {\"text\": {\"type\": \"nominal\", \"field\": \"label\"}, \"x\": {\"type\": \"quantitative\", \"field\": \"value\", \"scale\": {\"domain\": [-3, 3], \"range\": [80.0, 720.0]}}, \"y\": {\"value\": 17.5}}}, {\"layer\": [{\"mark\": {\"type\": \"text\", \"align\": \"right\", \"fill\": \"rgb(117,117,117)\", \"font\": \"Helvetica\", \"fontSize\": 11, \"fontWeight\": 300, \"tooltip\": \"\"}, \"encoding\": {\"text\": {\"value\": \"TIMES SMALLER\"}, \"x\": {\"value\": 120.0}, \"y\": {\"value\": 7.5}}}, {\"mark\": {\"type\": \"text\", \"align\": \"left\", \"fill\": \"rgb(117,117,117)\", \"font\": \"Helvetica\", \"fontSize\": 11, \"fontWeight\": 300, \"tooltip\": \"\"}, \"encoding\": {\"text\": {\"value\": \"TIMES LARGER\"}, \"x\": {\"value\": 680.0}, \"y\": {\"value\": 7.5}}}, {\"mark\": {\"type\": \"text\", \"align\": \"center\", \"fill\": \"rgb(117,117,117)\", \"font\": \"Helvetica\", \"fontSize\": 11, \"fontWeight\": 300, \"tooltip\": \"\"}, \"encoding\": {\"text\": {\"value\": \"EQUAL\"}, \"x\": {\"value\": 400.0}, \"y\": {\"value\": 7.5}}}], \"data\": {\"name\": \"data-79dd248bdaa0ea02c535240e8ad022c8\"}}, {\"layer\": [{\"mark\": {\"type\": \"rule\", \"opacity\": 0.8, \"stroke\": \"rgb(217, 46, 28)\", \"strokeWidth\": 1.25, \"tooltip\": \"\"}, \"encoding\": {\"x\": {\"type\": \"quantitative\", \"field\": \"min\", \"scale\": {\"domain\": [-3, 3], \"range\": [80.0, 720.0]}}, \"y\": {\"value\": 25.0}, \"y2\": {\"value\": 225.0}}}, {\"mark\": {\"type\": \"rule\", \"opacity\": 0.8, \"stroke\": \"rgb(217, 46, 28)\", \"strokeWidth\": 1.25, \"tooltip\": \"\"}, \"encoding\": {\"x\": {\"type\": \"quantitative\", \"field\": \"max\", \"scale\": {\"domain\": [-3, 3], \"range\": [80.0, 720.0]}}, \"y\": {\"value\": 25.0}, \"y2\": {\"value\": 225.0}}}, {\"layer\": [{\"mark\": {\"type\": \"rect\", \"fill\": \"rgb(217, 46, 28)\", \"opacity\": 0.1, \"tooltip\": \"\"}, \"encoding\": {\"x\": {\"type\": \"quantitative\", \"field\": \"min\", \"scale\": {\"domain\": [-3, 3], \"range\": [80.0, 720.0]}}, \"x2\": {\"field\": \"lower_end\"}, \"y\": {\"value\": 25.0}, \"y2\": {\"value\": 225.0}}}, {\"mark\": {\"type\": \"rect\", \"fill\": \"rgb(217, 46, 28)\", \"opacity\": 0.1, \"tooltip\": \"\"}, \"encoding\": {\"x\": {\"type\": \"quantitative\", \"field\": \"max\", \"scale\": {\"domain\": [-3, 3], \"range\": [80.0, 720.0]}}, \"x2\": {\"field\": \"upper_end\"}, \"y\": {\"value\": 25.0}, \"y2\": {\"value\": 225.0}}}]}, {\"data\": {\"name\": \"data-79dd248bdaa0ea02c535240e8ad022c8\"}, \"mark\": {\"type\": \"text\", \"align\": \"left\", \"baseline\": \"top\", \"fill\": \"rgb(217, 46, 28)\", \"font\": \"Helvetica\", \"fontSize\": 11, \"fontWeight\": 300, \"tooltip\": \"\"}, \"encoding\": {\"text\": {\"value\": \"The metric value for any group should not be 1.1 (or more) times smaller or larger than that of the reference group male.\"}, \"x\": {\"value\": 0}, \"y\": {\"value\": 233.33333333333334}}}], \"data\": {\"name\": \"data-6799aff6ca7ea4862ededec7ffb1ba95\"}}, {\"layer\": [{\"mark\": \"circle\"}, {\"data\": {\"name\": \"data-245a39d18cb435c8c6f2b645a04c4cf3\"}, \"mark\": {\"type\": \"circle\", \"opacity\": 0.2}, \"encoding\": {\"color\": {\"condition\": {\"type\": \"nominal\", \"field\": \"attribute_value\", \"legend\": null, \"scale\": {\"domain\": [\"male\", \"female\", \"unknown\"], \"range\": [\"rgb(117,117,117)\", \"rgb(100, 143, 255)\", \"rgb(254, 97, 0)\", \"rgb(220, 38, 127)\", \"rgb(255, 176, 0)\", \"rgb(120, 94, 240)\"]}, \"selection\": \"selector033\"}, \"value\": \"rgb(224,224,224)\"}, \"size\": {\"type\": \"quantitative\", \"field\": \"group_size\", \"legend\": null, \"scale\": {\"domain\": [0, 18110.399999999998], \"range\": [0, 7853.981633974483]}}, \"tooltip\": [{\"type\": \"nominal\", \"field\": \"attribute_value\", \"title\": \"Group\"}, {\"type\": \"nominal\", \"field\": \"tooltip_group_size\", \"title\": \"Group Size\"}, {\"type\": \"nominal\", \"field\": \"tooltip_disparity_explanation_tpr\", \"title\": \"Disparity\"}, {\"type\": \"quantitative\", \"field\": \"tpr\", \"format\": \".2f\", \"title\": \"TPR\"}], \"x\": {\"type\": \"quantitative\", \"axis\": {\"domain\": false, \"labels\": false, \"ticks\": false, \"title\": null, \"values\": [-3, -2, -1, 1, 2, 3]}, \"field\": \"tpr_disparity_scaled\", \"scale\": {\"domain\": [-3, 3], \"range\": [80.0, 720.0]}}, \"y\": {\"type\": \"nominal\", \"axis\": {\"domain\": false, \"grid\": false, \"labels\": false, \"ticks\": false, \"title\": \" \"}, \"field\": \"metric_variable\", \"scale\": {\"domain\": [\"TPR\"], \"range\": [30, 225.0]}}}, \"selection\": {\"selector035\": {\"type\": \"multi\", \"empty\": \"all\", \"fields\": [\"attribute_value\"]}}, \"transform\": [{\"calculate\": \"'TPR'\", \"as\": \"metric_variable\"}]}, {\"layer\": [{\"mark\": \"point\"}, {\"data\": {\"name\": \"data-245a39d18cb435c8c6f2b645a04c4cf3\"}, \"mark\": {\"type\": \"point\", \"filled\": true, \"size\": 60}, \"encoding\": {\"color\": {\"condition\": {\"type\": \"nominal\", \"field\": \"attribute_value\", \"legend\": null, \"scale\": {\"domain\": [\"male\", \"female\", \"unknown\"], \"range\": [\"rgb(117,117,117)\", \"rgb(100, 143, 255)\", \"rgb(254, 97, 0)\", \"rgb(220, 38, 127)\", \"rgb(255, 176, 0)\", \"rgb(120, 94, 240)\"]}, \"selection\": \"selector033\"}, \"value\": \"rgb(224,224,224)\"}, \"shape\": {\"type\": \"nominal\", \"field\": \"attribute_value\", \"legend\": null, \"scale\": {\"domain\": [\"male\", \"female\", \"unknown\"], \"range\": [\"cross\", \"circle\", \"circle\"]}}, \"tooltip\": [{\"type\": \"nominal\", \"field\": \"attribute_value\", \"title\": \"Group\"}, {\"type\": \"nominal\", \"field\": \"tooltip_group_size\", \"title\": \"Group Size\"}, {\"type\": \"nominal\", \"field\": \"tooltip_disparity_explanation_tpr\", \"title\": \"Disparity\"}, {\"type\": \"quantitative\", \"field\": \"tpr\", \"format\": \".2f\", \"title\": \"TPR\"}], \"x\": {\"type\": \"quantitative\", \"axis\": {\"domain\": false, \"labels\": false, \"ticks\": false, \"title\": null, \"values\": [-3, -2, -1, 1, 2, 3]}, \"field\": \"tpr_disparity_scaled\", \"scale\": {\"domain\": [-3, 3], \"range\": [80.0, 720.0]}}, \"y\": {\"type\": \"nominal\", \"axis\": {\"domain\": false, \"grid\": false, \"labels\": false, \"ticks\": false, \"title\": \" \"}, \"field\": \"metric_variable\", \"scale\": {\"domain\": [\"TPR\"], \"range\": [30, 225.0]}}}, \"selection\": {\"selector034\": {\"type\": \"multi\", \"empty\": \"all\", \"fields\": [\"attribute_value\"]}}, \"transform\": [{\"calculate\": \"'TPR'\", \"as\": \"metric_variable\"}]}]}]}, {\"layer\": [{\"mark\": {\"type\": \"point\", \"filled\": true, \"tooltip\": \"\"}, \"encoding\": {\"color\": {\"condition\": {\"type\": \"nominal\", \"field\": \"attribute_value\", \"legend\": null, \"scale\": {\"domain\": [\"male\", \"female\", \"unknown\"], \"range\": [\"rgb(117,117,117)\", \"rgb(100, 143, 255)\", \"rgb(254, 97, 0)\", \"rgb(220, 38, 127)\", \"rgb(255, 176, 0)\", \"rgb(120, 94, 240)\"]}, \"selection\": \"selector033\"}, \"value\": \"rgb(224,224,224)\"}, \"shape\": {\"type\": \"nominal\", \"field\": \"attribute_value\", \"legend\": null, \"scale\": {\"domain\": [\"male\", \"female\", \"unknown\"], \"range\": [\"cross\", \"circle\", \"circle\"]}}, \"x\": {\"value\": 880.0000000000001}, \"y\": {\"type\": \"nominal\", \"axis\": {\"domain\": false, \"grid\": false, \"labels\": false, \"ticks\": false, \"title\": \" \"}, \"field\": \"attribute_value\", \"scale\": {\"domain\": [\"male\", \"female\", \"unknown\"], \"range\": [21, 94]}}}, \"selection\": {\"selector033\": {\"type\": \"multi\", \"empty\": \"all\", \"fields\": [\"attribute_value\"]}}}, {\"mark\": {\"type\": \"text\", \"align\": \"left\", \"baseline\": \"middle\", \"font\": \"Helvetica\", \"fontSize\": 11, \"fontWeight\": 300, \"tooltip\": \"\"}, \"encoding\": {\"color\": {\"condition\": {\"type\": \"nominal\", \"field\": \"attribute_value\", \"legend\": null, \"scale\": {\"domain\": [\"male\", \"female\", \"unknown\"], \"range\": [\"rgb(117,117,117)\", \"rgb(100, 143, 255)\", \"rgb(254, 97, 0)\", \"rgb(220, 38, 127)\", \"rgb(255, 176, 0)\", \"rgb(120, 94, 240)\"]}, \"selection\": \"selector033\"}, \"value\": \"rgb(224,224,224)\"}, \"text\": {\"type\": \"nominal\", \"field\": \"label\"}, \"x\": {\"value\": 890.0000000000001}, \"y\": {\"type\": \"nominal\", \"axis\": {\"domain\": false, \"grid\": false, \"labels\": false, \"ticks\": false, \"title\": \" \"}, \"field\": \"attribute_value\", \"scale\": {\"domain\": [\"male\", \"female\", \"unknown\"], \"range\": [21, 94]}}}, \"selection\": {\"selector036\": {\"type\": \"multi\", \"empty\": \"all\", \"fields\": [\"attribute_value\"]}}}, {\"data\": {\"name\": \"data-79dd248bdaa0ea02c535240e8ad022c8\"}, \"mark\": {\"type\": \"text\", \"align\": \"left\", \"baseline\": \"middle\", \"color\": \"rgb(117,117,117)\", \"font\": \"Helvetica\", \"fontSize\": 11, \"fontWeight\": 300, \"tooltip\": \"\"}, \"encoding\": {\"text\": {\"value\": \"Click to highlight a group.\"}, \"x\": {\"value\": 880.0000000000001}, \"y\": {\"value\": 0}}}], \"data\": {\"name\": \"data-6df95a8a7494697b991a127cc09eea8e\"}}], \"height\": 250, \"resolve\": {\"scale\": {\"size\": \"independent\", \"y\": \"independent\"}}, \"width\": 800, \"$schema\": \"https://vega.github.io/schema/vega-lite/v4.8.1.json\", \"datasets\": {\"data-a80bbe78875d74850191493116348974\": [{\"metric\": \"TPR\", \"x\": -3.2, \"x2\": 3.2}], \"data-79dd248bdaa0ea02c535240e8ad022c8\": [{\"a\": 1, \"b\": 0}, {\"a\": 1, \"b\": 0}], \"data-f70f876ef858e7578abafe4eee75fee4\": [{\"value\": -3, \"label\": 4}, {\"value\": -2, \"label\": 3}, {\"value\": -1, \"label\": 2}, {\"value\": 0, \"label\": \"=\"}, {\"value\": 1, \"label\": 2}, {\"value\": 2, \"label\": 3}, {\"value\": 3, \"label\": 4}], \"data-6799aff6ca7ea4862ededec7ffb1ba95\": [{\"min\": -0.10000000000000009, \"max\": 0.10000000000000009, \"lower_end\": -3.2, \"upper_end\": 3.2}], \"data-245a39d18cb435c8c6f2b645a04c4cf3\": [{\"attribute_name\": \"teacher_sex\", \"attribute_value\": \"female\", \"group_size\": 15092, \"total_entities\": 17677, \"tpr\": 0.10258402953176608, \"tpr_disparity\": 3.3770662521857395, \"tpr_disparity_scaled\": 2.3770662521857395, \"tooltip_group_size\": \"15,092 (85.38%)\", \"tooltip_disparity_explanation_tpr\": \"3.38 times larger TPR than the reference group\"}, {\"attribute_name\": \"teacher_sex\", \"attribute_value\": \"male\", \"group_size\": 2584, \"total_entities\": 17677, \"tpr\": 0.030376670716889428, \"tpr_disparity\": 1.0, \"tpr_disparity_scaled\": 0.0, \"tooltip_group_size\": \"2,584 (14.62%)\", \"tooltip_disparity_explanation_tpr\": \"Reference group\"}, {\"attribute_name\": \"teacher_sex\", \"attribute_value\": \"unknown\", \"group_size\": 1, \"total_entities\": 17677, \"tpr\": null, \"tpr_disparity\": null, \"tpr_disparity_scaled\": null, \"tooltip_group_size\": \"1 (0.01%)\", \"tooltip_disparity_explanation_tpr\": \"Same TPR as the reference group\"}], \"data-6df95a8a7494697b991a127cc09eea8e\": [{\"attribute_value\": \"male\", \"label\": \"male [REF]\"}, {\"attribute_value\": \"female\", \"label\": \"female\"}, {\"attribute_value\": \"unknown\", \"label\": \"unknown\"}]}}, {\"mode\": \"vega-lite\"});\n",
       "</script>"
      ],
      "text/plain": [
       "alt.LayerChart(...)"
      ]
     },
     "execution_count": 49,
     "metadata": {},
     "output_type": "execute_result"
    }
   ],
   "source": [
    "ap.disparities(bdf, metrics, 'teacher_sex', fairness_threshold = 1.10)"
   ]
  },
  {
   "cell_type": "code",
   "execution_count": null,
   "metadata": {},
   "outputs": [],
   "source": []
  }
 ],
 "metadata": {
  "kernelspec": {
   "display_name": "Python 3",
   "language": "python",
   "name": "python3"
  },
  "language_info": {
   "codemirror_mode": {
    "name": "ipython",
    "version": 3
   },
   "file_extension": ".py",
   "mimetype": "text/x-python",
   "name": "python",
   "nbconvert_exporter": "python",
   "pygments_lexer": "ipython3",
   "version": "3.7.8"
  }
 },
 "nbformat": 4,
 "nbformat_minor": 4
}
