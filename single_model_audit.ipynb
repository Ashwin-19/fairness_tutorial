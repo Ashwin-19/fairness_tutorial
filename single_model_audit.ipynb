{
 "cells": [
  {
   "cell_type": "code",
   "execution_count": 50,
   "metadata": {},
   "outputs": [
    {
     "data": {
      "text/html": [
       "<style>.container { width:75% !important; }</style>"
      ],
      "text/plain": [
       "<IPython.core.display.HTML object>"
      ]
     },
     "metadata": {},
     "output_type": "display_data"
    }
   ],
   "source": [
    "from IPython.core.display import display, HTML\n",
    "display(HTML(\"<style>.container { width:75% !important; }</style>\"))\n",
    "import yaml\n",
    "import os\n",
    "import pandas as pd\n",
    "import numpy as np\n",
    "import seaborn as sns\n",
    "from aequitas.group import Group\n",
    "from aequitas.bias import Bias\n",
    "from aequitas.fairness import Fairness\n",
    "import aequitas.plot as ap"
   ]
  },
  {
   "cell_type": "code",
   "execution_count": 186,
   "metadata": {},
   "outputs": [],
   "source": [
    "datadir = os.path.join(os.getcwd(),'data/donors-choose/single-model-audit')"
   ]
  },
  {
   "cell_type": "code",
   "execution_count": 59,
   "metadata": {},
   "outputs": [],
   "source": [
    "with open(os.path.join(datadir,'best_precision.yaml')) as file:\n",
    "    metadata = yaml.load(file, Loader=yaml.FullLoader)"
   ]
  },
  {
   "cell_type": "markdown",
   "metadata": {},
   "source": [
    "# Model with Highest Precision at top 1000"
   ]
  },
  {
   "cell_type": "code",
   "execution_count": 6,
   "metadata": {},
   "outputs": [
    {
     "data": {
      "text/plain": [
       "{'val_predictions': '',\n",
       " 'test_predictions': 'predictions_c598fbe93f4c218ac7d325fb478598f1.csv.gz',\n",
       " 'model_uuid': 'a04e2eedd9c5ff18bcf77e84ae9db561',\n",
       " 'model_classpath': 'sklearn.ensemble.RandomForestClassifier',\n",
       " 'model_hyperparameters': None,\n",
       " 'training_set': {'matrix_uuid': '',\n",
       "  'num_rows': 0,\n",
       "  'num_cols': 114,\n",
       "  'label_col': 'quickstart_label'},\n",
       " 'eval_params': {'target_pp': {1000: {'global_threshold': 0.527624878013593}}}}"
      ]
     },
     "execution_count": 6,
     "metadata": {},
     "output_type": "execute_result"
    }
   ],
   "source": [
    "metadata"
   ]
  },
  {
   "cell_type": "code",
   "execution_count": 187,
   "metadata": {},
   "outputs": [],
   "source": [
    "preds = pd.read_csv(os.path.join(datadir,metadata['test_predictions']), compression='gzip')"
   ]
  },
  {
   "cell_type": "code",
   "execution_count": 188,
   "metadata": {},
   "outputs": [
    {
     "data": {
      "text/plain": [
       "(17677, 4)"
      ]
     },
     "execution_count": 188,
     "metadata": {},
     "output_type": "execute_result"
    }
   ],
   "source": [
    "preds.shape"
   ]
  },
  {
   "cell_type": "markdown",
   "metadata": {},
   "source": [
    "# Thresholding\n"
   ]
  },
  {
   "cell_type": "code",
   "execution_count": 189,
   "metadata": {},
   "outputs": [
    {
     "data": {
      "text/html": [
       "<div>\n",
       "<style scoped>\n",
       "    .dataframe tbody tr th:only-of-type {\n",
       "        vertical-align: middle;\n",
       "    }\n",
       "\n",
       "    .dataframe tbody tr th {\n",
       "        vertical-align: top;\n",
       "    }\n",
       "\n",
       "    .dataframe thead th {\n",
       "        text-align: right;\n",
       "    }\n",
       "</style>\n",
       "<table border=\"1\" class=\"dataframe\">\n",
       "  <thead>\n",
       "    <tr style=\"text-align: right;\">\n",
       "      <th></th>\n",
       "      <th>entity_id</th>\n",
       "      <th>as_of_date</th>\n",
       "      <th>quickstart_label</th>\n",
       "      <th>predict_proba</th>\n",
       "    </tr>\n",
       "  </thead>\n",
       "  <tbody>\n",
       "    <tr>\n",
       "      <th>0</th>\n",
       "      <td>185730</td>\n",
       "      <td>1354320000000</td>\n",
       "      <td>0.0</td>\n",
       "      <td>0.308565</td>\n",
       "    </tr>\n",
       "    <tr>\n",
       "      <th>1</th>\n",
       "      <td>185729</td>\n",
       "      <td>1354320000000</td>\n",
       "      <td>0.0</td>\n",
       "      <td>0.371010</td>\n",
       "    </tr>\n",
       "    <tr>\n",
       "      <th>2</th>\n",
       "      <td>185738</td>\n",
       "      <td>1354320000000</td>\n",
       "      <td>0.0</td>\n",
       "      <td>0.438470</td>\n",
       "    </tr>\n",
       "    <tr>\n",
       "      <th>3</th>\n",
       "      <td>185737</td>\n",
       "      <td>1354320000000</td>\n",
       "      <td>0.0</td>\n",
       "      <td>0.470824</td>\n",
       "    </tr>\n",
       "    <tr>\n",
       "      <th>4</th>\n",
       "      <td>185736</td>\n",
       "      <td>1354320000000</td>\n",
       "      <td>0.0</td>\n",
       "      <td>0.248637</td>\n",
       "    </tr>\n",
       "  </tbody>\n",
       "</table>\n",
       "</div>"
      ],
      "text/plain": [
       "   entity_id     as_of_date  quickstart_label  predict_proba\n",
       "0     185730  1354320000000               0.0       0.308565\n",
       "1     185729  1354320000000               0.0       0.371010\n",
       "2     185738  1354320000000               0.0       0.438470\n",
       "3     185737  1354320000000               0.0       0.470824\n",
       "4     185736  1354320000000               0.0       0.248637"
      ]
     },
     "execution_count": 189,
     "metadata": {},
     "output_type": "execute_result"
    }
   ],
   "source": [
    "preds.head()"
   ]
  },
  {
   "cell_type": "code",
   "execution_count": 190,
   "metadata": {},
   "outputs": [],
   "source": [
    "preds = preds.sort_values('predict_proba', ascending = False).reset_index(drop=True).copy()\n",
    "\n",
    "preds['score'] = preds.apply(lambda x: 1.0 if int(x.name)  < 1000 else 0.0, axis=1)"
   ]
  },
  {
   "cell_type": "code",
   "execution_count": 191,
   "metadata": {},
   "outputs": [
    {
     "data": {
      "text/plain": [
       "0.0    16677\n",
       "1.0     1000\n",
       "Name: score, dtype: int64"
      ]
     },
     "execution_count": 191,
     "metadata": {},
     "output_type": "execute_result"
    }
   ],
   "source": [
    "preds['score'].value_counts()"
   ]
  },
  {
   "cell_type": "code",
   "execution_count": 192,
   "metadata": {},
   "outputs": [],
   "source": [
    "preds.rename(columns={'quickstart_label':'label_value'}, inplace=True)"
   ]
  },
  {
   "cell_type": "code",
   "execution_count": 193,
   "metadata": {},
   "outputs": [
    {
     "data": {
      "text/html": [
       "<div>\n",
       "<style scoped>\n",
       "    .dataframe tbody tr th:only-of-type {\n",
       "        vertical-align: middle;\n",
       "    }\n",
       "\n",
       "    .dataframe tbody tr th {\n",
       "        vertical-align: top;\n",
       "    }\n",
       "\n",
       "    .dataframe thead th {\n",
       "        text-align: right;\n",
       "    }\n",
       "</style>\n",
       "<table border=\"1\" class=\"dataframe\">\n",
       "  <thead>\n",
       "    <tr style=\"text-align: right;\">\n",
       "      <th></th>\n",
       "      <th>entity_id</th>\n",
       "      <th>as_of_date</th>\n",
       "      <th>label_value</th>\n",
       "      <th>predict_proba</th>\n",
       "      <th>score</th>\n",
       "    </tr>\n",
       "  </thead>\n",
       "  <tbody>\n",
       "    <tr>\n",
       "      <th>0</th>\n",
       "      <td>168836</td>\n",
       "      <td>1359504000000</td>\n",
       "      <td>0.0</td>\n",
       "      <td>0.658896</td>\n",
       "      <td>1.0</td>\n",
       "    </tr>\n",
       "    <tr>\n",
       "      <th>1</th>\n",
       "      <td>169208</td>\n",
       "      <td>1359331200000</td>\n",
       "      <td>1.0</td>\n",
       "      <td>0.657936</td>\n",
       "      <td>1.0</td>\n",
       "    </tr>\n",
       "    <tr>\n",
       "      <th>2</th>\n",
       "      <td>173882</td>\n",
       "      <td>1358121600000</td>\n",
       "      <td>1.0</td>\n",
       "      <td>0.657853</td>\n",
       "      <td>1.0</td>\n",
       "    </tr>\n",
       "    <tr>\n",
       "      <th>3</th>\n",
       "      <td>184207</td>\n",
       "      <td>1354665600000</td>\n",
       "      <td>0.0</td>\n",
       "      <td>0.652161</td>\n",
       "      <td>1.0</td>\n",
       "    </tr>\n",
       "    <tr>\n",
       "      <th>4</th>\n",
       "      <td>180129</td>\n",
       "      <td>1355529600000</td>\n",
       "      <td>1.0</td>\n",
       "      <td>0.651767</td>\n",
       "      <td>1.0</td>\n",
       "    </tr>\n",
       "  </tbody>\n",
       "</table>\n",
       "</div>"
      ],
      "text/plain": [
       "   entity_id     as_of_date  label_value  predict_proba  score\n",
       "0     168836  1359504000000          0.0       0.658896    1.0\n",
       "1     169208  1359331200000          1.0       0.657936    1.0\n",
       "2     173882  1358121600000          1.0       0.657853    1.0\n",
       "3     184207  1354665600000          0.0       0.652161    1.0\n",
       "4     180129  1355529600000          1.0       0.651767    1.0"
      ]
     },
     "execution_count": 193,
     "metadata": {},
     "output_type": "execute_result"
    }
   ],
   "source": [
    "preds.head()"
   ]
  },
  {
   "cell_type": "code",
   "execution_count": 170,
   "metadata": {},
   "outputs": [
    {
     "data": {
      "text/html": [
       "<div>\n",
       "<style scoped>\n",
       "    .dataframe tbody tr th:only-of-type {\n",
       "        vertical-align: middle;\n",
       "    }\n",
       "\n",
       "    .dataframe tbody tr th {\n",
       "        vertical-align: top;\n",
       "    }\n",
       "\n",
       "    .dataframe thead th {\n",
       "        text-align: right;\n",
       "    }\n",
       "</style>\n",
       "<table border=\"1\" class=\"dataframe\">\n",
       "  <thead>\n",
       "    <tr style=\"text-align: right;\">\n",
       "      <th></th>\n",
       "      <th>entity_id</th>\n",
       "      <th>as_of_date</th>\n",
       "      <th>poverty_level</th>\n",
       "      <th>teacher_sex</th>\n",
       "      <th>metro_type</th>\n",
       "    </tr>\n",
       "  </thead>\n",
       "  <tbody>\n",
       "    <tr>\n",
       "      <th>17667</th>\n",
       "      <td>168445</td>\n",
       "      <td>1359590400000</td>\n",
       "      <td>highest</td>\n",
       "      <td>female</td>\n",
       "      <td>urban</td>\n",
       "    </tr>\n",
       "    <tr>\n",
       "      <th>17668</th>\n",
       "      <td>168446</td>\n",
       "      <td>1359590400000</td>\n",
       "      <td>highest</td>\n",
       "      <td>female</td>\n",
       "      <td>suburban_rural</td>\n",
       "    </tr>\n",
       "    <tr>\n",
       "      <th>17669</th>\n",
       "      <td>168447</td>\n",
       "      <td>1359590400000</td>\n",
       "      <td>lower</td>\n",
       "      <td>female</td>\n",
       "      <td>suburban_rural</td>\n",
       "    </tr>\n",
       "    <tr>\n",
       "      <th>17670</th>\n",
       "      <td>168448</td>\n",
       "      <td>1359590400000</td>\n",
       "      <td>highest</td>\n",
       "      <td>female</td>\n",
       "      <td>urban</td>\n",
       "    </tr>\n",
       "    <tr>\n",
       "      <th>17671</th>\n",
       "      <td>168449</td>\n",
       "      <td>1359590400000</td>\n",
       "      <td>highest</td>\n",
       "      <td>female</td>\n",
       "      <td>urban</td>\n",
       "    </tr>\n",
       "    <tr>\n",
       "      <th>17672</th>\n",
       "      <td>168451</td>\n",
       "      <td>1359590400000</td>\n",
       "      <td>lower</td>\n",
       "      <td>female</td>\n",
       "      <td>urban</td>\n",
       "    </tr>\n",
       "    <tr>\n",
       "      <th>17673</th>\n",
       "      <td>168452</td>\n",
       "      <td>1359590400000</td>\n",
       "      <td>lower</td>\n",
       "      <td>female</td>\n",
       "      <td>suburban_rural</td>\n",
       "    </tr>\n",
       "    <tr>\n",
       "      <th>17674</th>\n",
       "      <td>168453</td>\n",
       "      <td>1359590400000</td>\n",
       "      <td>lower</td>\n",
       "      <td>female</td>\n",
       "      <td>unknown</td>\n",
       "    </tr>\n",
       "    <tr>\n",
       "      <th>17675</th>\n",
       "      <td>168430</td>\n",
       "      <td>1359590400000</td>\n",
       "      <td>highest</td>\n",
       "      <td>female</td>\n",
       "      <td>suburban_rural</td>\n",
       "    </tr>\n",
       "    <tr>\n",
       "      <th>17676</th>\n",
       "      <td>168476</td>\n",
       "      <td>1359590400000</td>\n",
       "      <td>highest</td>\n",
       "      <td>female</td>\n",
       "      <td>urban</td>\n",
       "    </tr>\n",
       "  </tbody>\n",
       "</table>\n",
       "</div>"
      ],
      "text/plain": [
       "       entity_id     as_of_date poverty_level teacher_sex      metro_type\n",
       "17667     168445  1359590400000       highest      female           urban\n",
       "17668     168446  1359590400000       highest      female  suburban_rural\n",
       "17669     168447  1359590400000         lower      female  suburban_rural\n",
       "17670     168448  1359590400000       highest      female           urban\n",
       "17671     168449  1359590400000       highest      female           urban\n",
       "17672     168451  1359590400000         lower      female           urban\n",
       "17673     168452  1359590400000         lower      female  suburban_rural\n",
       "17674     168453  1359590400000         lower      female         unknown\n",
       "17675     168430  1359590400000       highest      female  suburban_rural\n",
       "17676     168476  1359590400000       highest      female           urban"
      ]
     },
     "execution_count": 170,
     "metadata": {},
     "output_type": "execute_result"
    }
   ],
   "source": [
    "datadir = os.path.join(os.getcwd(),'data/donors-choose-splits/')\n",
    "attr_df = pd.read_csv(os.path.join(datadir,'test_20121201_20130201_protected.csv.gz'), compression='gzip')\n",
    "attr_df.tail(10)"
   ]
  },
  {
   "cell_type": "code",
   "execution_count": 52,
   "metadata": {},
   "outputs": [
    {
     "data": {
      "text/plain": [
       "(165618, 6)"
      ]
     },
     "execution_count": 52,
     "metadata": {},
     "output_type": "execute_result"
    }
   ],
   "source": [
    "attr_df['poverty_']"
   ]
  },
  {
   "cell_type": "code",
   "execution_count": 194,
   "metadata": {},
   "outputs": [],
   "source": [
    "df = pd.merge(preds[['entity_id','as_of_date','score','label_value']], attr_df, how='left', on=['entity_id','as_of_date'], left_index=True, right_index=False, sort=True, copy=True)"
   ]
  },
  {
   "cell_type": "code",
   "execution_count": 195,
   "metadata": {},
   "outputs": [
    {
     "data": {
      "text/html": [
       "<div>\n",
       "<style scoped>\n",
       "    .dataframe tbody tr th:only-of-type {\n",
       "        vertical-align: middle;\n",
       "    }\n",
       "\n",
       "    .dataframe tbody tr th {\n",
       "        vertical-align: top;\n",
       "    }\n",
       "\n",
       "    .dataframe thead th {\n",
       "        text-align: right;\n",
       "    }\n",
       "</style>\n",
       "<table border=\"1\" class=\"dataframe\">\n",
       "  <thead>\n",
       "    <tr style=\"text-align: right;\">\n",
       "      <th></th>\n",
       "      <th>entity_id</th>\n",
       "      <th>as_of_date</th>\n",
       "      <th>score</th>\n",
       "      <th>label_value</th>\n",
       "      <th>poverty_level</th>\n",
       "      <th>teacher_sex</th>\n",
       "      <th>metro_type</th>\n",
       "    </tr>\n",
       "  </thead>\n",
       "  <tbody>\n",
       "    <tr>\n",
       "      <th>332</th>\n",
       "      <td>186059</td>\n",
       "      <td>1354320000000</td>\n",
       "      <td>0.0</td>\n",
       "      <td>0.0</td>\n",
       "      <td>highest</td>\n",
       "      <td>female</td>\n",
       "      <td>suburban_rural</td>\n",
       "    </tr>\n",
       "    <tr>\n",
       "      <th>333</th>\n",
       "      <td>186060</td>\n",
       "      <td>1354320000000</td>\n",
       "      <td>0.0</td>\n",
       "      <td>0.0</td>\n",
       "      <td>lower</td>\n",
       "      <td>female</td>\n",
       "      <td>suburban_rural</td>\n",
       "    </tr>\n",
       "    <tr>\n",
       "      <th>334</th>\n",
       "      <td>186061</td>\n",
       "      <td>1354320000000</td>\n",
       "      <td>0.0</td>\n",
       "      <td>0.0</td>\n",
       "      <td>lower</td>\n",
       "      <td>female</td>\n",
       "      <td>unknown</td>\n",
       "    </tr>\n",
       "    <tr>\n",
       "      <th>335</th>\n",
       "      <td>186062</td>\n",
       "      <td>1354320000000</td>\n",
       "      <td>0.0</td>\n",
       "      <td>0.0</td>\n",
       "      <td>lower</td>\n",
       "      <td>female</td>\n",
       "      <td>urban</td>\n",
       "    </tr>\n",
       "    <tr>\n",
       "      <th>337</th>\n",
       "      <td>186063</td>\n",
       "      <td>1354320000000</td>\n",
       "      <td>0.0</td>\n",
       "      <td>0.0</td>\n",
       "      <td>highest</td>\n",
       "      <td>female</td>\n",
       "      <td>urban</td>\n",
       "    </tr>\n",
       "  </tbody>\n",
       "</table>\n",
       "</div>"
      ],
      "text/plain": [
       "     entity_id     as_of_date  score  label_value poverty_level teacher_sex  \\\n",
       "332     186059  1354320000000    0.0          0.0       highest      female   \n",
       "333     186060  1354320000000    0.0          0.0         lower      female   \n",
       "334     186061  1354320000000    0.0          0.0         lower      female   \n",
       "335     186062  1354320000000    0.0          0.0         lower      female   \n",
       "337     186063  1354320000000    0.0          0.0       highest      female   \n",
       "\n",
       "         metro_type  \n",
       "332  suburban_rural  \n",
       "333  suburban_rural  \n",
       "334         unknown  \n",
       "335           urban  \n",
       "337           urban  "
      ]
     },
     "execution_count": 195,
     "metadata": {},
     "output_type": "execute_result"
    }
   ],
   "source": [
    "df.tail()"
   ]
  },
  {
   "cell_type": "code",
   "execution_count": 162,
   "metadata": {},
   "outputs": [
    {
     "data": {
      "text/plain": [
       "highest    9973\n",
       "lower      7704\n",
       "Name: poverty_level, dtype: int64"
      ]
     },
     "execution_count": 162,
     "metadata": {},
     "output_type": "execute_result"
    }
   ],
   "source": [
    "df['poverty_level'].value_counts()"
   ]
  },
  {
   "cell_type": "code",
   "execution_count": 164,
   "metadata": {},
   "outputs": [
    {
     "data": {
      "text/plain": [
       "urban             9115\n",
       "suburban_rural    6506\n",
       "unknown           2056\n",
       "Name: metro_type, dtype: int64"
      ]
     },
     "execution_count": 164,
     "metadata": {},
     "output_type": "execute_result"
    }
   ],
   "source": [
    "df['metro_type'].value_counts()"
   ]
  },
  {
   "cell_type": "code",
   "execution_count": 163,
   "metadata": {},
   "outputs": [
    {
     "data": {
      "text/plain": [
       "female    15093\n",
       "male       2584\n",
       "Name: teacher_sex, dtype: int64"
      ]
     },
     "execution_count": 163,
     "metadata": {},
     "output_type": "execute_result"
    }
   ],
   "source": [
    "df['teacher_sex'].value_counts()"
   ]
  },
  {
   "cell_type": "code",
   "execution_count": 205,
   "metadata": {},
   "outputs": [
    {
     "data": {
      "text/plain": [
       "0.33772698987384736"
      ]
     },
     "execution_count": 205,
     "metadata": {},
     "output_type": "execute_result"
    }
   ],
   "source": [
    "df['label_value'].sum() / len(df)"
   ]
  },
  {
   "cell_type": "markdown",
   "metadata": {},
   "source": [
    "## Aequitas"
   ]
  },
  {
   "cell_type": "code",
   "execution_count": 173,
   "metadata": {},
   "outputs": [
    {
     "name": "stdout",
     "output_type": "stream",
     "text": [
      "model_id, score_thresholds 0 {'rank_abs': [1000]}\n"
     ]
    }
   ],
   "source": [
    "g = Group()\n",
    "xtab, _ = g.get_crosstabs(df[['score','label_value','poverty_level','metro_type', 'teacher_sex']].copy())"
   ]
  },
  {
   "cell_type": "code",
   "execution_count": 174,
   "metadata": {},
   "outputs": [],
   "source": [
    "absolute_metrics = g.list_absolute_metrics(xtab)"
   ]
  },
  {
   "cell_type": "code",
   "execution_count": 175,
   "metadata": {},
   "outputs": [
    {
     "data": {
      "text/html": [
       "<div>\n",
       "<style scoped>\n",
       "    .dataframe tbody tr th:only-of-type {\n",
       "        vertical-align: middle;\n",
       "    }\n",
       "\n",
       "    .dataframe tbody tr th {\n",
       "        vertical-align: top;\n",
       "    }\n",
       "\n",
       "    .dataframe thead th {\n",
       "        text-align: right;\n",
       "    }\n",
       "</style>\n",
       "<table border=\"1\" class=\"dataframe\">\n",
       "  <thead>\n",
       "    <tr style=\"text-align: right;\">\n",
       "      <th></th>\n",
       "      <th>model_id</th>\n",
       "      <th>score_threshold</th>\n",
       "      <th>k</th>\n",
       "      <th>attribute_name</th>\n",
       "      <th>attribute_value</th>\n",
       "      <th>pp</th>\n",
       "      <th>pn</th>\n",
       "      <th>fp</th>\n",
       "      <th>fn</th>\n",
       "      <th>tn</th>\n",
       "      <th>tp</th>\n",
       "      <th>group_label_pos</th>\n",
       "      <th>group_label_neg</th>\n",
       "      <th>group_size</th>\n",
       "      <th>total_entities</th>\n",
       "    </tr>\n",
       "  </thead>\n",
       "  <tbody>\n",
       "    <tr>\n",
       "      <th>0</th>\n",
       "      <td>0</td>\n",
       "      <td>binary 0/1</td>\n",
       "      <td>1000</td>\n",
       "      <td>poverty_level</td>\n",
       "      <td>highest</td>\n",
       "      <td>247</td>\n",
       "      <td>9726</td>\n",
       "      <td>89</td>\n",
       "      <td>2954</td>\n",
       "      <td>6772</td>\n",
       "      <td>158</td>\n",
       "      <td>3112</td>\n",
       "      <td>6861</td>\n",
       "      <td>9973</td>\n",
       "      <td>17677</td>\n",
       "    </tr>\n",
       "    <tr>\n",
       "      <th>1</th>\n",
       "      <td>0</td>\n",
       "      <td>binary 0/1</td>\n",
       "      <td>1000</td>\n",
       "      <td>poverty_level</td>\n",
       "      <td>lower</td>\n",
       "      <td>753</td>\n",
       "      <td>6951</td>\n",
       "      <td>359</td>\n",
       "      <td>2464</td>\n",
       "      <td>4487</td>\n",
       "      <td>394</td>\n",
       "      <td>2858</td>\n",
       "      <td>4846</td>\n",
       "      <td>7704</td>\n",
       "      <td>17677</td>\n",
       "    </tr>\n",
       "    <tr>\n",
       "      <th>2</th>\n",
       "      <td>0</td>\n",
       "      <td>binary 0/1</td>\n",
       "      <td>1000</td>\n",
       "      <td>metro_type</td>\n",
       "      <td>suburban_rural</td>\n",
       "      <td>626</td>\n",
       "      <td>5880</td>\n",
       "      <td>293</td>\n",
       "      <td>2060</td>\n",
       "      <td>3820</td>\n",
       "      <td>333</td>\n",
       "      <td>2393</td>\n",
       "      <td>4113</td>\n",
       "      <td>6506</td>\n",
       "      <td>17677</td>\n",
       "    </tr>\n",
       "    <tr>\n",
       "      <th>3</th>\n",
       "      <td>0</td>\n",
       "      <td>binary 0/1</td>\n",
       "      <td>1000</td>\n",
       "      <td>metro_type</td>\n",
       "      <td>unknown</td>\n",
       "      <td>182</td>\n",
       "      <td>1874</td>\n",
       "      <td>83</td>\n",
       "      <td>666</td>\n",
       "      <td>1208</td>\n",
       "      <td>99</td>\n",
       "      <td>765</td>\n",
       "      <td>1291</td>\n",
       "      <td>2056</td>\n",
       "      <td>17677</td>\n",
       "    </tr>\n",
       "    <tr>\n",
       "      <th>4</th>\n",
       "      <td>0</td>\n",
       "      <td>binary 0/1</td>\n",
       "      <td>1000</td>\n",
       "      <td>metro_type</td>\n",
       "      <td>urban</td>\n",
       "      <td>192</td>\n",
       "      <td>8923</td>\n",
       "      <td>72</td>\n",
       "      <td>2692</td>\n",
       "      <td>6231</td>\n",
       "      <td>120</td>\n",
       "      <td>2812</td>\n",
       "      <td>6303</td>\n",
       "      <td>9115</td>\n",
       "      <td>17677</td>\n",
       "    </tr>\n",
       "    <tr>\n",
       "      <th>5</th>\n",
       "      <td>0</td>\n",
       "      <td>binary 0/1</td>\n",
       "      <td>1000</td>\n",
       "      <td>teacher_sex</td>\n",
       "      <td>female</td>\n",
       "      <td>951</td>\n",
       "      <td>14142</td>\n",
       "      <td>424</td>\n",
       "      <td>4620</td>\n",
       "      <td>9522</td>\n",
       "      <td>527</td>\n",
       "      <td>5147</td>\n",
       "      <td>9946</td>\n",
       "      <td>15093</td>\n",
       "      <td>17677</td>\n",
       "    </tr>\n",
       "    <tr>\n",
       "      <th>6</th>\n",
       "      <td>0</td>\n",
       "      <td>binary 0/1</td>\n",
       "      <td>1000</td>\n",
       "      <td>teacher_sex</td>\n",
       "      <td>male</td>\n",
       "      <td>49</td>\n",
       "      <td>2535</td>\n",
       "      <td>24</td>\n",
       "      <td>798</td>\n",
       "      <td>1737</td>\n",
       "      <td>25</td>\n",
       "      <td>823</td>\n",
       "      <td>1761</td>\n",
       "      <td>2584</td>\n",
       "      <td>17677</td>\n",
       "    </tr>\n",
       "  </tbody>\n",
       "</table>\n",
       "</div>"
      ],
      "text/plain": [
       "   model_id score_threshold     k attribute_name attribute_value   pp     pn  \\\n",
       "0         0      binary 0/1  1000  poverty_level         highest  247   9726   \n",
       "1         0      binary 0/1  1000  poverty_level           lower  753   6951   \n",
       "2         0      binary 0/1  1000     metro_type  suburban_rural  626   5880   \n",
       "3         0      binary 0/1  1000     metro_type         unknown  182   1874   \n",
       "4         0      binary 0/1  1000     metro_type           urban  192   8923   \n",
       "5         0      binary 0/1  1000    teacher_sex          female  951  14142   \n",
       "6         0      binary 0/1  1000    teacher_sex            male   49   2535   \n",
       "\n",
       "    fp    fn    tn   tp  group_label_pos  group_label_neg  group_size  \\\n",
       "0   89  2954  6772  158             3112             6861        9973   \n",
       "1  359  2464  4487  394             2858             4846        7704   \n",
       "2  293  2060  3820  333             2393             4113        6506   \n",
       "3   83   666  1208   99              765             1291        2056   \n",
       "4   72  2692  6231  120             2812             6303        9115   \n",
       "5  424  4620  9522  527             5147             9946       15093   \n",
       "6   24   798  1737   25              823             1761        2584   \n",
       "\n",
       "   total_entities  \n",
       "0           17677  \n",
       "1           17677  \n",
       "2           17677  \n",
       "3           17677  \n",
       "4           17677  \n",
       "5           17677  \n",
       "6           17677  "
      ]
     },
     "execution_count": 175,
     "metadata": {},
     "output_type": "execute_result"
    }
   ],
   "source": [
    "xtab[[col for col in xtab.columns if col not in absolute_metrics]]"
   ]
  },
  {
   "cell_type": "code",
   "execution_count": 176,
   "metadata": {},
   "outputs": [
    {
     "data": {
      "text/html": [
       "<div>\n",
       "<style scoped>\n",
       "    .dataframe tbody tr th:only-of-type {\n",
       "        vertical-align: middle;\n",
       "    }\n",
       "\n",
       "    .dataframe tbody tr th {\n",
       "        vertical-align: top;\n",
       "    }\n",
       "\n",
       "    .dataframe thead th {\n",
       "        text-align: right;\n",
       "    }\n",
       "</style>\n",
       "<table border=\"1\" class=\"dataframe\">\n",
       "  <thead>\n",
       "    <tr style=\"text-align: right;\">\n",
       "      <th></th>\n",
       "      <th>attribute_name</th>\n",
       "      <th>attribute_value</th>\n",
       "      <th>tpr</th>\n",
       "      <th>tnr</th>\n",
       "      <th>for</th>\n",
       "      <th>fdr</th>\n",
       "      <th>fpr</th>\n",
       "      <th>fnr</th>\n",
       "      <th>npv</th>\n",
       "      <th>precision</th>\n",
       "      <th>ppr</th>\n",
       "      <th>pprev</th>\n",
       "      <th>prev</th>\n",
       "    </tr>\n",
       "  </thead>\n",
       "  <tbody>\n",
       "    <tr>\n",
       "      <th>0</th>\n",
       "      <td>poverty_level</td>\n",
       "      <td>highest</td>\n",
       "      <td>0.050771</td>\n",
       "      <td>0.987028</td>\n",
       "      <td>0.303722</td>\n",
       "      <td>0.360324</td>\n",
       "      <td>0.012972</td>\n",
       "      <td>0.949229</td>\n",
       "      <td>0.696278</td>\n",
       "      <td>0.639676</td>\n",
       "      <td>0.247</td>\n",
       "      <td>0.024767</td>\n",
       "      <td>0.312043</td>\n",
       "    </tr>\n",
       "    <tr>\n",
       "      <th>1</th>\n",
       "      <td>poverty_level</td>\n",
       "      <td>lower</td>\n",
       "      <td>0.137859</td>\n",
       "      <td>0.925918</td>\n",
       "      <td>0.354481</td>\n",
       "      <td>0.476760</td>\n",
       "      <td>0.074082</td>\n",
       "      <td>0.862141</td>\n",
       "      <td>0.645519</td>\n",
       "      <td>0.523240</td>\n",
       "      <td>0.753</td>\n",
       "      <td>0.097741</td>\n",
       "      <td>0.370976</td>\n",
       "    </tr>\n",
       "    <tr>\n",
       "      <th>2</th>\n",
       "      <td>metro_type</td>\n",
       "      <td>suburban_rural</td>\n",
       "      <td>0.139156</td>\n",
       "      <td>0.928762</td>\n",
       "      <td>0.350340</td>\n",
       "      <td>0.468051</td>\n",
       "      <td>0.071238</td>\n",
       "      <td>0.860844</td>\n",
       "      <td>0.649660</td>\n",
       "      <td>0.531949</td>\n",
       "      <td>0.626</td>\n",
       "      <td>0.096219</td>\n",
       "      <td>0.367814</td>\n",
       "    </tr>\n",
       "    <tr>\n",
       "      <th>3</th>\n",
       "      <td>metro_type</td>\n",
       "      <td>unknown</td>\n",
       "      <td>0.129412</td>\n",
       "      <td>0.935709</td>\n",
       "      <td>0.355390</td>\n",
       "      <td>0.456044</td>\n",
       "      <td>0.064291</td>\n",
       "      <td>0.870588</td>\n",
       "      <td>0.644610</td>\n",
       "      <td>0.543956</td>\n",
       "      <td>0.182</td>\n",
       "      <td>0.088521</td>\n",
       "      <td>0.372082</td>\n",
       "    </tr>\n",
       "    <tr>\n",
       "      <th>4</th>\n",
       "      <td>metro_type</td>\n",
       "      <td>urban</td>\n",
       "      <td>0.042674</td>\n",
       "      <td>0.988577</td>\n",
       "      <td>0.301692</td>\n",
       "      <td>0.375000</td>\n",
       "      <td>0.011423</td>\n",
       "      <td>0.957326</td>\n",
       "      <td>0.698308</td>\n",
       "      <td>0.625000</td>\n",
       "      <td>0.192</td>\n",
       "      <td>0.021064</td>\n",
       "      <td>0.308502</td>\n",
       "    </tr>\n",
       "    <tr>\n",
       "      <th>5</th>\n",
       "      <td>teacher_sex</td>\n",
       "      <td>female</td>\n",
       "      <td>0.102390</td>\n",
       "      <td>0.957370</td>\n",
       "      <td>0.326686</td>\n",
       "      <td>0.445846</td>\n",
       "      <td>0.042630</td>\n",
       "      <td>0.897610</td>\n",
       "      <td>0.673314</td>\n",
       "      <td>0.554154</td>\n",
       "      <td>0.951</td>\n",
       "      <td>0.063009</td>\n",
       "      <td>0.341019</td>\n",
       "    </tr>\n",
       "    <tr>\n",
       "      <th>6</th>\n",
       "      <td>teacher_sex</td>\n",
       "      <td>male</td>\n",
       "      <td>0.030377</td>\n",
       "      <td>0.986371</td>\n",
       "      <td>0.314793</td>\n",
       "      <td>0.489796</td>\n",
       "      <td>0.013629</td>\n",
       "      <td>0.969623</td>\n",
       "      <td>0.685207</td>\n",
       "      <td>0.510204</td>\n",
       "      <td>0.049</td>\n",
       "      <td>0.018963</td>\n",
       "      <td>0.318498</td>\n",
       "    </tr>\n",
       "  </tbody>\n",
       "</table>\n",
       "</div>"
      ],
      "text/plain": [
       "  attribute_name attribute_value       tpr       tnr       for       fdr  \\\n",
       "0  poverty_level         highest  0.050771  0.987028  0.303722  0.360324   \n",
       "1  poverty_level           lower  0.137859  0.925918  0.354481  0.476760   \n",
       "2     metro_type  suburban_rural  0.139156  0.928762  0.350340  0.468051   \n",
       "3     metro_type         unknown  0.129412  0.935709  0.355390  0.456044   \n",
       "4     metro_type           urban  0.042674  0.988577  0.301692  0.375000   \n",
       "5    teacher_sex          female  0.102390  0.957370  0.326686  0.445846   \n",
       "6    teacher_sex            male  0.030377  0.986371  0.314793  0.489796   \n",
       "\n",
       "        fpr       fnr       npv  precision    ppr     pprev      prev  \n",
       "0  0.012972  0.949229  0.696278   0.639676  0.247  0.024767  0.312043  \n",
       "1  0.074082  0.862141  0.645519   0.523240  0.753  0.097741  0.370976  \n",
       "2  0.071238  0.860844  0.649660   0.531949  0.626  0.096219  0.367814  \n",
       "3  0.064291  0.870588  0.644610   0.543956  0.182  0.088521  0.372082  \n",
       "4  0.011423  0.957326  0.698308   0.625000  0.192  0.021064  0.308502  \n",
       "5  0.042630  0.897610  0.673314   0.554154  0.951  0.063009  0.341019  \n",
       "6  0.013629  0.969623  0.685207   0.510204  0.049  0.018963  0.318498  "
      ]
     },
     "execution_count": 176,
     "metadata": {},
     "output_type": "execute_result"
    }
   ],
   "source": [
    "xtab[['attribute_name', 'attribute_value'] + absolute_metrics]"
   ]
  },
  {
   "cell_type": "code",
   "execution_count": 201,
   "metadata": {},
   "outputs": [
    {
     "name": "stdout",
     "output_type": "stream",
     "text": [
      "get_disparity_predefined_group()\n"
     ]
    }
   ],
   "source": [
    "b = Bias()\n",
    "bdf = b.get_disparity_predefined_groups(xtab, original_df=df, ref_groups_dict={'poverty_level':'lower', 'metro_type':'suburban_rural', 'teacher_sex':'male'})"
   ]
  },
  {
   "cell_type": "code",
   "execution_count": 181,
   "metadata": {},
   "outputs": [],
   "source": [
    "metrics = ['tpr']"
   ]
  },
  {
   "cell_type": "code",
   "execution_count": 202,
   "metadata": {},
   "outputs": [
    {
     "data": {
      "text/html": [
       "\n",
       "<div id=\"altair-viz-655411b3787a4e83b0e7ea1e4ecc08d3\"></div>\n",
       "<script type=\"text/javascript\">\n",
       "  (function(spec, embedOpt){\n",
       "    let outputDiv = document.currentScript.previousElementSibling;\n",
       "    if (outputDiv.id !== \"altair-viz-655411b3787a4e83b0e7ea1e4ecc08d3\") {\n",
       "      outputDiv = document.getElementById(\"altair-viz-655411b3787a4e83b0e7ea1e4ecc08d3\");\n",
       "    }\n",
       "    const paths = {\n",
       "      \"vega\": \"https://cdn.jsdelivr.net/npm//vega@5?noext\",\n",
       "      \"vega-lib\": \"https://cdn.jsdelivr.net/npm//vega-lib?noext\",\n",
       "      \"vega-lite\": \"https://cdn.jsdelivr.net/npm//vega-lite@4.8.1?noext\",\n",
       "      \"vega-embed\": \"https://cdn.jsdelivr.net/npm//vega-embed@6?noext\",\n",
       "    };\n",
       "\n",
       "    function loadScript(lib) {\n",
       "      return new Promise(function(resolve, reject) {\n",
       "        var s = document.createElement('script');\n",
       "        s.src = paths[lib];\n",
       "        s.async = true;\n",
       "        s.onload = () => resolve(paths[lib]);\n",
       "        s.onerror = () => reject(`Error loading script: ${paths[lib]}`);\n",
       "        document.getElementsByTagName(\"head\")[0].appendChild(s);\n",
       "      });\n",
       "    }\n",
       "\n",
       "    function showError(err) {\n",
       "      outputDiv.innerHTML = `<div class=\"error\" style=\"color:red;\">${err}</div>`;\n",
       "      throw err;\n",
       "    }\n",
       "\n",
       "    function displayChart(vegaEmbed) {\n",
       "      vegaEmbed(outputDiv, spec, embedOpt)\n",
       "        .catch(err => showError(`Javascript Error: ${err.message}<br>This usually means there's a typo in your chart specification. See the javascript console for the full traceback.`));\n",
       "    }\n",
       "\n",
       "    if(typeof define === \"function\" && define.amd) {\n",
       "      requirejs.config({paths});\n",
       "      require([\"vega-embed\"], displayChart, err => showError(`Error loading script: ${err.message}`));\n",
       "    } else if (typeof vegaEmbed === \"function\") {\n",
       "      displayChart(vegaEmbed);\n",
       "    } else {\n",
       "      loadScript(\"vega\")\n",
       "        .then(() => loadScript(\"vega-lite\"))\n",
       "        .then(() => loadScript(\"vega-embed\"))\n",
       "        .catch(showError)\n",
       "        .then(() => displayChart(vegaEmbed));\n",
       "    }\n",
       "  })({\"config\": {\"view\": {\"continuousWidth\": 400, \"continuousHeight\": 300, \"strokeWidth\": 0}, \"axisLeft\": {\"labelColor\": \"rgb(117,117,117)\", \"labelFont\": \"Helvetica\", \"labelFontSize\": 16}}, \"layer\": [{\"data\": {\"name\": \"data-b3bcfd1decd67fb31f95ea5e1bcd9e64\"}, \"mark\": {\"type\": \"rule\", \"stroke\": \"rgb(117,117,117)\", \"strokeWidth\": 1.25, \"tooltip\": \"\"}, \"encoding\": {\"x\": {\"type\": \"quantitative\", \"field\": \"x\", \"scale\": {\"domain\": [-2, 2], \"range\": [80.0, 720.0]}}, \"x2\": {\"field\": \"x2\"}, \"y\": {\"type\": \"nominal\", \"axis\": {\"domain\": false, \"labelAngle\": 0, \"labelPadding\": -30, \"orient\": \"left\", \"ticks\": false, \"title\": \"\"}, \"field\": \"metric\", \"scale\": {\"domain\": [\"TPR\"], \"range\": [30, 225.0]}}}}, {\"data\": {\"name\": \"data-79dd248bdaa0ea02c535240e8ad022c8\"}, \"mark\": {\"type\": \"rule\", \"stroke\": \"rgb(117,117,117)\", \"strokeDash\": [5, 5], \"strokeWidth\": 1}, \"encoding\": {\"tooltip\": {\"value\": \"lower [REF]\"}, \"x\": {\"value\": 400.0}, \"y\": {\"value\": 20.833333333333336}, \"y2\": {\"value\": 229.16666666666666}}}, {\"data\": {\"name\": \"data-bf3bbf11504879c3d6556966f4853596\"}, \"mark\": {\"type\": \"text\", \"align\": \"center\", \"color\": \"rgb(117,117,117)\", \"font\": \"Helvetica\", \"fontSize\": 11, \"fontWeight\": 300, \"tooltip\": \"\"}, \"encoding\": {\"text\": {\"type\": \"nominal\", \"field\": \"label\"}, \"x\": {\"type\": \"quantitative\", \"field\": \"value\", \"scale\": {\"domain\": [-2, 2], \"range\": [80.0, 720.0]}}, \"y\": {\"value\": 17.5}}}, {\"layer\": [{\"mark\": {\"type\": \"text\", \"align\": \"right\", \"fill\": \"rgb(117,117,117)\", \"font\": \"Helvetica\", \"fontSize\": 11, \"fontWeight\": 300, \"tooltip\": \"\"}, \"encoding\": {\"text\": {\"value\": \"TIMES SMALLER\"}, \"x\": {\"value\": 120.0}, \"y\": {\"value\": 7.5}}}, {\"mark\": {\"type\": \"text\", \"align\": \"left\", \"fill\": \"rgb(117,117,117)\", \"font\": \"Helvetica\", \"fontSize\": 11, \"fontWeight\": 300, \"tooltip\": \"\"}, \"encoding\": {\"text\": {\"value\": \"TIMES LARGER\"}, \"x\": {\"value\": 680.0}, \"y\": {\"value\": 7.5}}}, {\"mark\": {\"type\": \"text\", \"align\": \"center\", \"fill\": \"rgb(117,117,117)\", \"font\": \"Helvetica\", \"fontSize\": 11, \"fontWeight\": 300, \"tooltip\": \"\"}, \"encoding\": {\"text\": {\"value\": \"EQUAL\"}, \"x\": {\"value\": 400.0}, \"y\": {\"value\": 7.5}}}], \"data\": {\"name\": \"data-79dd248bdaa0ea02c535240e8ad022c8\"}}, {\"layer\": [{\"mark\": {\"type\": \"rule\", \"opacity\": 0.8, \"stroke\": \"rgb(217, 46, 28)\", \"strokeWidth\": 1.25, \"tooltip\": \"\"}, \"encoding\": {\"x\": {\"type\": \"quantitative\", \"field\": \"min\", \"scale\": {\"domain\": [-2, 2], \"range\": [80.0, 720.0]}}, \"y\": {\"value\": 25.0}, \"y2\": {\"value\": 225.0}}}, {\"mark\": {\"type\": \"rule\", \"opacity\": 0.8, \"stroke\": \"rgb(217, 46, 28)\", \"strokeWidth\": 1.25, \"tooltip\": \"\"}, \"encoding\": {\"x\": {\"type\": \"quantitative\", \"field\": \"max\", \"scale\": {\"domain\": [-2, 2], \"range\": [80.0, 720.0]}}, \"y\": {\"value\": 25.0}, \"y2\": {\"value\": 225.0}}}, {\"layer\": [{\"mark\": {\"type\": \"rect\", \"fill\": \"rgb(217, 46, 28)\", \"opacity\": 0.1, \"tooltip\": \"\"}, \"encoding\": {\"x\": {\"type\": \"quantitative\", \"field\": \"min\", \"scale\": {\"domain\": [-2, 2], \"range\": [80.0, 720.0]}}, \"x2\": {\"field\": \"lower_end\"}, \"y\": {\"value\": 25.0}, \"y2\": {\"value\": 225.0}}}, {\"mark\": {\"type\": \"rect\", \"fill\": \"rgb(217, 46, 28)\", \"opacity\": 0.1, \"tooltip\": \"\"}, \"encoding\": {\"x\": {\"type\": \"quantitative\", \"field\": \"max\", \"scale\": {\"domain\": [-2, 2], \"range\": [80.0, 720.0]}}, \"x2\": {\"field\": \"upper_end\"}, \"y\": {\"value\": 25.0}, \"y2\": {\"value\": 225.0}}}]}, {\"data\": {\"name\": \"data-79dd248bdaa0ea02c535240e8ad022c8\"}, \"mark\": {\"type\": \"text\", \"align\": \"left\", \"baseline\": \"top\", \"fill\": \"rgb(217, 46, 28)\", \"font\": \"Helvetica\", \"fontSize\": 11, \"fontWeight\": 300, \"tooltip\": \"\"}, \"encoding\": {\"text\": {\"value\": \"The metric value for any group should not be 1.3 (or more) times smaller or larger than that of the reference group lower.\"}, \"x\": {\"value\": 0}, \"y\": {\"value\": 233.33333333333334}}}], \"data\": {\"name\": \"data-b643063563633c31a45d634da5f365b2\"}}, {\"layer\": [{\"mark\": \"circle\"}, {\"data\": {\"name\": \"data-51b8003dc85d49711ca36fabda1ba077\"}, \"mark\": {\"type\": \"circle\", \"opacity\": 0.2}, \"encoding\": {\"color\": {\"condition\": {\"type\": \"nominal\", \"field\": \"attribute_value\", \"legend\": null, \"scale\": {\"domain\": [\"lower\", \"highest\"], \"range\": [\"rgb(117,117,117)\", \"rgb(100, 143, 255)\", \"rgb(254, 97, 0)\", \"rgb(220, 38, 127)\", \"rgb(255, 176, 0)\", \"rgb(120, 94, 240)\"]}, \"selection\": \"selector065\"}, \"value\": \"rgb(224,224,224)\"}, \"size\": {\"type\": \"quantitative\", \"field\": \"group_size\", \"legend\": null, \"scale\": {\"domain\": [0, 11967.6], \"range\": [0, 7853.981633974483]}}, \"tooltip\": [{\"type\": \"nominal\", \"field\": \"attribute_value\", \"title\": \"Group\"}, {\"type\": \"nominal\", \"field\": \"tooltip_group_size\", \"title\": \"Group Size\"}, {\"type\": \"nominal\", \"field\": \"tooltip_disparity_explanation_tpr\", \"title\": \"Disparity\"}, {\"type\": \"quantitative\", \"field\": \"tpr\", \"format\": \".2f\", \"title\": \"TPR\"}], \"x\": {\"type\": \"quantitative\", \"axis\": {\"domain\": false, \"labels\": false, \"ticks\": false, \"title\": null, \"values\": [-2, -1, 1, 2]}, \"field\": \"tpr_disparity_scaled\", \"scale\": {\"domain\": [-2, 2], \"range\": [80.0, 720.0]}}, \"y\": {\"type\": \"nominal\", \"axis\": {\"domain\": false, \"grid\": false, \"labels\": false, \"ticks\": false, \"title\": \" \"}, \"field\": \"metric_variable\", \"scale\": {\"domain\": [\"TPR\"], \"range\": [30, 225.0]}}}, \"selection\": {\"selector067\": {\"type\": \"multi\", \"empty\": \"all\", \"fields\": [\"attribute_value\"]}}, \"transform\": [{\"calculate\": \"'TPR'\", \"as\": \"metric_variable\"}]}, {\"layer\": [{\"mark\": \"point\"}, {\"data\": {\"name\": \"data-51b8003dc85d49711ca36fabda1ba077\"}, \"mark\": {\"type\": \"point\", \"filled\": true, \"size\": 60}, \"encoding\": {\"color\": {\"condition\": {\"type\": \"nominal\", \"field\": \"attribute_value\", \"legend\": null, \"scale\": {\"domain\": [\"lower\", \"highest\"], \"range\": [\"rgb(117,117,117)\", \"rgb(100, 143, 255)\", \"rgb(254, 97, 0)\", \"rgb(220, 38, 127)\", \"rgb(255, 176, 0)\", \"rgb(120, 94, 240)\"]}, \"selection\": \"selector065\"}, \"value\": \"rgb(224,224,224)\"}, \"shape\": {\"type\": \"nominal\", \"field\": \"attribute_value\", \"legend\": null, \"scale\": {\"domain\": [\"lower\", \"highest\"], \"range\": [\"cross\", \"circle\"]}}, \"tooltip\": [{\"type\": \"nominal\", \"field\": \"attribute_value\", \"title\": \"Group\"}, {\"type\": \"nominal\", \"field\": \"tooltip_group_size\", \"title\": \"Group Size\"}, {\"type\": \"nominal\", \"field\": \"tooltip_disparity_explanation_tpr\", \"title\": \"Disparity\"}, {\"type\": \"quantitative\", \"field\": \"tpr\", \"format\": \".2f\", \"title\": \"TPR\"}], \"x\": {\"type\": \"quantitative\", \"axis\": {\"domain\": false, \"labels\": false, \"ticks\": false, \"title\": null, \"values\": [-2, -1, 1, 2]}, \"field\": \"tpr_disparity_scaled\", \"scale\": {\"domain\": [-2, 2], \"range\": [80.0, 720.0]}}, \"y\": {\"type\": \"nominal\", \"axis\": {\"domain\": false, \"grid\": false, \"labels\": false, \"ticks\": false, \"title\": \" \"}, \"field\": \"metric_variable\", \"scale\": {\"domain\": [\"TPR\"], \"range\": [30, 225.0]}}}, \"selection\": {\"selector066\": {\"type\": \"multi\", \"empty\": \"all\", \"fields\": [\"attribute_value\"]}}, \"transform\": [{\"calculate\": \"'TPR'\", \"as\": \"metric_variable\"}]}]}]}, {\"layer\": [{\"mark\": {\"type\": \"point\", \"filled\": true, \"tooltip\": \"\"}, \"encoding\": {\"color\": {\"condition\": {\"type\": \"nominal\", \"field\": \"attribute_value\", \"legend\": null, \"scale\": {\"domain\": [\"lower\", \"highest\"], \"range\": [\"rgb(117,117,117)\", \"rgb(100, 143, 255)\", \"rgb(254, 97, 0)\", \"rgb(220, 38, 127)\", \"rgb(255, 176, 0)\", \"rgb(120, 94, 240)\"]}, \"selection\": \"selector065\"}, \"value\": \"rgb(224,224,224)\"}, \"shape\": {\"type\": \"nominal\", \"field\": \"attribute_value\", \"legend\": null, \"scale\": {\"domain\": [\"lower\", \"highest\"], \"range\": [\"cross\", \"circle\"]}}, \"x\": {\"value\": 880.0000000000001}, \"y\": {\"type\": \"nominal\", \"axis\": {\"domain\": false, \"grid\": false, \"labels\": false, \"ticks\": false, \"title\": \" \"}, \"field\": \"attribute_value\", \"scale\": {\"domain\": [\"lower\", \"highest\"], \"range\": [21, 73]}}}, \"selection\": {\"selector065\": {\"type\": \"multi\", \"empty\": \"all\", \"fields\": [\"attribute_value\"]}}}, {\"mark\": {\"type\": \"text\", \"align\": \"left\", \"baseline\": \"middle\", \"font\": \"Helvetica\", \"fontSize\": 11, \"fontWeight\": 300, \"tooltip\": \"\"}, \"encoding\": {\"color\": {\"condition\": {\"type\": \"nominal\", \"field\": \"attribute_value\", \"legend\": null, \"scale\": {\"domain\": [\"lower\", \"highest\"], \"range\": [\"rgb(117,117,117)\", \"rgb(100, 143, 255)\", \"rgb(254, 97, 0)\", \"rgb(220, 38, 127)\", \"rgb(255, 176, 0)\", \"rgb(120, 94, 240)\"]}, \"selection\": \"selector065\"}, \"value\": \"rgb(224,224,224)\"}, \"text\": {\"type\": \"nominal\", \"field\": \"label\"}, \"x\": {\"value\": 890.0000000000001}, \"y\": {\"type\": \"nominal\", \"axis\": {\"domain\": false, \"grid\": false, \"labels\": false, \"ticks\": false, \"title\": \" \"}, \"field\": \"attribute_value\", \"scale\": {\"domain\": [\"lower\", \"highest\"], \"range\": [21, 73]}}}, \"selection\": {\"selector068\": {\"type\": \"multi\", \"empty\": \"all\", \"fields\": [\"attribute_value\"]}}}, {\"data\": {\"name\": \"data-79dd248bdaa0ea02c535240e8ad022c8\"}, \"mark\": {\"type\": \"text\", \"align\": \"left\", \"baseline\": \"middle\", \"color\": \"rgb(117,117,117)\", \"font\": \"Helvetica\", \"fontSize\": 11, \"fontWeight\": 300, \"tooltip\": \"\"}, \"encoding\": {\"text\": {\"value\": \"Click to highlight a group.\"}, \"x\": {\"value\": 880.0000000000001}, \"y\": {\"value\": 0}}}], \"data\": {\"name\": \"data-a5ebce136adcce28635ff1807ca7d132\"}}], \"height\": 250, \"resolve\": {\"scale\": {\"size\": \"independent\", \"y\": \"independent\"}}, \"width\": 800, \"$schema\": \"https://vega.github.io/schema/vega-lite/v4.8.1.json\", \"datasets\": {\"data-b3bcfd1decd67fb31f95ea5e1bcd9e64\": [{\"metric\": \"TPR\", \"x\": -2.2, \"x2\": 2.2}], \"data-79dd248bdaa0ea02c535240e8ad022c8\": [{\"a\": 1, \"b\": 0}, {\"a\": 1, \"b\": 0}], \"data-bf3bbf11504879c3d6556966f4853596\": [{\"value\": -2, \"label\": 3}, {\"value\": -1, \"label\": 2}, {\"value\": 0, \"label\": \"=\"}, {\"value\": 1, \"label\": 2}, {\"value\": 2, \"label\": 3}], \"data-b643063563633c31a45d634da5f365b2\": [{\"min\": -0.30000000000000004, \"max\": 0.30000000000000004, \"lower_end\": -2.2, \"upper_end\": 2.2}], \"data-51b8003dc85d49711ca36fabda1ba077\": [{\"attribute_name\": \"poverty_level\", \"attribute_value\": \"highest\", \"group_size\": 9973, \"total_entities\": 17677, \"tpr\": 0.05077120822622108, \"tpr_disparity\": 0.36828455104197927, \"tpr_disparity_scaled\": -1.715291741591447, \"tooltip_group_size\": \"9,973 (56.42%)\", \"tooltip_disparity_explanation_tpr\": \"2.72 times smaller TPR than the reference group\"}, {\"attribute_name\": \"poverty_level\", \"attribute_value\": \"lower\", \"group_size\": 7704, \"total_entities\": 17677, \"tpr\": 0.13785864240727783, \"tpr_disparity\": 1.0, \"tpr_disparity_scaled\": 0.0, \"tooltip_group_size\": \"7,704 (43.58%)\", \"tooltip_disparity_explanation_tpr\": \"Reference group\"}], \"data-a5ebce136adcce28635ff1807ca7d132\": [{\"attribute_value\": \"lower\", \"label\": \"lower [REF]\"}, {\"attribute_value\": \"highest\", \"label\": \"highest\"}]}}, {\"mode\": \"vega-lite\"});\n",
       "</script>"
      ],
      "text/plain": [
       "alt.LayerChart(...)"
      ]
     },
     "execution_count": 202,
     "metadata": {},
     "output_type": "execute_result"
    }
   ],
   "source": [
    "ap.disparities(bdf, metrics, 'poverty_level', fairness_threshold = 1.30)"
   ]
  },
  {
   "cell_type": "code",
   "execution_count": 203,
   "metadata": {},
   "outputs": [
    {
     "data": {
      "text/html": [
       "\n",
       "<div id=\"altair-viz-0dea878b481c4d5faa4845f663db0f2b\"></div>\n",
       "<script type=\"text/javascript\">\n",
       "  (function(spec, embedOpt){\n",
       "    let outputDiv = document.currentScript.previousElementSibling;\n",
       "    if (outputDiv.id !== \"altair-viz-0dea878b481c4d5faa4845f663db0f2b\") {\n",
       "      outputDiv = document.getElementById(\"altair-viz-0dea878b481c4d5faa4845f663db0f2b\");\n",
       "    }\n",
       "    const paths = {\n",
       "      \"vega\": \"https://cdn.jsdelivr.net/npm//vega@5?noext\",\n",
       "      \"vega-lib\": \"https://cdn.jsdelivr.net/npm//vega-lib?noext\",\n",
       "      \"vega-lite\": \"https://cdn.jsdelivr.net/npm//vega-lite@4.8.1?noext\",\n",
       "      \"vega-embed\": \"https://cdn.jsdelivr.net/npm//vega-embed@6?noext\",\n",
       "    };\n",
       "\n",
       "    function loadScript(lib) {\n",
       "      return new Promise(function(resolve, reject) {\n",
       "        var s = document.createElement('script');\n",
       "        s.src = paths[lib];\n",
       "        s.async = true;\n",
       "        s.onload = () => resolve(paths[lib]);\n",
       "        s.onerror = () => reject(`Error loading script: ${paths[lib]}`);\n",
       "        document.getElementsByTagName(\"head\")[0].appendChild(s);\n",
       "      });\n",
       "    }\n",
       "\n",
       "    function showError(err) {\n",
       "      outputDiv.innerHTML = `<div class=\"error\" style=\"color:red;\">${err}</div>`;\n",
       "      throw err;\n",
       "    }\n",
       "\n",
       "    function displayChart(vegaEmbed) {\n",
       "      vegaEmbed(outputDiv, spec, embedOpt)\n",
       "        .catch(err => showError(`Javascript Error: ${err.message}<br>This usually means there's a typo in your chart specification. See the javascript console for the full traceback.`));\n",
       "    }\n",
       "\n",
       "    if(typeof define === \"function\" && define.amd) {\n",
       "      requirejs.config({paths});\n",
       "      require([\"vega-embed\"], displayChart, err => showError(`Error loading script: ${err.message}`));\n",
       "    } else if (typeof vegaEmbed === \"function\") {\n",
       "      displayChart(vegaEmbed);\n",
       "    } else {\n",
       "      loadScript(\"vega\")\n",
       "        .then(() => loadScript(\"vega-lite\"))\n",
       "        .then(() => loadScript(\"vega-embed\"))\n",
       "        .catch(showError)\n",
       "        .then(() => displayChart(vegaEmbed));\n",
       "    }\n",
       "  })({\"config\": {\"view\": {\"continuousWidth\": 400, \"continuousHeight\": 300, \"strokeWidth\": 0}, \"axisLeft\": {\"labelColor\": \"rgb(117,117,117)\", \"labelFont\": \"Helvetica\", \"labelFontSize\": 16}}, \"layer\": [{\"data\": {\"name\": \"data-a80bbe78875d74850191493116348974\"}, \"mark\": {\"type\": \"rule\", \"stroke\": \"rgb(117,117,117)\", \"strokeWidth\": 1.25, \"tooltip\": \"\"}, \"encoding\": {\"x\": {\"type\": \"quantitative\", \"field\": \"x\", \"scale\": {\"domain\": [-3, 3], \"range\": [80.0, 720.0]}}, \"x2\": {\"field\": \"x2\"}, \"y\": {\"type\": \"nominal\", \"axis\": {\"domain\": false, \"labelAngle\": 0, \"labelPadding\": -30, \"orient\": \"left\", \"ticks\": false, \"title\": \"\"}, \"field\": \"metric\", \"scale\": {\"domain\": [\"TPR\"], \"range\": [30, 225.0]}}}}, {\"data\": {\"name\": \"data-79dd248bdaa0ea02c535240e8ad022c8\"}, \"mark\": {\"type\": \"rule\", \"stroke\": \"rgb(117,117,117)\", \"strokeDash\": [5, 5], \"strokeWidth\": 1}, \"encoding\": {\"tooltip\": {\"value\": \"suburban_rural [REF]\"}, \"x\": {\"value\": 400.0}, \"y\": {\"value\": 20.833333333333336}, \"y2\": {\"value\": 229.16666666666666}}}, {\"data\": {\"name\": \"data-f70f876ef858e7578abafe4eee75fee4\"}, \"mark\": {\"type\": \"text\", \"align\": \"center\", \"color\": \"rgb(117,117,117)\", \"font\": \"Helvetica\", \"fontSize\": 11, \"fontWeight\": 300, \"tooltip\": \"\"}, \"encoding\": {\"text\": {\"type\": \"nominal\", \"field\": \"label\"}, \"x\": {\"type\": \"quantitative\", \"field\": \"value\", \"scale\": {\"domain\": [-3, 3], \"range\": [80.0, 720.0]}}, \"y\": {\"value\": 17.5}}}, {\"layer\": [{\"mark\": {\"type\": \"text\", \"align\": \"right\", \"fill\": \"rgb(117,117,117)\", \"font\": \"Helvetica\", \"fontSize\": 11, \"fontWeight\": 300, \"tooltip\": \"\"}, \"encoding\": {\"text\": {\"value\": \"TIMES SMALLER\"}, \"x\": {\"value\": 120.0}, \"y\": {\"value\": 7.5}}}, {\"mark\": {\"type\": \"text\", \"align\": \"left\", \"fill\": \"rgb(117,117,117)\", \"font\": \"Helvetica\", \"fontSize\": 11, \"fontWeight\": 300, \"tooltip\": \"\"}, \"encoding\": {\"text\": {\"value\": \"TIMES LARGER\"}, \"x\": {\"value\": 680.0}, \"y\": {\"value\": 7.5}}}, {\"mark\": {\"type\": \"text\", \"align\": \"center\", \"fill\": \"rgb(117,117,117)\", \"font\": \"Helvetica\", \"fontSize\": 11, \"fontWeight\": 300, \"tooltip\": \"\"}, \"encoding\": {\"text\": {\"value\": \"EQUAL\"}, \"x\": {\"value\": 400.0}, \"y\": {\"value\": 7.5}}}], \"data\": {\"name\": \"data-79dd248bdaa0ea02c535240e8ad022c8\"}}, {\"layer\": [{\"mark\": {\"type\": \"rule\", \"opacity\": 0.8, \"stroke\": \"rgb(217, 46, 28)\", \"strokeWidth\": 1.25, \"tooltip\": \"\"}, \"encoding\": {\"x\": {\"type\": \"quantitative\", \"field\": \"min\", \"scale\": {\"domain\": [-3, 3], \"range\": [80.0, 720.0]}}, \"y\": {\"value\": 25.0}, \"y2\": {\"value\": 225.0}}}, {\"mark\": {\"type\": \"rule\", \"opacity\": 0.8, \"stroke\": \"rgb(217, 46, 28)\", \"strokeWidth\": 1.25, \"tooltip\": \"\"}, \"encoding\": {\"x\": {\"type\": \"quantitative\", \"field\": \"max\", \"scale\": {\"domain\": [-3, 3], \"range\": [80.0, 720.0]}}, \"y\": {\"value\": 25.0}, \"y2\": {\"value\": 225.0}}}, {\"layer\": [{\"mark\": {\"type\": \"rect\", \"fill\": \"rgb(217, 46, 28)\", \"opacity\": 0.1, \"tooltip\": \"\"}, \"encoding\": {\"x\": {\"type\": \"quantitative\", \"field\": \"min\", \"scale\": {\"domain\": [-3, 3], \"range\": [80.0, 720.0]}}, \"x2\": {\"field\": \"lower_end\"}, \"y\": {\"value\": 25.0}, \"y2\": {\"value\": 225.0}}}, {\"mark\": {\"type\": \"rect\", \"fill\": \"rgb(217, 46, 28)\", \"opacity\": 0.1, \"tooltip\": \"\"}, \"encoding\": {\"x\": {\"type\": \"quantitative\", \"field\": \"max\", \"scale\": {\"domain\": [-3, 3], \"range\": [80.0, 720.0]}}, \"x2\": {\"field\": \"upper_end\"}, \"y\": {\"value\": 25.0}, \"y2\": {\"value\": 225.0}}}]}, {\"data\": {\"name\": \"data-79dd248bdaa0ea02c535240e8ad022c8\"}, \"mark\": {\"type\": \"text\", \"align\": \"left\", \"baseline\": \"top\", \"fill\": \"rgb(217, 46, 28)\", \"font\": \"Helvetica\", \"fontSize\": 11, \"fontWeight\": 300, \"tooltip\": \"\"}, \"encoding\": {\"text\": {\"value\": \"The metric value for any group should not be 1.3 (or more) times smaller or larger than that of the reference group suburban_rural.\"}, \"x\": {\"value\": 0}, \"y\": {\"value\": 233.33333333333334}}}], \"data\": {\"name\": \"data-3dee117d57e1ece1df7853af976ed45d\"}}, {\"layer\": [{\"mark\": \"circle\"}, {\"data\": {\"name\": \"data-c9b567e44bc738f5e40a399c47e7d27e\"}, \"mark\": {\"type\": \"circle\", \"opacity\": 0.2}, \"encoding\": {\"color\": {\"condition\": {\"type\": \"nominal\", \"field\": \"attribute_value\", \"legend\": null, \"scale\": {\"domain\": [\"suburban_rural\", \"unknown\", \"urban\"], \"range\": [\"rgb(117,117,117)\", \"rgb(100, 143, 255)\", \"rgb(254, 97, 0)\", \"rgb(220, 38, 127)\", \"rgb(255, 176, 0)\", \"rgb(120, 94, 240)\"]}, \"selection\": \"selector069\"}, \"value\": \"rgb(224,224,224)\"}, \"size\": {\"type\": \"quantitative\", \"field\": \"group_size\", \"legend\": null, \"scale\": {\"domain\": [0, 10938.0], \"range\": [0, 7853.981633974483]}}, \"tooltip\": [{\"type\": \"nominal\", \"field\": \"attribute_value\", \"title\": \"Group\"}, {\"type\": \"nominal\", \"field\": \"tooltip_group_size\", \"title\": \"Group Size\"}, {\"type\": \"nominal\", \"field\": \"tooltip_disparity_explanation_tpr\", \"title\": \"Disparity\"}, {\"type\": \"quantitative\", \"field\": \"tpr\", \"format\": \".2f\", \"title\": \"TPR\"}], \"x\": {\"type\": \"quantitative\", \"axis\": {\"domain\": false, \"labels\": false, \"ticks\": false, \"title\": null, \"values\": [-3, -2, -1, 1, 2, 3]}, \"field\": \"tpr_disparity_scaled\", \"scale\": {\"domain\": [-3, 3], \"range\": [80.0, 720.0]}}, \"y\": {\"type\": \"nominal\", \"axis\": {\"domain\": false, \"grid\": false, \"labels\": false, \"ticks\": false, \"title\": \" \"}, \"field\": \"metric_variable\", \"scale\": {\"domain\": [\"TPR\"], \"range\": [30, 225.0]}}}, \"selection\": {\"selector071\": {\"type\": \"multi\", \"empty\": \"all\", \"fields\": [\"attribute_value\"]}}, \"transform\": [{\"calculate\": \"'TPR'\", \"as\": \"metric_variable\"}]}, {\"layer\": [{\"mark\": \"point\"}, {\"data\": {\"name\": \"data-c9b567e44bc738f5e40a399c47e7d27e\"}, \"mark\": {\"type\": \"point\", \"filled\": true, \"size\": 60}, \"encoding\": {\"color\": {\"condition\": {\"type\": \"nominal\", \"field\": \"attribute_value\", \"legend\": null, \"scale\": {\"domain\": [\"suburban_rural\", \"unknown\", \"urban\"], \"range\": [\"rgb(117,117,117)\", \"rgb(100, 143, 255)\", \"rgb(254, 97, 0)\", \"rgb(220, 38, 127)\", \"rgb(255, 176, 0)\", \"rgb(120, 94, 240)\"]}, \"selection\": \"selector069\"}, \"value\": \"rgb(224,224,224)\"}, \"shape\": {\"type\": \"nominal\", \"field\": \"attribute_value\", \"legend\": null, \"scale\": {\"domain\": [\"suburban_rural\", \"unknown\", \"urban\"], \"range\": [\"cross\", \"circle\", \"circle\"]}}, \"tooltip\": [{\"type\": \"nominal\", \"field\": \"attribute_value\", \"title\": \"Group\"}, {\"type\": \"nominal\", \"field\": \"tooltip_group_size\", \"title\": \"Group Size\"}, {\"type\": \"nominal\", \"field\": \"tooltip_disparity_explanation_tpr\", \"title\": \"Disparity\"}, {\"type\": \"quantitative\", \"field\": \"tpr\", \"format\": \".2f\", \"title\": \"TPR\"}], \"x\": {\"type\": \"quantitative\", \"axis\": {\"domain\": false, \"labels\": false, \"ticks\": false, \"title\": null, \"values\": [-3, -2, -1, 1, 2, 3]}, \"field\": \"tpr_disparity_scaled\", \"scale\": {\"domain\": [-3, 3], \"range\": [80.0, 720.0]}}, \"y\": {\"type\": \"nominal\", \"axis\": {\"domain\": false, \"grid\": false, \"labels\": false, \"ticks\": false, \"title\": \" \"}, \"field\": \"metric_variable\", \"scale\": {\"domain\": [\"TPR\"], \"range\": [30, 225.0]}}}, \"selection\": {\"selector070\": {\"type\": \"multi\", \"empty\": \"all\", \"fields\": [\"attribute_value\"]}}, \"transform\": [{\"calculate\": \"'TPR'\", \"as\": \"metric_variable\"}]}]}]}, {\"layer\": [{\"mark\": {\"type\": \"point\", \"filled\": true, \"tooltip\": \"\"}, \"encoding\": {\"color\": {\"condition\": {\"type\": \"nominal\", \"field\": \"attribute_value\", \"legend\": null, \"scale\": {\"domain\": [\"suburban_rural\", \"unknown\", \"urban\"], \"range\": [\"rgb(117,117,117)\", \"rgb(100, 143, 255)\", \"rgb(254, 97, 0)\", \"rgb(220, 38, 127)\", \"rgb(255, 176, 0)\", \"rgb(120, 94, 240)\"]}, \"selection\": \"selector069\"}, \"value\": \"rgb(224,224,224)\"}, \"shape\": {\"type\": \"nominal\", \"field\": \"attribute_value\", \"legend\": null, \"scale\": {\"domain\": [\"suburban_rural\", \"unknown\", \"urban\"], \"range\": [\"cross\", \"circle\", \"circle\"]}}, \"x\": {\"value\": 880.0000000000001}, \"y\": {\"type\": \"nominal\", \"axis\": {\"domain\": false, \"grid\": false, \"labels\": false, \"ticks\": false, \"title\": \" \"}, \"field\": \"attribute_value\", \"scale\": {\"domain\": [\"suburban_rural\", \"unknown\", \"urban\"], \"range\": [21, 94]}}}, \"selection\": {\"selector069\": {\"type\": \"multi\", \"empty\": \"all\", \"fields\": [\"attribute_value\"]}}}, {\"mark\": {\"type\": \"text\", \"align\": \"left\", \"baseline\": \"middle\", \"font\": \"Helvetica\", \"fontSize\": 11, \"fontWeight\": 300, \"tooltip\": \"\"}, \"encoding\": {\"color\": {\"condition\": {\"type\": \"nominal\", \"field\": \"attribute_value\", \"legend\": null, \"scale\": {\"domain\": [\"suburban_rural\", \"unknown\", \"urban\"], \"range\": [\"rgb(117,117,117)\", \"rgb(100, 143, 255)\", \"rgb(254, 97, 0)\", \"rgb(220, 38, 127)\", \"rgb(255, 176, 0)\", \"rgb(120, 94, 240)\"]}, \"selection\": \"selector069\"}, \"value\": \"rgb(224,224,224)\"}, \"text\": {\"type\": \"nominal\", \"field\": \"label\"}, \"x\": {\"value\": 890.0000000000001}, \"y\": {\"type\": \"nominal\", \"axis\": {\"domain\": false, \"grid\": false, \"labels\": false, \"ticks\": false, \"title\": \" \"}, \"field\": \"attribute_value\", \"scale\": {\"domain\": [\"suburban_rural\", \"unknown\", \"urban\"], \"range\": [21, 94]}}}, \"selection\": {\"selector072\": {\"type\": \"multi\", \"empty\": \"all\", \"fields\": [\"attribute_value\"]}}}, {\"data\": {\"name\": \"data-79dd248bdaa0ea02c535240e8ad022c8\"}, \"mark\": {\"type\": \"text\", \"align\": \"left\", \"baseline\": \"middle\", \"color\": \"rgb(117,117,117)\", \"font\": \"Helvetica\", \"fontSize\": 11, \"fontWeight\": 300, \"tooltip\": \"\"}, \"encoding\": {\"text\": {\"value\": \"Click to highlight a group.\"}, \"x\": {\"value\": 880.0000000000001}, \"y\": {\"value\": 0}}}], \"data\": {\"name\": \"data-e1f9423a4bded23d71327d85bde107c5\"}}], \"height\": 250, \"resolve\": {\"scale\": {\"size\": \"independent\", \"y\": \"independent\"}}, \"width\": 800, \"$schema\": \"https://vega.github.io/schema/vega-lite/v4.8.1.json\", \"datasets\": {\"data-a80bbe78875d74850191493116348974\": [{\"metric\": \"TPR\", \"x\": -3.2, \"x2\": 3.2}], \"data-79dd248bdaa0ea02c535240e8ad022c8\": [{\"a\": 1, \"b\": 0}, {\"a\": 1, \"b\": 0}], \"data-f70f876ef858e7578abafe4eee75fee4\": [{\"value\": -3, \"label\": 4}, {\"value\": -2, \"label\": 3}, {\"value\": -1, \"label\": 2}, {\"value\": 0, \"label\": \"=\"}, {\"value\": 1, \"label\": 2}, {\"value\": 2, \"label\": 3}, {\"value\": 3, \"label\": 4}], \"data-3dee117d57e1ece1df7853af976ed45d\": [{\"min\": -0.30000000000000004, \"max\": 0.30000000000000004, \"lower_end\": -3.2, \"upper_end\": 3.2}], \"data-c9b567e44bc738f5e40a399c47e7d27e\": [{\"attribute_name\": \"metro_type\", \"attribute_value\": \"suburban_rural\", \"group_size\": 6506, \"total_entities\": 17677, \"tpr\": 0.1391558712912662, \"tpr_disparity\": 1.0, \"tpr_disparity_scaled\": 0.0, \"tooltip_group_size\": \"6,506 (36.80%)\", \"tooltip_disparity_explanation_tpr\": \"Reference group\"}, {\"attribute_name\": \"metro_type\", \"attribute_value\": \"unknown\", \"group_size\": 2056, \"total_entities\": 17677, \"tpr\": 0.12941176470588237, \"tpr_disparity\": 0.9299770358593888, \"tpr_disparity_scaled\": -0.07529536906887513, \"tooltip_group_size\": \"2,056 (11.63%)\", \"tooltip_disparity_explanation_tpr\": \"1.08 times smaller TPR than the reference group\"}, {\"attribute_name\": \"metro_type\", \"attribute_value\": \"urban\", \"group_size\": 9115, \"total_entities\": 17677, \"tpr\": 0.04267425320056899, \"tpr_disparity\": 0.3066651288557405, \"tpr_disparity_scaled\": -2.2608859172586713, \"tooltip_group_size\": \"9,115 (51.56%)\", \"tooltip_disparity_explanation_tpr\": \"3.26 times smaller TPR than the reference group\"}], \"data-e1f9423a4bded23d71327d85bde107c5\": [{\"attribute_value\": \"suburban_rural\", \"label\": \"suburban_rural [REF]\"}, {\"attribute_value\": \"unknown\", \"label\": \"unknown\"}, {\"attribute_value\": \"urban\", \"label\": \"urban\"}]}}, {\"mode\": \"vega-lite\"});\n",
       "</script>"
      ],
      "text/plain": [
       "alt.LayerChart(...)"
      ]
     },
     "execution_count": 203,
     "metadata": {},
     "output_type": "execute_result"
    }
   ],
   "source": [
    "ap.disparities(bdf, metrics, 'metro_type', fairness_threshold = 1.30)"
   ]
  },
  {
   "cell_type": "code",
   "execution_count": 204,
   "metadata": {},
   "outputs": [
    {
     "data": {
      "text/html": [
       "\n",
       "<div id=\"altair-viz-b2da19ee8f24427aa639b1b4a44f7041\"></div>\n",
       "<script type=\"text/javascript\">\n",
       "  (function(spec, embedOpt){\n",
       "    let outputDiv = document.currentScript.previousElementSibling;\n",
       "    if (outputDiv.id !== \"altair-viz-b2da19ee8f24427aa639b1b4a44f7041\") {\n",
       "      outputDiv = document.getElementById(\"altair-viz-b2da19ee8f24427aa639b1b4a44f7041\");\n",
       "    }\n",
       "    const paths = {\n",
       "      \"vega\": \"https://cdn.jsdelivr.net/npm//vega@5?noext\",\n",
       "      \"vega-lib\": \"https://cdn.jsdelivr.net/npm//vega-lib?noext\",\n",
       "      \"vega-lite\": \"https://cdn.jsdelivr.net/npm//vega-lite@4.8.1?noext\",\n",
       "      \"vega-embed\": \"https://cdn.jsdelivr.net/npm//vega-embed@6?noext\",\n",
       "    };\n",
       "\n",
       "    function loadScript(lib) {\n",
       "      return new Promise(function(resolve, reject) {\n",
       "        var s = document.createElement('script');\n",
       "        s.src = paths[lib];\n",
       "        s.async = true;\n",
       "        s.onload = () => resolve(paths[lib]);\n",
       "        s.onerror = () => reject(`Error loading script: ${paths[lib]}`);\n",
       "        document.getElementsByTagName(\"head\")[0].appendChild(s);\n",
       "      });\n",
       "    }\n",
       "\n",
       "    function showError(err) {\n",
       "      outputDiv.innerHTML = `<div class=\"error\" style=\"color:red;\">${err}</div>`;\n",
       "      throw err;\n",
       "    }\n",
       "\n",
       "    function displayChart(vegaEmbed) {\n",
       "      vegaEmbed(outputDiv, spec, embedOpt)\n",
       "        .catch(err => showError(`Javascript Error: ${err.message}<br>This usually means there's a typo in your chart specification. See the javascript console for the full traceback.`));\n",
       "    }\n",
       "\n",
       "    if(typeof define === \"function\" && define.amd) {\n",
       "      requirejs.config({paths});\n",
       "      require([\"vega-embed\"], displayChart, err => showError(`Error loading script: ${err.message}`));\n",
       "    } else if (typeof vegaEmbed === \"function\") {\n",
       "      displayChart(vegaEmbed);\n",
       "    } else {\n",
       "      loadScript(\"vega\")\n",
       "        .then(() => loadScript(\"vega-lite\"))\n",
       "        .then(() => loadScript(\"vega-embed\"))\n",
       "        .catch(showError)\n",
       "        .then(() => displayChart(vegaEmbed));\n",
       "    }\n",
       "  })({\"config\": {\"view\": {\"continuousWidth\": 400, \"continuousHeight\": 300, \"strokeWidth\": 0}, \"axisLeft\": {\"labelColor\": \"rgb(117,117,117)\", \"labelFont\": \"Helvetica\", \"labelFontSize\": 16}}, \"layer\": [{\"data\": {\"name\": \"data-a80bbe78875d74850191493116348974\"}, \"mark\": {\"type\": \"rule\", \"stroke\": \"rgb(117,117,117)\", \"strokeWidth\": 1.25, \"tooltip\": \"\"}, \"encoding\": {\"x\": {\"type\": \"quantitative\", \"field\": \"x\", \"scale\": {\"domain\": [-3, 3], \"range\": [80.0, 720.0]}}, \"x2\": {\"field\": \"x2\"}, \"y\": {\"type\": \"nominal\", \"axis\": {\"domain\": false, \"labelAngle\": 0, \"labelPadding\": -30, \"orient\": \"left\", \"ticks\": false, \"title\": \"\"}, \"field\": \"metric\", \"scale\": {\"domain\": [\"TPR\"], \"range\": [30, 225.0]}}}}, {\"data\": {\"name\": \"data-79dd248bdaa0ea02c535240e8ad022c8\"}, \"mark\": {\"type\": \"rule\", \"stroke\": \"rgb(117,117,117)\", \"strokeDash\": [5, 5], \"strokeWidth\": 1}, \"encoding\": {\"tooltip\": {\"value\": \"male [REF]\"}, \"x\": {\"value\": 400.0}, \"y\": {\"value\": 20.833333333333336}, \"y2\": {\"value\": 229.16666666666666}}}, {\"data\": {\"name\": \"data-f70f876ef858e7578abafe4eee75fee4\"}, \"mark\": {\"type\": \"text\", \"align\": \"center\", \"color\": \"rgb(117,117,117)\", \"font\": \"Helvetica\", \"fontSize\": 11, \"fontWeight\": 300, \"tooltip\": \"\"}, \"encoding\": {\"text\": {\"type\": \"nominal\", \"field\": \"label\"}, \"x\": {\"type\": \"quantitative\", \"field\": \"value\", \"scale\": {\"domain\": [-3, 3], \"range\": [80.0, 720.0]}}, \"y\": {\"value\": 17.5}}}, {\"layer\": [{\"mark\": {\"type\": \"text\", \"align\": \"right\", \"fill\": \"rgb(117,117,117)\", \"font\": \"Helvetica\", \"fontSize\": 11, \"fontWeight\": 300, \"tooltip\": \"\"}, \"encoding\": {\"text\": {\"value\": \"TIMES SMALLER\"}, \"x\": {\"value\": 120.0}, \"y\": {\"value\": 7.5}}}, {\"mark\": {\"type\": \"text\", \"align\": \"left\", \"fill\": \"rgb(117,117,117)\", \"font\": \"Helvetica\", \"fontSize\": 11, \"fontWeight\": 300, \"tooltip\": \"\"}, \"encoding\": {\"text\": {\"value\": \"TIMES LARGER\"}, \"x\": {\"value\": 680.0}, \"y\": {\"value\": 7.5}}}, {\"mark\": {\"type\": \"text\", \"align\": \"center\", \"fill\": \"rgb(117,117,117)\", \"font\": \"Helvetica\", \"fontSize\": 11, \"fontWeight\": 300, \"tooltip\": \"\"}, \"encoding\": {\"text\": {\"value\": \"EQUAL\"}, \"x\": {\"value\": 400.0}, \"y\": {\"value\": 7.5}}}], \"data\": {\"name\": \"data-79dd248bdaa0ea02c535240e8ad022c8\"}}, {\"layer\": [{\"mark\": {\"type\": \"rule\", \"opacity\": 0.8, \"stroke\": \"rgb(217, 46, 28)\", \"strokeWidth\": 1.25, \"tooltip\": \"\"}, \"encoding\": {\"x\": {\"type\": \"quantitative\", \"field\": \"min\", \"scale\": {\"domain\": [-3, 3], \"range\": [80.0, 720.0]}}, \"y\": {\"value\": 25.0}, \"y2\": {\"value\": 225.0}}}, {\"mark\": {\"type\": \"rule\", \"opacity\": 0.8, \"stroke\": \"rgb(217, 46, 28)\", \"strokeWidth\": 1.25, \"tooltip\": \"\"}, \"encoding\": {\"x\": {\"type\": \"quantitative\", \"field\": \"max\", \"scale\": {\"domain\": [-3, 3], \"range\": [80.0, 720.0]}}, \"y\": {\"value\": 25.0}, \"y2\": {\"value\": 225.0}}}, {\"layer\": [{\"mark\": {\"type\": \"rect\", \"fill\": \"rgb(217, 46, 28)\", \"opacity\": 0.1, \"tooltip\": \"\"}, \"encoding\": {\"x\": {\"type\": \"quantitative\", \"field\": \"min\", \"scale\": {\"domain\": [-3, 3], \"range\": [80.0, 720.0]}}, \"x2\": {\"field\": \"lower_end\"}, \"y\": {\"value\": 25.0}, \"y2\": {\"value\": 225.0}}}, {\"mark\": {\"type\": \"rect\", \"fill\": \"rgb(217, 46, 28)\", \"opacity\": 0.1, \"tooltip\": \"\"}, \"encoding\": {\"x\": {\"type\": \"quantitative\", \"field\": \"max\", \"scale\": {\"domain\": [-3, 3], \"range\": [80.0, 720.0]}}, \"x2\": {\"field\": \"upper_end\"}, \"y\": {\"value\": 25.0}, \"y2\": {\"value\": 225.0}}}]}, {\"data\": {\"name\": \"data-79dd248bdaa0ea02c535240e8ad022c8\"}, \"mark\": {\"type\": \"text\", \"align\": \"left\", \"baseline\": \"top\", \"fill\": \"rgb(217, 46, 28)\", \"font\": \"Helvetica\", \"fontSize\": 11, \"fontWeight\": 300, \"tooltip\": \"\"}, \"encoding\": {\"text\": {\"value\": \"The metric value for any group should not be 1.3 (or more) times smaller or larger than that of the reference group male.\"}, \"x\": {\"value\": 0}, \"y\": {\"value\": 233.33333333333334}}}], \"data\": {\"name\": \"data-3dee117d57e1ece1df7853af976ed45d\"}}, {\"layer\": [{\"mark\": \"circle\"}, {\"data\": {\"name\": \"data-7aada5f1c963228e80b8d6567e8e6890\"}, \"mark\": {\"type\": \"circle\", \"opacity\": 0.2}, \"encoding\": {\"color\": {\"condition\": {\"type\": \"nominal\", \"field\": \"attribute_value\", \"legend\": null, \"scale\": {\"domain\": [\"male\", \"female\"], \"range\": [\"rgb(117,117,117)\", \"rgb(100, 143, 255)\", \"rgb(254, 97, 0)\", \"rgb(220, 38, 127)\", \"rgb(255, 176, 0)\", \"rgb(120, 94, 240)\"]}, \"selection\": \"selector073\"}, \"value\": \"rgb(224,224,224)\"}, \"size\": {\"type\": \"quantitative\", \"field\": \"group_size\", \"legend\": null, \"scale\": {\"domain\": [0, 18111.6], \"range\": [0, 7853.981633974483]}}, \"tooltip\": [{\"type\": \"nominal\", \"field\": \"attribute_value\", \"title\": \"Group\"}, {\"type\": \"nominal\", \"field\": \"tooltip_group_size\", \"title\": \"Group Size\"}, {\"type\": \"nominal\", \"field\": \"tooltip_disparity_explanation_tpr\", \"title\": \"Disparity\"}, {\"type\": \"quantitative\", \"field\": \"tpr\", \"format\": \".2f\", \"title\": \"TPR\"}], \"x\": {\"type\": \"quantitative\", \"axis\": {\"domain\": false, \"labels\": false, \"ticks\": false, \"title\": null, \"values\": [-3, -2, -1, 1, 2, 3]}, \"field\": \"tpr_disparity_scaled\", \"scale\": {\"domain\": [-3, 3], \"range\": [80.0, 720.0]}}, \"y\": {\"type\": \"nominal\", \"axis\": {\"domain\": false, \"grid\": false, \"labels\": false, \"ticks\": false, \"title\": \" \"}, \"field\": \"metric_variable\", \"scale\": {\"domain\": [\"TPR\"], \"range\": [30, 225.0]}}}, \"selection\": {\"selector075\": {\"type\": \"multi\", \"empty\": \"all\", \"fields\": [\"attribute_value\"]}}, \"transform\": [{\"calculate\": \"'TPR'\", \"as\": \"metric_variable\"}]}, {\"layer\": [{\"mark\": \"point\"}, {\"data\": {\"name\": \"data-7aada5f1c963228e80b8d6567e8e6890\"}, \"mark\": {\"type\": \"point\", \"filled\": true, \"size\": 60}, \"encoding\": {\"color\": {\"condition\": {\"type\": \"nominal\", \"field\": \"attribute_value\", \"legend\": null, \"scale\": {\"domain\": [\"male\", \"female\"], \"range\": [\"rgb(117,117,117)\", \"rgb(100, 143, 255)\", \"rgb(254, 97, 0)\", \"rgb(220, 38, 127)\", \"rgb(255, 176, 0)\", \"rgb(120, 94, 240)\"]}, \"selection\": \"selector073\"}, \"value\": \"rgb(224,224,224)\"}, \"shape\": {\"type\": \"nominal\", \"field\": \"attribute_value\", \"legend\": null, \"scale\": {\"domain\": [\"male\", \"female\"], \"range\": [\"cross\", \"circle\"]}}, \"tooltip\": [{\"type\": \"nominal\", \"field\": \"attribute_value\", \"title\": \"Group\"}, {\"type\": \"nominal\", \"field\": \"tooltip_group_size\", \"title\": \"Group Size\"}, {\"type\": \"nominal\", \"field\": \"tooltip_disparity_explanation_tpr\", \"title\": \"Disparity\"}, {\"type\": \"quantitative\", \"field\": \"tpr\", \"format\": \".2f\", \"title\": \"TPR\"}], \"x\": {\"type\": \"quantitative\", \"axis\": {\"domain\": false, \"labels\": false, \"ticks\": false, \"title\": null, \"values\": [-3, -2, -1, 1, 2, 3]}, \"field\": \"tpr_disparity_scaled\", \"scale\": {\"domain\": [-3, 3], \"range\": [80.0, 720.0]}}, \"y\": {\"type\": \"nominal\", \"axis\": {\"domain\": false, \"grid\": false, \"labels\": false, \"ticks\": false, \"title\": \" \"}, \"field\": \"metric_variable\", \"scale\": {\"domain\": [\"TPR\"], \"range\": [30, 225.0]}}}, \"selection\": {\"selector074\": {\"type\": \"multi\", \"empty\": \"all\", \"fields\": [\"attribute_value\"]}}, \"transform\": [{\"calculate\": \"'TPR'\", \"as\": \"metric_variable\"}]}]}]}, {\"layer\": [{\"mark\": {\"type\": \"point\", \"filled\": true, \"tooltip\": \"\"}, \"encoding\": {\"color\": {\"condition\": {\"type\": \"nominal\", \"field\": \"attribute_value\", \"legend\": null, \"scale\": {\"domain\": [\"male\", \"female\"], \"range\": [\"rgb(117,117,117)\", \"rgb(100, 143, 255)\", \"rgb(254, 97, 0)\", \"rgb(220, 38, 127)\", \"rgb(255, 176, 0)\", \"rgb(120, 94, 240)\"]}, \"selection\": \"selector073\"}, \"value\": \"rgb(224,224,224)\"}, \"shape\": {\"type\": \"nominal\", \"field\": \"attribute_value\", \"legend\": null, \"scale\": {\"domain\": [\"male\", \"female\"], \"range\": [\"cross\", \"circle\"]}}, \"x\": {\"value\": 880.0000000000001}, \"y\": {\"type\": \"nominal\", \"axis\": {\"domain\": false, \"grid\": false, \"labels\": false, \"ticks\": false, \"title\": \" \"}, \"field\": \"attribute_value\", \"scale\": {\"domain\": [\"male\", \"female\"], \"range\": [21, 73]}}}, \"selection\": {\"selector073\": {\"type\": \"multi\", \"empty\": \"all\", \"fields\": [\"attribute_value\"]}}}, {\"mark\": {\"type\": \"text\", \"align\": \"left\", \"baseline\": \"middle\", \"font\": \"Helvetica\", \"fontSize\": 11, \"fontWeight\": 300, \"tooltip\": \"\"}, \"encoding\": {\"color\": {\"condition\": {\"type\": \"nominal\", \"field\": \"attribute_value\", \"legend\": null, \"scale\": {\"domain\": [\"male\", \"female\"], \"range\": [\"rgb(117,117,117)\", \"rgb(100, 143, 255)\", \"rgb(254, 97, 0)\", \"rgb(220, 38, 127)\", \"rgb(255, 176, 0)\", \"rgb(120, 94, 240)\"]}, \"selection\": \"selector073\"}, \"value\": \"rgb(224,224,224)\"}, \"text\": {\"type\": \"nominal\", \"field\": \"label\"}, \"x\": {\"value\": 890.0000000000001}, \"y\": {\"type\": \"nominal\", \"axis\": {\"domain\": false, \"grid\": false, \"labels\": false, \"ticks\": false, \"title\": \" \"}, \"field\": \"attribute_value\", \"scale\": {\"domain\": [\"male\", \"female\"], \"range\": [21, 73]}}}, \"selection\": {\"selector076\": {\"type\": \"multi\", \"empty\": \"all\", \"fields\": [\"attribute_value\"]}}}, {\"data\": {\"name\": \"data-79dd248bdaa0ea02c535240e8ad022c8\"}, \"mark\": {\"type\": \"text\", \"align\": \"left\", \"baseline\": \"middle\", \"color\": \"rgb(117,117,117)\", \"font\": \"Helvetica\", \"fontSize\": 11, \"fontWeight\": 300, \"tooltip\": \"\"}, \"encoding\": {\"text\": {\"value\": \"Click to highlight a group.\"}, \"x\": {\"value\": 880.0000000000001}, \"y\": {\"value\": 0}}}], \"data\": {\"name\": \"data-b9f75b5c0827c85fba1c9c9d5d5ac8e6\"}}], \"height\": 250, \"resolve\": {\"scale\": {\"size\": \"independent\", \"y\": \"independent\"}}, \"width\": 800, \"$schema\": \"https://vega.github.io/schema/vega-lite/v4.8.1.json\", \"datasets\": {\"data-a80bbe78875d74850191493116348974\": [{\"metric\": \"TPR\", \"x\": -3.2, \"x2\": 3.2}], \"data-79dd248bdaa0ea02c535240e8ad022c8\": [{\"a\": 1, \"b\": 0}, {\"a\": 1, \"b\": 0}], \"data-f70f876ef858e7578abafe4eee75fee4\": [{\"value\": -3, \"label\": 4}, {\"value\": -2, \"label\": 3}, {\"value\": -1, \"label\": 2}, {\"value\": 0, \"label\": \"=\"}, {\"value\": 1, \"label\": 2}, {\"value\": 2, \"label\": 3}, {\"value\": 3, \"label\": 4}], \"data-3dee117d57e1ece1df7853af976ed45d\": [{\"min\": -0.30000000000000004, \"max\": 0.30000000000000004, \"lower_end\": -3.2, \"upper_end\": 3.2}], \"data-7aada5f1c963228e80b8d6567e8e6890\": [{\"attribute_name\": \"teacher_sex\", \"attribute_value\": \"female\", \"group_size\": 15093, \"total_entities\": 17677, \"tpr\": 0.10238974159704682, \"tpr_disparity\": 3.3706702933747814, \"tpr_disparity_scaled\": 2.3706702933747814, \"tooltip_group_size\": \"15,093 (85.38%)\", \"tooltip_disparity_explanation_tpr\": \"3.37 times larger TPR than the reference group\"}, {\"attribute_name\": \"teacher_sex\", \"attribute_value\": \"male\", \"group_size\": 2584, \"total_entities\": 17677, \"tpr\": 0.030376670716889428, \"tpr_disparity\": 1.0, \"tpr_disparity_scaled\": 0.0, \"tooltip_group_size\": \"2,584 (14.62%)\", \"tooltip_disparity_explanation_tpr\": \"Reference group\"}], \"data-b9f75b5c0827c85fba1c9c9d5d5ac8e6\": [{\"attribute_value\": \"male\", \"label\": \"male [REF]\"}, {\"attribute_value\": \"female\", \"label\": \"female\"}]}}, {\"mode\": \"vega-lite\"});\n",
       "</script>"
      ],
      "text/plain": [
       "alt.LayerChart(...)"
      ]
     },
     "execution_count": 204,
     "metadata": {},
     "output_type": "execute_result"
    }
   ],
   "source": [
    "ap.disparities(bdf, metrics, 'teacher_sex', fairness_threshold = 1.30)"
   ]
  },
  {
   "cell_type": "code",
   "execution_count": null,
   "metadata": {},
   "outputs": [],
   "source": []
  }
 ],
 "metadata": {
  "kernelspec": {
   "display_name": "Python 3",
   "language": "python",
   "name": "python3"
  },
  "language_info": {
   "codemirror_mode": {
    "name": "ipython",
    "version": 3
   },
   "file_extension": ".py",
   "mimetype": "text/x-python",
   "name": "python",
   "nbconvert_exporter": "python",
   "pygments_lexer": "ipython3",
   "version": "3.7.8"
  }
 },
 "nbformat": 4,
 "nbformat_minor": 4
}
