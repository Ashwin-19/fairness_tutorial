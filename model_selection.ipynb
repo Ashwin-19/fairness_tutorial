{
 "cells": [
  {
   "cell_type": "code",
   "execution_count": null,
   "metadata": {},
   "outputs": [],
   "source": [
    "import yaml\n",
    "import os\n",
    "import pandas as pd\n",
    "import numpy as np\n",
    "import seaborn as sns\n",
    "from aequitas.group import Group\n",
    "from aequitas.bias import Bias\n",
    "from aequitas.fairness import Fairness\n",
    "import aequitas.plot as ap\n",
    "import matplotlib.pyplot as plt\n",
    "sns.set() \n",
    "DPI = 200\n",
    "DATAPATH = 'https://github.com/dssg/fairness_tutorial/raw/master/data/'\n"
   ]
  },
  {
   "cell_type": "code",
   "execution_count": null,
   "metadata": {},
   "outputs": [],
   "source": [
    "evals_df = pd.read_csv(DATAPATH +'split2_evals.csv.gz', compression='gzip')\n"
   ]
  },
  {
   "cell_type": "code",
   "execution_count": null,
   "metadata": {},
   "outputs": [],
   "source": [
    "evals_df.head(10)"
   ]
  },
  {
   "cell_type": "code",
   "execution_count": null,
   "metadata": {},
   "outputs": [],
   "source": [
    "evals_df['hyperparameters'][0]"
   ]
  },
  {
   "cell_type": "code",
   "execution_count": null,
   "metadata": {},
   "outputs": [],
   "source": [
    "aequitas_df = pd.read_csv(DATAPATH + 'split2_aequitas.csv.gz', compression='gzip')\n"
   ]
  },
  {
   "cell_type": "code",
   "execution_count": null,
   "metadata": {},
   "outputs": [],
   "source": [
    "aequitas_df.shape"
   ]
  },
  {
   "cell_type": "code",
   "execution_count": null,
   "metadata": {},
   "outputs": [],
   "source": [
    "aequitas_df.head(10)"
   ]
  },
  {
   "cell_type": "code",
   "execution_count": null,
   "metadata": {},
   "outputs": [],
   "source": [
    "poverty_tpr_disparity_df = aequitas_df[aequitas_df['attribute_name']=='poverty_level'].groupby(['model_uuid','attribute_name']).tpr_disparity.agg('max').to_frame().reset_index()"
   ]
  },
  {
   "cell_type": "code",
   "execution_count": null,
   "metadata": {},
   "outputs": [],
   "source": []
  },
  {
   "cell_type": "code",
   "execution_count": null,
   "metadata": {},
   "outputs": [],
   "source": [
    "poverty_tpr_disparity_df.head()"
   ]
  },
  {
   "cell_type": "code",
   "execution_count": null,
   "metadata": {},
   "outputs": [],
   "source": [
    "scatter1 = df = pd.merge(evals_df, poverty_tpr_disparity_df, how='left', on=['model_uuid'], left_index=True, sort=True, copy=True)\n",
    "\n"
   ]
  },
  {
   "cell_type": "code",
   "execution_count": null,
   "metadata": {},
   "outputs": [],
   "source": [
    "scatter1[scatter1['model_uuid']==' '].head()"
   ]
  },
  {
   "cell_type": "code",
   "execution_count": null,
   "metadata": {},
   "outputs": [],
   "source": [
    "scatter1.sort_values('model_precision', ascending=False)"
   ]
  },
  {
   "cell_type": "code",
   "execution_count": null,
   "metadata": {},
   "outputs": [],
   "source": [
    "ax = sns.scatterplot(\n",
    "    x='model_precision', y='tpr_disparity',#, hue='Model Type',# hue='model_type',\n",
    "    data=scatter1,\n",
    "    alpha=0.5, s=20,\n",
    ")\n",
    "ax.set_title('Poverty Level Max TPR Disparity vs. Model Precision', y=1.)\n",
    "\n",
    "plt.gcf().set_size_inches((5, 4))\n",
    "plt.gcf().set_dpi(DPI)\n",
    "#plt.gcf().savefig(f'{NEW_IMGS_DIR}/fairness_vs_performance_density_per_model.png', dpi=DPI)\n",
    "plt.show() "
   ]
  },
  {
   "cell_type": "code",
   "execution_count": null,
   "metadata": {},
   "outputs": [],
   "source": [
    "poverty_min_tpr_df = aequitas_df[aequitas_df['attribute_name']=='poverty_level'].groupby(['model_uuid','attribute_name']).tpr.agg('min').to_frame().reset_index()\n"
   ]
  },
  {
   "cell_type": "code",
   "execution_count": null,
   "metadata": {},
   "outputs": [],
   "source": [
    "scatter2 = pd.merge(evals_df, poverty_min_tpr_df, how='left', on=['model_uuid'], left_index=True, sort=True, copy=True)\n"
   ]
  },
  {
   "cell_type": "code",
   "execution_count": null,
   "metadata": {},
   "outputs": [],
   "source": []
  },
  {
   "cell_type": "code",
   "execution_count": null,
   "metadata": {},
   "outputs": [],
   "source": [
    "ax = sns.scatterplot(\n",
    "    x='model_precision', y='tpr',\n",
    "    \n",
    "    data=scatter2,\n",
    "    alpha=0.5, s=20,\n",
    ")\n",
    "ax.set_title('Poverty Level Min Group-wise TPR vs. Model Precision', y=1.)\n",
    "\n",
    "plt.gcf().set_size_inches((5, 4))\n",
    "plt.gcf().set_dpi(DPI)\n",
    "#plt.gcf().savefig(f'{NEW_IMGS_DIR}/fairness_vs_performance_density_per_model.png', dpi=DPI)\n",
    "plt.show() "
   ]
  },
  {
   "cell_type": "code",
   "execution_count": null,
   "metadata": {},
   "outputs": [],
   "source": [
    "scatter2.sort_values('tpr', ascending=False)"
   ]
  },
  {
   "cell_type": "code",
   "execution_count": null,
   "metadata": {},
   "outputs": [],
   "source": [
    "aequitas_df.loc[(aequitas_df['model_uuid']=='9aa153088e79c7350367b60e98850c1a') & (aequitas_df['attribute_name']=='poverty_level')]"
   ]
  },
  {
   "cell_type": "code",
   "execution_count": null,
   "metadata": {},
   "outputs": [],
   "source": [
    "evals_df.loc"
   ]
  },
  {
   "cell_type": "code",
   "execution_count": null,
   "metadata": {},
   "outputs": [],
   "source": []
  },
  {
   "cell_type": "code",
   "execution_count": null,
   "metadata": {},
   "outputs": [],
   "source": [
    "teacher_sex_tpr_disparity_df = aequitas_df[aequitas_df['attribute_name']=='teacher_sex'].groupby(['model_uuid','attribute_name']).tpr_disparity.agg('max').to_frame().reset_index()"
   ]
  },
  {
   "cell_type": "code",
   "execution_count": null,
   "metadata": {},
   "outputs": [],
   "source": [
    "scatter3 = pd.merge(evals_df, teacher_sex_tpr_disparity_df, how='left', on=['model_uuid'], left_index=True, sort=True, copy=True)\n"
   ]
  },
  {
   "cell_type": "code",
   "execution_count": null,
   "metadata": {},
   "outputs": [],
   "source": [
    "ax = sns.scatterplot(\n",
    "    x='model_precision', y='tpr_disparity',\n",
    "    \n",
    "    data=scatter3,\n",
    "    alpha=0.5, s=20,\n",
    ")\n",
    "ax.set_title('Teacher Sex TPR Disparity vs. Model Precision', y=1.)\n",
    "\n",
    "plt.gcf().set_size_inches((5, 4))\n",
    "plt.gcf().set_dpi(DPI)\n",
    "#plt.gcf().savefig(f'{NEW_IMGS_DIR}/fairness_vs_performance_density_per_model.png', dpi=DPI)\n",
    "plt.show() "
   ]
  },
  {
   "cell_type": "code",
   "execution_count": null,
   "metadata": {},
   "outputs": [],
   "source": [
    "scatter3.loc[(scatter3['model_precision'] > 0.53) & (scatter3['tpr_disparity'] < 1.3)].sort_values('model_precision', ascending=False)"
   ]
  },
  {
   "cell_type": "code",
   "execution_count": null,
   "metadata": {},
   "outputs": [],
   "source": []
  },
  {
   "cell_type": "code",
   "execution_count": null,
   "metadata": {},
   "outputs": [],
   "source": []
  },
  {
   "cell_type": "code",
   "execution_count": null,
   "metadata": {},
   "outputs": [],
   "source": [
    "metro_type_tpr_disparity_df = aequitas_df[aequitas_df['attribute_name']=='metro_type'].groupby(['model_uuid','attribute_name']).tpr_disparity.agg('max').to_frame().reset_index()"
   ]
  },
  {
   "cell_type": "code",
   "execution_count": null,
   "metadata": {},
   "outputs": [],
   "source": [
    "scatter4 = pd.merge(evals_df, metro_type_tpr_disparity_df, how='left', on=['model_uuid'], left_index=True, sort=True, copy=True)\n"
   ]
  },
  {
   "cell_type": "code",
   "execution_count": null,
   "metadata": {},
   "outputs": [],
   "source": [
    "ax = sns.scatterplot(\n",
    "    x='model_precision', y='tpr_disparity',\n",
    "    \n",
    "    data=scatter4,\n",
    "    alpha=0.5, s=20,\n",
    ")\n",
    "ax.set_title('Metro Type TPR Disparity vs. Model Precision', y=1.)\n",
    "\n",
    "plt.gcf().set_size_inches((5, 4))\n",
    "plt.gcf().set_dpi(DPI)\n",
    "#plt.gcf().savefig(f'{NEW_IMGS_DIR}/fairness_vs_performance_density_per_model.png', dpi=DPI)\n",
    "plt.show() "
   ]
  },
  {
   "cell_type": "code",
   "execution_count": null,
   "metadata": {},
   "outputs": [],
   "source": [
    "aequitas_df.loc[(aequitas_df['model_uuid']=='a04e2eedd9c5ff18bcf77e84ae9db561') & (aequitas_df['attribute_name']=='metro_type')]"
   ]
  },
  {
   "cell_type": "code",
   "execution_count": null,
   "metadata": {},
   "outputs": [],
   "source": [
    "pairwise scatter for metro"
   ]
  }
 ],
 "metadata": {
  "kernelspec": {
   "display_name": "Python 3",
   "language": "python",
   "name": "python3"
  },
  "language_info": {
   "codemirror_mode": {
    "name": "ipython",
    "version": 3
   },
   "file_extension": ".py",
   "mimetype": "text/x-python",
   "name": "python",
   "nbconvert_exporter": "python",
   "pygments_lexer": "ipython3",
   "version": "3.7.8"
  }
 },
 "nbformat": 4,
 "nbformat_minor": 4
}
