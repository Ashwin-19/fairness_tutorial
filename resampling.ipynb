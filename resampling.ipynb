{
 "cells": [
  {
   "cell_type": "code",
   "execution_count": 69,
   "metadata": {},
   "outputs": [
    {
     "data": {
      "text/html": [
       "<style>.container { width:75% !important; }</style>"
      ],
      "text/plain": [
       "<IPython.core.display.HTML object>"
      ]
     },
     "metadata": {},
     "output_type": "display_data"
    }
   ],
   "source": [
    "from IPython.core.display import display, HTML\n",
    "display(HTML(\"<style>.container { width:75% !important; }</style>\"))\n",
    "import yaml\n",
    "import os\n",
    "import pandas as pd\n",
    "import numpy as np\n",
    "import seaborn as sns\n",
    "from aequitas.group import Group\n",
    "from aequitas.bias import Bias\n",
    "from aequitas.fairness import Fairness\n",
    "import aequitas.plot as ap\n",
    "import matplotlib.pyplot as plt\n",
    "from sklearn.ensemble import RandomForestClassifier\n"
   ]
  },
  {
   "cell_type": "code",
   "execution_count": 35,
   "metadata": {},
   "outputs": [],
   "source": [
    "datadir = os.path.join(os.getcwd(),'data/donors-choose-splits/')\n",
    "traindf = pd.read_csv(os.path.join(datadir,'train_20120501_20120801.csv.gz'), compression='gzip')\n",
    "testdf = pd.read_csv(os.path.join(datadir,'test_20121201_20130201.csv.gz'), compression='gzip')\n",
    "train_attrdf = pd.read_csv(os.path.join(datadir,'train_20120501_20120801_protected.csv.gz'), compression='gzip')\n",
    "test_attrdf = pd.read_csv(os.path.join(datadir,'test_20121201_20130201_protected.csv.gz'), compression='gzip')\n"
   ]
  },
  {
   "cell_type": "code",
   "execution_count": 66,
   "metadata": {},
   "outputs": [
    {
     "data": {
      "text/plain": [
       "(16790, 113)"
      ]
     },
     "execution_count": 66,
     "metadata": {},
     "output_type": "execute_result"
    }
   ],
   "source": [
    "traindf.shape"
   ]
  },
  {
   "cell_type": "code",
   "execution_count": 36,
   "metadata": {},
   "outputs": [
    {
     "data": {
      "text/plain": [
       "highest    9448\n",
       "lower      7342\n",
       "Name: poverty_level, dtype: int64"
      ]
     },
     "execution_count": 36,
     "metadata": {},
     "output_type": "execute_result"
    }
   ],
   "source": [
    "train_attrdf['poverty_level'].value_counts()"
   ]
  },
  {
   "cell_type": "code",
   "execution_count": 54,
   "metadata": {},
   "outputs": [
    {
     "data": {
      "text/plain": [
       "0.338272650296359"
      ]
     },
     "execution_count": 54,
     "metadata": {},
     "output_type": "execute_result"
    }
   ],
   "source": [
    "traindf[train_attrdf['poverty_level']=='highest']['quickstart_label'].sum() / 9448"
   ]
  },
  {
   "cell_type": "code",
   "execution_count": 53,
   "metadata": {},
   "outputs": [
    {
     "data": {
      "text/plain": [
       "0.42631435576137294"
      ]
     },
     "execution_count": 53,
     "metadata": {},
     "output_type": "execute_result"
    }
   ],
   "source": [
    "traindf[train_attrdf['poverty_level']=='lower']['quickstart_label'].sum() / 7342"
   ]
  },
  {
   "cell_type": "code",
   "execution_count": 61,
   "metadata": {},
   "outputs": [],
   "source": [
    "train_poverty_highest = traindf[train_attrdf['poverty_level']=='highest'].copy()\n",
    "\n",
    "sample_train_poverty_highest = train_poverty_highest.sample(n=7342, replace=False, random_state=1)"
   ]
  },
  {
   "cell_type": "code",
   "execution_count": 62,
   "metadata": {},
   "outputs": [
    {
     "data": {
      "text/plain": [
       "(7342, 113)"
      ]
     },
     "execution_count": 62,
     "metadata": {},
     "output_type": "execute_result"
    }
   ],
   "source": [
    "sample_train_poverty_highest.shape"
   ]
  },
  {
   "cell_type": "code",
   "execution_count": 63,
   "metadata": {},
   "outputs": [
    {
     "data": {
      "text/plain": [
       "0.336692999182784"
      ]
     },
     "execution_count": 63,
     "metadata": {},
     "output_type": "execute_result"
    }
   ],
   "source": [
    "sample_train_poverty_highest['quickstart_label'].sum() / len(sample_train_poverty_highest)"
   ]
  },
  {
   "cell_type": "code",
   "execution_count": null,
   "metadata": {},
   "outputs": [],
   "source": [
    "new_traindf = "
   ]
  },
  {
   "cell_type": "code",
   "execution_count": 64,
   "metadata": {},
   "outputs": [],
   "source": [
    "new_traindf = pd.concat([sample_train_poverty_highest, traindf[train_attrdf['poverty_level']=='lower'].copy()], axis=0)\n"
   ]
  },
  {
   "cell_type": "code",
   "execution_count": 65,
   "metadata": {},
   "outputs": [
    {
     "data": {
      "text/plain": [
       "(14684, 113)"
      ]
     },
     "execution_count": 65,
     "metadata": {},
     "output_type": "execute_result"
    }
   ],
   "source": [
    "new_traindf.shape"
   ]
  },
  {
   "cell_type": "code",
   "execution_count": 70,
   "metadata": {},
   "outputs": [],
   "source": [
    "datadir = os.path.join(os.getcwd(),'data/donors-choose/model_selection')\n",
    "evals_df = pd.read_csv(os.path.join(datadir,'split2_evals.csv'))"
   ]
  },
  {
   "cell_type": "code",
   "execution_count": 71,
   "metadata": {},
   "outputs": [
    {
     "data": {
      "text/html": [
       "<div>\n",
       "<style scoped>\n",
       "    .dataframe tbody tr th:only-of-type {\n",
       "        vertical-align: middle;\n",
       "    }\n",
       "\n",
       "    .dataframe tbody tr th {\n",
       "        vertical-align: top;\n",
       "    }\n",
       "\n",
       "    .dataframe thead th {\n",
       "        text-align: right;\n",
       "    }\n",
       "</style>\n",
       "<table border=\"1\" class=\"dataframe\">\n",
       "  <thead>\n",
       "    <tr style=\"text-align: right;\">\n",
       "      <th></th>\n",
       "      <th>model_precision</th>\n",
       "      <th>model_classpath</th>\n",
       "      <th>hyperparameters</th>\n",
       "      <th>model_uuid</th>\n",
       "      <th>predictions_uuid</th>\n",
       "      <th>target_pp</th>\n",
       "      <th>matrix_type</th>\n",
       "      <th>matrix_start_date</th>\n",
       "      <th>matrix_end_date</th>\n",
       "    </tr>\n",
       "  </thead>\n",
       "  <tbody>\n",
       "    <tr>\n",
       "      <th>0</th>\n",
       "      <td>0.552</td>\n",
       "      <td>sklearn.ensemble.RandomForestClassifier</td>\n",
       "      <td>{\"n_jobs\": -1, \"criterion\": \"gini\", \"max_depth...</td>\n",
       "      <td>a04e2eedd9c5ff18bcf77e84ae9db561</td>\n",
       "      <td>c598fbe93f4c218ac7d325fb478598f1</td>\n",
       "      <td>1000</td>\n",
       "      <td>test</td>\n",
       "      <td>2012-12-01</td>\n",
       "      <td>2013-01-31</td>\n",
       "    </tr>\n",
       "  </tbody>\n",
       "</table>\n",
       "</div>"
      ],
      "text/plain": [
       "   model_precision                          model_classpath  \\\n",
       "0            0.552  sklearn.ensemble.RandomForestClassifier   \n",
       "\n",
       "                                     hyperparameters  \\\n",
       "0  {\"n_jobs\": -1, \"criterion\": \"gini\", \"max_depth...   \n",
       "\n",
       "                         model_uuid                  predictions_uuid  \\\n",
       "0  a04e2eedd9c5ff18bcf77e84ae9db561  c598fbe93f4c218ac7d325fb478598f1   \n",
       "\n",
       "   target_pp matrix_type matrix_start_date matrix_end_date  \n",
       "0       1000        test        2012-12-01      2013-01-31  "
      ]
     },
     "execution_count": 71,
     "metadata": {},
     "output_type": "execute_result"
    }
   ],
   "source": [
    "evals_df[evals_df['model_uuid']=='a04e2eedd9c5ff18bcf77e84ae9db561']"
   ]
  },
  {
   "cell_type": "code",
   "execution_count": 72,
   "metadata": {},
   "outputs": [],
   "source": [
    "import ast\n",
    "hyperparameters= ast.literal_eval(evals_df['hyperparameters'][0])"
   ]
  },
  {
   "cell_type": "code",
   "execution_count": 73,
   "metadata": {},
   "outputs": [],
   "source": [
    "rf = RandomForestClassifier(**hyperparameters)"
   ]
  },
  {
   "cell_type": "code",
   "execution_count": 74,
   "metadata": {},
   "outputs": [
    {
     "data": {
      "text/plain": [
       "{'base_estimator': DecisionTreeClassifier(),\n",
       " 'n_estimators': 87,\n",
       " 'estimator_params': ('criterion',\n",
       "  'max_depth',\n",
       "  'min_samples_split',\n",
       "  'min_samples_leaf',\n",
       "  'min_weight_fraction_leaf',\n",
       "  'max_features',\n",
       "  'max_leaf_nodes',\n",
       "  'min_impurity_decrease',\n",
       "  'min_impurity_split',\n",
       "  'random_state',\n",
       "  'ccp_alpha'),\n",
       " 'bootstrap': True,\n",
       " 'oob_score': False,\n",
       " 'n_jobs': -1,\n",
       " 'random_state': 213500298,\n",
       " 'verbose': 0,\n",
       " 'warm_start': False,\n",
       " 'class_weight': None,\n",
       " 'max_samples': None,\n",
       " 'criterion': 'gini',\n",
       " 'max_depth': 30,\n",
       " 'min_samples_split': 3,\n",
       " 'min_samples_leaf': 44,\n",
       " 'min_weight_fraction_leaf': 0.0,\n",
       " 'max_features': 'sqrt',\n",
       " 'max_leaf_nodes': None,\n",
       " 'min_impurity_decrease': 0.0,\n",
       " 'min_impurity_split': None,\n",
       " 'ccp_alpha': 0.0}"
      ]
     },
     "execution_count": 74,
     "metadata": {},
     "output_type": "execute_result"
    }
   ],
   "source": [
    "rf.__dict__"
   ]
  },
  {
   "cell_type": "code",
   "execution_count": 75,
   "metadata": {},
   "outputs": [],
   "source": [
    "y_train = new_traindf['quickstart_label'].values"
   ]
  },
  {
   "cell_type": "code",
   "execution_count": 76,
   "metadata": {},
   "outputs": [
    {
     "data": {
      "text/plain": [
       "RandomForestClassifier(max_depth=30, max_features='sqrt', min_samples_leaf=44,\n",
       "                       min_samples_split=3, n_estimators=87, n_jobs=-1,\n",
       "                       random_state=213500298)"
      ]
     },
     "execution_count": 76,
     "metadata": {},
     "output_type": "execute_result"
    }
   ],
   "source": [
    "rf.fit(new_traindf.drop(['entity_id','as_of_date','quickstart_label'], axis = 1), y_train)"
   ]
  },
  {
   "cell_type": "code",
   "execution_count": 77,
   "metadata": {},
   "outputs": [],
   "source": [
    "y_pred = rf.predict_proba(testdf.drop(['entity_id','as_of_date','quickstart_label'], axis = 1))[:,1]"
   ]
  },
  {
   "cell_type": "code",
   "execution_count": 79,
   "metadata": {},
   "outputs": [],
   "source": [
    "new_preds = testdf[['entity_id','as_of_date','quickstart_label']].copy()"
   ]
  },
  {
   "cell_type": "code",
   "execution_count": 80,
   "metadata": {},
   "outputs": [],
   "source": [
    "new_preds['predict_proba'] = y_pred"
   ]
  },
  {
   "cell_type": "code",
   "execution_count": 81,
   "metadata": {},
   "outputs": [
    {
     "data": {
      "text/html": [
       "<div>\n",
       "<style scoped>\n",
       "    .dataframe tbody tr th:only-of-type {\n",
       "        vertical-align: middle;\n",
       "    }\n",
       "\n",
       "    .dataframe tbody tr th {\n",
       "        vertical-align: top;\n",
       "    }\n",
       "\n",
       "    .dataframe thead th {\n",
       "        text-align: right;\n",
       "    }\n",
       "</style>\n",
       "<table border=\"1\" class=\"dataframe\">\n",
       "  <thead>\n",
       "    <tr style=\"text-align: right;\">\n",
       "      <th></th>\n",
       "      <th>entity_id</th>\n",
       "      <th>as_of_date</th>\n",
       "      <th>quickstart_label</th>\n",
       "      <th>predict_proba</th>\n",
       "    </tr>\n",
       "  </thead>\n",
       "  <tbody>\n",
       "    <tr>\n",
       "      <th>0</th>\n",
       "      <td>185730</td>\n",
       "      <td>1354320000000</td>\n",
       "      <td>0.0</td>\n",
       "      <td>0.324587</td>\n",
       "    </tr>\n",
       "    <tr>\n",
       "      <th>1</th>\n",
       "      <td>185729</td>\n",
       "      <td>1354320000000</td>\n",
       "      <td>0.0</td>\n",
       "      <td>0.346998</td>\n",
       "    </tr>\n",
       "    <tr>\n",
       "      <th>2</th>\n",
       "      <td>185738</td>\n",
       "      <td>1354320000000</td>\n",
       "      <td>0.0</td>\n",
       "      <td>0.450499</td>\n",
       "    </tr>\n",
       "    <tr>\n",
       "      <th>3</th>\n",
       "      <td>185737</td>\n",
       "      <td>1354320000000</td>\n",
       "      <td>0.0</td>\n",
       "      <td>0.472256</td>\n",
       "    </tr>\n",
       "    <tr>\n",
       "      <th>4</th>\n",
       "      <td>185736</td>\n",
       "      <td>1354320000000</td>\n",
       "      <td>0.0</td>\n",
       "      <td>0.254969</td>\n",
       "    </tr>\n",
       "  </tbody>\n",
       "</table>\n",
       "</div>"
      ],
      "text/plain": [
       "   entity_id     as_of_date  quickstart_label  predict_proba\n",
       "0     185730  1354320000000               0.0       0.324587\n",
       "1     185729  1354320000000               0.0       0.346998\n",
       "2     185738  1354320000000               0.0       0.450499\n",
       "3     185737  1354320000000               0.0       0.472256\n",
       "4     185736  1354320000000               0.0       0.254969"
      ]
     },
     "execution_count": 81,
     "metadata": {},
     "output_type": "execute_result"
    }
   ],
   "source": [
    "new_preds.head()"
   ]
  },
  {
   "cell_type": "code",
   "execution_count": 83,
   "metadata": {},
   "outputs": [],
   "source": [
    "split1_attrdf"
   ]
  },
  {
   "cell_type": "code",
   "execution_count": 108,
   "metadata": {},
   "outputs": [
    {
     "data": {
      "text/plain": [
       "0.522"
      ]
     },
     "execution_count": 108,
     "metadata": {},
     "output_type": "execute_result"
    }
   ],
   "source": [
    "new_preds[new_preds['score'] > 0]['quickstart_label'].sum() / 1000"
   ]
  },
  {
   "cell_type": "code",
   "execution_count": 94,
   "metadata": {},
   "outputs": [],
   "source": [
    "df = pd.merge(new_preds, split1_attrdf, how='left', on=['entity_id','as_of_date'], left_index=True, right_index=False, sort=True, copy=True)"
   ]
  },
  {
   "cell_type": "code",
   "execution_count": 97,
   "metadata": {},
   "outputs": [],
   "source": [
    "df = df.rename(columns = {'quickstart_label':'label_value'})"
   ]
  },
  {
   "cell_type": "code",
   "execution_count": 98,
   "metadata": {},
   "outputs": [
    {
     "data": {
      "text/html": [
       "<div>\n",
       "<style scoped>\n",
       "    .dataframe tbody tr th:only-of-type {\n",
       "        vertical-align: middle;\n",
       "    }\n",
       "\n",
       "    .dataframe tbody tr th {\n",
       "        vertical-align: top;\n",
       "    }\n",
       "\n",
       "    .dataframe thead th {\n",
       "        text-align: right;\n",
       "    }\n",
       "</style>\n",
       "<table border=\"1\" class=\"dataframe\">\n",
       "  <thead>\n",
       "    <tr style=\"text-align: right;\">\n",
       "      <th></th>\n",
       "      <th>entity_id</th>\n",
       "      <th>as_of_date</th>\n",
       "      <th>label_value</th>\n",
       "      <th>predict_proba</th>\n",
       "      <th>score</th>\n",
       "      <th>poverty_level</th>\n",
       "      <th>teacher_sex</th>\n",
       "      <th>metro_type</th>\n",
       "    </tr>\n",
       "  </thead>\n",
       "  <tbody>\n",
       "    <tr>\n",
       "      <th>17310</th>\n",
       "      <td>119</td>\n",
       "      <td>1359504000000</td>\n",
       "      <td>0.0</td>\n",
       "      <td>0.360968</td>\n",
       "      <td>0.0</td>\n",
       "      <td>lower</td>\n",
       "      <td>female</td>\n",
       "      <td>suburban_rural</td>\n",
       "    </tr>\n",
       "    <tr>\n",
       "      <th>15801</th>\n",
       "      <td>120</td>\n",
       "      <td>1359158400000</td>\n",
       "      <td>0.0</td>\n",
       "      <td>0.320894</td>\n",
       "      <td>0.0</td>\n",
       "      <td>highest</td>\n",
       "      <td>female</td>\n",
       "      <td>unknown</td>\n",
       "    </tr>\n",
       "    <tr>\n",
       "      <th>14694</th>\n",
       "      <td>121</td>\n",
       "      <td>1358812800000</td>\n",
       "      <td>1.0</td>\n",
       "      <td>0.492224</td>\n",
       "      <td>0.0</td>\n",
       "      <td>lower</td>\n",
       "      <td>female</td>\n",
       "      <td>suburban_rural</td>\n",
       "    </tr>\n",
       "    <tr>\n",
       "      <th>14226</th>\n",
       "      <td>122</td>\n",
       "      <td>1358726400000</td>\n",
       "      <td>0.0</td>\n",
       "      <td>0.418132</td>\n",
       "      <td>0.0</td>\n",
       "      <td>lower</td>\n",
       "      <td>female</td>\n",
       "      <td>unknown</td>\n",
       "    </tr>\n",
       "    <tr>\n",
       "      <th>14227</th>\n",
       "      <td>123</td>\n",
       "      <td>1358726400000</td>\n",
       "      <td>0.0</td>\n",
       "      <td>0.315036</td>\n",
       "      <td>0.0</td>\n",
       "      <td>lower</td>\n",
       "      <td>female</td>\n",
       "      <td>urban</td>\n",
       "    </tr>\n",
       "  </tbody>\n",
       "</table>\n",
       "</div>"
      ],
      "text/plain": [
       "       entity_id     as_of_date  label_value  predict_proba  score  \\\n",
       "17310        119  1359504000000          0.0       0.360968    0.0   \n",
       "15801        120  1359158400000          0.0       0.320894    0.0   \n",
       "14694        121  1358812800000          1.0       0.492224    0.0   \n",
       "14226        122  1358726400000          0.0       0.418132    0.0   \n",
       "14227        123  1358726400000          0.0       0.315036    0.0   \n",
       "\n",
       "      poverty_level teacher_sex      metro_type  \n",
       "17310         lower      female  suburban_rural  \n",
       "15801       highest      female         unknown  \n",
       "14694         lower      female  suburban_rural  \n",
       "14226         lower      female         unknown  \n",
       "14227         lower      female           urban  "
      ]
     },
     "execution_count": 98,
     "metadata": {},
     "output_type": "execute_result"
    }
   ],
   "source": [
    "df.head()"
   ]
  },
  {
   "cell_type": "code",
   "execution_count": 99,
   "metadata": {},
   "outputs": [
    {
     "name": "stdout",
     "output_type": "stream",
     "text": [
      "model_id, score_thresholds 0 {'rank_abs': [1000]}\n"
     ]
    }
   ],
   "source": [
    "g = Group()\n",
    "xtab, _ = g.get_crosstabs(df[['score','label_value','poverty_level','metro_type', 'teacher_sex']].copy())"
   ]
  },
  {
   "cell_type": "code",
   "execution_count": 100,
   "metadata": {},
   "outputs": [],
   "source": [
    "absolute_metrics = g.list_absolute_metrics(xtab)"
   ]
  },
  {
   "cell_type": "code",
   "execution_count": 101,
   "metadata": {},
   "outputs": [
    {
     "data": {
      "text/html": [
       "<div>\n",
       "<style scoped>\n",
       "    .dataframe tbody tr th:only-of-type {\n",
       "        vertical-align: middle;\n",
       "    }\n",
       "\n",
       "    .dataframe tbody tr th {\n",
       "        vertical-align: top;\n",
       "    }\n",
       "\n",
       "    .dataframe thead th {\n",
       "        text-align: right;\n",
       "    }\n",
       "</style>\n",
       "<table border=\"1\" class=\"dataframe\">\n",
       "  <thead>\n",
       "    <tr style=\"text-align: right;\">\n",
       "      <th></th>\n",
       "      <th>model_id</th>\n",
       "      <th>score_threshold</th>\n",
       "      <th>k</th>\n",
       "      <th>attribute_name</th>\n",
       "      <th>attribute_value</th>\n",
       "      <th>pp</th>\n",
       "      <th>pn</th>\n",
       "      <th>fp</th>\n",
       "      <th>fn</th>\n",
       "      <th>tn</th>\n",
       "      <th>tp</th>\n",
       "      <th>group_label_pos</th>\n",
       "      <th>group_label_neg</th>\n",
       "      <th>group_size</th>\n",
       "      <th>total_entities</th>\n",
       "    </tr>\n",
       "  </thead>\n",
       "  <tbody>\n",
       "    <tr>\n",
       "      <th>0</th>\n",
       "      <td>0</td>\n",
       "      <td>binary 0/1</td>\n",
       "      <td>1000</td>\n",
       "      <td>poverty_level</td>\n",
       "      <td>highest</td>\n",
       "      <td>189</td>\n",
       "      <td>9784</td>\n",
       "      <td>73</td>\n",
       "      <td>2996</td>\n",
       "      <td>6788</td>\n",
       "      <td>116</td>\n",
       "      <td>3112</td>\n",
       "      <td>6861</td>\n",
       "      <td>9973</td>\n",
       "      <td>17677</td>\n",
       "    </tr>\n",
       "    <tr>\n",
       "      <th>1</th>\n",
       "      <td>0</td>\n",
       "      <td>binary 0/1</td>\n",
       "      <td>1000</td>\n",
       "      <td>poverty_level</td>\n",
       "      <td>lower</td>\n",
       "      <td>811</td>\n",
       "      <td>6893</td>\n",
       "      <td>405</td>\n",
       "      <td>2452</td>\n",
       "      <td>4441</td>\n",
       "      <td>406</td>\n",
       "      <td>2858</td>\n",
       "      <td>4846</td>\n",
       "      <td>7704</td>\n",
       "      <td>17677</td>\n",
       "    </tr>\n",
       "    <tr>\n",
       "      <th>2</th>\n",
       "      <td>0</td>\n",
       "      <td>binary 0/1</td>\n",
       "      <td>1000</td>\n",
       "      <td>metro_type</td>\n",
       "      <td>suburban_rural</td>\n",
       "      <td>671</td>\n",
       "      <td>5835</td>\n",
       "      <td>335</td>\n",
       "      <td>2057</td>\n",
       "      <td>3778</td>\n",
       "      <td>336</td>\n",
       "      <td>2393</td>\n",
       "      <td>4113</td>\n",
       "      <td>6506</td>\n",
       "      <td>17677</td>\n",
       "    </tr>\n",
       "    <tr>\n",
       "      <th>3</th>\n",
       "      <td>0</td>\n",
       "      <td>binary 0/1</td>\n",
       "      <td>1000</td>\n",
       "      <td>metro_type</td>\n",
       "      <td>unknown</td>\n",
       "      <td>174</td>\n",
       "      <td>1882</td>\n",
       "      <td>83</td>\n",
       "      <td>674</td>\n",
       "      <td>1208</td>\n",
       "      <td>91</td>\n",
       "      <td>765</td>\n",
       "      <td>1291</td>\n",
       "      <td>2056</td>\n",
       "      <td>17677</td>\n",
       "    </tr>\n",
       "    <tr>\n",
       "      <th>4</th>\n",
       "      <td>0</td>\n",
       "      <td>binary 0/1</td>\n",
       "      <td>1000</td>\n",
       "      <td>metro_type</td>\n",
       "      <td>urban</td>\n",
       "      <td>155</td>\n",
       "      <td>8960</td>\n",
       "      <td>60</td>\n",
       "      <td>2717</td>\n",
       "      <td>6243</td>\n",
       "      <td>95</td>\n",
       "      <td>2812</td>\n",
       "      <td>6303</td>\n",
       "      <td>9115</td>\n",
       "      <td>17677</td>\n",
       "    </tr>\n",
       "    <tr>\n",
       "      <th>5</th>\n",
       "      <td>0</td>\n",
       "      <td>binary 0/1</td>\n",
       "      <td>1000</td>\n",
       "      <td>teacher_sex</td>\n",
       "      <td>female</td>\n",
       "      <td>919</td>\n",
       "      <td>14174</td>\n",
       "      <td>434</td>\n",
       "      <td>4662</td>\n",
       "      <td>9512</td>\n",
       "      <td>485</td>\n",
       "      <td>5147</td>\n",
       "      <td>9946</td>\n",
       "      <td>15093</td>\n",
       "      <td>17677</td>\n",
       "    </tr>\n",
       "    <tr>\n",
       "      <th>6</th>\n",
       "      <td>0</td>\n",
       "      <td>binary 0/1</td>\n",
       "      <td>1000</td>\n",
       "      <td>teacher_sex</td>\n",
       "      <td>male</td>\n",
       "      <td>81</td>\n",
       "      <td>2503</td>\n",
       "      <td>44</td>\n",
       "      <td>786</td>\n",
       "      <td>1717</td>\n",
       "      <td>37</td>\n",
       "      <td>823</td>\n",
       "      <td>1761</td>\n",
       "      <td>2584</td>\n",
       "      <td>17677</td>\n",
       "    </tr>\n",
       "  </tbody>\n",
       "</table>\n",
       "</div>"
      ],
      "text/plain": [
       "   model_id score_threshold     k attribute_name attribute_value   pp     pn  \\\n",
       "0         0      binary 0/1  1000  poverty_level         highest  189   9784   \n",
       "1         0      binary 0/1  1000  poverty_level           lower  811   6893   \n",
       "2         0      binary 0/1  1000     metro_type  suburban_rural  671   5835   \n",
       "3         0      binary 0/1  1000     metro_type         unknown  174   1882   \n",
       "4         0      binary 0/1  1000     metro_type           urban  155   8960   \n",
       "5         0      binary 0/1  1000    teacher_sex          female  919  14174   \n",
       "6         0      binary 0/1  1000    teacher_sex            male   81   2503   \n",
       "\n",
       "    fp    fn    tn   tp  group_label_pos  group_label_neg  group_size  \\\n",
       "0   73  2996  6788  116             3112             6861        9973   \n",
       "1  405  2452  4441  406             2858             4846        7704   \n",
       "2  335  2057  3778  336             2393             4113        6506   \n",
       "3   83   674  1208   91              765             1291        2056   \n",
       "4   60  2717  6243   95             2812             6303        9115   \n",
       "5  434  4662  9512  485             5147             9946       15093   \n",
       "6   44   786  1717   37              823             1761        2584   \n",
       "\n",
       "   total_entities  \n",
       "0           17677  \n",
       "1           17677  \n",
       "2           17677  \n",
       "3           17677  \n",
       "4           17677  \n",
       "5           17677  \n",
       "6           17677  "
      ]
     },
     "execution_count": 101,
     "metadata": {},
     "output_type": "execute_result"
    }
   ],
   "source": [
    "xtab[[col for col in xtab.columns if col not in absolute_metrics]]"
   ]
  },
  {
   "cell_type": "code",
   "execution_count": 102,
   "metadata": {},
   "outputs": [
    {
     "data": {
      "text/html": [
       "<div>\n",
       "<style scoped>\n",
       "    .dataframe tbody tr th:only-of-type {\n",
       "        vertical-align: middle;\n",
       "    }\n",
       "\n",
       "    .dataframe tbody tr th {\n",
       "        vertical-align: top;\n",
       "    }\n",
       "\n",
       "    .dataframe thead th {\n",
       "        text-align: right;\n",
       "    }\n",
       "</style>\n",
       "<table border=\"1\" class=\"dataframe\">\n",
       "  <thead>\n",
       "    <tr style=\"text-align: right;\">\n",
       "      <th></th>\n",
       "      <th>attribute_name</th>\n",
       "      <th>attribute_value</th>\n",
       "      <th>tpr</th>\n",
       "      <th>tnr</th>\n",
       "      <th>for</th>\n",
       "      <th>fdr</th>\n",
       "      <th>fpr</th>\n",
       "      <th>fnr</th>\n",
       "      <th>npv</th>\n",
       "      <th>precision</th>\n",
       "      <th>ppr</th>\n",
       "      <th>pprev</th>\n",
       "      <th>prev</th>\n",
       "    </tr>\n",
       "  </thead>\n",
       "  <tbody>\n",
       "    <tr>\n",
       "      <th>0</th>\n",
       "      <td>poverty_level</td>\n",
       "      <td>highest</td>\n",
       "      <td>0.037275</td>\n",
       "      <td>0.989360</td>\n",
       "      <td>0.306214</td>\n",
       "      <td>0.386243</td>\n",
       "      <td>0.010640</td>\n",
       "      <td>0.962725</td>\n",
       "      <td>0.693786</td>\n",
       "      <td>0.613757</td>\n",
       "      <td>0.189</td>\n",
       "      <td>0.018951</td>\n",
       "      <td>0.312043</td>\n",
       "    </tr>\n",
       "    <tr>\n",
       "      <th>1</th>\n",
       "      <td>poverty_level</td>\n",
       "      <td>lower</td>\n",
       "      <td>0.142057</td>\n",
       "      <td>0.916426</td>\n",
       "      <td>0.355723</td>\n",
       "      <td>0.499383</td>\n",
       "      <td>0.083574</td>\n",
       "      <td>0.857943</td>\n",
       "      <td>0.644277</td>\n",
       "      <td>0.500617</td>\n",
       "      <td>0.811</td>\n",
       "      <td>0.105270</td>\n",
       "      <td>0.370976</td>\n",
       "    </tr>\n",
       "    <tr>\n",
       "      <th>2</th>\n",
       "      <td>metro_type</td>\n",
       "      <td>suburban_rural</td>\n",
       "      <td>0.140410</td>\n",
       "      <td>0.918551</td>\n",
       "      <td>0.352528</td>\n",
       "      <td>0.499255</td>\n",
       "      <td>0.081449</td>\n",
       "      <td>0.859590</td>\n",
       "      <td>0.647472</td>\n",
       "      <td>0.500745</td>\n",
       "      <td>0.671</td>\n",
       "      <td>0.103136</td>\n",
       "      <td>0.367814</td>\n",
       "    </tr>\n",
       "    <tr>\n",
       "      <th>3</th>\n",
       "      <td>metro_type</td>\n",
       "      <td>unknown</td>\n",
       "      <td>0.118954</td>\n",
       "      <td>0.935709</td>\n",
       "      <td>0.358130</td>\n",
       "      <td>0.477011</td>\n",
       "      <td>0.064291</td>\n",
       "      <td>0.881046</td>\n",
       "      <td>0.641870</td>\n",
       "      <td>0.522989</td>\n",
       "      <td>0.174</td>\n",
       "      <td>0.084630</td>\n",
       "      <td>0.372082</td>\n",
       "    </tr>\n",
       "    <tr>\n",
       "      <th>4</th>\n",
       "      <td>metro_type</td>\n",
       "      <td>urban</td>\n",
       "      <td>0.033784</td>\n",
       "      <td>0.990481</td>\n",
       "      <td>0.303237</td>\n",
       "      <td>0.387097</td>\n",
       "      <td>0.009519</td>\n",
       "      <td>0.966216</td>\n",
       "      <td>0.696763</td>\n",
       "      <td>0.612903</td>\n",
       "      <td>0.155</td>\n",
       "      <td>0.017005</td>\n",
       "      <td>0.308502</td>\n",
       "    </tr>\n",
       "    <tr>\n",
       "      <th>5</th>\n",
       "      <td>teacher_sex</td>\n",
       "      <td>female</td>\n",
       "      <td>0.094230</td>\n",
       "      <td>0.956364</td>\n",
       "      <td>0.328912</td>\n",
       "      <td>0.472252</td>\n",
       "      <td>0.043636</td>\n",
       "      <td>0.905770</td>\n",
       "      <td>0.671088</td>\n",
       "      <td>0.527748</td>\n",
       "      <td>0.919</td>\n",
       "      <td>0.060889</td>\n",
       "      <td>0.341019</td>\n",
       "    </tr>\n",
       "    <tr>\n",
       "      <th>6</th>\n",
       "      <td>teacher_sex</td>\n",
       "      <td>male</td>\n",
       "      <td>0.044957</td>\n",
       "      <td>0.975014</td>\n",
       "      <td>0.314023</td>\n",
       "      <td>0.543210</td>\n",
       "      <td>0.024986</td>\n",
       "      <td>0.955043</td>\n",
       "      <td>0.685977</td>\n",
       "      <td>0.456790</td>\n",
       "      <td>0.081</td>\n",
       "      <td>0.031347</td>\n",
       "      <td>0.318498</td>\n",
       "    </tr>\n",
       "  </tbody>\n",
       "</table>\n",
       "</div>"
      ],
      "text/plain": [
       "  attribute_name attribute_value       tpr       tnr       for       fdr  \\\n",
       "0  poverty_level         highest  0.037275  0.989360  0.306214  0.386243   \n",
       "1  poverty_level           lower  0.142057  0.916426  0.355723  0.499383   \n",
       "2     metro_type  suburban_rural  0.140410  0.918551  0.352528  0.499255   \n",
       "3     metro_type         unknown  0.118954  0.935709  0.358130  0.477011   \n",
       "4     metro_type           urban  0.033784  0.990481  0.303237  0.387097   \n",
       "5    teacher_sex          female  0.094230  0.956364  0.328912  0.472252   \n",
       "6    teacher_sex            male  0.044957  0.975014  0.314023  0.543210   \n",
       "\n",
       "        fpr       fnr       npv  precision    ppr     pprev      prev  \n",
       "0  0.010640  0.962725  0.693786   0.613757  0.189  0.018951  0.312043  \n",
       "1  0.083574  0.857943  0.644277   0.500617  0.811  0.105270  0.370976  \n",
       "2  0.081449  0.859590  0.647472   0.500745  0.671  0.103136  0.367814  \n",
       "3  0.064291  0.881046  0.641870   0.522989  0.174  0.084630  0.372082  \n",
       "4  0.009519  0.966216  0.696763   0.612903  0.155  0.017005  0.308502  \n",
       "5  0.043636  0.905770  0.671088   0.527748  0.919  0.060889  0.341019  \n",
       "6  0.024986  0.955043  0.685977   0.456790  0.081  0.031347  0.318498  "
      ]
     },
     "execution_count": 102,
     "metadata": {},
     "output_type": "execute_result"
    }
   ],
   "source": [
    "xtab[['attribute_name', 'attribute_value'] + absolute_metrics]"
   ]
  },
  {
   "cell_type": "code",
   "execution_count": null,
   "metadata": {},
   "outputs": [],
   "source": []
  },
  {
   "cell_type": "code",
   "execution_count": 178,
   "metadata": {},
   "outputs": [],
   "source": [
    "label_pos_poverty_highest = traindf.loc[(train_attrdf['poverty_level']=='highest') & traindf['quickstart_label'] > 0]\n",
    "label_neg_poverty_highest = traindf.loc[(train_attrdf['poverty_level']=='highest') & traindf['quickstart_label'] == 0]"
   ]
  },
  {
   "cell_type": "code",
   "execution_count": 179,
   "metadata": {},
   "outputs": [],
   "source": [
    "label_pos_poverty_lower = traindf.loc[(train_attrdf['poverty_level']=='lower') & traindf['quickstart_label'] > 0]\n",
    "label_neg_poverty_lower = traindf.loc[(train_attrdf['poverty_level']=='lower') & traindf['quickstart_label'] == 0]"
   ]
  },
  {
   "cell_type": "code",
   "execution_count": 111,
   "metadata": {},
   "outputs": [
    {
     "data": {
      "text/plain": [
       "(3196, 113)"
      ]
     },
     "execution_count": 111,
     "metadata": {},
     "output_type": "execute_result"
    }
   ],
   "source": [
    "label_pos_poverty_highest.shape"
   ]
  },
  {
   "cell_type": "code",
   "execution_count": 112,
   "metadata": {},
   "outputs": [
    {
     "data": {
      "text/plain": [
       "(3130, 113)"
      ]
     },
     "execution_count": 112,
     "metadata": {},
     "output_type": "execute_result"
    }
   ],
   "source": [
    "label_pos_poverty_lower.shape"
   ]
  },
  {
   "cell_type": "code",
   "execution_count": 122,
   "metadata": {},
   "outputs": [
    {
     "data": {
      "text/plain": [
       "(13594, 113)"
      ]
     },
     "execution_count": 122,
     "metadata": {},
     "output_type": "execute_result"
    }
   ],
   "source": [
    "label_neg_poverty_highest.shape"
   ]
  },
  {
   "cell_type": "code",
   "execution_count": 123,
   "metadata": {},
   "outputs": [
    {
     "data": {
      "text/plain": [
       "(13660, 113)"
      ]
     },
     "execution_count": 123,
     "metadata": {},
     "output_type": "execute_result"
    }
   ],
   "source": [
    "label_neg_poverty_lower.shape"
   ]
  },
  {
   "cell_type": "code",
   "execution_count": 266,
   "metadata": {},
   "outputs": [],
   "source": [
    "sample_pos_poverty_highest = label_pos_poverty_highest.sample(n=3000, replace=False, random_state=1)\n",
    "sample_neg_poverty_highest = label_neg_poverty_highest.sample(n=3000, replace=False, random_state=1)\n",
    "\n",
    "sample_pos_poverty_lower = label_pos_poverty_lower.sample(n=3000, replace=False, random_state=1)\n",
    "sample_neg_poverty_lower = label_neg_poverty_lower.sample(n=12000, replace=False, random_state=1)"
   ]
  },
  {
   "cell_type": "code",
   "execution_count": 267,
   "metadata": {},
   "outputs": [
    {
     "data": {
      "text/plain": [
       "RandomForestClassifier(max_depth=30, max_features='sqrt', min_samples_leaf=44,\n",
       "                       min_samples_split=3, n_estimators=87, n_jobs=-1,\n",
       "                       random_state=213500298)"
      ]
     },
     "execution_count": 267,
     "metadata": {},
     "output_type": "execute_result"
    }
   ],
   "source": [
    "new_traindf = pd.concat([sample_pos_poverty_highest,sample_neg_poverty_highest,sample_pos_poverty_lower, sample_neg_poverty_lower], axis=0)\n",
    "y_train = new_traindf['quickstart_label'].values\n",
    "rf.fit(new_traindf.drop(['entity_id','as_of_date','quickstart_label'], axis = 1), y_train)"
   ]
  },
  {
   "cell_type": "code",
   "execution_count": 268,
   "metadata": {},
   "outputs": [],
   "source": [
    "y_pred = rf.predict_proba(testdf.drop(['entity_id','as_of_date','quickstart_label'], axis = 1))[:,1]\n",
    "new_preds = testdf[['entity_id','as_of_date','quickstart_label']].copy()\n",
    "new_preds['predict_proba'] = y_pred\n",
    "new_preds = new_preds.sort_values('predict_proba', ascending = False).reset_index(drop=True).copy()\n",
    "new_preds['score'] = new_preds.apply(lambda x: 1.0 if int(x.name)  < 1000 else 0.0, axis=1)"
   ]
  },
  {
   "cell_type": "code",
   "execution_count": 269,
   "metadata": {},
   "outputs": [
    {
     "name": "stdout",
     "output_type": "stream",
     "text": [
      "model_id, score_thresholds 0 {'rank_abs': [1000]}\n"
     ]
    }
   ],
   "source": [
    "df = pd.merge(new_preds, test_attrdf, how='left', on=['entity_id','as_of_date'], left_index=True, right_index=False, sort=True, copy=True)\n",
    "df = df.rename(columns = {'quickstart_label':'label_value'})\n",
    "g = Group()\n",
    "xtab, _ = g.get_crosstabs(df[['score','label_value','poverty_level','metro_type', 'teacher_sex']].copy())"
   ]
  },
  {
   "cell_type": "code",
   "execution_count": 270,
   "metadata": {},
   "outputs": [
    {
     "data": {
      "text/html": [
       "<div>\n",
       "<style scoped>\n",
       "    .dataframe tbody tr th:only-of-type {\n",
       "        vertical-align: middle;\n",
       "    }\n",
       "\n",
       "    .dataframe tbody tr th {\n",
       "        vertical-align: top;\n",
       "    }\n",
       "\n",
       "    .dataframe thead th {\n",
       "        text-align: right;\n",
       "    }\n",
       "</style>\n",
       "<table border=\"1\" class=\"dataframe\">\n",
       "  <thead>\n",
       "    <tr style=\"text-align: right;\">\n",
       "      <th></th>\n",
       "      <th>attribute_name</th>\n",
       "      <th>attribute_value</th>\n",
       "      <th>tpr</th>\n",
       "      <th>tnr</th>\n",
       "      <th>for</th>\n",
       "      <th>fdr</th>\n",
       "      <th>fpr</th>\n",
       "      <th>fnr</th>\n",
       "      <th>npv</th>\n",
       "      <th>precision</th>\n",
       "      <th>ppr</th>\n",
       "      <th>pprev</th>\n",
       "      <th>prev</th>\n",
       "    </tr>\n",
       "  </thead>\n",
       "  <tbody>\n",
       "    <tr>\n",
       "      <th>0</th>\n",
       "      <td>poverty_level</td>\n",
       "      <td>highest</td>\n",
       "      <td>0.096401</td>\n",
       "      <td>0.970850</td>\n",
       "      <td>0.296844</td>\n",
       "      <td>0.400000</td>\n",
       "      <td>0.029150</td>\n",
       "      <td>0.903599</td>\n",
       "      <td>0.703156</td>\n",
       "      <td>0.600000</td>\n",
       "      <td>0.500</td>\n",
       "      <td>0.050135</td>\n",
       "      <td>0.312043</td>\n",
       "    </tr>\n",
       "    <tr>\n",
       "      <th>1</th>\n",
       "      <td>poverty_level</td>\n",
       "      <td>lower</td>\n",
       "      <td>0.092022</td>\n",
       "      <td>0.951094</td>\n",
       "      <td>0.360217</td>\n",
       "      <td>0.474000</td>\n",
       "      <td>0.048906</td>\n",
       "      <td>0.907978</td>\n",
       "      <td>0.639783</td>\n",
       "      <td>0.526000</td>\n",
       "      <td>0.500</td>\n",
       "      <td>0.064901</td>\n",
       "      <td>0.370976</td>\n",
       "    </tr>\n",
       "    <tr>\n",
       "      <th>2</th>\n",
       "      <td>metro_type</td>\n",
       "      <td>suburban_rural</td>\n",
       "      <td>0.123694</td>\n",
       "      <td>0.937029</td>\n",
       "      <td>0.352378</td>\n",
       "      <td>0.466667</td>\n",
       "      <td>0.062971</td>\n",
       "      <td>0.876306</td>\n",
       "      <td>0.647622</td>\n",
       "      <td>0.533333</td>\n",
       "      <td>0.555</td>\n",
       "      <td>0.085306</td>\n",
       "      <td>0.367814</td>\n",
       "    </tr>\n",
       "    <tr>\n",
       "      <th>3</th>\n",
       "      <td>metro_type</td>\n",
       "      <td>unknown</td>\n",
       "      <td>0.120261</td>\n",
       "      <td>0.948877</td>\n",
       "      <td>0.354584</td>\n",
       "      <td>0.417722</td>\n",
       "      <td>0.051123</td>\n",
       "      <td>0.879739</td>\n",
       "      <td>0.645416</td>\n",
       "      <td>0.582278</td>\n",
       "      <td>0.158</td>\n",
       "      <td>0.076848</td>\n",
       "      <td>0.372082</td>\n",
       "    </tr>\n",
       "    <tr>\n",
       "      <th>4</th>\n",
       "      <td>metro_type</td>\n",
       "      <td>urban</td>\n",
       "      <td>0.062233</td>\n",
       "      <td>0.982231</td>\n",
       "      <td>0.298709</td>\n",
       "      <td>0.390244</td>\n",
       "      <td>0.017769</td>\n",
       "      <td>0.937767</td>\n",
       "      <td>0.701291</td>\n",
       "      <td>0.609756</td>\n",
       "      <td>0.287</td>\n",
       "      <td>0.031487</td>\n",
       "      <td>0.308502</td>\n",
       "    </tr>\n",
       "    <tr>\n",
       "      <th>5</th>\n",
       "      <td>teacher_sex</td>\n",
       "      <td>female</td>\n",
       "      <td>0.104721</td>\n",
       "      <td>0.957873</td>\n",
       "      <td>0.325999</td>\n",
       "      <td>0.437370</td>\n",
       "      <td>0.042127</td>\n",
       "      <td>0.895279</td>\n",
       "      <td>0.674001</td>\n",
       "      <td>0.562630</td>\n",
       "      <td>0.958</td>\n",
       "      <td>0.063473</td>\n",
       "      <td>0.341019</td>\n",
       "    </tr>\n",
       "    <tr>\n",
       "      <th>6</th>\n",
       "      <td>teacher_sex</td>\n",
       "      <td>male</td>\n",
       "      <td>0.029162</td>\n",
       "      <td>0.989779</td>\n",
       "      <td>0.314319</td>\n",
       "      <td>0.428571</td>\n",
       "      <td>0.010221</td>\n",
       "      <td>0.970838</td>\n",
       "      <td>0.685681</td>\n",
       "      <td>0.571429</td>\n",
       "      <td>0.042</td>\n",
       "      <td>0.016254</td>\n",
       "      <td>0.318498</td>\n",
       "    </tr>\n",
       "  </tbody>\n",
       "</table>\n",
       "</div>"
      ],
      "text/plain": [
       "  attribute_name attribute_value       tpr       tnr       for       fdr  \\\n",
       "0  poverty_level         highest  0.096401  0.970850  0.296844  0.400000   \n",
       "1  poverty_level           lower  0.092022  0.951094  0.360217  0.474000   \n",
       "2     metro_type  suburban_rural  0.123694  0.937029  0.352378  0.466667   \n",
       "3     metro_type         unknown  0.120261  0.948877  0.354584  0.417722   \n",
       "4     metro_type           urban  0.062233  0.982231  0.298709  0.390244   \n",
       "5    teacher_sex          female  0.104721  0.957873  0.325999  0.437370   \n",
       "6    teacher_sex            male  0.029162  0.989779  0.314319  0.428571   \n",
       "\n",
       "        fpr       fnr       npv  precision    ppr     pprev      prev  \n",
       "0  0.029150  0.903599  0.703156   0.600000  0.500  0.050135  0.312043  \n",
       "1  0.048906  0.907978  0.639783   0.526000  0.500  0.064901  0.370976  \n",
       "2  0.062971  0.876306  0.647622   0.533333  0.555  0.085306  0.367814  \n",
       "3  0.051123  0.879739  0.645416   0.582278  0.158  0.076848  0.372082  \n",
       "4  0.017769  0.937767  0.701291   0.609756  0.287  0.031487  0.308502  \n",
       "5  0.042127  0.895279  0.674001   0.562630  0.958  0.063473  0.341019  \n",
       "6  0.010221  0.970838  0.685681   0.571429  0.042  0.016254  0.318498  "
      ]
     },
     "execution_count": 270,
     "metadata": {},
     "output_type": "execute_result"
    }
   ],
   "source": [
    "xtab[['attribute_name', 'attribute_value'] + absolute_metrics]"
   ]
  },
  {
   "cell_type": "code",
   "execution_count": 274,
   "metadata": {},
   "outputs": [
    {
     "name": "stdout",
     "output_type": "stream",
     "text": [
      "get_disparity_predefined_group()\n"
     ]
    },
    {
     "data": {
      "text/html": [
       "\n",
       "<div id=\"altair-viz-7bcbab98b2b04413ab3c37e16fe1fce4\"></div>\n",
       "<script type=\"text/javascript\">\n",
       "  (function(spec, embedOpt){\n",
       "    let outputDiv = document.currentScript.previousElementSibling;\n",
       "    if (outputDiv.id !== \"altair-viz-7bcbab98b2b04413ab3c37e16fe1fce4\") {\n",
       "      outputDiv = document.getElementById(\"altair-viz-7bcbab98b2b04413ab3c37e16fe1fce4\");\n",
       "    }\n",
       "    const paths = {\n",
       "      \"vega\": \"https://cdn.jsdelivr.net/npm//vega@5?noext\",\n",
       "      \"vega-lib\": \"https://cdn.jsdelivr.net/npm//vega-lib?noext\",\n",
       "      \"vega-lite\": \"https://cdn.jsdelivr.net/npm//vega-lite@4.8.1?noext\",\n",
       "      \"vega-embed\": \"https://cdn.jsdelivr.net/npm//vega-embed@6?noext\",\n",
       "    };\n",
       "\n",
       "    function loadScript(lib) {\n",
       "      return new Promise(function(resolve, reject) {\n",
       "        var s = document.createElement('script');\n",
       "        s.src = paths[lib];\n",
       "        s.async = true;\n",
       "        s.onload = () => resolve(paths[lib]);\n",
       "        s.onerror = () => reject(`Error loading script: ${paths[lib]}`);\n",
       "        document.getElementsByTagName(\"head\")[0].appendChild(s);\n",
       "      });\n",
       "    }\n",
       "\n",
       "    function showError(err) {\n",
       "      outputDiv.innerHTML = `<div class=\"error\" style=\"color:red;\">${err}</div>`;\n",
       "      throw err;\n",
       "    }\n",
       "\n",
       "    function displayChart(vegaEmbed) {\n",
       "      vegaEmbed(outputDiv, spec, embedOpt)\n",
       "        .catch(err => showError(`Javascript Error: ${err.message}<br>This usually means there's a typo in your chart specification. See the javascript console for the full traceback.`));\n",
       "    }\n",
       "\n",
       "    if(typeof define === \"function\" && define.amd) {\n",
       "      requirejs.config({paths});\n",
       "      require([\"vega-embed\"], displayChart, err => showError(`Error loading script: ${err.message}`));\n",
       "    } else if (typeof vegaEmbed === \"function\") {\n",
       "      displayChart(vegaEmbed);\n",
       "    } else {\n",
       "      loadScript(\"vega\")\n",
       "        .then(() => loadScript(\"vega-lite\"))\n",
       "        .then(() => loadScript(\"vega-embed\"))\n",
       "        .catch(showError)\n",
       "        .then(() => displayChart(vegaEmbed));\n",
       "    }\n",
       "  })({\"config\": {\"view\": {\"continuousWidth\": 400, \"continuousHeight\": 300, \"strokeWidth\": 0}, \"axisLeft\": {\"labelColor\": \"rgb(117,117,117)\", \"labelFont\": \"Helvetica\", \"labelFontSize\": 16}}, \"layer\": [{\"data\": {\"name\": \"data-b3bcfd1decd67fb31f95ea5e1bcd9e64\"}, \"mark\": {\"type\": \"rule\", \"stroke\": \"rgb(117,117,117)\", \"strokeWidth\": 1.25, \"tooltip\": \"\"}, \"encoding\": {\"x\": {\"type\": \"quantitative\", \"field\": \"x\", \"scale\": {\"domain\": [-2, 2], \"range\": [80.0, 720.0]}}, \"x2\": {\"field\": \"x2\"}, \"y\": {\"type\": \"nominal\", \"axis\": {\"domain\": false, \"labelAngle\": 0, \"labelPadding\": -30, \"orient\": \"left\", \"ticks\": false, \"title\": \"\"}, \"field\": \"metric\", \"scale\": {\"domain\": [\"TPR\"], \"range\": [30, 225.0]}}}}, {\"data\": {\"name\": \"data-79dd248bdaa0ea02c535240e8ad022c8\"}, \"mark\": {\"type\": \"rule\", \"stroke\": \"rgb(117,117,117)\", \"strokeDash\": [5, 5], \"strokeWidth\": 1}, \"encoding\": {\"tooltip\": {\"value\": \"lower [REF]\"}, \"x\": {\"value\": 400.0}, \"y\": {\"value\": 20.833333333333336}, \"y2\": {\"value\": 229.16666666666666}}}, {\"data\": {\"name\": \"data-bf3bbf11504879c3d6556966f4853596\"}, \"mark\": {\"type\": \"text\", \"align\": \"center\", \"color\": \"rgb(117,117,117)\", \"font\": \"Helvetica\", \"fontSize\": 11, \"fontWeight\": 300, \"tooltip\": \"\"}, \"encoding\": {\"text\": {\"type\": \"nominal\", \"field\": \"label\"}, \"x\": {\"type\": \"quantitative\", \"field\": \"value\", \"scale\": {\"domain\": [-2, 2], \"range\": [80.0, 720.0]}}, \"y\": {\"value\": 17.5}}}, {\"layer\": [{\"mark\": {\"type\": \"text\", \"align\": \"right\", \"fill\": \"rgb(117,117,117)\", \"font\": \"Helvetica\", \"fontSize\": 11, \"fontWeight\": 300, \"tooltip\": \"\"}, \"encoding\": {\"text\": {\"value\": \"TIMES SMALLER\"}, \"x\": {\"value\": 120.0}, \"y\": {\"value\": 7.5}}}, {\"mark\": {\"type\": \"text\", \"align\": \"left\", \"fill\": \"rgb(117,117,117)\", \"font\": \"Helvetica\", \"fontSize\": 11, \"fontWeight\": 300, \"tooltip\": \"\"}, \"encoding\": {\"text\": {\"value\": \"TIMES LARGER\"}, \"x\": {\"value\": 680.0}, \"y\": {\"value\": 7.5}}}, {\"mark\": {\"type\": \"text\", \"align\": \"center\", \"fill\": \"rgb(117,117,117)\", \"font\": \"Helvetica\", \"fontSize\": 11, \"fontWeight\": 300, \"tooltip\": \"\"}, \"encoding\": {\"text\": {\"value\": \"EQUAL\"}, \"x\": {\"value\": 400.0}, \"y\": {\"value\": 7.5}}}], \"data\": {\"name\": \"data-79dd248bdaa0ea02c535240e8ad022c8\"}}, {\"layer\": [{\"mark\": {\"type\": \"rule\", \"opacity\": 0.8, \"stroke\": \"rgb(217, 46, 28)\", \"strokeWidth\": 1.25, \"tooltip\": \"\"}, \"encoding\": {\"x\": {\"type\": \"quantitative\", \"field\": \"min\", \"scale\": {\"domain\": [-2, 2], \"range\": [80.0, 720.0]}}, \"y\": {\"value\": 25.0}, \"y2\": {\"value\": 225.0}}}, {\"mark\": {\"type\": \"rule\", \"opacity\": 0.8, \"stroke\": \"rgb(217, 46, 28)\", \"strokeWidth\": 1.25, \"tooltip\": \"\"}, \"encoding\": {\"x\": {\"type\": \"quantitative\", \"field\": \"max\", \"scale\": {\"domain\": [-2, 2], \"range\": [80.0, 720.0]}}, \"y\": {\"value\": 25.0}, \"y2\": {\"value\": 225.0}}}, {\"layer\": [{\"mark\": {\"type\": \"rect\", \"fill\": \"rgb(217, 46, 28)\", \"opacity\": 0.1, \"tooltip\": \"\"}, \"encoding\": {\"x\": {\"type\": \"quantitative\", \"field\": \"min\", \"scale\": {\"domain\": [-2, 2], \"range\": [80.0, 720.0]}}, \"x2\": {\"field\": \"lower_end\"}, \"y\": {\"value\": 25.0}, \"y2\": {\"value\": 225.0}}}, {\"mark\": {\"type\": \"rect\", \"fill\": \"rgb(217, 46, 28)\", \"opacity\": 0.1, \"tooltip\": \"\"}, \"encoding\": {\"x\": {\"type\": \"quantitative\", \"field\": \"max\", \"scale\": {\"domain\": [-2, 2], \"range\": [80.0, 720.0]}}, \"x2\": {\"field\": \"upper_end\"}, \"y\": {\"value\": 25.0}, \"y2\": {\"value\": 225.0}}}]}, {\"data\": {\"name\": \"data-79dd248bdaa0ea02c535240e8ad022c8\"}, \"mark\": {\"type\": \"text\", \"align\": \"left\", \"baseline\": \"top\", \"fill\": \"rgb(217, 46, 28)\", \"font\": \"Helvetica\", \"fontSize\": 11, \"fontWeight\": 300, \"tooltip\": \"\"}, \"encoding\": {\"text\": {\"value\": \"The metric value for any group should not be 1.3 (or more) times smaller or larger than that of the reference group lower.\"}, \"x\": {\"value\": 0}, \"y\": {\"value\": 233.33333333333334}}}], \"data\": {\"name\": \"data-b643063563633c31a45d634da5f365b2\"}}, {\"layer\": [{\"mark\": \"circle\"}, {\"data\": {\"name\": \"data-6a7d83d1d2268457f1a8ddffdb494fb0\"}, \"mark\": {\"type\": \"circle\", \"opacity\": 0.2}, \"encoding\": {\"color\": {\"condition\": {\"type\": \"nominal\", \"field\": \"attribute_value\", \"legend\": null, \"scale\": {\"domain\": [\"lower\", \"highest\"], \"range\": [\"rgb(117,117,117)\", \"rgb(100, 143, 255)\", \"rgb(254, 97, 0)\", \"rgb(220, 38, 127)\", \"rgb(255, 176, 0)\", \"rgb(120, 94, 240)\"]}, \"selection\": \"selector013\"}, \"value\": \"rgb(224,224,224)\"}, \"size\": {\"type\": \"quantitative\", \"field\": \"group_size\", \"legend\": null, \"scale\": {\"domain\": [0, 11967.6], \"range\": [0, 7853.981633974483]}}, \"tooltip\": [{\"type\": \"nominal\", \"field\": \"attribute_value\", \"title\": \"Group\"}, {\"type\": \"nominal\", \"field\": \"tooltip_group_size\", \"title\": \"Group Size\"}, {\"type\": \"nominal\", \"field\": \"tooltip_disparity_explanation_tpr\", \"title\": \"Disparity\"}, {\"type\": \"quantitative\", \"field\": \"tpr\", \"format\": \".2f\", \"title\": \"TPR\"}], \"x\": {\"type\": \"quantitative\", \"axis\": {\"domain\": false, \"labels\": false, \"ticks\": false, \"title\": null, \"values\": [-2, -1, 1, 2]}, \"field\": \"tpr_disparity_scaled\", \"scale\": {\"domain\": [-2, 2], \"range\": [80.0, 720.0]}}, \"y\": {\"type\": \"nominal\", \"axis\": {\"domain\": false, \"grid\": false, \"labels\": false, \"ticks\": false, \"title\": \" \"}, \"field\": \"metric_variable\", \"scale\": {\"domain\": [\"TPR\"], \"range\": [30, 225.0]}}}, \"selection\": {\"selector015\": {\"type\": \"multi\", \"empty\": \"all\", \"fields\": [\"attribute_value\"]}}, \"transform\": [{\"calculate\": \"'TPR'\", \"as\": \"metric_variable\"}]}, {\"layer\": [{\"mark\": \"point\"}, {\"data\": {\"name\": \"data-6a7d83d1d2268457f1a8ddffdb494fb0\"}, \"mark\": {\"type\": \"point\", \"filled\": true, \"size\": 60}, \"encoding\": {\"color\": {\"condition\": {\"type\": \"nominal\", \"field\": \"attribute_value\", \"legend\": null, \"scale\": {\"domain\": [\"lower\", \"highest\"], \"range\": [\"rgb(117,117,117)\", \"rgb(100, 143, 255)\", \"rgb(254, 97, 0)\", \"rgb(220, 38, 127)\", \"rgb(255, 176, 0)\", \"rgb(120, 94, 240)\"]}, \"selection\": \"selector013\"}, \"value\": \"rgb(224,224,224)\"}, \"shape\": {\"type\": \"nominal\", \"field\": \"attribute_value\", \"legend\": null, \"scale\": {\"domain\": [\"lower\", \"highest\"], \"range\": [\"cross\", \"circle\"]}}, \"tooltip\": [{\"type\": \"nominal\", \"field\": \"attribute_value\", \"title\": \"Group\"}, {\"type\": \"nominal\", \"field\": \"tooltip_group_size\", \"title\": \"Group Size\"}, {\"type\": \"nominal\", \"field\": \"tooltip_disparity_explanation_tpr\", \"title\": \"Disparity\"}, {\"type\": \"quantitative\", \"field\": \"tpr\", \"format\": \".2f\", \"title\": \"TPR\"}], \"x\": {\"type\": \"quantitative\", \"axis\": {\"domain\": false, \"labels\": false, \"ticks\": false, \"title\": null, \"values\": [-2, -1, 1, 2]}, \"field\": \"tpr_disparity_scaled\", \"scale\": {\"domain\": [-2, 2], \"range\": [80.0, 720.0]}}, \"y\": {\"type\": \"nominal\", \"axis\": {\"domain\": false, \"grid\": false, \"labels\": false, \"ticks\": false, \"title\": \" \"}, \"field\": \"metric_variable\", \"scale\": {\"domain\": [\"TPR\"], \"range\": [30, 225.0]}}}, \"selection\": {\"selector014\": {\"type\": \"multi\", \"empty\": \"all\", \"fields\": [\"attribute_value\"]}}, \"transform\": [{\"calculate\": \"'TPR'\", \"as\": \"metric_variable\"}]}]}]}, {\"layer\": [{\"mark\": {\"type\": \"point\", \"filled\": true, \"tooltip\": \"\"}, \"encoding\": {\"color\": {\"condition\": {\"type\": \"nominal\", \"field\": \"attribute_value\", \"legend\": null, \"scale\": {\"domain\": [\"lower\", \"highest\"], \"range\": [\"rgb(117,117,117)\", \"rgb(100, 143, 255)\", \"rgb(254, 97, 0)\", \"rgb(220, 38, 127)\", \"rgb(255, 176, 0)\", \"rgb(120, 94, 240)\"]}, \"selection\": \"selector013\"}, \"value\": \"rgb(224,224,224)\"}, \"shape\": {\"type\": \"nominal\", \"field\": \"attribute_value\", \"legend\": null, \"scale\": {\"domain\": [\"lower\", \"highest\"], \"range\": [\"cross\", \"circle\"]}}, \"x\": {\"value\": 880.0000000000001}, \"y\": {\"type\": \"nominal\", \"axis\": {\"domain\": false, \"grid\": false, \"labels\": false, \"ticks\": false, \"title\": \" \"}, \"field\": \"attribute_value\", \"scale\": {\"domain\": [\"lower\", \"highest\"], \"range\": [21, 73]}}}, \"selection\": {\"selector013\": {\"type\": \"multi\", \"empty\": \"all\", \"fields\": [\"attribute_value\"]}}}, {\"mark\": {\"type\": \"text\", \"align\": \"left\", \"baseline\": \"middle\", \"font\": \"Helvetica\", \"fontSize\": 11, \"fontWeight\": 300, \"tooltip\": \"\"}, \"encoding\": {\"color\": {\"condition\": {\"type\": \"nominal\", \"field\": \"attribute_value\", \"legend\": null, \"scale\": {\"domain\": [\"lower\", \"highest\"], \"range\": [\"rgb(117,117,117)\", \"rgb(100, 143, 255)\", \"rgb(254, 97, 0)\", \"rgb(220, 38, 127)\", \"rgb(255, 176, 0)\", \"rgb(120, 94, 240)\"]}, \"selection\": \"selector013\"}, \"value\": \"rgb(224,224,224)\"}, \"text\": {\"type\": \"nominal\", \"field\": \"label\"}, \"x\": {\"value\": 890.0000000000001}, \"y\": {\"type\": \"nominal\", \"axis\": {\"domain\": false, \"grid\": false, \"labels\": false, \"ticks\": false, \"title\": \" \"}, \"field\": \"attribute_value\", \"scale\": {\"domain\": [\"lower\", \"highest\"], \"range\": [21, 73]}}}, \"selection\": {\"selector016\": {\"type\": \"multi\", \"empty\": \"all\", \"fields\": [\"attribute_value\"]}}}, {\"data\": {\"name\": \"data-79dd248bdaa0ea02c535240e8ad022c8\"}, \"mark\": {\"type\": \"text\", \"align\": \"left\", \"baseline\": \"middle\", \"color\": \"rgb(117,117,117)\", \"font\": \"Helvetica\", \"fontSize\": 11, \"fontWeight\": 300, \"tooltip\": \"\"}, \"encoding\": {\"text\": {\"value\": \"Click to highlight a group.\"}, \"x\": {\"value\": 880.0000000000001}, \"y\": {\"value\": 0}}}], \"data\": {\"name\": \"data-a5ebce136adcce28635ff1807ca7d132\"}}], \"height\": 250, \"resolve\": {\"scale\": {\"size\": \"independent\", \"y\": \"independent\"}}, \"width\": 800, \"$schema\": \"https://vega.github.io/schema/vega-lite/v4.8.1.json\", \"datasets\": {\"data-b3bcfd1decd67fb31f95ea5e1bcd9e64\": [{\"metric\": \"TPR\", \"x\": -2.2, \"x2\": 2.2}], \"data-79dd248bdaa0ea02c535240e8ad022c8\": [{\"a\": 1, \"b\": 0}, {\"a\": 1, \"b\": 0}], \"data-bf3bbf11504879c3d6556966f4853596\": [{\"value\": -2, \"label\": 3}, {\"value\": -1, \"label\": 2}, {\"value\": 0, \"label\": \"=\"}, {\"value\": 1, \"label\": 2}, {\"value\": 2, \"label\": 3}], \"data-b643063563633c31a45d634da5f365b2\": [{\"min\": -0.30000000000000004, \"max\": 0.30000000000000004, \"lower_end\": -2.2, \"upper_end\": 2.2}], \"data-6a7d83d1d2268457f1a8ddffdb494fb0\": [{\"attribute_name\": \"poverty_level\", \"attribute_value\": \"highest\", \"group_size\": 9973, \"total_entities\": 17677, \"tpr\": 0.09640102827763496, \"tpr_disparity\": 1.0475822768725502, \"tpr_disparity_scaled\": 0.04758227687255023, \"tooltip_group_size\": \"9,973 (56.42%)\", \"tooltip_disparity_explanation_tpr\": \"1.05 times larger TPR than the reference group\"}, {\"attribute_name\": \"poverty_level\", \"attribute_value\": \"lower\", \"group_size\": 7704, \"total_entities\": 17677, \"tpr\": 0.09202239328201539, \"tpr_disparity\": 1.0, \"tpr_disparity_scaled\": 0.0, \"tooltip_group_size\": \"7,704 (43.58%)\", \"tooltip_disparity_explanation_tpr\": \"Reference group\"}], \"data-a5ebce136adcce28635ff1807ca7d132\": [{\"attribute_value\": \"lower\", \"label\": \"lower [REF]\"}, {\"attribute_value\": \"highest\", \"label\": \"highest\"}]}}, {\"mode\": \"vega-lite\"});\n",
       "</script>"
      ],
      "text/plain": [
       "alt.LayerChart(...)"
      ]
     },
     "execution_count": 274,
     "metadata": {},
     "output_type": "execute_result"
    }
   ],
   "source": [
    "b = Bias()\n",
    "bdf = b.get_disparity_predefined_groups(xtab, original_df=df, ref_groups_dict={'poverty_level':'lower', 'metro_type':'suburban_rural', 'teacher_sex':'male'})\n",
    "metrics = ['tpr']\n",
    "ap.disparities(bdf, metrics, 'poverty_level', fairness_threshold = 1.3)"
   ]
  },
  {
   "cell_type": "code",
   "execution_count": null,
   "metadata": {},
   "outputs": [],
   "source": []
  },
  {
   "cell_type": "code",
   "execution_count": null,
   "metadata": {},
   "outputs": [],
   "source": []
  },
  {
   "cell_type": "code",
   "execution_count": null,
   "metadata": {},
   "outputs": [],
   "source": []
  },
  {
   "cell_type": "code",
   "execution_count": null,
   "metadata": {},
   "outputs": [],
   "source": []
  },
  {
   "cell_type": "code",
   "execution_count": null,
   "metadata": {},
   "outputs": [],
   "source": []
  },
  {
   "cell_type": "code",
   "execution_count": null,
   "metadata": {},
   "outputs": [],
   "source": []
  },
  {
   "cell_type": "code",
   "execution_count": 12,
   "metadata": {},
   "outputs": [],
   "source": [
    "df = df.sort_values('quickstart_label', ascending=False)"
   ]
  },
  {
   "cell_type": "code",
   "execution_count": 13,
   "metadata": {},
   "outputs": [],
   "source": [
    "teacher_female_df = df[df['teacher_sex']=='female'].copy()"
   ]
  },
  {
   "cell_type": "code",
   "execution_count": null,
   "metadata": {},
   "outputs": [],
   "source": [
    "df_pov_high = df[df['poverty']]"
   ]
  },
  {
   "cell_type": "code",
   "execution_count": 14,
   "metadata": {},
   "outputs": [],
   "source": [
    "teacher_male_df = df[df['teacher_sex']=='male'].copy()"
   ]
  },
  {
   "cell_type": "code",
   "execution_count": 15,
   "metadata": {},
   "outputs": [
    {
     "data": {
      "text/html": [
       "<div>\n",
       "<style scoped>\n",
       "    .dataframe tbody tr th:only-of-type {\n",
       "        vertical-align: middle;\n",
       "    }\n",
       "\n",
       "    .dataframe tbody tr th {\n",
       "        vertical-align: top;\n",
       "    }\n",
       "\n",
       "    .dataframe thead th {\n",
       "        text-align: right;\n",
       "    }\n",
       "</style>\n",
       "<table border=\"1\" class=\"dataframe\">\n",
       "  <thead>\n",
       "    <tr style=\"text-align: right;\">\n",
       "      <th></th>\n",
       "      <th>entity_id</th>\n",
       "      <th>as_of_date</th>\n",
       "      <th>quickstart_label</th>\n",
       "      <th>metro_type</th>\n",
       "      <th>grade_level</th>\n",
       "      <th>poverty_level</th>\n",
       "      <th>teacher_sex</th>\n",
       "    </tr>\n",
       "  </thead>\n",
       "  <tbody>\n",
       "    <tr>\n",
       "      <th>98745</th>\n",
       "      <td>171</td>\n",
       "      <td>1343775600000</td>\n",
       "      <td>1.0</td>\n",
       "      <td>urban</td>\n",
       "      <td>PreK-2</td>\n",
       "      <td>high</td>\n",
       "      <td>female</td>\n",
       "    </tr>\n",
       "    <tr>\n",
       "      <th>90235</th>\n",
       "      <td>243783</td>\n",
       "      <td>1340146800000</td>\n",
       "      <td>1.0</td>\n",
       "      <td>suburban</td>\n",
       "      <td>PreK-2</td>\n",
       "      <td>low_moderate</td>\n",
       "      <td>female</td>\n",
       "    </tr>\n",
       "    <tr>\n",
       "      <th>90222</th>\n",
       "      <td>243770</td>\n",
       "      <td>1340146800000</td>\n",
       "      <td>1.0</td>\n",
       "      <td>rural</td>\n",
       "      <td>9-12</td>\n",
       "      <td>high</td>\n",
       "      <td>female</td>\n",
       "    </tr>\n",
       "    <tr>\n",
       "      <th>90223</th>\n",
       "      <td>243771</td>\n",
       "      <td>1340146800000</td>\n",
       "      <td>1.0</td>\n",
       "      <td>urban</td>\n",
       "      <td>PreK-2</td>\n",
       "      <td>high</td>\n",
       "      <td>female</td>\n",
       "    </tr>\n",
       "    <tr>\n",
       "      <th>90232</th>\n",
       "      <td>243780</td>\n",
       "      <td>1340146800000</td>\n",
       "      <td>1.0</td>\n",
       "      <td>rural</td>\n",
       "      <td>PreK-2</td>\n",
       "      <td>high</td>\n",
       "      <td>female</td>\n",
       "    </tr>\n",
       "  </tbody>\n",
       "</table>\n",
       "</div>"
      ],
      "text/plain": [
       "       entity_id     as_of_date  quickstart_label metro_type grade_level  \\\n",
       "98745        171  1343775600000               1.0      urban      PreK-2   \n",
       "90235     243783  1340146800000               1.0   suburban      PreK-2   \n",
       "90222     243770  1340146800000               1.0      rural        9-12   \n",
       "90223     243771  1340146800000               1.0      urban      PreK-2   \n",
       "90232     243780  1340146800000               1.0      rural      PreK-2   \n",
       "\n",
       "      poverty_level teacher_sex  \n",
       "98745          high      female  \n",
       "90235  low_moderate      female  \n",
       "90222          high      female  \n",
       "90223          high      female  \n",
       "90232          high      female  "
      ]
     },
     "execution_count": 15,
     "metadata": {},
     "output_type": "execute_result"
    }
   ],
   "source": [
    "teacher_female_df.head()"
   ]
  },
  {
   "cell_type": "code",
   "execution_count": 31,
   "metadata": {},
   "outputs": [
    {
     "data": {
      "text/plain": [
       "(14994, 8)"
      ]
     },
     "execution_count": 31,
     "metadata": {},
     "output_type": "execute_result"
    }
   ],
   "source": [
    "teacher_female_df.shape\n"
   ]
  },
  {
   "cell_type": "code",
   "execution_count": 30,
   "metadata": {},
   "outputs": [
    {
     "data": {
      "text/plain": [
       "(1796, 8)"
      ]
     },
     "execution_count": 30,
     "metadata": {},
     "output_type": "execute_result"
    }
   ],
   "source": [
    "teacher_male_df.shape"
   ]
  },
  {
   "cell_type": "code",
   "execution_count": 16,
   "metadata": {},
   "outputs": [
    {
     "data": {
      "text/html": [
       "<div>\n",
       "<style scoped>\n",
       "    .dataframe tbody tr th:only-of-type {\n",
       "        vertical-align: middle;\n",
       "    }\n",
       "\n",
       "    .dataframe tbody tr th {\n",
       "        vertical-align: top;\n",
       "    }\n",
       "\n",
       "    .dataframe thead th {\n",
       "        text-align: right;\n",
       "    }\n",
       "</style>\n",
       "<table border=\"1\" class=\"dataframe\">\n",
       "  <thead>\n",
       "    <tr style=\"text-align: right;\">\n",
       "      <th></th>\n",
       "      <th>entity_id</th>\n",
       "      <th>as_of_date</th>\n",
       "      <th>quickstart_label</th>\n",
       "      <th>metro_type</th>\n",
       "      <th>grade_level</th>\n",
       "      <th>poverty_level</th>\n",
       "      <th>teacher_sex</th>\n",
       "    </tr>\n",
       "  </thead>\n",
       "  <tbody>\n",
       "    <tr>\n",
       "      <th>90229</th>\n",
       "      <td>243777</td>\n",
       "      <td>1340146800000</td>\n",
       "      <td>1.0</td>\n",
       "      <td>rural</td>\n",
       "      <td>3-5</td>\n",
       "      <td>high</td>\n",
       "      <td>male</td>\n",
       "    </tr>\n",
       "    <tr>\n",
       "      <th>90233</th>\n",
       "      <td>243781</td>\n",
       "      <td>1340146800000</td>\n",
       "      <td>1.0</td>\n",
       "      <td>unknown</td>\n",
       "      <td>3-5</td>\n",
       "      <td>high</td>\n",
       "      <td>male</td>\n",
       "    </tr>\n",
       "    <tr>\n",
       "      <th>90260</th>\n",
       "      <td>243740</td>\n",
       "      <td>1340146800000</td>\n",
       "      <td>1.0</td>\n",
       "      <td>urban</td>\n",
       "      <td>PreK-2</td>\n",
       "      <td>high</td>\n",
       "      <td>male</td>\n",
       "    </tr>\n",
       "    <tr>\n",
       "      <th>90013</th>\n",
       "      <td>243856</td>\n",
       "      <td>1340060400000</td>\n",
       "      <td>1.0</td>\n",
       "      <td>urban</td>\n",
       "      <td>6-8</td>\n",
       "      <td>high</td>\n",
       "      <td>male</td>\n",
       "    </tr>\n",
       "    <tr>\n",
       "      <th>90011</th>\n",
       "      <td>243854</td>\n",
       "      <td>1340060400000</td>\n",
       "      <td>1.0</td>\n",
       "      <td>unknown</td>\n",
       "      <td>9-12</td>\n",
       "      <td>high</td>\n",
       "      <td>male</td>\n",
       "    </tr>\n",
       "  </tbody>\n",
       "</table>\n",
       "</div>"
      ],
      "text/plain": [
       "       entity_id     as_of_date  quickstart_label metro_type grade_level  \\\n",
       "90229     243777  1340146800000               1.0      rural         3-5   \n",
       "90233     243781  1340146800000               1.0    unknown         3-5   \n",
       "90260     243740  1340146800000               1.0      urban      PreK-2   \n",
       "90013     243856  1340060400000               1.0      urban         6-8   \n",
       "90011     243854  1340060400000               1.0    unknown        9-12   \n",
       "\n",
       "      poverty_level teacher_sex  \n",
       "90229          high        male  \n",
       "90233          high        male  \n",
       "90260          high        male  \n",
       "90013          high        male  \n",
       "90011          high        male  "
      ]
     },
     "execution_count": 16,
     "metadata": {},
     "output_type": "execute_result"
    }
   ],
   "source": [
    "teacher_male_df.head()"
   ]
  },
  {
   "cell_type": "code",
   "execution_count": 17,
   "metadata": {},
   "outputs": [
    {
     "data": {
      "text/plain": [
       "(16790, 7)"
      ]
     },
     "execution_count": 17,
     "metadata": {},
     "output_type": "execute_result"
    }
   ],
   "source": [
    "df.shape"
   ]
  },
  {
   "cell_type": "code",
   "execution_count": 18,
   "metadata": {},
   "outputs": [],
   "source": [
    "teacher_male_df['cumsum_prev'] = teacher_male_df['quickstart_label'].cumsum() / len(teacher_male_df)"
   ]
  },
  {
   "cell_type": "code",
   "execution_count": 19,
   "metadata": {},
   "outputs": [],
   "source": [
    "teacher_female_df['cumsum_prev'] = teacher_female_df['quickstart_label'].cumsum() / len(teacher_female_df)"
   ]
  },
  {
   "cell_type": "code",
   "execution_count": 20,
   "metadata": {},
   "outputs": [
    {
     "data": {
      "text/html": [
       "<div>\n",
       "<style scoped>\n",
       "    .dataframe tbody tr th:only-of-type {\n",
       "        vertical-align: middle;\n",
       "    }\n",
       "\n",
       "    .dataframe tbody tr th {\n",
       "        vertical-align: top;\n",
       "    }\n",
       "\n",
       "    .dataframe thead th {\n",
       "        text-align: right;\n",
       "    }\n",
       "</style>\n",
       "<table border=\"1\" class=\"dataframe\">\n",
       "  <thead>\n",
       "    <tr style=\"text-align: right;\">\n",
       "      <th></th>\n",
       "      <th>entity_id</th>\n",
       "      <th>as_of_date</th>\n",
       "      <th>quickstart_label</th>\n",
       "      <th>metro_type</th>\n",
       "      <th>grade_level</th>\n",
       "      <th>poverty_level</th>\n",
       "      <th>teacher_sex</th>\n",
       "      <th>cumsum_prev</th>\n",
       "    </tr>\n",
       "  </thead>\n",
       "  <tbody>\n",
       "    <tr>\n",
       "      <th>98745</th>\n",
       "      <td>171</td>\n",
       "      <td>1343775600000</td>\n",
       "      <td>1.0</td>\n",
       "      <td>urban</td>\n",
       "      <td>PreK-2</td>\n",
       "      <td>high</td>\n",
       "      <td>female</td>\n",
       "      <td>0.000067</td>\n",
       "    </tr>\n",
       "    <tr>\n",
       "      <th>90235</th>\n",
       "      <td>243783</td>\n",
       "      <td>1340146800000</td>\n",
       "      <td>1.0</td>\n",
       "      <td>suburban</td>\n",
       "      <td>PreK-2</td>\n",
       "      <td>low_moderate</td>\n",
       "      <td>female</td>\n",
       "      <td>0.000133</td>\n",
       "    </tr>\n",
       "    <tr>\n",
       "      <th>90222</th>\n",
       "      <td>243770</td>\n",
       "      <td>1340146800000</td>\n",
       "      <td>1.0</td>\n",
       "      <td>rural</td>\n",
       "      <td>9-12</td>\n",
       "      <td>high</td>\n",
       "      <td>female</td>\n",
       "      <td>0.000200</td>\n",
       "    </tr>\n",
       "    <tr>\n",
       "      <th>90223</th>\n",
       "      <td>243771</td>\n",
       "      <td>1340146800000</td>\n",
       "      <td>1.0</td>\n",
       "      <td>urban</td>\n",
       "      <td>PreK-2</td>\n",
       "      <td>high</td>\n",
       "      <td>female</td>\n",
       "      <td>0.000267</td>\n",
       "    </tr>\n",
       "    <tr>\n",
       "      <th>90232</th>\n",
       "      <td>243780</td>\n",
       "      <td>1340146800000</td>\n",
       "      <td>1.0</td>\n",
       "      <td>rural</td>\n",
       "      <td>PreK-2</td>\n",
       "      <td>high</td>\n",
       "      <td>female</td>\n",
       "      <td>0.000333</td>\n",
       "    </tr>\n",
       "  </tbody>\n",
       "</table>\n",
       "</div>"
      ],
      "text/plain": [
       "       entity_id     as_of_date  quickstart_label metro_type grade_level  \\\n",
       "98745        171  1343775600000               1.0      urban      PreK-2   \n",
       "90235     243783  1340146800000               1.0   suburban      PreK-2   \n",
       "90222     243770  1340146800000               1.0      rural        9-12   \n",
       "90223     243771  1340146800000               1.0      urban      PreK-2   \n",
       "90232     243780  1340146800000               1.0      rural      PreK-2   \n",
       "\n",
       "      poverty_level teacher_sex  cumsum_prev  \n",
       "98745          high      female     0.000067  \n",
       "90235  low_moderate      female     0.000133  \n",
       "90222          high      female     0.000200  \n",
       "90223          high      female     0.000267  \n",
       "90232          high      female     0.000333  "
      ]
     },
     "execution_count": 20,
     "metadata": {},
     "output_type": "execute_result"
    }
   ],
   "source": [
    "teacher_female_df.head()"
   ]
  },
  {
   "cell_type": "code",
   "execution_count": 21,
   "metadata": {},
   "outputs": [],
   "source": [
    "prev_df = pd.concat([teacher_male_df, teacher_female_df], axis=0).sort_values('cumsum_prev', ascending=True)"
   ]
  },
  {
   "cell_type": "code",
   "execution_count": 22,
   "metadata": {},
   "outputs": [
    {
     "data": {
      "text/html": [
       "<div>\n",
       "<style scoped>\n",
       "    .dataframe tbody tr th:only-of-type {\n",
       "        vertical-align: middle;\n",
       "    }\n",
       "\n",
       "    .dataframe tbody tr th {\n",
       "        vertical-align: top;\n",
       "    }\n",
       "\n",
       "    .dataframe thead th {\n",
       "        text-align: right;\n",
       "    }\n",
       "</style>\n",
       "<table border=\"1\" class=\"dataframe\">\n",
       "  <thead>\n",
       "    <tr style=\"text-align: right;\">\n",
       "      <th></th>\n",
       "      <th>entity_id</th>\n",
       "      <th>as_of_date</th>\n",
       "      <th>quickstart_label</th>\n",
       "      <th>metro_type</th>\n",
       "      <th>grade_level</th>\n",
       "      <th>poverty_level</th>\n",
       "      <th>teacher_sex</th>\n",
       "      <th>cumsum_prev</th>\n",
       "    </tr>\n",
       "  </thead>\n",
       "  <tbody>\n",
       "    <tr>\n",
       "      <th>98745</th>\n",
       "      <td>171</td>\n",
       "      <td>1343775600000</td>\n",
       "      <td>1.0</td>\n",
       "      <td>urban</td>\n",
       "      <td>PreK-2</td>\n",
       "      <td>high</td>\n",
       "      <td>female</td>\n",
       "      <td>0.000067</td>\n",
       "    </tr>\n",
       "    <tr>\n",
       "      <th>90235</th>\n",
       "      <td>243783</td>\n",
       "      <td>1340146800000</td>\n",
       "      <td>1.0</td>\n",
       "      <td>suburban</td>\n",
       "      <td>PreK-2</td>\n",
       "      <td>low_moderate</td>\n",
       "      <td>female</td>\n",
       "      <td>0.000133</td>\n",
       "    </tr>\n",
       "    <tr>\n",
       "      <th>90222</th>\n",
       "      <td>243770</td>\n",
       "      <td>1340146800000</td>\n",
       "      <td>1.0</td>\n",
       "      <td>rural</td>\n",
       "      <td>9-12</td>\n",
       "      <td>high</td>\n",
       "      <td>female</td>\n",
       "      <td>0.000200</td>\n",
       "    </tr>\n",
       "    <tr>\n",
       "      <th>90223</th>\n",
       "      <td>243771</td>\n",
       "      <td>1340146800000</td>\n",
       "      <td>1.0</td>\n",
       "      <td>urban</td>\n",
       "      <td>PreK-2</td>\n",
       "      <td>high</td>\n",
       "      <td>female</td>\n",
       "      <td>0.000267</td>\n",
       "    </tr>\n",
       "    <tr>\n",
       "      <th>90232</th>\n",
       "      <td>243780</td>\n",
       "      <td>1340146800000</td>\n",
       "      <td>1.0</td>\n",
       "      <td>rural</td>\n",
       "      <td>PreK-2</td>\n",
       "      <td>high</td>\n",
       "      <td>female</td>\n",
       "      <td>0.000333</td>\n",
       "    </tr>\n",
       "  </tbody>\n",
       "</table>\n",
       "</div>"
      ],
      "text/plain": [
       "       entity_id     as_of_date  quickstart_label metro_type grade_level  \\\n",
       "98745        171  1343775600000               1.0      urban      PreK-2   \n",
       "90235     243783  1340146800000               1.0   suburban      PreK-2   \n",
       "90222     243770  1340146800000               1.0      rural        9-12   \n",
       "90223     243771  1340146800000               1.0      urban      PreK-2   \n",
       "90232     243780  1340146800000               1.0      rural      PreK-2   \n",
       "\n",
       "      poverty_level teacher_sex  cumsum_prev  \n",
       "98745          high      female     0.000067  \n",
       "90235  low_moderate      female     0.000133  \n",
       "90222          high      female     0.000200  \n",
       "90223          high      female     0.000267  \n",
       "90232          high      female     0.000333  "
      ]
     },
     "execution_count": 22,
     "metadata": {},
     "output_type": "execute_result"
    }
   ],
   "source": [
    "prev_df.head()"
   ]
  },
  {
   "cell_type": "code",
   "execution_count": 25,
   "metadata": {},
   "outputs": [],
   "source": [
    "new_prev = prev_df.head(10000).copy()"
   ]
  },
  {
   "cell_type": "code",
   "execution_count": 26,
   "metadata": {},
   "outputs": [
    {
     "data": {
      "text/html": [
       "<div>\n",
       "<style scoped>\n",
       "    .dataframe tbody tr th:only-of-type {\n",
       "        vertical-align: middle;\n",
       "    }\n",
       "\n",
       "    .dataframe tbody tr th {\n",
       "        vertical-align: top;\n",
       "    }\n",
       "\n",
       "    .dataframe thead th {\n",
       "        text-align: right;\n",
       "    }\n",
       "</style>\n",
       "<table border=\"1\" class=\"dataframe\">\n",
       "  <thead>\n",
       "    <tr style=\"text-align: right;\">\n",
       "      <th></th>\n",
       "      <th>entity_id</th>\n",
       "      <th>as_of_date</th>\n",
       "      <th>quickstart_label</th>\n",
       "      <th>metro_type</th>\n",
       "      <th>grade_level</th>\n",
       "      <th>poverty_level</th>\n",
       "      <th>teacher_sex</th>\n",
       "      <th>cumsum_prev</th>\n",
       "    </tr>\n",
       "  </thead>\n",
       "  <tbody>\n",
       "    <tr>\n",
       "      <th>90729</th>\n",
       "      <td>243015</td>\n",
       "      <td>1340492400000</td>\n",
       "      <td>0.0</td>\n",
       "      <td>unknown</td>\n",
       "      <td>3-5</td>\n",
       "      <td>high</td>\n",
       "      <td>female</td>\n",
       "      <td>0.384087</td>\n",
       "    </tr>\n",
       "    <tr>\n",
       "      <th>90730</th>\n",
       "      <td>243016</td>\n",
       "      <td>1340492400000</td>\n",
       "      <td>0.0</td>\n",
       "      <td>urban</td>\n",
       "      <td>PreK-2</td>\n",
       "      <td>high</td>\n",
       "      <td>female</td>\n",
       "      <td>0.384087</td>\n",
       "    </tr>\n",
       "    <tr>\n",
       "      <th>90731</th>\n",
       "      <td>243017</td>\n",
       "      <td>1340492400000</td>\n",
       "      <td>0.0</td>\n",
       "      <td>urban</td>\n",
       "      <td>PreK-2</td>\n",
       "      <td>high</td>\n",
       "      <td>female</td>\n",
       "      <td>0.384087</td>\n",
       "    </tr>\n",
       "    <tr>\n",
       "      <th>90732</th>\n",
       "      <td>243018</td>\n",
       "      <td>1340492400000</td>\n",
       "      <td>0.0</td>\n",
       "      <td>rural</td>\n",
       "      <td>9-12</td>\n",
       "      <td>high</td>\n",
       "      <td>female</td>\n",
       "      <td>0.384087</td>\n",
       "    </tr>\n",
       "    <tr>\n",
       "      <th>90733</th>\n",
       "      <td>243019</td>\n",
       "      <td>1340492400000</td>\n",
       "      <td>0.0</td>\n",
       "      <td>urban</td>\n",
       "      <td>3-5</td>\n",
       "      <td>high</td>\n",
       "      <td>female</td>\n",
       "      <td>0.384087</td>\n",
       "    </tr>\n",
       "    <tr>\n",
       "      <th>90748</th>\n",
       "      <td>243034</td>\n",
       "      <td>1340492400000</td>\n",
       "      <td>0.0</td>\n",
       "      <td>rural</td>\n",
       "      <td>6-8</td>\n",
       "      <td>high</td>\n",
       "      <td>female</td>\n",
       "      <td>0.384087</td>\n",
       "    </tr>\n",
       "    <tr>\n",
       "      <th>95567</th>\n",
       "      <td>238441</td>\n",
       "      <td>1342738800000</td>\n",
       "      <td>0.0</td>\n",
       "      <td>urban</td>\n",
       "      <td>9-12</td>\n",
       "      <td>high</td>\n",
       "      <td>female</td>\n",
       "      <td>0.384087</td>\n",
       "    </tr>\n",
       "    <tr>\n",
       "      <th>90694</th>\n",
       "      <td>243010</td>\n",
       "      <td>1340492400000</td>\n",
       "      <td>0.0</td>\n",
       "      <td>urban</td>\n",
       "      <td>PreK-2</td>\n",
       "      <td>high</td>\n",
       "      <td>female</td>\n",
       "      <td>0.384087</td>\n",
       "    </tr>\n",
       "    <tr>\n",
       "      <th>90632</th>\n",
       "      <td>243025</td>\n",
       "      <td>1340492400000</td>\n",
       "      <td>0.0</td>\n",
       "      <td>urban</td>\n",
       "      <td>9-12</td>\n",
       "      <td>high</td>\n",
       "      <td>female</td>\n",
       "      <td>0.384087</td>\n",
       "    </tr>\n",
       "    <tr>\n",
       "      <th>90740</th>\n",
       "      <td>243026</td>\n",
       "      <td>1340492400000</td>\n",
       "      <td>0.0</td>\n",
       "      <td>unknown</td>\n",
       "      <td>3-5</td>\n",
       "      <td>high</td>\n",
       "      <td>female</td>\n",
       "      <td>0.384087</td>\n",
       "    </tr>\n",
       "  </tbody>\n",
       "</table>\n",
       "</div>"
      ],
      "text/plain": [
       "       entity_id     as_of_date  quickstart_label metro_type grade_level  \\\n",
       "90729     243015  1340492400000               0.0    unknown         3-5   \n",
       "90730     243016  1340492400000               0.0      urban      PreK-2   \n",
       "90731     243017  1340492400000               0.0      urban      PreK-2   \n",
       "90732     243018  1340492400000               0.0      rural        9-12   \n",
       "90733     243019  1340492400000               0.0      urban         3-5   \n",
       "90748     243034  1340492400000               0.0      rural         6-8   \n",
       "95567     238441  1342738800000               0.0      urban        9-12   \n",
       "90694     243010  1340492400000               0.0      urban      PreK-2   \n",
       "90632     243025  1340492400000               0.0      urban        9-12   \n",
       "90740     243026  1340492400000               0.0    unknown         3-5   \n",
       "\n",
       "      poverty_level teacher_sex  cumsum_prev  \n",
       "90729          high      female     0.384087  \n",
       "90730          high      female     0.384087  \n",
       "90731          high      female     0.384087  \n",
       "90732          high      female     0.384087  \n",
       "90733          high      female     0.384087  \n",
       "90748          high      female     0.384087  \n",
       "95567          high      female     0.384087  \n",
       "90694          high      female     0.384087  \n",
       "90632          high      female     0.384087  \n",
       "90740          high      female     0.384087  "
      ]
     },
     "execution_count": 26,
     "metadata": {},
     "output_type": "execute_result"
    }
   ],
   "source": [
    "new_prev.tail(10)"
   ]
  },
  {
   "cell_type": "code",
   "execution_count": 27,
   "metadata": {},
   "outputs": [
    {
     "data": {
      "text/plain": [
       "female    8204\n",
       "male      1796\n",
       "Name: teacher_sex, dtype: int64"
      ]
     },
     "execution_count": 27,
     "metadata": {},
     "output_type": "execute_result"
    }
   ],
   "source": [
    "new_prev['teacher_sex'].value_counts()"
   ]
  },
  {
   "cell_type": "code",
   "execution_count": null,
   "metadata": {},
   "outputs": [],
   "source": [
    "new_prev.groupby()"
   ]
  },
  {
   "cell_type": "code",
   "execution_count": 131,
   "metadata": {},
   "outputs": [],
   "source": [
    "new_preds = testdf[['entity_id','as_of_date','quickstart_label']].copy()"
   ]
  },
  {
   "cell_type": "code",
   "execution_count": null,
   "metadata": {},
   "outputs": [],
   "source": []
  }
 ],
 "metadata": {
  "kernelspec": {
   "display_name": "Python 3",
   "language": "python",
   "name": "python3"
  },
  "language_info": {
   "codemirror_mode": {
    "name": "ipython",
    "version": 3
   },
   "file_extension": ".py",
   "mimetype": "text/x-python",
   "name": "python",
   "nbconvert_exporter": "python",
   "pygments_lexer": "ipython3",
   "version": "3.7.8"
  }
 },
 "nbformat": 4,
 "nbformat_minor": 4
}
